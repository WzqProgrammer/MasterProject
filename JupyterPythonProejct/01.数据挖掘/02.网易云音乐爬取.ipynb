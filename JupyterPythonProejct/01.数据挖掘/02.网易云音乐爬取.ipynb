{
 "cells": [
  {
   "cell_type": "code",
   "execution_count": 29,
   "metadata": {},
   "outputs": [],
   "source": [
    "import requests as rq\n",
    "from bs4 import BeautifulSoup\n",
    "import pandas as pd \n",
    "import numpy as np\n",
    "import time\n",
    "import json\n",
    "import concurrent.futures \n",
    "from multiprocessing.dummy import Pool as pool\n",
    "import re\n",
    "import random\n",
    "from lxml import etree\n",
    "import pymongo\n",
    "import threading\n",
    "from tqdm import tqdm, trange\n",
    "import jieba"
   ]
  },
  {
   "cell_type": "markdown",
   "metadata": {},
   "source": [
    "## 获取所有分类标签"
   ]
  },
  {
   "cell_type": "markdown",
   "metadata": {},
   "source": [
    "## 获取各个分类下的歌单id"
   ]
  },
  {
   "cell_type": "code",
   "execution_count": 21,
   "metadata": {
    "collapsed": true,
    "jupyter": {
     "outputs_hidden": true
    }
   },
   "outputs": [
    {
     "ename": "NameError",
     "evalue": "name 'filename' is not defined",
     "output_type": "error",
     "traceback": [
      "\u001b[1;31m---------------------------------------------------------------------------\u001b[0m",
      "\u001b[1;31mNameError\u001b[0m                                 Traceback (most recent call last)",
      "\u001b[1;32m<ipython-input-21-661bd56e324f>\u001b[0m in \u001b[0;36m<module>\u001b[1;34m\u001b[0m\n\u001b[0;32m      1\u001b[0m \u001b[1;31m# 读取json中数据\u001b[0m\u001b[1;33m\u001b[0m\u001b[1;33m\u001b[0m\u001b[1;33m\u001b[0m\u001b[0m\n\u001b[1;32m----> 2\u001b[1;33m \u001b[1;32mwith\u001b[0m \u001b[0mopen\u001b[0m\u001b[1;33m(\u001b[0m\u001b[0mfilename\u001b[0m\u001b[1;33m)\u001b[0m \u001b[1;32mas\u001b[0m \u001b[0mf\u001b[0m\u001b[1;33m:\u001b[0m\u001b[1;33m\u001b[0m\u001b[1;33m\u001b[0m\u001b[0m\n\u001b[0m\u001b[0;32m      3\u001b[0m     \u001b[0mmy_ip_list\u001b[0m \u001b[1;33m=\u001b[0m \u001b[0mjson\u001b[0m\u001b[1;33m.\u001b[0m\u001b[0mload\u001b[0m\u001b[1;33m(\u001b[0m\u001b[0mf\u001b[0m\u001b[1;33m)\u001b[0m\u001b[1;33m\u001b[0m\u001b[1;33m\u001b[0m\u001b[0m\n",
      "\u001b[1;31mNameError\u001b[0m: name 'filename' is not defined"
     ]
    }
   ],
   "source": [
    "# 读取json中数据\n",
    "with open(filename) as f:\n",
    "    my_ip_list = json.load(f)"
   ]
  },
  {
   "cell_type": "code",
   "execution_count": 258,
   "metadata": {},
   "outputs": [
    {
     "data": {
      "text/plain": [
       "'http://113.194.150.76:9999'"
      ]
     },
     "execution_count": 258,
     "metadata": {},
     "output_type": "execute_result"
    }
   ],
   "source": [
    "random.choice(my_ip_list)"
   ]
  },
  {
   "cell_type": "code",
   "execution_count": 259,
   "metadata": {},
   "outputs": [],
   "source": [
    "list1=[]\n",
    "play_list_ids=[]\n",
    "headers = {\n",
    "    'Referer': 'http://music.163.com/',\n",
    "    'Host': 'music.163.com',\n",
    "    'User-Agent': 'Mozilla/5.0 (Windows NT 10.0; Win64; x64) AppleWebKit/537.36 (KHTML, like Gecko) Chrome/62.0.3202.75 Safari/537.36',\n",
    "    'Accept': 'text/html,application/xhtml+xml,application/xml;q=0.9,image/webp,image/apng,*/*;q=0.8'\n",
    "    }"
   ]
  },
  {
   "cell_type": "code",
   "execution_count": 265,
   "metadata": {},
   "outputs": [],
   "source": [
    "#通用的获取网站内容的框架\n",
    "def getHTMLText(url,headers,ip): \n",
    "    try:\n",
    "        proxies = {}\n",
    "        if ip.split(\":\")[0] == 'http':\n",
    "            proxies = {\n",
    "                'http': ip\n",
    "            }\n",
    "        else:\n",
    "            proxies = {\n",
    "                'https': ip\n",
    "            }\n",
    "        r = rq.get(url,headers=headers,proxies=proxies)\n",
    "        r.raise_for_status()\n",
    "        r.encoding = r.apparent_encoding\n",
    "        return r.text\n",
    "    except:\n",
    "        return \"网络解析错误\""
   ]
  },
  {
   "cell_type": "code",
   "execution_count": 266,
   "metadata": {},
   "outputs": [],
   "source": [
    "#解析每个广场页\n",
    "def parse_main(html):\n",
    "    soup=BeautifulSoup(html,'html.parser')\n",
    "    c=soup.find_all('li')\n",
    "    for unit in c:\n",
    "        try:\n",
    "            name_url=unit.find('a',{'class':\"msk\"})#m这里有URL，名字的信息\n",
    "            # 正则获取歌单的id\n",
    "            pattern = re.compile(r'\\d+')\n",
    "            id_str = pattern.findall(name_url['href'])\n",
    "            play_list_ids.append(id_str[0])\n",
    "        except:\n",
    "            continue\n",
    "    print(\"current counts of ids: \" + str(len(play_list_ids)))"
   ]
  },
  {
   "cell_type": "code",
   "execution_count": 269,
   "metadata": {},
   "outputs": [],
   "source": [
    "#获取首页该分类下面的歌单id\n",
    "def get_playlist_ids(cat):\n",
    "    depth=38\n",
    "    start_url='https://music.163.com/discover/playlist/?order=hot&cat='+cat\n",
    "    for i in range(depth):\n",
    "        try:        \n",
    "            url=start_url+'&limit=35'+'&offset='+str(35*(i))\n",
    "            # 随机抽取ip\n",
    "            ip = random.choice(my_ip_list)\n",
    "            html=getHTMLText(url,headers,ip)\n",
    "            parse_main(html)\n",
    "            random_time = random.random()\n",
    "            time.sleep(random_time * 4)\n",
    "        except:\n",
    "            print('失败')\n",
    "            continue\n",
    "    print(cat + \" 标签爬取完毕\")\n",
    "    print(\"current counts of ids: \" + str(len(play_list_ids)))\n",
    "    print(\"========================\")"
   ]
  },
  {
   "cell_type": "code",
   "execution_count": 270,
   "metadata": {
    "collapsed": true,
    "jupyter": {
     "outputs_hidden": true
    }
   },
   "outputs": [
    {
     "name": "stdout",
     "output_type": "stream",
     "text": [
      "current counts of ids: 35\n",
      "current counts of ids: 70\n",
      "current counts of ids: 105\n",
      "current counts of ids: 140\n",
      "current counts of ids: 175\n",
      "current counts of ids: 210\n",
      "current counts of ids: 245\n",
      "current counts of ids: 280\n",
      "current counts of ids: 315\n",
      "current counts of ids: 350\n",
      "current counts of ids: 385\n",
      "current counts of ids: 420\n",
      "current counts of ids: 455\n",
      "current counts of ids: 490\n",
      "current counts of ids: 525\n",
      "current counts of ids: 560\n",
      "current counts of ids: 595\n",
      "current counts of ids: 630\n",
      "current counts of ids: 665\n",
      "current counts of ids: 700\n",
      "current counts of ids: 735\n",
      "current counts of ids: 770\n",
      "current counts of ids: 805\n",
      "current counts of ids: 840\n",
      "current counts of ids: 875\n",
      "current counts of ids: 910\n",
      "current counts of ids: 945\n",
      "current counts of ids: 980\n",
      "current counts of ids: 1015\n",
      "current counts of ids: 1050\n",
      "current counts of ids: 1085\n",
      "current counts of ids: 1120\n",
      "current counts of ids: 1155\n",
      "current counts of ids: 1190\n",
      "current counts of ids: 1225\n",
      "current counts of ids: 1260\n",
      "current counts of ids: 1295\n",
      "current counts of ids: 1300\n",
      "综艺 标签爬取完毕\n",
      "current counts of ids: 1300\n",
      "========================\n",
      "current counts of ids: 1335\n",
      "current counts of ids: 1370\n",
      "current counts of ids: 1405\n",
      "current counts of ids: 1440\n",
      "current counts of ids: 1475\n",
      "current counts of ids: 1510\n",
      "current counts of ids: 1545\n",
      "current counts of ids: 1580\n",
      "current counts of ids: 1615\n",
      "current counts of ids: 1650\n",
      "current counts of ids: 1685\n",
      "current counts of ids: 1720\n",
      "current counts of ids: 1755\n",
      "current counts of ids: 1790\n",
      "current counts of ids: 1825\n",
      "current counts of ids: 1860\n",
      "current counts of ids: 1895\n",
      "current counts of ids: 1930\n",
      "current counts of ids: 1965\n",
      "current counts of ids: 2000\n",
      "current counts of ids: 2035\n",
      "current counts of ids: 2070\n",
      "current counts of ids: 2105\n",
      "current counts of ids: 2140\n",
      "current counts of ids: 2175\n",
      "current counts of ids: 2210\n",
      "current counts of ids: 2245\n",
      "current counts of ids: 2280\n",
      "current counts of ids: 2315\n",
      "current counts of ids: 2350\n",
      "current counts of ids: 2385\n",
      "current counts of ids: 2420\n",
      "current counts of ids: 2455\n",
      "current counts of ids: 2490\n",
      "current counts of ids: 2525\n",
      "current counts of ids: 2560\n",
      "current counts of ids: 2595\n",
      "current counts of ids: 2605\n",
      "流行 标签爬取完毕\n",
      "current counts of ids: 2605\n",
      "========================\n",
      "current counts of ids: 2640\n",
      "current counts of ids: 2675\n",
      "current counts of ids: 2710\n",
      "current counts of ids: 2745\n",
      "current counts of ids: 2780\n",
      "current counts of ids: 2815\n",
      "current counts of ids: 2850\n",
      "current counts of ids: 2885\n",
      "current counts of ids: 2920\n",
      "current counts of ids: 2955\n",
      "current counts of ids: 2990\n",
      "current counts of ids: 3025\n",
      "current counts of ids: 3060\n",
      "current counts of ids: 3095\n",
      "current counts of ids: 3130\n",
      "current counts of ids: 3165\n",
      "current counts of ids: 3200\n",
      "current counts of ids: 3235\n",
      "current counts of ids: 3270\n",
      "current counts of ids: 3305\n",
      "current counts of ids: 3340\n",
      "current counts of ids: 3375\n",
      "current counts of ids: 3410\n",
      "current counts of ids: 3445\n",
      "current counts of ids: 3480\n",
      "current counts of ids: 3515\n",
      "current counts of ids: 3550\n",
      "current counts of ids: 3585\n",
      "current counts of ids: 3620\n",
      "current counts of ids: 3655\n",
      "current counts of ids: 3690\n",
      "current counts of ids: 3725\n",
      "current counts of ids: 3760\n",
      "current counts of ids: 3795\n",
      "current counts of ids: 3830\n",
      "current counts of ids: 3865\n",
      "current counts of ids: 3900\n",
      "current counts of ids: 3909\n",
      "影视原声 标签爬取完毕\n",
      "current counts of ids: 3909\n",
      "========================\n",
      "current counts of ids: 3944\n",
      "current counts of ids: 3979\n",
      "current counts of ids: 4014\n",
      "current counts of ids: 4049\n",
      "current counts of ids: 4084\n",
      "current counts of ids: 4119\n",
      "current counts of ids: 4154\n",
      "current counts of ids: 4189\n",
      "current counts of ids: 4224\n",
      "current counts of ids: 4259\n",
      "current counts of ids: 4294\n",
      "current counts of ids: 4329\n",
      "current counts of ids: 4364\n",
      "current counts of ids: 4399\n",
      "current counts of ids: 4434\n",
      "current counts of ids: 4469\n",
      "current counts of ids: 4504\n",
      "current counts of ids: 4539\n",
      "current counts of ids: 4574\n",
      "current counts of ids: 4609\n",
      "current counts of ids: 4644\n",
      "current counts of ids: 4679\n",
      "current counts of ids: 4714\n",
      "current counts of ids: 4749\n",
      "current counts of ids: 4784\n",
      "current counts of ids: 4819\n",
      "current counts of ids: 4854\n",
      "current counts of ids: 4889\n",
      "current counts of ids: 4924\n",
      "current counts of ids: 4959\n",
      "current counts of ids: 4994\n",
      "current counts of ids: 5029\n",
      "current counts of ids: 5064\n",
      "current counts of ids: 5099\n",
      "current counts of ids: 5134\n",
      "current counts of ids: 5169\n",
      "current counts of ids: 5202\n",
      "current counts of ids: 5202\n",
      "华语 标签爬取完毕\n",
      "current counts of ids: 5202\n",
      "========================\n",
      "current counts of ids: 5237\n",
      "current counts of ids: 5272\n",
      "current counts of ids: 5307\n",
      "current counts of ids: 5342\n",
      "current counts of ids: 5377\n",
      "current counts of ids: 5412\n",
      "current counts of ids: 5447\n",
      "current counts of ids: 5482\n",
      "current counts of ids: 5517\n",
      "current counts of ids: 5552\n",
      "current counts of ids: 5587\n",
      "current counts of ids: 5622\n",
      "current counts of ids: 5657\n",
      "current counts of ids: 5692\n",
      "current counts of ids: 5727\n",
      "current counts of ids: 5762\n",
      "current counts of ids: 5797\n",
      "current counts of ids: 5832\n",
      "current counts of ids: 5867\n",
      "current counts of ids: 5902\n",
      "current counts of ids: 5937\n",
      "current counts of ids: 5972\n",
      "current counts of ids: 6007\n",
      "current counts of ids: 6042\n",
      "current counts of ids: 6077\n",
      "current counts of ids: 6112\n",
      "current counts of ids: 6147\n",
      "current counts of ids: 6182\n",
      "current counts of ids: 6217\n",
      "current counts of ids: 6252\n",
      "current counts of ids: 6287\n",
      "current counts of ids: 6322\n",
      "current counts of ids: 6357\n",
      "current counts of ids: 6392\n",
      "current counts of ids: 6427\n",
      "current counts of ids: 6462\n",
      "current counts of ids: 6497\n",
      "current counts of ids: 6501\n",
      "清晨 标签爬取完毕\n",
      "current counts of ids: 6501\n",
      "========================\n",
      "current counts of ids: 6536\n",
      "current counts of ids: 6571\n",
      "current counts of ids: 6606\n",
      "current counts of ids: 6641\n",
      "current counts of ids: 6676\n",
      "current counts of ids: 6711\n",
      "current counts of ids: 6746\n",
      "current counts of ids: 6781\n",
      "current counts of ids: 6816\n",
      "current counts of ids: 6851\n",
      "current counts of ids: 6886\n",
      "current counts of ids: 6921\n",
      "current counts of ids: 6956\n",
      "current counts of ids: 6991\n",
      "current counts of ids: 7026\n",
      "current counts of ids: 7061\n",
      "current counts of ids: 7096\n",
      "current counts of ids: 7131\n",
      "current counts of ids: 7166\n",
      "current counts of ids: 7201\n",
      "current counts of ids: 7236\n",
      "current counts of ids: 7271\n",
      "current counts of ids: 7306\n",
      "current counts of ids: 7341\n",
      "current counts of ids: 7376\n",
      "current counts of ids: 7411\n",
      "current counts of ids: 7446\n",
      "current counts of ids: 7481\n",
      "current counts of ids: 7516\n",
      "current counts of ids: 7551\n",
      "current counts of ids: 7586\n",
      "current counts of ids: 7621\n",
      "current counts of ids: 7656\n",
      "current counts of ids: 7691\n",
      "current counts of ids: 7726\n",
      "current counts of ids: 7761\n",
      "current counts of ids: 7796\n",
      "current counts of ids: 7803\n",
      "怀旧 标签爬取完毕\n",
      "current counts of ids: 7803\n",
      "========================\n",
      "current counts of ids: 7838\n",
      "current counts of ids: 7873\n",
      "current counts of ids: 7908\n",
      "current counts of ids: 7943\n",
      "current counts of ids: 7978\n",
      "current counts of ids: 8013\n",
      "current counts of ids: 8048\n",
      "current counts of ids: 8083\n",
      "current counts of ids: 8118\n",
      "current counts of ids: 8153\n",
      "current counts of ids: 8188\n",
      "current counts of ids: 8223\n",
      "current counts of ids: 8258\n",
      "current counts of ids: 8293\n",
      "current counts of ids: 8328\n",
      "current counts of ids: 8363\n",
      "current counts of ids: 8398\n",
      "current counts of ids: 8433\n",
      "current counts of ids: 8468\n",
      "current counts of ids: 8503\n",
      "current counts of ids: 8538\n",
      "current counts of ids: 8573\n",
      "current counts of ids: 8608\n",
      "current counts of ids: 8643\n",
      "current counts of ids: 8678\n",
      "current counts of ids: 8713\n",
      "current counts of ids: 8748\n",
      "current counts of ids: 8783\n",
      "current counts of ids: 8818\n",
      "current counts of ids: 8853\n",
      "current counts of ids: 8888\n",
      "current counts of ids: 8923\n",
      "current counts of ids: 8958\n",
      "current counts of ids: 8993\n",
      "current counts of ids: 9028\n",
      "current counts of ids: 9063\n",
      "current counts of ids: 9098\n",
      "current counts of ids: 9115\n",
      "夜晚 标签爬取完毕\n",
      "current counts of ids: 9115\n",
      "========================\n",
      "current counts of ids: 9150\n",
      "current counts of ids: 9185\n",
      "current counts of ids: 9220\n",
      "current counts of ids: 9255\n",
      "current counts of ids: 9290\n",
      "current counts of ids: 9325\n",
      "current counts of ids: 9360\n",
      "current counts of ids: 9395\n",
      "current counts of ids: 9430\n",
      "current counts of ids: 9465\n",
      "current counts of ids: 9500\n",
      "current counts of ids: 9535\n",
      "current counts of ids: 9570\n",
      "current counts of ids: 9605\n",
      "current counts of ids: 9640\n",
      "current counts of ids: 9675\n",
      "current counts of ids: 9710\n",
      "current counts of ids: 9745\n",
      "current counts of ids: 9780\n",
      "current counts of ids: 9815\n",
      "current counts of ids: 9850\n",
      "current counts of ids: 9885\n",
      "current counts of ids: 9920\n",
      "current counts of ids: 9955\n",
      "current counts of ids: 9990\n",
      "current counts of ids: 10025\n",
      "current counts of ids: 10060\n",
      "current counts of ids: 10095\n",
      "current counts of ids: 10130\n",
      "current counts of ids: 10165\n",
      "current counts of ids: 10200\n",
      "current counts of ids: 10235\n",
      "current counts of ids: 10270\n",
      "current counts of ids: 10305\n",
      "current counts of ids: 10340\n",
      "current counts of ids: 10375\n",
      "current counts of ids: 10410\n",
      "current counts of ids: 10419\n",
      "摇滚 标签爬取完毕\n",
      "current counts of ids: 10419\n",
      "========================\n",
      "current counts of ids: 10454\n",
      "current counts of ids: 10489\n",
      "current counts of ids: 10524\n",
      "current counts of ids: 10559\n",
      "current counts of ids: 10594\n",
      "current counts of ids: 10629\n",
      "current counts of ids: 10664\n",
      "current counts of ids: 10699\n",
      "current counts of ids: 10734\n",
      "current counts of ids: 10769\n",
      "current counts of ids: 10804\n",
      "current counts of ids: 10839\n",
      "current counts of ids: 10874\n",
      "current counts of ids: 10909\n",
      "current counts of ids: 10944\n",
      "current counts of ids: 10979\n",
      "current counts of ids: 11014\n",
      "current counts of ids: 11049\n",
      "current counts of ids: 11084\n",
      "current counts of ids: 11119\n",
      "current counts of ids: 11154\n",
      "current counts of ids: 11189\n",
      "current counts of ids: 11224\n",
      "current counts of ids: 11259\n",
      "current counts of ids: 11294\n",
      "current counts of ids: 11329\n",
      "current counts of ids: 11364\n",
      "current counts of ids: 11399\n",
      "current counts of ids: 11434\n",
      "current counts of ids: 11469\n",
      "current counts of ids: 11504\n",
      "current counts of ids: 11539\n",
      "current counts of ids: 11574\n",
      "current counts of ids: 11609\n",
      "current counts of ids: 11644\n",
      "current counts of ids: 11679\n",
      "current counts of ids: 11714\n",
      "current counts of ids: 11717\n",
      "欧美 标签爬取完毕\n",
      "current counts of ids: 11717\n",
      "========================\n",
      "current counts of ids: 11752\n",
      "current counts of ids: 11787\n",
      "current counts of ids: 11822\n",
      "current counts of ids: 11857\n",
      "current counts of ids: 11892\n",
      "current counts of ids: 11927\n",
      "current counts of ids: 11962\n",
      "current counts of ids: 11997\n",
      "current counts of ids: 12032\n",
      "current counts of ids: 12067\n",
      "current counts of ids: 12102\n",
      "current counts of ids: 12137\n",
      "current counts of ids: 12172\n",
      "current counts of ids: 12207\n",
      "current counts of ids: 12242\n",
      "current counts of ids: 12277\n",
      "current counts of ids: 12312\n",
      "current counts of ids: 12347\n",
      "current counts of ids: 12382\n",
      "current counts of ids: 12417\n",
      "current counts of ids: 12452\n",
      "current counts of ids: 12487\n",
      "current counts of ids: 12522\n",
      "current counts of ids: 12557\n",
      "current counts of ids: 12592\n",
      "current counts of ids: 12627\n",
      "current counts of ids: 12662\n",
      "current counts of ids: 12697\n",
      "current counts of ids: 12732\n",
      "current counts of ids: 12767\n",
      "current counts of ids: 12802\n",
      "current counts of ids: 12837\n",
      "current counts of ids: 12872\n",
      "current counts of ids: 12907\n",
      "current counts of ids: 12942\n",
      "current counts of ids: 12977\n",
      "current counts of ids: 13012\n",
      "current counts of ids: 13021\n",
      "清新 标签爬取完毕\n",
      "current counts of ids: 13021\n",
      "========================\n",
      "current counts of ids: 13056\n",
      "current counts of ids: 13091\n",
      "current counts of ids: 13126\n",
      "current counts of ids: 13161\n",
      "current counts of ids: 13196\n",
      "current counts of ids: 13231\n",
      "current counts of ids: 13266\n",
      "current counts of ids: 13301\n",
      "current counts of ids: 13336\n",
      "current counts of ids: 13371\n",
      "current counts of ids: 13406\n",
      "current counts of ids: 13441\n",
      "current counts of ids: 13476\n",
      "current counts of ids: 13511\n",
      "current counts of ids: 13546\n",
      "current counts of ids: 13581\n",
      "current counts of ids: 13616\n",
      "current counts of ids: 13651\n",
      "current counts of ids: 13686\n",
      "current counts of ids: 13721\n",
      "current counts of ids: 13756\n",
      "current counts of ids: 13791\n",
      "current counts of ids: 13826\n",
      "current counts of ids: 13861\n",
      "current counts of ids: 13896\n",
      "current counts of ids: 13931\n",
      "current counts of ids: 13966\n",
      "current counts of ids: 14001\n",
      "current counts of ids: 14036\n",
      "current counts of ids: 14071\n",
      "current counts of ids: 14106\n",
      "current counts of ids: 14141\n",
      "current counts of ids: 14176\n",
      "current counts of ids: 14211\n",
      "current counts of ids: 14246\n",
      "current counts of ids: 14281\n",
      "current counts of ids: 14316\n",
      "current counts of ids: 14323\n",
      "ACG 标签爬取完毕\n",
      "current counts of ids: 14323\n",
      "========================\n",
      "current counts of ids: 14358\n",
      "current counts of ids: 14393\n",
      "current counts of ids: 14428\n",
      "current counts of ids: 14463\n",
      "current counts of ids: 14498\n",
      "current counts of ids: 14533\n",
      "current counts of ids: 14568\n",
      "current counts of ids: 14603\n",
      "current counts of ids: 14638\n",
      "current counts of ids: 14673\n",
      "current counts of ids: 14708\n",
      "current counts of ids: 14743\n",
      "current counts of ids: 14778\n",
      "current counts of ids: 14813\n",
      "current counts of ids: 14848\n",
      "current counts of ids: 14883\n",
      "current counts of ids: 14918\n",
      "current counts of ids: 14953\n",
      "current counts of ids: 14988\n",
      "current counts of ids: 15023\n",
      "current counts of ids: 15058\n",
      "current counts of ids: 15093\n",
      "current counts of ids: 15128\n",
      "current counts of ids: 15163\n",
      "current counts of ids: 15198\n",
      "current counts of ids: 15233\n",
      "current counts of ids: 15268\n",
      "current counts of ids: 15303\n",
      "current counts of ids: 15338\n",
      "current counts of ids: 15373\n",
      "current counts of ids: 15408\n",
      "current counts of ids: 15443\n",
      "current counts of ids: 15478\n",
      "current counts of ids: 15513\n",
      "current counts of ids: 15548\n",
      "current counts of ids: 15583\n",
      "current counts of ids: 15618\n",
      "current counts of ids: 15632\n",
      "浪漫 标签爬取完毕\n",
      "current counts of ids: 15632\n",
      "========================\n",
      "current counts of ids: 15667\n",
      "current counts of ids: 15702\n",
      "current counts of ids: 15737\n",
      "current counts of ids: 15772\n",
      "current counts of ids: 15807\n",
      "current counts of ids: 15842\n",
      "current counts of ids: 15877\n",
      "current counts of ids: 15912\n",
      "current counts of ids: 15947\n",
      "current counts of ids: 15982\n",
      "current counts of ids: 16017\n",
      "current counts of ids: 16052\n",
      "current counts of ids: 16087\n",
      "current counts of ids: 16122\n",
      "current counts of ids: 16157\n",
      "current counts of ids: 16192\n",
      "current counts of ids: 16227\n",
      "current counts of ids: 16262\n",
      "current counts of ids: 16297\n",
      "current counts of ids: 16332\n",
      "current counts of ids: 16367\n",
      "current counts of ids: 16402\n",
      "current counts of ids: 16437\n",
      "current counts of ids: 16472\n",
      "current counts of ids: 16507\n",
      "current counts of ids: 16542\n",
      "current counts of ids: 16577\n",
      "current counts of ids: 16612\n",
      "current counts of ids: 16647\n",
      "current counts of ids: 16682\n",
      "current counts of ids: 16717\n",
      "current counts of ids: 16752\n",
      "current counts of ids: 16787\n",
      "current counts of ids: 16822\n",
      "current counts of ids: 16857\n",
      "current counts of ids: 16892\n",
      "current counts of ids: 16927\n",
      "current counts of ids: 16927\n",
      "民谣 标签爬取完毕\n",
      "current counts of ids: 16927\n",
      "========================\n",
      "current counts of ids: 16962\n",
      "current counts of ids: 16997\n",
      "current counts of ids: 17032\n",
      "current counts of ids: 17067\n",
      "current counts of ids: 17102\n",
      "current counts of ids: 17137\n",
      "current counts of ids: 17172\n",
      "current counts of ids: 17207\n",
      "current counts of ids: 17242\n",
      "current counts of ids: 17277\n",
      "current counts of ids: 17312\n",
      "current counts of ids: 17347\n",
      "current counts of ids: 17382\n",
      "current counts of ids: 17417\n",
      "current counts of ids: 17452\n",
      "current counts of ids: 17487\n",
      "current counts of ids: 17522\n",
      "current counts of ids: 17557\n",
      "current counts of ids: 17592\n",
      "current counts of ids: 17627\n",
      "current counts of ids: 17662\n",
      "current counts of ids: 17697\n",
      "current counts of ids: 17732\n",
      "current counts of ids: 17767\n",
      "current counts of ids: 17802\n",
      "current counts of ids: 17837\n",
      "current counts of ids: 17872\n",
      "current counts of ids: 17907\n",
      "current counts of ids: 17942\n",
      "current counts of ids: 17977\n",
      "current counts of ids: 18012\n",
      "current counts of ids: 18047\n",
      "current counts of ids: 18082\n",
      "current counts of ids: 18117\n",
      "current counts of ids: 18152\n",
      "current counts of ids: 18187\n",
      "current counts of ids: 18222\n",
      "current counts of ids: 18223\n",
      "日语 标签爬取完毕\n",
      "current counts of ids: 18223\n",
      "========================\n",
      "current counts of ids: 18258\n",
      "current counts of ids: 18293\n",
      "current counts of ids: 18328\n",
      "current counts of ids: 18363\n",
      "current counts of ids: 18398\n",
      "current counts of ids: 18433\n",
      "current counts of ids: 18468\n",
      "current counts of ids: 18503\n",
      "current counts of ids: 18538\n",
      "current counts of ids: 18573\n",
      "current counts of ids: 18608\n",
      "current counts of ids: 18643\n",
      "current counts of ids: 18678\n",
      "current counts of ids: 18713\n",
      "current counts of ids: 18748\n",
      "current counts of ids: 18783\n",
      "current counts of ids: 18818\n",
      "current counts of ids: 18853\n",
      "current counts of ids: 18888\n",
      "current counts of ids: 18923\n",
      "current counts of ids: 18958\n",
      "current counts of ids: 18993\n",
      "current counts of ids: 19028\n",
      "current counts of ids: 19063\n",
      "current counts of ids: 19098\n",
      "current counts of ids: 19133\n",
      "current counts of ids: 19168\n",
      "current counts of ids: 19203\n",
      "current counts of ids: 19238\n",
      "current counts of ids: 19273\n",
      "current counts of ids: 19308\n",
      "current counts of ids: 19343\n",
      "current counts of ids: 19378\n",
      "current counts of ids: 19413\n",
      "current counts of ids: 19448\n",
      "current counts of ids: 19483\n",
      "current counts of ids: 19518\n",
      "current counts of ids: 19524\n",
      "学习 标签爬取完毕\n",
      "current counts of ids: 19524\n",
      "========================\n",
      "current counts of ids: 19559\n",
      "current counts of ids: 19594\n",
      "current counts of ids: 19629\n",
      "current counts of ids: 19664\n",
      "current counts of ids: 19699\n",
      "current counts of ids: 19734\n",
      "current counts of ids: 19769\n",
      "current counts of ids: 19804\n",
      "current counts of ids: 19839\n",
      "current counts of ids: 19874\n",
      "current counts of ids: 19909\n",
      "current counts of ids: 19944\n",
      "current counts of ids: 19979\n",
      "current counts of ids: 20014\n",
      "current counts of ids: 20049\n",
      "current counts of ids: 20084\n",
      "current counts of ids: 20119\n",
      "current counts of ids: 20154\n",
      "current counts of ids: 20189\n",
      "current counts of ids: 20224\n",
      "current counts of ids: 20259\n",
      "current counts of ids: 20294\n",
      "current counts of ids: 20329\n",
      "current counts of ids: 20364\n",
      "current counts of ids: 20399\n",
      "current counts of ids: 20434\n",
      "current counts of ids: 20469\n",
      "current counts of ids: 20504\n",
      "current counts of ids: 20539\n",
      "current counts of ids: 20574\n",
      "current counts of ids: 20609\n",
      "current counts of ids: 20644\n",
      "current counts of ids: 20679\n",
      "current counts of ids: 20714\n",
      "current counts of ids: 20749\n",
      "current counts of ids: 20784\n",
      "current counts of ids: 20819\n",
      "current counts of ids: 20833\n",
      "儿童 标签爬取完毕\n",
      "current counts of ids: 20833\n",
      "========================\n",
      "current counts of ids: 20868\n",
      "current counts of ids: 20903\n",
      "current counts of ids: 20938\n",
      "current counts of ids: 20973\n",
      "current counts of ids: 21008\n",
      "current counts of ids: 21043\n",
      "current counts of ids: 21078\n",
      "current counts of ids: 21113\n",
      "current counts of ids: 21148\n",
      "current counts of ids: 21183\n",
      "current counts of ids: 21218\n",
      "current counts of ids: 21253\n",
      "current counts of ids: 21288\n",
      "current counts of ids: 21323\n",
      "current counts of ids: 21358\n",
      "current counts of ids: 21393\n",
      "current counts of ids: 21428\n",
      "current counts of ids: 21463\n",
      "current counts of ids: 21498\n",
      "current counts of ids: 21533\n",
      "current counts of ids: 21568\n",
      "current counts of ids: 21603\n",
      "current counts of ids: 21638\n",
      "current counts of ids: 21673\n",
      "current counts of ids: 21708\n",
      "current counts of ids: 21743\n",
      "current counts of ids: 21778\n",
      "current counts of ids: 21813\n",
      "current counts of ids: 21848\n",
      "current counts of ids: 21883\n",
      "current counts of ids: 21918\n",
      "current counts of ids: 21953\n",
      "current counts of ids: 21988\n",
      "current counts of ids: 22023\n",
      "current counts of ids: 22058\n",
      "current counts of ids: 22093\n",
      "current counts of ids: 22128\n",
      "current counts of ids: 22146\n",
      "电子 标签爬取完毕\n",
      "current counts of ids: 22146\n",
      "========================\n",
      "current counts of ids: 22181\n",
      "current counts of ids: 22216\n",
      "current counts of ids: 22251\n",
      "current counts of ids: 22286\n",
      "current counts of ids: 22321\n",
      "current counts of ids: 22356\n",
      "current counts of ids: 22391\n",
      "current counts of ids: 22426\n",
      "current counts of ids: 22461\n",
      "current counts of ids: 22496\n",
      "current counts of ids: 22531\n",
      "current counts of ids: 22566\n",
      "current counts of ids: 22601\n",
      "current counts of ids: 22636\n",
      "current counts of ids: 22671\n",
      "current counts of ids: 22706\n",
      "current counts of ids: 22741\n",
      "current counts of ids: 22776\n",
      "current counts of ids: 22811\n",
      "current counts of ids: 22846\n",
      "current counts of ids: 22881\n",
      "current counts of ids: 22916\n",
      "current counts of ids: 22951\n",
      "current counts of ids: 22986\n",
      "current counts of ids: 23021\n",
      "current counts of ids: 23056\n",
      "current counts of ids: 23091\n",
      "current counts of ids: 23126\n",
      "current counts of ids: 23161\n",
      "current counts of ids: 23196\n",
      "current counts of ids: 23231\n",
      "current counts of ids: 23266\n",
      "current counts of ids: 23301\n",
      "current counts of ids: 23336\n",
      "current counts of ids: 23371\n",
      "current counts of ids: 23406\n",
      "current counts of ids: 23441\n",
      "current counts of ids: 23446\n",
      "韩语 标签爬取完毕\n",
      "current counts of ids: 23446\n",
      "========================\n",
      "current counts of ids: 23481\n",
      "current counts of ids: 23516\n",
      "current counts of ids: 23551\n",
      "current counts of ids: 23586\n",
      "current counts of ids: 23621\n",
      "current counts of ids: 23656\n",
      "current counts of ids: 23691\n",
      "current counts of ids: 23726\n",
      "current counts of ids: 23761\n",
      "current counts of ids: 23796\n",
      "current counts of ids: 23831\n",
      "current counts of ids: 23866\n",
      "current counts of ids: 23901\n",
      "current counts of ids: 23936\n",
      "current counts of ids: 23971\n",
      "current counts of ids: 24006\n",
      "current counts of ids: 24041\n",
      "current counts of ids: 24076\n",
      "current counts of ids: 24111\n",
      "current counts of ids: 24146\n",
      "current counts of ids: 24181\n",
      "current counts of ids: 24216\n",
      "current counts of ids: 24251\n",
      "current counts of ids: 24286\n",
      "current counts of ids: 24321\n",
      "current counts of ids: 24356\n",
      "current counts of ids: 24391\n",
      "current counts of ids: 24426\n",
      "current counts of ids: 24461\n",
      "current counts of ids: 24496\n",
      "current counts of ids: 24531\n",
      "current counts of ids: 24566\n",
      "current counts of ids: 24601\n",
      "current counts of ids: 24636\n",
      "current counts of ids: 24671\n",
      "current counts of ids: 24706\n",
      "current counts of ids: 24741\n",
      "current counts of ids: 24747\n",
      "校园 标签爬取完毕\n",
      "current counts of ids: 24747\n",
      "========================\n",
      "current counts of ids: 24782\n",
      "current counts of ids: 24817\n",
      "current counts of ids: 24852\n",
      "current counts of ids: 24887\n",
      "current counts of ids: 24922\n",
      "current counts of ids: 24957\n",
      "current counts of ids: 24992\n",
      "current counts of ids: 25027\n",
      "current counts of ids: 25062\n",
      "current counts of ids: 25097\n",
      "current counts of ids: 25132\n",
      "current counts of ids: 25167\n",
      "current counts of ids: 25202\n",
      "current counts of ids: 25237\n",
      "current counts of ids: 25272\n",
      "current counts of ids: 25307\n",
      "current counts of ids: 25342\n",
      "current counts of ids: 25377\n",
      "current counts of ids: 25412\n",
      "current counts of ids: 25447\n",
      "current counts of ids: 25482\n",
      "current counts of ids: 25517\n",
      "current counts of ids: 25552\n",
      "current counts of ids: 25587\n",
      "current counts of ids: 25622\n",
      "current counts of ids: 25657\n",
      "current counts of ids: 25692\n",
      "current counts of ids: 25727\n",
      "current counts of ids: 25762\n",
      "current counts of ids: 25797\n",
      "current counts of ids: 25832\n",
      "current counts of ids: 25867\n",
      "current counts of ids: 25902\n",
      "current counts of ids: 25937\n",
      "current counts of ids: 25972\n",
      "current counts of ids: 26007\n",
      "current counts of ids: 26042\n",
      "current counts of ids: 26048\n",
      "工作 标签爬取完毕\n",
      "current counts of ids: 26048\n",
      "========================\n",
      "current counts of ids: 26083\n",
      "current counts of ids: 26118\n",
      "current counts of ids: 26153\n",
      "current counts of ids: 26188\n",
      "current counts of ids: 26223\n",
      "current counts of ids: 26258\n",
      "current counts of ids: 26293\n",
      "current counts of ids: 26328\n",
      "current counts of ids: 26363\n",
      "current counts of ids: 26398\n",
      "current counts of ids: 26433\n",
      "current counts of ids: 26468\n",
      "current counts of ids: 26503\n",
      "current counts of ids: 26538\n",
      "current counts of ids: 26573\n",
      "current counts of ids: 26608\n",
      "current counts of ids: 26643\n",
      "current counts of ids: 26678\n",
      "current counts of ids: 26713\n",
      "current counts of ids: 26748\n",
      "current counts of ids: 26783\n",
      "current counts of ids: 26818\n",
      "current counts of ids: 26853\n",
      "current counts of ids: 26888\n",
      "current counts of ids: 26923\n",
      "current counts of ids: 26958\n",
      "current counts of ids: 26993\n",
      "current counts of ids: 27028\n",
      "current counts of ids: 27063\n",
      "current counts of ids: 27098\n",
      "current counts of ids: 27133\n",
      "current counts of ids: 27168\n",
      "current counts of ids: 27203\n",
      "current counts of ids: 27238\n",
      "current counts of ids: 27273\n",
      "current counts of ids: 27308\n",
      "current counts of ids: 27343\n",
      "current counts of ids: 27357\n",
      "午休 标签爬取完毕\n",
      "current counts of ids: 27357\n",
      "========================\n",
      "current counts of ids: 27392\n",
      "current counts of ids: 27427\n",
      "current counts of ids: 27462\n",
      "current counts of ids: 27497\n",
      "current counts of ids: 27532\n",
      "current counts of ids: 27567\n",
      "current counts of ids: 27602\n",
      "current counts of ids: 27637\n",
      "current counts of ids: 27672\n",
      "current counts of ids: 27707\n",
      "current counts of ids: 27742\n",
      "current counts of ids: 27777\n",
      "current counts of ids: 27812\n",
      "current counts of ids: 27847\n",
      "current counts of ids: 27882\n",
      "current counts of ids: 27917\n",
      "current counts of ids: 27952\n",
      "current counts of ids: 27987\n",
      "current counts of ids: 28022\n",
      "current counts of ids: 28057\n",
      "current counts of ids: 28092\n",
      "current counts of ids: 28127\n",
      "current counts of ids: 28162\n",
      "current counts of ids: 28197\n",
      "current counts of ids: 28232\n",
      "current counts of ids: 28267\n",
      "current counts of ids: 28302\n",
      "current counts of ids: 28337\n",
      "current counts of ids: 28372\n",
      "current counts of ids: 28407\n",
      "current counts of ids: 28442\n",
      "current counts of ids: 28477\n",
      "current counts of ids: 28512\n",
      "current counts of ids: 28547\n",
      "current counts of ids: 28582\n",
      "current counts of ids: 28617\n",
      "current counts of ids: 28651\n",
      "current counts of ids: 28651\n",
      "伤感 标签爬取完毕\n",
      "current counts of ids: 28651\n",
      "========================\n",
      "current counts of ids: 28686\n",
      "current counts of ids: 28721\n",
      "current counts of ids: 28756\n",
      "current counts of ids: 28791\n",
      "current counts of ids: 28826\n",
      "current counts of ids: 28861\n",
      "current counts of ids: 28896\n",
      "current counts of ids: 28931\n",
      "current counts of ids: 28966\n",
      "current counts of ids: 29001\n",
      "current counts of ids: 29001\n",
      "current counts of ids: 29036\n",
      "current counts of ids: 29071\n",
      "current counts of ids: 29106\n",
      "current counts of ids: 29141\n",
      "current counts of ids: 29176\n",
      "current counts of ids: 29211\n",
      "current counts of ids: 29246\n",
      "current counts of ids: 29281\n",
      "current counts of ids: 29316\n",
      "current counts of ids: 29351\n",
      "current counts of ids: 29386\n",
      "current counts of ids: 29421\n",
      "current counts of ids: 29456\n",
      "current counts of ids: 29491\n",
      "current counts of ids: 29526\n",
      "current counts of ids: 29561\n",
      "current counts of ids: 29596\n",
      "current counts of ids: 29631\n",
      "current counts of ids: 29666\n",
      "current counts of ids: 29701\n",
      "current counts of ids: 29736\n",
      "current counts of ids: 29771\n",
      "current counts of ids: 29806\n",
      "current counts of ids: 29841\n",
      "current counts of ids: 29876\n",
      "current counts of ids: 29911\n",
      "current counts of ids: 29916\n",
      "粤语 标签爬取完毕\n",
      "current counts of ids: 29916\n",
      "========================\n",
      "current counts of ids: 29951\n",
      "current counts of ids: 29986\n",
      "current counts of ids: 30021\n",
      "current counts of ids: 30056\n",
      "current counts of ids: 30091\n",
      "current counts of ids: 30126\n",
      "current counts of ids: 30161\n",
      "current counts of ids: 30196\n",
      "current counts of ids: 30231\n",
      "current counts of ids: 30266\n",
      "current counts of ids: 30301\n",
      "current counts of ids: 30336\n",
      "current counts of ids: 30371\n",
      "current counts of ids: 30406\n",
      "current counts of ids: 30441\n",
      "current counts of ids: 30476\n",
      "current counts of ids: 30511\n",
      "current counts of ids: 30546\n",
      "current counts of ids: 30581\n",
      "current counts of ids: 30616\n",
      "current counts of ids: 30651\n",
      "current counts of ids: 30686\n",
      "current counts of ids: 30721\n",
      "current counts of ids: 30756\n",
      "current counts of ids: 30791\n",
      "current counts of ids: 30826\n",
      "current counts of ids: 30861\n",
      "current counts of ids: 30896\n",
      "current counts of ids: 30931\n",
      "current counts of ids: 30966\n",
      "current counts of ids: 31001\n",
      "current counts of ids: 31036\n",
      "current counts of ids: 31071\n",
      "current counts of ids: 31106\n",
      "current counts of ids: 31141\n",
      "current counts of ids: 31176\n",
      "current counts of ids: 31211\n",
      "current counts of ids: 31218\n",
      "游戏 标签爬取完毕\n",
      "current counts of ids: 31218\n",
      "========================\n",
      "current counts of ids: 31253\n",
      "current counts of ids: 31288\n",
      "current counts of ids: 31323\n",
      "current counts of ids: 31358\n",
      "current counts of ids: 31393\n",
      "current counts of ids: 31428\n",
      "current counts of ids: 31463\n",
      "current counts of ids: 31498\n",
      "current counts of ids: 31533\n",
      "current counts of ids: 31568\n",
      "current counts of ids: 31603\n",
      "current counts of ids: 31638\n",
      "current counts of ids: 31673\n",
      "current counts of ids: 31708\n",
      "current counts of ids: 31743\n",
      "current counts of ids: 31778\n",
      "current counts of ids: 31813\n",
      "current counts of ids: 31848\n",
      "current counts of ids: 31883\n",
      "current counts of ids: 31918\n",
      "current counts of ids: 31953\n",
      "current counts of ids: 31988\n",
      "current counts of ids: 32023\n",
      "current counts of ids: 32058\n",
      "current counts of ids: 32093\n",
      "current counts of ids: 32128\n",
      "current counts of ids: 32163\n",
      "current counts of ids: 32198\n",
      "current counts of ids: 32233\n",
      "current counts of ids: 32268\n",
      "current counts of ids: 32303\n",
      "current counts of ids: 32338\n",
      "current counts of ids: 32373\n",
      "current counts of ids: 32408\n",
      "current counts of ids: 32443\n",
      "current counts of ids: 32478\n",
      "current counts of ids: 32513\n",
      "current counts of ids: 32519\n",
      "舞曲 标签爬取完毕\n",
      "current counts of ids: 32519\n",
      "========================\n",
      "current counts of ids: 32554\n",
      "current counts of ids: 32589\n",
      "current counts of ids: 32624\n",
      "current counts of ids: 32659\n",
      "current counts of ids: 32694\n",
      "current counts of ids: 32729\n",
      "current counts of ids: 32764\n",
      "current counts of ids: 32799\n",
      "current counts of ids: 32834\n",
      "current counts of ids: 32869\n",
      "current counts of ids: 32904\n",
      "current counts of ids: 32939\n",
      "current counts of ids: 32974\n",
      "current counts of ids: 33009\n",
      "current counts of ids: 33044\n",
      "current counts of ids: 33079\n",
      "current counts of ids: 33114\n",
      "current counts of ids: 33149\n",
      "current counts of ids: 33184\n",
      "current counts of ids: 33219\n",
      "current counts of ids: 33254\n",
      "current counts of ids: 33289\n",
      "current counts of ids: 33324\n",
      "current counts of ids: 33359\n",
      "current counts of ids: 33394\n",
      "current counts of ids: 33429\n",
      "current counts of ids: 33464\n",
      "current counts of ids: 33499\n",
      "current counts of ids: 33534\n",
      "current counts of ids: 33569\n",
      "current counts of ids: 33604\n",
      "current counts of ids: 33639\n",
      "current counts of ids: 33674\n",
      "current counts of ids: 33709\n",
      "current counts of ids: 33744\n",
      "current counts of ids: 33779\n",
      "current counts of ids: 33814\n",
      "current counts of ids: 33818\n",
      "说唱 标签爬取完毕\n",
      "current counts of ids: 33818\n",
      "========================\n",
      "current counts of ids: 33853\n",
      "current counts of ids: 33888\n",
      "current counts of ids: 33923\n",
      "current counts of ids: 33958\n",
      "current counts of ids: 33993\n",
      "current counts of ids: 34028\n",
      "current counts of ids: 34063\n",
      "current counts of ids: 34098\n",
      "current counts of ids: 34133\n",
      "current counts of ids: 34168\n",
      "current counts of ids: 34203\n",
      "current counts of ids: 34238\n",
      "current counts of ids: 34273\n",
      "current counts of ids: 34308\n",
      "current counts of ids: 34343\n",
      "current counts of ids: 34378\n",
      "current counts of ids: 34413\n",
      "current counts of ids: 34448\n",
      "current counts of ids: 34483\n",
      "current counts of ids: 34518\n",
      "current counts of ids: 34553\n",
      "current counts of ids: 34588\n",
      "current counts of ids: 34623\n",
      "current counts of ids: 34658\n",
      "current counts of ids: 34693\n",
      "current counts of ids: 34728\n",
      "current counts of ids: 34763\n",
      "current counts of ids: 34798\n",
      "current counts of ids: 34833\n",
      "current counts of ids: 34868\n",
      "current counts of ids: 34903\n",
      "current counts of ids: 34938\n",
      "current counts of ids: 34973\n",
      "current counts of ids: 35008\n",
      "current counts of ids: 35043\n",
      "current counts of ids: 35078\n",
      "current counts of ids: 35113\n",
      "current counts of ids: 35119\n",
      "70后 标签爬取完毕\n",
      "current counts of ids: 35119\n",
      "========================\n",
      "current counts of ids: 35154\n",
      "current counts of ids: 35189\n",
      "current counts of ids: 35224\n",
      "current counts of ids: 35259\n",
      "current counts of ids: 35294\n",
      "current counts of ids: 35329\n",
      "current counts of ids: 35364\n",
      "current counts of ids: 35399\n",
      "current counts of ids: 35434\n",
      "current counts of ids: 35469\n",
      "current counts of ids: 35504\n",
      "current counts of ids: 35539\n",
      "current counts of ids: 35574\n",
      "current counts of ids: 35609\n",
      "current counts of ids: 35644\n",
      "current counts of ids: 35679\n",
      "current counts of ids: 35714\n",
      "current counts of ids: 35749\n",
      "current counts of ids: 35784\n",
      "current counts of ids: 35819\n",
      "current counts of ids: 35854\n",
      "current counts of ids: 35889\n",
      "current counts of ids: 35924\n",
      "current counts of ids: 35959\n",
      "current counts of ids: 35994\n",
      "current counts of ids: 36029\n",
      "current counts of ids: 36064\n",
      "current counts of ids: 36099\n",
      "current counts of ids: 36134\n",
      "current counts of ids: 36169\n",
      "current counts of ids: 36204\n",
      "current counts of ids: 36239\n",
      "current counts of ids: 36274\n",
      "current counts of ids: 36309\n",
      "current counts of ids: 36344\n",
      "current counts of ids: 36379\n",
      "current counts of ids: 36414\n",
      "current counts of ids: 36422\n",
      "治愈 标签爬取完毕\n",
      "current counts of ids: 36422\n",
      "========================\n",
      "current counts of ids: 36457\n",
      "current counts of ids: 36492\n",
      "current counts of ids: 36527\n",
      "current counts of ids: 36562\n",
      "current counts of ids: 36597\n",
      "current counts of ids: 36632\n",
      "current counts of ids: 36667\n",
      "current counts of ids: 36702\n",
      "current counts of ids: 36737\n",
      "current counts of ids: 36772\n",
      "current counts of ids: 36807\n",
      "current counts of ids: 36842\n",
      "current counts of ids: 36877\n",
      "current counts of ids: 36912\n",
      "current counts of ids: 36947\n",
      "current counts of ids: 36982\n",
      "current counts of ids: 37017\n",
      "current counts of ids: 37052\n",
      "current counts of ids: 37087\n",
      "current counts of ids: 37122\n",
      "current counts of ids: 37157\n",
      "current counts of ids: 37192\n",
      "current counts of ids: 37227\n",
      "current counts of ids: 37262\n",
      "current counts of ids: 37297\n",
      "current counts of ids: 37332\n",
      "current counts of ids: 37367\n",
      "current counts of ids: 37402\n",
      "current counts of ids: 37437\n",
      "current counts of ids: 37472\n",
      "current counts of ids: 37507\n",
      "current counts of ids: 37542\n",
      "current counts of ids: 37577\n",
      "current counts of ids: 37612\n",
      "current counts of ids: 37647\n",
      "current counts of ids: 37682\n",
      "current counts of ids: 37717\n",
      "current counts of ids: 37723\n",
      "下午茶 标签爬取完毕\n",
      "current counts of ids: 37723\n",
      "========================\n",
      "current counts of ids: 37758\n",
      "current counts of ids: 37793\n",
      "current counts of ids: 37828\n",
      "current counts of ids: 37863\n",
      "current counts of ids: 37898\n",
      "current counts of ids: 37933\n",
      "current counts of ids: 37968\n",
      "current counts of ids: 38003\n",
      "current counts of ids: 38038\n",
      "current counts of ids: 38073\n",
      "current counts of ids: 38108\n",
      "current counts of ids: 38143\n",
      "current counts of ids: 38178\n",
      "current counts of ids: 38213\n",
      "current counts of ids: 38248\n",
      "current counts of ids: 38283\n",
      "current counts of ids: 38318\n",
      "current counts of ids: 38353\n",
      "current counts of ids: 38388\n",
      "current counts of ids: 38423\n",
      "current counts of ids: 38458\n",
      "current counts of ids: 38493\n",
      "current counts of ids: 38528\n",
      "current counts of ids: 38563\n",
      "current counts of ids: 38598\n",
      "current counts of ids: 38633\n",
      "current counts of ids: 38668\n",
      "current counts of ids: 38703\n",
      "current counts of ids: 38738\n",
      "current counts of ids: 38773\n",
      "current counts of ids: 38808\n",
      "current counts of ids: 38843\n",
      "current counts of ids: 38878\n",
      "current counts of ids: 38913\n",
      "current counts of ids: 38948\n",
      "current counts of ids: 38983\n",
      "current counts of ids: 39018\n",
      "current counts of ids: 39030\n",
      "放松 标签爬取完毕\n",
      "current counts of ids: 39030\n",
      "========================\n",
      "current counts of ids: 39065\n",
      "current counts of ids: 39100\n",
      "current counts of ids: 39135\n",
      "current counts of ids: 39170\n",
      "current counts of ids: 39205\n",
      "current counts of ids: 39240\n",
      "current counts of ids: 39275\n",
      "current counts of ids: 39310\n",
      "current counts of ids: 39345\n",
      "current counts of ids: 39380\n",
      "current counts of ids: 39415\n",
      "current counts of ids: 39450\n",
      "current counts of ids: 39485\n",
      "current counts of ids: 39520\n",
      "current counts of ids: 39555\n",
      "current counts of ids: 39590\n",
      "current counts of ids: 39625\n",
      "current counts of ids: 39660\n",
      "current counts of ids: 39695\n",
      "current counts of ids: 39730\n",
      "current counts of ids: 39765\n",
      "current counts of ids: 39800\n",
      "current counts of ids: 39835\n",
      "current counts of ids: 39870\n",
      "current counts of ids: 39905\n",
      "current counts of ids: 39940\n",
      "current counts of ids: 39975\n",
      "current counts of ids: 40010\n",
      "current counts of ids: 40045\n",
      "current counts of ids: 40080\n",
      "current counts of ids: 40115\n",
      "current counts of ids: 40150\n",
      "current counts of ids: 40185\n",
      "current counts of ids: 40220\n",
      "current counts of ids: 40255\n",
      "current counts of ids: 40290\n",
      "current counts of ids: 40325\n",
      "current counts of ids: 40334\n",
      "轻音乐 标签爬取完毕\n",
      "current counts of ids: 40334\n",
      "========================\n",
      "current counts of ids: 40369\n",
      "current counts of ids: 40404\n",
      "current counts of ids: 40439\n",
      "current counts of ids: 40474\n",
      "current counts of ids: 40509\n",
      "current counts of ids: 40544\n",
      "current counts of ids: 40579\n",
      "current counts of ids: 40614\n",
      "current counts of ids: 40649\n",
      "current counts of ids: 40684\n",
      "current counts of ids: 40719\n",
      "current counts of ids: 40754\n",
      "current counts of ids: 40789\n",
      "current counts of ids: 40824\n",
      "current counts of ids: 40859\n",
      "current counts of ids: 40894\n",
      "current counts of ids: 40929\n",
      "current counts of ids: 40964\n",
      "current counts of ids: 40999\n",
      "current counts of ids: 41034\n",
      "current counts of ids: 41069\n",
      "current counts of ids: 41104\n",
      "current counts of ids: 41139\n",
      "current counts of ids: 41174\n",
      "current counts of ids: 41209\n",
      "current counts of ids: 41244\n",
      "current counts of ids: 41279\n",
      "current counts of ids: 41314\n",
      "current counts of ids: 41349\n",
      "current counts of ids: 41384\n",
      "current counts of ids: 41419\n",
      "current counts of ids: 41454\n",
      "current counts of ids: 41489\n",
      "current counts of ids: 41524\n",
      "current counts of ids: 41559\n",
      "current counts of ids: 41594\n",
      "current counts of ids: 41629\n",
      "current counts of ids: 41635\n",
      "80后 标签爬取完毕\n",
      "current counts of ids: 41635\n",
      "========================\n",
      "current counts of ids: 41670\n",
      "current counts of ids: 41705\n",
      "current counts of ids: 41740\n",
      "current counts of ids: 41775\n",
      "current counts of ids: 41810\n",
      "current counts of ids: 41845\n",
      "current counts of ids: 41880\n",
      "current counts of ids: 41915\n",
      "current counts of ids: 41950\n",
      "current counts of ids: 41985\n",
      "current counts of ids: 42020\n",
      "current counts of ids: 42055\n",
      "current counts of ids: 42090\n",
      "current counts of ids: 42125\n",
      "current counts of ids: 42160\n",
      "current counts of ids: 42195\n",
      "current counts of ids: 42230\n",
      "current counts of ids: 42265\n",
      "current counts of ids: 42300\n",
      "current counts of ids: 42335\n",
      "current counts of ids: 42370\n",
      "current counts of ids: 42405\n",
      "current counts of ids: 42440\n",
      "current counts of ids: 42475\n",
      "current counts of ids: 42510\n",
      "current counts of ids: 42545\n",
      "current counts of ids: 42580\n",
      "current counts of ids: 42615\n",
      "current counts of ids: 42650\n",
      "current counts of ids: 42685\n",
      "current counts of ids: 42720\n",
      "current counts of ids: 42755\n",
      "current counts of ids: 42790\n",
      "current counts of ids: 42825\n",
      "current counts of ids: 42860\n",
      "current counts of ids: 42895\n",
      "current counts of ids: 42930\n",
      "current counts of ids: 42941\n",
      "地铁 标签爬取完毕\n",
      "current counts of ids: 42941\n",
      "========================\n",
      "current counts of ids: 42976\n",
      "current counts of ids: 43011\n",
      "current counts of ids: 43046\n",
      "current counts of ids: 43081\n",
      "current counts of ids: 43116\n",
      "current counts of ids: 43151\n",
      "current counts of ids: 43186\n",
      "current counts of ids: 43221\n",
      "current counts of ids: 43256\n",
      "current counts of ids: 43291\n",
      "current counts of ids: 43326\n",
      "current counts of ids: 43361\n",
      "current counts of ids: 43396\n",
      "current counts of ids: 43431\n",
      "current counts of ids: 43466\n",
      "current counts of ids: 43501\n",
      "current counts of ids: 43536\n",
      "current counts of ids: 43571\n",
      "current counts of ids: 43606\n",
      "current counts of ids: 43641\n",
      "current counts of ids: 43676\n",
      "current counts of ids: 43711\n",
      "current counts of ids: 43746\n",
      "current counts of ids: 43781\n",
      "current counts of ids: 43816\n",
      "current counts of ids: 43851\n",
      "current counts of ids: 43886\n",
      "current counts of ids: 43921\n",
      "current counts of ids: 43956\n",
      "current counts of ids: 43991\n",
      "current counts of ids: 44026\n",
      "current counts of ids: 44061\n",
      "current counts of ids: 44096\n",
      "current counts of ids: 44131\n",
      "current counts of ids: 44166\n",
      "current counts of ids: 44201\n",
      "current counts of ids: 44236\n",
      "current counts of ids: 44242\n",
      "90后 标签爬取完毕\n",
      "current counts of ids: 44242\n",
      "========================\n",
      "current counts of ids: 44277\n",
      "current counts of ids: 44312\n",
      "current counts of ids: 44347\n",
      "current counts of ids: 44382\n",
      "current counts of ids: 44417\n",
      "current counts of ids: 44452\n",
      "current counts of ids: 44487\n",
      "current counts of ids: 44522\n",
      "current counts of ids: 44557\n",
      "current counts of ids: 44592\n",
      "current counts of ids: 44627\n",
      "current counts of ids: 44662\n",
      "current counts of ids: 44697\n",
      "current counts of ids: 44732\n",
      "current counts of ids: 44767\n",
      "current counts of ids: 44802\n",
      "current counts of ids: 44837\n",
      "current counts of ids: 44872\n",
      "current counts of ids: 44907\n",
      "current counts of ids: 44942\n",
      "current counts of ids: 44977\n",
      "current counts of ids: 45012\n",
      "current counts of ids: 45047\n",
      "current counts of ids: 45082\n",
      "current counts of ids: 45117\n",
      "current counts of ids: 45152\n",
      "current counts of ids: 45187\n",
      "current counts of ids: 45222\n",
      "current counts of ids: 45257\n",
      "current counts of ids: 45292\n",
      "current counts of ids: 45327\n",
      "current counts of ids: 45362\n",
      "current counts of ids: 45397\n",
      "current counts of ids: 45432\n",
      "current counts of ids: 45467\n",
      "current counts of ids: 45502\n",
      "current counts of ids: 45537\n",
      "current counts of ids: 45539\n",
      "孤独 标签爬取完毕\n",
      "current counts of ids: 45539\n",
      "========================\n",
      "current counts of ids: 45574\n",
      "current counts of ids: 45609\n",
      "current counts of ids: 45644\n",
      "current counts of ids: 45679\n",
      "current counts of ids: 45714\n",
      "current counts of ids: 45749\n",
      "current counts of ids: 45784\n",
      "current counts of ids: 45819\n",
      "current counts of ids: 45854\n",
      "current counts of ids: 45889\n",
      "current counts of ids: 45924\n",
      "current counts of ids: 45959\n",
      "current counts of ids: 45994\n",
      "current counts of ids: 46029\n",
      "current counts of ids: 46064\n",
      "current counts of ids: 46099\n",
      "current counts of ids: 46134\n",
      "current counts of ids: 46169\n",
      "current counts of ids: 46204\n",
      "current counts of ids: 46239\n",
      "current counts of ids: 46274\n",
      "current counts of ids: 46309\n",
      "current counts of ids: 46344\n",
      "current counts of ids: 46379\n",
      "current counts of ids: 46414\n",
      "current counts of ids: 46449\n",
      "current counts of ids: 46484\n",
      "current counts of ids: 46519\n",
      "current counts of ids: 46554\n",
      "current counts of ids: 46589\n",
      "current counts of ids: 46624\n",
      "current counts of ids: 46659\n",
      "current counts of ids: 46694\n",
      "current counts of ids: 46729\n",
      "current counts of ids: 46764\n",
      "current counts of ids: 46799\n",
      "current counts of ids: 46834\n",
      "current counts of ids: 46841\n",
      "驾车 标签爬取完毕\n",
      "current counts of ids: 46841\n",
      "========================\n",
      "current counts of ids: 46876\n",
      "current counts of ids: 46911\n",
      "current counts of ids: 46946\n",
      "current counts of ids: 46981\n",
      "current counts of ids: 47016\n",
      "current counts of ids: 47051\n",
      "current counts of ids: 47086\n",
      "current counts of ids: 47121\n",
      "current counts of ids: 47156\n",
      "current counts of ids: 47191\n",
      "current counts of ids: 47226\n",
      "current counts of ids: 47261\n",
      "current counts of ids: 47296\n",
      "current counts of ids: 47331\n",
      "current counts of ids: 47366\n",
      "current counts of ids: 47401\n",
      "current counts of ids: 47436\n",
      "current counts of ids: 47471\n",
      "current counts of ids: 47506\n",
      "current counts of ids: 47541\n",
      "current counts of ids: 47576\n",
      "current counts of ids: 47611\n",
      "current counts of ids: 47646\n",
      "current counts of ids: 47681\n",
      "current counts of ids: 47716\n",
      "current counts of ids: 47751\n",
      "current counts of ids: 47786\n",
      "current counts of ids: 47821\n",
      "current counts of ids: 47856\n",
      "current counts of ids: 47891\n",
      "current counts of ids: 47926\n",
      "current counts of ids: 47961\n",
      "current counts of ids: 47996\n",
      "current counts of ids: 48031\n",
      "current counts of ids: 48066\n",
      "current counts of ids: 48101\n",
      "current counts of ids: 48136\n",
      "current counts of ids: 48146\n",
      "爵士 标签爬取完毕\n",
      "current counts of ids: 48146\n",
      "========================\n",
      "current counts of ids: 48181\n",
      "current counts of ids: 48216\n",
      "current counts of ids: 48251\n",
      "current counts of ids: 48286\n",
      "current counts of ids: 48321\n",
      "current counts of ids: 48356\n",
      "current counts of ids: 48391\n",
      "current counts of ids: 48426\n",
      "current counts of ids: 48461\n",
      "current counts of ids: 48496\n",
      "current counts of ids: 48531\n",
      "current counts of ids: 48566\n",
      "current counts of ids: 48601\n",
      "current counts of ids: 48636\n",
      "current counts of ids: 48671\n",
      "current counts of ids: 48706\n",
      "current counts of ids: 48741\n",
      "current counts of ids: 48776\n",
      "current counts of ids: 48811\n",
      "current counts of ids: 48846\n",
      "current counts of ids: 48881\n",
      "current counts of ids: 48916\n",
      "current counts of ids: 48951\n",
      "current counts of ids: 48986\n",
      "current counts of ids: 49021\n",
      "current counts of ids: 49056\n",
      "current counts of ids: 49091\n",
      "current counts of ids: 49126\n",
      "current counts of ids: 49161\n",
      "current counts of ids: 49196\n",
      "current counts of ids: 49231\n",
      "current counts of ids: 49266\n",
      "current counts of ids: 49301\n",
      "current counts of ids: 49336\n",
      "current counts of ids: 49371\n",
      "current counts of ids: 49406\n",
      "current counts of ids: 49441\n",
      "current counts of ids: 49451\n",
      "感动 标签爬取完毕\n",
      "current counts of ids: 49451\n",
      "========================\n",
      "current counts of ids: 49486\n",
      "current counts of ids: 49521\n",
      "current counts of ids: 49556\n",
      "current counts of ids: 49591\n",
      "current counts of ids: 49626\n",
      "current counts of ids: 49661\n",
      "current counts of ids: 49696\n",
      "current counts of ids: 49731\n",
      "current counts of ids: 49766\n",
      "current counts of ids: 49801\n",
      "current counts of ids: 49836\n",
      "current counts of ids: 49871\n",
      "current counts of ids: 49906\n",
      "current counts of ids: 49941\n",
      "current counts of ids: 49976\n",
      "current counts of ids: 50011\n",
      "current counts of ids: 50046\n",
      "current counts of ids: 50081\n",
      "current counts of ids: 50116\n",
      "current counts of ids: 50151\n",
      "current counts of ids: 50186\n",
      "current counts of ids: 50221\n",
      "current counts of ids: 50256\n",
      "current counts of ids: 50291\n",
      "current counts of ids: 50326\n",
      "current counts of ids: 50361\n",
      "current counts of ids: 50396\n",
      "current counts of ids: 50431\n",
      "current counts of ids: 50466\n",
      "current counts of ids: 50501\n",
      "current counts of ids: 50536\n",
      "current counts of ids: 50571\n",
      "current counts of ids: 50606\n",
      "current counts of ids: 50641\n",
      "current counts of ids: 50676\n",
      "current counts of ids: 50711\n",
      "current counts of ids: 50746\n",
      "current counts of ids: 50752\n",
      "乡村 标签爬取完毕\n",
      "current counts of ids: 50752\n",
      "========================\n",
      "current counts of ids: 50787\n",
      "current counts of ids: 50822\n",
      "current counts of ids: 50857\n",
      "current counts of ids: 50892\n",
      "current counts of ids: 50927\n",
      "current counts of ids: 50962\n",
      "current counts of ids: 50997\n",
      "current counts of ids: 51032\n",
      "current counts of ids: 51067\n",
      "current counts of ids: 51102\n",
      "current counts of ids: 51137\n",
      "current counts of ids: 51172\n",
      "current counts of ids: 51207\n",
      "current counts of ids: 51242\n",
      "current counts of ids: 51277\n",
      "current counts of ids: 51312\n",
      "current counts of ids: 51347\n",
      "current counts of ids: 51382\n",
      "current counts of ids: 51417\n",
      "current counts of ids: 51452\n",
      "current counts of ids: 51487\n",
      "current counts of ids: 51522\n",
      "current counts of ids: 51557\n",
      "current counts of ids: 51592\n",
      "current counts of ids: 51627\n",
      "current counts of ids: 51662\n",
      "current counts of ids: 51697\n",
      "current counts of ids: 51732\n",
      "current counts of ids: 51767\n",
      "current counts of ids: 51802\n",
      "current counts of ids: 51837\n",
      "current counts of ids: 51872\n",
      "current counts of ids: 51907\n",
      "current counts of ids: 51942\n",
      "current counts of ids: 51977\n",
      "current counts of ids: 52012\n",
      "current counts of ids: 52047\n",
      "current counts of ids: 52051\n",
      "网络歌曲 标签爬取完毕\n",
      "current counts of ids: 52051\n",
      "========================\n",
      "current counts of ids: 52086\n",
      "current counts of ids: 52121\n",
      "current counts of ids: 52156\n",
      "current counts of ids: 52191\n",
      "current counts of ids: 52226\n",
      "current counts of ids: 52261\n",
      "current counts of ids: 52296\n",
      "current counts of ids: 52331\n",
      "current counts of ids: 52366\n",
      "current counts of ids: 52401\n",
      "current counts of ids: 52436\n",
      "current counts of ids: 52471\n",
      "current counts of ids: 52506\n",
      "current counts of ids: 52541\n",
      "current counts of ids: 52576\n",
      "current counts of ids: 52611\n",
      "current counts of ids: 52646\n",
      "current counts of ids: 52681\n",
      "current counts of ids: 52716\n",
      "current counts of ids: 52751\n",
      "current counts of ids: 52786\n",
      "current counts of ids: 52821\n",
      "current counts of ids: 52856\n",
      "current counts of ids: 52891\n",
      "current counts of ids: 52926\n",
      "current counts of ids: 52961\n",
      "current counts of ids: 52996\n",
      "current counts of ids: 53031\n",
      "current counts of ids: 53066\n",
      "current counts of ids: 53101\n",
      "current counts of ids: 53136\n",
      "current counts of ids: 53171\n",
      "current counts of ids: 53206\n",
      "current counts of ids: 53241\n",
      "current counts of ids: 53276\n",
      "current counts of ids: 53311\n",
      "current counts of ids: 53346\n",
      "current counts of ids: 53352\n",
      "运动 标签爬取完毕\n",
      "current counts of ids: 53352\n",
      "========================\n",
      "current counts of ids: 53387\n",
      "current counts of ids: 53422\n",
      "current counts of ids: 53457\n",
      "current counts of ids: 53492\n",
      "current counts of ids: 53527\n",
      "current counts of ids: 53562\n",
      "current counts of ids: 53597\n",
      "current counts of ids: 53632\n",
      "current counts of ids: 53667\n",
      "current counts of ids: 53702\n",
      "current counts of ids: 53737\n",
      "current counts of ids: 53772\n",
      "current counts of ids: 53807\n",
      "current counts of ids: 53842\n",
      "current counts of ids: 53877\n",
      "current counts of ids: 53912\n",
      "current counts of ids: 53947\n",
      "current counts of ids: 53982\n",
      "current counts of ids: 54017\n",
      "current counts of ids: 54052\n",
      "current counts of ids: 54087\n",
      "current counts of ids: 54122\n",
      "current counts of ids: 54157\n",
      "current counts of ids: 54192\n",
      "current counts of ids: 54227\n",
      "current counts of ids: 54262\n",
      "current counts of ids: 54297\n",
      "current counts of ids: 54332\n",
      "current counts of ids: 54367\n",
      "current counts of ids: 54402\n",
      "current counts of ids: 54437\n",
      "current counts of ids: 54472\n",
      "current counts of ids: 54507\n",
      "current counts of ids: 54542\n",
      "current counts of ids: 54577\n",
      "current counts of ids: 54612\n",
      "current counts of ids: 54647\n",
      "current counts of ids: 54654\n",
      "兴奋 标签爬取完毕\n",
      "current counts of ids: 54654\n",
      "========================\n",
      "current counts of ids: 54689\n",
      "current counts of ids: 54724\n",
      "current counts of ids: 54759\n",
      "current counts of ids: 54794\n",
      "current counts of ids: 54829\n",
      "current counts of ids: 54864\n",
      "current counts of ids: 54899\n",
      "current counts of ids: 54934\n",
      "current counts of ids: 54969\n",
      "current counts of ids: 55004\n",
      "current counts of ids: 55039\n",
      "current counts of ids: 55074\n",
      "current counts of ids: 55109\n",
      "current counts of ids: 55144\n",
      "current counts of ids: 55179\n",
      "current counts of ids: 55214\n",
      "current counts of ids: 55249\n",
      "current counts of ids: 55284\n",
      "current counts of ids: 55319\n",
      "current counts of ids: 55354\n",
      "current counts of ids: 55389\n",
      "current counts of ids: 55424\n",
      "current counts of ids: 55459\n",
      "current counts of ids: 55494\n",
      "current counts of ids: 55529\n",
      "current counts of ids: 55564\n",
      "current counts of ids: 55599\n",
      "current counts of ids: 55634\n",
      "current counts of ids: 55669\n",
      "current counts of ids: 55704\n",
      "current counts of ids: 55739\n",
      "current counts of ids: 55774\n",
      "current counts of ids: 55809\n",
      "current counts of ids: 55844\n",
      "current counts of ids: 55879\n",
      "current counts of ids: 55914\n",
      "current counts of ids: 55949\n",
      "current counts of ids: 55958\n",
      "KTV 标签爬取完毕\n",
      "current counts of ids: 55958\n",
      "========================\n",
      "current counts of ids: 55958\n",
      "current counts of ids: 55958\n",
      "current counts of ids: 55958\n",
      "current counts of ids: 55958\n",
      "current counts of ids: 55958\n",
      "current counts of ids: 55958\n",
      "current counts of ids: 55958\n",
      "current counts of ids: 55958\n",
      "current counts of ids: 55958\n",
      "current counts of ids: 55958\n",
      "current counts of ids: 55958\n",
      "current counts of ids: 55958\n",
      "current counts of ids: 55958\n",
      "current counts of ids: 55958\n",
      "current counts of ids: 55958\n",
      "current counts of ids: 55958\n",
      "current counts of ids: 55958\n",
      "current counts of ids: 55958\n",
      "current counts of ids: 55958\n",
      "current counts of ids: 55958\n",
      "current counts of ids: 55958\n",
      "current counts of ids: 55958\n",
      "current counts of ids: 55958\n",
      "current counts of ids: 55958\n",
      "current counts of ids: 55958\n",
      "current counts of ids: 55958\n",
      "current counts of ids: 55958\n",
      "current counts of ids: 55958\n",
      "current counts of ids: 55958\n",
      "current counts of ids: 55958\n",
      "current counts of ids: 55958\n",
      "current counts of ids: 55958\n",
      "current counts of ids: 55958\n",
      "current counts of ids: 55958\n",
      "current counts of ids: 55958\n",
      "current counts of ids: 55958\n",
      "current counts of ids: 55958\n",
      "current counts of ids: 55958\n",
      "R&B/Soul 标签爬取完毕\n",
      "current counts of ids: 55958\n",
      "========================\n",
      "current counts of ids: 55993\n",
      "current counts of ids: 56028\n",
      "current counts of ids: 56063\n",
      "current counts of ids: 56098\n",
      "current counts of ids: 56133\n",
      "current counts of ids: 56168\n",
      "current counts of ids: 56203\n",
      "current counts of ids: 56238\n",
      "current counts of ids: 56273\n",
      "current counts of ids: 56308\n",
      "current counts of ids: 56343\n",
      "current counts of ids: 56378\n",
      "current counts of ids: 56413\n",
      "current counts of ids: 56448\n",
      "current counts of ids: 56483\n",
      "current counts of ids: 56518\n",
      "current counts of ids: 56553\n",
      "current counts of ids: 56588\n",
      "current counts of ids: 56623\n",
      "current counts of ids: 56658\n",
      "current counts of ids: 56693\n",
      "current counts of ids: 56728\n",
      "current counts of ids: 56763\n",
      "current counts of ids: 56798\n",
      "current counts of ids: 56833\n",
      "current counts of ids: 56868\n",
      "current counts of ids: 56903\n",
      "current counts of ids: 56938\n",
      "current counts of ids: 56973\n",
      "current counts of ids: 57008\n",
      "current counts of ids: 57043\n",
      "current counts of ids: 57078\n",
      "current counts of ids: 57113\n",
      "current counts of ids: 57148\n",
      "current counts of ids: 57183\n",
      "current counts of ids: 57218\n",
      "current counts of ids: 57253\n",
      "current counts of ids: 57260\n",
      "旅行 标签爬取完毕\n",
      "current counts of ids: 57260\n",
      "========================\n",
      "current counts of ids: 57295\n",
      "current counts of ids: 57330\n",
      "current counts of ids: 57365\n",
      "current counts of ids: 57400\n",
      "current counts of ids: 57435\n",
      "current counts of ids: 57470\n",
      "current counts of ids: 57505\n",
      "current counts of ids: 57540\n",
      "current counts of ids: 57575\n",
      "current counts of ids: 57610\n",
      "current counts of ids: 57645\n",
      "current counts of ids: 57680\n",
      "current counts of ids: 57715\n",
      "current counts of ids: 57750\n",
      "current counts of ids: 57785\n",
      "current counts of ids: 57820\n",
      "current counts of ids: 57855\n",
      "current counts of ids: 57890\n",
      "current counts of ids: 57925\n",
      "current counts of ids: 57960\n",
      "current counts of ids: 57995\n",
      "current counts of ids: 58030\n",
      "current counts of ids: 58065\n",
      "current counts of ids: 58100\n",
      "current counts of ids: 58135\n",
      "current counts of ids: 58170\n",
      "current counts of ids: 58205\n",
      "current counts of ids: 58240\n",
      "current counts of ids: 58275\n",
      "current counts of ids: 58310\n",
      "current counts of ids: 58345\n",
      "current counts of ids: 58380\n",
      "current counts of ids: 58415\n",
      "current counts of ids: 58450\n",
      "current counts of ids: 58485\n",
      "current counts of ids: 58520\n",
      "current counts of ids: 58555\n",
      "current counts of ids: 58565\n",
      "古典 标签爬取完毕\n",
      "current counts of ids: 58565\n",
      "========================\n",
      "current counts of ids: 58600\n",
      "current counts of ids: 58635\n",
      "current counts of ids: 58670\n",
      "current counts of ids: 58705\n",
      "current counts of ids: 58740\n",
      "current counts of ids: 58775\n",
      "current counts of ids: 58810\n",
      "current counts of ids: 58845\n",
      "current counts of ids: 58880\n",
      "current counts of ids: 58915\n",
      "current counts of ids: 58950\n",
      "current counts of ids: 58985\n",
      "current counts of ids: 59020\n",
      "current counts of ids: 59055\n",
      "current counts of ids: 59090\n",
      "current counts of ids: 59125\n",
      "current counts of ids: 59160\n",
      "current counts of ids: 59195\n",
      "current counts of ids: 59230\n",
      "current counts of ids: 59265\n",
      "current counts of ids: 59300\n",
      "current counts of ids: 59335\n",
      "current counts of ids: 59370\n",
      "current counts of ids: 59405\n",
      "current counts of ids: 59440\n",
      "current counts of ids: 59475\n",
      "current counts of ids: 59510\n",
      "current counts of ids: 59545\n",
      "current counts of ids: 59580\n",
      "current counts of ids: 59615\n",
      "current counts of ids: 59650\n",
      "current counts of ids: 59685\n",
      "current counts of ids: 59720\n",
      "current counts of ids: 59755\n",
      "current counts of ids: 59790\n",
      "current counts of ids: 59825\n",
      "current counts of ids: 59860\n",
      "current counts of ids: 59866\n",
      "快乐 标签爬取完毕\n",
      "current counts of ids: 59866\n",
      "========================\n",
      "current counts of ids: 59901\n",
      "current counts of ids: 59936\n",
      "current counts of ids: 59971\n",
      "current counts of ids: 60006\n",
      "current counts of ids: 60041\n",
      "current counts of ids: 60076\n",
      "current counts of ids: 60111\n",
      "current counts of ids: 60146\n",
      "current counts of ids: 60181\n",
      "current counts of ids: 60216\n",
      "current counts of ids: 60251\n",
      "current counts of ids: 60286\n",
      "current counts of ids: 60321\n",
      "current counts of ids: 60356\n",
      "current counts of ids: 60391\n",
      "current counts of ids: 60426\n",
      "current counts of ids: 60461\n",
      "current counts of ids: 60496\n",
      "current counts of ids: 60531\n",
      "current counts of ids: 60566\n",
      "current counts of ids: 60601\n",
      "current counts of ids: 60636\n",
      "current counts of ids: 60671\n",
      "current counts of ids: 60706\n",
      "current counts of ids: 60741\n",
      "current counts of ids: 60776\n",
      "current counts of ids: 60811\n",
      "current counts of ids: 60846\n",
      "current counts of ids: 60881\n",
      "current counts of ids: 60916\n",
      "current counts of ids: 60951\n",
      "current counts of ids: 60986\n",
      "current counts of ids: 61021\n",
      "current counts of ids: 61056\n",
      "current counts of ids: 61091\n",
      "current counts of ids: 61126\n",
      "current counts of ids: 61161\n",
      "current counts of ids: 61169\n",
      "经典 标签爬取完毕\n",
      "current counts of ids: 61169\n",
      "========================\n",
      "current counts of ids: 61204\n",
      "current counts of ids: 61239\n",
      "current counts of ids: 61274\n",
      "current counts of ids: 61309\n",
      "current counts of ids: 61344\n",
      "current counts of ids: 61379\n",
      "current counts of ids: 61414\n",
      "current counts of ids: 61449\n",
      "current counts of ids: 61484\n",
      "current counts of ids: 61519\n",
      "current counts of ids: 61554\n",
      "current counts of ids: 61589\n",
      "current counts of ids: 61624\n",
      "current counts of ids: 61659\n",
      "current counts of ids: 61694\n",
      "current counts of ids: 61729\n",
      "current counts of ids: 61764\n",
      "current counts of ids: 61799\n",
      "current counts of ids: 61834\n",
      "current counts of ids: 61869\n",
      "current counts of ids: 61904\n",
      "current counts of ids: 61939\n",
      "current counts of ids: 61974\n",
      "current counts of ids: 62009\n",
      "current counts of ids: 62044\n",
      "current counts of ids: 62079\n",
      "current counts of ids: 62114\n",
      "current counts of ids: 62149\n",
      "current counts of ids: 62184\n",
      "current counts of ids: 62219\n",
      "current counts of ids: 62254\n",
      "current counts of ids: 62289\n",
      "current counts of ids: 62324\n",
      "current counts of ids: 62359\n",
      "current counts of ids: 62394\n",
      "current counts of ids: 62429\n",
      "current counts of ids: 62464\n",
      "current counts of ids: 62470\n",
      "散步 标签爬取完毕\n",
      "current counts of ids: 62470\n",
      "========================\n",
      "current counts of ids: 62505\n",
      "current counts of ids: 62540\n",
      "current counts of ids: 62575\n",
      "current counts of ids: 62610\n",
      "current counts of ids: 62645\n",
      "current counts of ids: 62680\n",
      "current counts of ids: 62715\n",
      "current counts of ids: 62750\n",
      "current counts of ids: 62785\n",
      "current counts of ids: 62820\n",
      "current counts of ids: 62855\n",
      "current counts of ids: 62890\n",
      "current counts of ids: 62925\n",
      "current counts of ids: 62960\n",
      "current counts of ids: 62995\n",
      "current counts of ids: 63030\n",
      "current counts of ids: 63065\n",
      "current counts of ids: 63100\n",
      "current counts of ids: 63135\n",
      "current counts of ids: 63170\n",
      "current counts of ids: 63205\n",
      "current counts of ids: 63240\n",
      "current counts of ids: 63275\n",
      "current counts of ids: 63310\n",
      "current counts of ids: 63345\n",
      "current counts of ids: 63380\n",
      "current counts of ids: 63415\n",
      "current counts of ids: 63450\n",
      "current counts of ids: 63485\n",
      "current counts of ids: 63520\n",
      "current counts of ids: 63555\n",
      "current counts of ids: 63590\n",
      "current counts of ids: 63625\n",
      "current counts of ids: 63660\n",
      "current counts of ids: 63695\n",
      "current counts of ids: 63730\n",
      "current counts of ids: 63765\n",
      "current counts of ids: 63768\n",
      "民族 标签爬取完毕\n",
      "current counts of ids: 63768\n",
      "========================\n",
      "current counts of ids: 63803\n",
      "current counts of ids: 63838\n",
      "current counts of ids: 63873\n",
      "current counts of ids: 63908\n",
      "current counts of ids: 63943\n",
      "current counts of ids: 63978\n",
      "current counts of ids: 64013\n",
      "current counts of ids: 64048\n",
      "current counts of ids: 64083\n",
      "current counts of ids: 64118\n",
      "current counts of ids: 64153\n",
      "current counts of ids: 64188\n",
      "current counts of ids: 64223\n",
      "current counts of ids: 64258\n",
      "current counts of ids: 64293\n",
      "current counts of ids: 64328\n",
      "current counts of ids: 64363\n",
      "current counts of ids: 64398\n",
      "current counts of ids: 64433\n",
      "current counts of ids: 64468\n",
      "current counts of ids: 64503\n",
      "current counts of ids: 64538\n",
      "current counts of ids: 64573\n",
      "current counts of ids: 64608\n",
      "current counts of ids: 64643\n",
      "current counts of ids: 64678\n",
      "current counts of ids: 64713\n",
      "current counts of ids: 64748\n",
      "current counts of ids: 64783\n",
      "current counts of ids: 64818\n",
      "current counts of ids: 64853\n",
      "current counts of ids: 64888\n",
      "current counts of ids: 64923\n",
      "current counts of ids: 64958\n",
      "current counts of ids: 64993\n",
      "current counts of ids: 65028\n",
      "current counts of ids: 65063\n",
      "current counts of ids: 65063\n",
      "翻唱 标签爬取完毕\n",
      "current counts of ids: 65063\n",
      "========================\n",
      "current counts of ids: 65098\n",
      "current counts of ids: 65133\n",
      "current counts of ids: 65168\n",
      "current counts of ids: 65203\n",
      "current counts of ids: 65238\n",
      "current counts of ids: 65273\n",
      "current counts of ids: 65308\n",
      "current counts of ids: 65343\n",
      "current counts of ids: 65378\n",
      "current counts of ids: 65413\n",
      "current counts of ids: 65448\n",
      "current counts of ids: 65483\n",
      "current counts of ids: 65518\n",
      "current counts of ids: 65553\n",
      "current counts of ids: 65588\n",
      "current counts of ids: 65623\n",
      "current counts of ids: 65658\n",
      "current counts of ids: 65693\n",
      "current counts of ids: 65728\n",
      "current counts of ids: 65763\n",
      "current counts of ids: 65798\n",
      "current counts of ids: 65833\n",
      "current counts of ids: 65868\n",
      "current counts of ids: 65903\n",
      "current counts of ids: 65938\n",
      "current counts of ids: 65973\n",
      "current counts of ids: 66008\n",
      "current counts of ids: 66043\n",
      "current counts of ids: 66078\n",
      "current counts of ids: 66113\n",
      "current counts of ids: 66148\n",
      "current counts of ids: 66183\n",
      "current counts of ids: 66218\n",
      "current counts of ids: 66253\n",
      "current counts of ids: 66288\n",
      "current counts of ids: 66323\n",
      "current counts of ids: 66358\n",
      "current counts of ids: 66363\n",
      "酒吧 标签爬取完毕\n",
      "current counts of ids: 66363\n",
      "========================\n",
      "current counts of ids: 66398\n",
      "current counts of ids: 66433\n",
      "current counts of ids: 66468\n",
      "current counts of ids: 66503\n",
      "current counts of ids: 66538\n",
      "current counts of ids: 66573\n",
      "current counts of ids: 66608\n",
      "current counts of ids: 66643\n",
      "current counts of ids: 66678\n",
      "current counts of ids: 66713\n",
      "current counts of ids: 66748\n",
      "current counts of ids: 66783\n",
      "current counts of ids: 66818\n",
      "current counts of ids: 66853\n",
      "current counts of ids: 66888\n",
      "current counts of ids: 66923\n",
      "current counts of ids: 66958\n",
      "current counts of ids: 66993\n",
      "current counts of ids: 67028\n",
      "current counts of ids: 67063\n",
      "current counts of ids: 67098\n",
      "current counts of ids: 67133\n",
      "current counts of ids: 67168\n",
      "current counts of ids: 67203\n",
      "current counts of ids: 67238\n",
      "current counts of ids: 67273\n",
      "current counts of ids: 67308\n",
      "current counts of ids: 67343\n",
      "current counts of ids: 67378\n",
      "current counts of ids: 67413\n",
      "current counts of ids: 67448\n",
      "current counts of ids: 67483\n",
      "current counts of ids: 67518\n",
      "current counts of ids: 67553\n",
      "current counts of ids: 67588\n",
      "current counts of ids: 67623\n",
      "current counts of ids: 67658\n",
      "current counts of ids: 67664\n",
      "安静 标签爬取完毕\n",
      "current counts of ids: 67664\n",
      "========================\n",
      "current counts of ids: 67699\n",
      "current counts of ids: 67734\n",
      "current counts of ids: 67769\n",
      "current counts of ids: 67804\n",
      "current counts of ids: 67839\n",
      "current counts of ids: 67874\n",
      "current counts of ids: 67909\n",
      "current counts of ids: 67944\n",
      "current counts of ids: 67979\n",
      "current counts of ids: 68014\n",
      "current counts of ids: 68049\n",
      "current counts of ids: 68084\n",
      "current counts of ids: 68119\n",
      "current counts of ids: 68154\n",
      "current counts of ids: 68189\n",
      "current counts of ids: 68224\n",
      "current counts of ids: 68259\n",
      "current counts of ids: 68294\n",
      "current counts of ids: 68329\n",
      "current counts of ids: 68364\n",
      "current counts of ids: 68399\n",
      "current counts of ids: 68434\n",
      "current counts of ids: 68469\n",
      "current counts of ids: 68504\n",
      "current counts of ids: 68539\n",
      "current counts of ids: 68574\n",
      "current counts of ids: 68609\n",
      "current counts of ids: 68644\n",
      "current counts of ids: 68679\n",
      "current counts of ids: 68714\n",
      "current counts of ids: 68749\n",
      "current counts of ids: 68784\n",
      "current counts of ids: 68819\n",
      "current counts of ids: 68854\n",
      "current counts of ids: 68889\n",
      "current counts of ids: 68924\n",
      "current counts of ids: 68959\n",
      "current counts of ids: 68964\n",
      "吉他 标签爬取完毕\n",
      "current counts of ids: 68964\n",
      "========================\n",
      "current counts of ids: 68999\n",
      "current counts of ids: 69034\n",
      "current counts of ids: 69069\n",
      "current counts of ids: 69104\n",
      "current counts of ids: 69139\n",
      "current counts of ids: 69174\n",
      "current counts of ids: 69209\n",
      "current counts of ids: 69244\n",
      "current counts of ids: 69279\n",
      "current counts of ids: 69314\n",
      "current counts of ids: 69349\n",
      "current counts of ids: 69384\n",
      "current counts of ids: 69419\n",
      "current counts of ids: 69454\n",
      "current counts of ids: 69489\n",
      "current counts of ids: 69524\n",
      "current counts of ids: 69559\n",
      "current counts of ids: 69594\n",
      "current counts of ids: 69629\n",
      "current counts of ids: 69664\n",
      "current counts of ids: 69699\n",
      "current counts of ids: 69734\n",
      "current counts of ids: 69769\n",
      "current counts of ids: 69804\n",
      "current counts of ids: 69839\n",
      "current counts of ids: 69874\n",
      "current counts of ids: 69909\n",
      "current counts of ids: 69944\n",
      "current counts of ids: 69979\n",
      "current counts of ids: 70014\n",
      "current counts of ids: 70049\n",
      "current counts of ids: 70084\n",
      "current counts of ids: 70119\n",
      "current counts of ids: 70154\n",
      "current counts of ids: 70189\n",
      "current counts of ids: 70224\n",
      "current counts of ids: 70259\n",
      "current counts of ids: 70263\n",
      "英伦 标签爬取完毕\n",
      "current counts of ids: 70263\n",
      "========================\n",
      "current counts of ids: 70298\n",
      "current counts of ids: 70333\n",
      "current counts of ids: 70368\n",
      "current counts of ids: 70403\n",
      "current counts of ids: 70438\n",
      "current counts of ids: 70473\n",
      "current counts of ids: 70508\n",
      "current counts of ids: 70543\n",
      "current counts of ids: 70578\n",
      "current counts of ids: 70613\n",
      "current counts of ids: 70648\n",
      "current counts of ids: 70683\n",
      "current counts of ids: 70718\n",
      "current counts of ids: 70753\n",
      "current counts of ids: 70788\n",
      "current counts of ids: 70823\n",
      "current counts of ids: 70858\n",
      "current counts of ids: 70893\n",
      "current counts of ids: 70928\n",
      "current counts of ids: 70963\n",
      "current counts of ids: 70998\n",
      "current counts of ids: 71033\n",
      "current counts of ids: 71068\n",
      "current counts of ids: 71103\n",
      "current counts of ids: 71138\n",
      "current counts of ids: 71173\n",
      "current counts of ids: 71208\n",
      "current counts of ids: 71243\n",
      "current counts of ids: 71278\n",
      "current counts of ids: 71313\n",
      "current counts of ids: 71348\n",
      "current counts of ids: 71383\n",
      "current counts of ids: 71418\n",
      "current counts of ids: 71453\n",
      "current counts of ids: 71488\n",
      "current counts of ids: 71523\n",
      "current counts of ids: 71558\n",
      "current counts of ids: 71561\n",
      "思念 标签爬取完毕\n",
      "current counts of ids: 71561\n",
      "========================\n",
      "current counts of ids: 71596\n",
      "current counts of ids: 71631\n",
      "current counts of ids: 71666\n",
      "current counts of ids: 71701\n",
      "current counts of ids: 71736\n",
      "current counts of ids: 71771\n",
      "current counts of ids: 71806\n",
      "current counts of ids: 71841\n",
      "current counts of ids: 71876\n",
      "current counts of ids: 71911\n",
      "current counts of ids: 71946\n",
      "current counts of ids: 71981\n",
      "current counts of ids: 72016\n",
      "current counts of ids: 72051\n",
      "current counts of ids: 72086\n",
      "current counts of ids: 72121\n",
      "current counts of ids: 72156\n",
      "current counts of ids: 72191\n",
      "current counts of ids: 72226\n",
      "current counts of ids: 72261\n",
      "current counts of ids: 72296\n",
      "current counts of ids: 72331\n",
      "current counts of ids: 72366\n",
      "current counts of ids: 72401\n",
      "current counts of ids: 72436\n",
      "current counts of ids: 72471\n",
      "current counts of ids: 72506\n",
      "current counts of ids: 72541\n",
      "current counts of ids: 72576\n",
      "current counts of ids: 72611\n",
      "current counts of ids: 72646\n",
      "current counts of ids: 72681\n",
      "current counts of ids: 72716\n",
      "current counts of ids: 72751\n",
      "current counts of ids: 72786\n",
      "current counts of ids: 72821\n",
      "current counts of ids: 72856\n",
      "current counts of ids: 72860\n",
      "金属 标签爬取完毕\n",
      "current counts of ids: 72860\n",
      "========================\n",
      "current counts of ids: 72895\n",
      "current counts of ids: 72930\n",
      "current counts of ids: 72965\n",
      "current counts of ids: 73000\n",
      "current counts of ids: 73035\n",
      "current counts of ids: 73070\n",
      "current counts of ids: 73105\n",
      "current counts of ids: 73140\n",
      "current counts of ids: 73175\n",
      "current counts of ids: 73210\n",
      "current counts of ids: 73245\n",
      "current counts of ids: 73280\n",
      "current counts of ids: 73315\n",
      "current counts of ids: 73350\n",
      "current counts of ids: 73385\n",
      "current counts of ids: 73420\n",
      "current counts of ids: 73455\n",
      "current counts of ids: 73490\n",
      "current counts of ids: 73525\n",
      "current counts of ids: 73560\n",
      "current counts of ids: 73595\n",
      "current counts of ids: 73630\n",
      "current counts of ids: 73665\n",
      "current counts of ids: 73700\n",
      "current counts of ids: 73735\n",
      "current counts of ids: 73770\n",
      "current counts of ids: 73805\n",
      "current counts of ids: 73840\n",
      "current counts of ids: 73875\n",
      "current counts of ids: 73910\n",
      "current counts of ids: 73945\n",
      "current counts of ids: 73980\n",
      "current counts of ids: 74015\n",
      "current counts of ids: 74050\n",
      "current counts of ids: 74085\n",
      "current counts of ids: 74120\n",
      "current counts of ids: 74155\n",
      "current counts of ids: 74160\n",
      "钢琴 标签爬取完毕\n",
      "current counts of ids: 74160\n",
      "========================\n",
      "current counts of ids: 74195\n",
      "current counts of ids: 74230\n",
      "current counts of ids: 74265\n",
      "current counts of ids: 74300\n",
      "current counts of ids: 74335\n",
      "current counts of ids: 74370\n",
      "current counts of ids: 74405\n",
      "current counts of ids: 74440\n",
      "current counts of ids: 74475\n",
      "current counts of ids: 74510\n",
      "current counts of ids: 74545\n",
      "current counts of ids: 74580\n",
      "current counts of ids: 74615\n",
      "current counts of ids: 74650\n",
      "current counts of ids: 74685\n",
      "current counts of ids: 74720\n",
      "current counts of ids: 74755\n",
      "current counts of ids: 74790\n",
      "current counts of ids: 74825\n",
      "current counts of ids: 74860\n",
      "current counts of ids: 74895\n",
      "current counts of ids: 74930\n",
      "current counts of ids: 74965\n",
      "current counts of ids: 75000\n",
      "current counts of ids: 75035\n",
      "current counts of ids: 75070\n",
      "current counts of ids: 75105\n",
      "current counts of ids: 75140\n",
      "current counts of ids: 75175\n",
      "current counts of ids: 75210\n",
      "current counts of ids: 75245\n",
      "current counts of ids: 75280\n",
      "current counts of ids: 75315\n",
      "current counts of ids: 75350\n",
      "current counts of ids: 75385\n",
      "current counts of ids: 75420\n",
      "current counts of ids: 75455\n",
      "current counts of ids: 75460\n",
      "器乐 标签爬取完毕\n",
      "current counts of ids: 75460\n",
      "========================\n",
      "current counts of ids: 75495\n",
      "current counts of ids: 75530\n",
      "current counts of ids: 75565\n",
      "current counts of ids: 75600\n",
      "current counts of ids: 75635\n",
      "current counts of ids: 75670\n",
      "current counts of ids: 75705\n",
      "current counts of ids: 75740\n",
      "current counts of ids: 75775\n",
      "current counts of ids: 75810\n",
      "current counts of ids: 75845\n",
      "current counts of ids: 75880\n",
      "current counts of ids: 75915\n",
      "current counts of ids: 75950\n",
      "current counts of ids: 75985\n",
      "current counts of ids: 76020\n",
      "current counts of ids: 76055\n",
      "current counts of ids: 76090\n",
      "current counts of ids: 76125\n",
      "current counts of ids: 76160\n",
      "current counts of ids: 76195\n",
      "current counts of ids: 76230\n",
      "current counts of ids: 76265\n",
      "current counts of ids: 76300\n",
      "current counts of ids: 76335\n",
      "current counts of ids: 76370\n",
      "current counts of ids: 76405\n",
      "current counts of ids: 76440\n",
      "current counts of ids: 76475\n",
      "current counts of ids: 76510\n",
      "current counts of ids: 76545\n",
      "current counts of ids: 76580\n",
      "current counts of ids: 76615\n",
      "current counts of ids: 76650\n",
      "current counts of ids: 76685\n",
      "current counts of ids: 76720\n",
      "current counts of ids: 76755\n",
      "current counts of ids: 76760\n",
      "朋克 标签爬取完毕\n",
      "current counts of ids: 76760\n",
      "========================\n",
      "current counts of ids: 76795\n",
      "current counts of ids: 76830\n",
      "current counts of ids: 76865\n",
      "current counts of ids: 76900\n",
      "current counts of ids: 76935\n",
      "current counts of ids: 76970\n",
      "current counts of ids: 77005\n",
      "current counts of ids: 77040\n",
      "current counts of ids: 77075\n",
      "current counts of ids: 77110\n",
      "current counts of ids: 77145\n",
      "current counts of ids: 77180\n",
      "current counts of ids: 77215\n",
      "current counts of ids: 77250\n",
      "current counts of ids: 77285\n",
      "current counts of ids: 77320\n",
      "current counts of ids: 77355\n",
      "current counts of ids: 77390\n",
      "current counts of ids: 77425\n",
      "current counts of ids: 77460\n",
      "current counts of ids: 77495\n",
      "current counts of ids: 77530\n",
      "current counts of ids: 77565\n",
      "current counts of ids: 77600\n",
      "current counts of ids: 77635\n",
      "current counts of ids: 77670\n",
      "current counts of ids: 77705\n",
      "current counts of ids: 77740\n",
      "current counts of ids: 77775\n",
      "current counts of ids: 77810\n",
      "current counts of ids: 77845\n",
      "current counts of ids: 77880\n",
      "current counts of ids: 77915\n",
      "current counts of ids: 77950\n",
      "current counts of ids: 77985\n",
      "current counts of ids: 78020\n",
      "current counts of ids: 78055\n",
      "current counts of ids: 78059\n",
      "蓝调 标签爬取完毕\n",
      "current counts of ids: 78059\n",
      "========================\n",
      "current counts of ids: 78094\n",
      "current counts of ids: 78129\n",
      "current counts of ids: 78164\n",
      "current counts of ids: 78199\n",
      "current counts of ids: 78234\n",
      "current counts of ids: 78269\n",
      "current counts of ids: 78304\n",
      "current counts of ids: 78339\n",
      "current counts of ids: 78374\n",
      "current counts of ids: 78409\n",
      "current counts of ids: 78444\n",
      "current counts of ids: 78479\n",
      "current counts of ids: 78514\n",
      "current counts of ids: 78549\n",
      "current counts of ids: 78584\n",
      "current counts of ids: 78619\n",
      "current counts of ids: 78654\n",
      "current counts of ids: 78689\n",
      "current counts of ids: 78724\n",
      "current counts of ids: 78759\n",
      "current counts of ids: 78794\n",
      "current counts of ids: 78829\n",
      "current counts of ids: 78864\n",
      "current counts of ids: 78899\n",
      "current counts of ids: 78934\n",
      "current counts of ids: 78969\n",
      "current counts of ids: 79004\n",
      "current counts of ids: 79039\n",
      "current counts of ids: 79074\n",
      "current counts of ids: 79109\n",
      "current counts of ids: 79144\n",
      "current counts of ids: 79179\n",
      "current counts of ids: 79214\n",
      "current counts of ids: 79249\n",
      "current counts of ids: 79284\n",
      "current counts of ids: 79319\n",
      "current counts of ids: 79354\n",
      "current counts of ids: 79361\n",
      "榜单 标签爬取完毕\n",
      "current counts of ids: 79361\n",
      "========================\n",
      "current counts of ids: 79396\n",
      "current counts of ids: 79431\n",
      "current counts of ids: 79466\n",
      "current counts of ids: 79501\n",
      "current counts of ids: 79536\n",
      "current counts of ids: 79571\n",
      "current counts of ids: 79606\n",
      "current counts of ids: 79641\n",
      "current counts of ids: 79676\n",
      "current counts of ids: 79711\n",
      "current counts of ids: 79746\n",
      "current counts of ids: 79781\n",
      "current counts of ids: 79816\n",
      "current counts of ids: 79851\n",
      "current counts of ids: 79886\n",
      "current counts of ids: 79921\n",
      "current counts of ids: 79956\n",
      "current counts of ids: 79991\n",
      "current counts of ids: 80026\n",
      "current counts of ids: 80061\n",
      "current counts of ids: 80096\n",
      "current counts of ids: 80131\n",
      "current counts of ids: 80166\n",
      "current counts of ids: 80201\n",
      "current counts of ids: 80236\n",
      "current counts of ids: 80271\n",
      "current counts of ids: 80306\n",
      "current counts of ids: 80341\n",
      "current counts of ids: 80376\n",
      "current counts of ids: 80411\n",
      "current counts of ids: 80446\n",
      "current counts of ids: 80481\n",
      "current counts of ids: 80516\n",
      "current counts of ids: 80551\n",
      "current counts of ids: 80586\n",
      "current counts of ids: 80621\n",
      "current counts of ids: 80656\n",
      "current counts of ids: 80659\n",
      "00后 标签爬取完毕\n",
      "current counts of ids: 80659\n",
      "========================\n",
      "current counts of ids: 80694\n",
      "current counts of ids: 80729\n",
      "current counts of ids: 80764\n",
      "current counts of ids: 80799\n",
      "current counts of ids: 80834\n",
      "current counts of ids: 80869\n",
      "current counts of ids: 80904\n",
      "current counts of ids: 80939\n",
      "current counts of ids: 80974\n",
      "current counts of ids: 81009\n",
      "current counts of ids: 81044\n",
      "current counts of ids: 81079\n",
      "current counts of ids: 81114\n",
      "current counts of ids: 81149\n",
      "current counts of ids: 81184\n",
      "current counts of ids: 81219\n",
      "current counts of ids: 81254\n",
      "current counts of ids: 81289\n",
      "current counts of ids: 81324\n",
      "current counts of ids: 81359\n",
      "current counts of ids: 81394\n",
      "current counts of ids: 81429\n",
      "current counts of ids: 81464\n",
      "current counts of ids: 81499\n",
      "current counts of ids: 81534\n",
      "current counts of ids: 81569\n",
      "current counts of ids: 81604\n",
      "current counts of ids: 81639\n",
      "current counts of ids: 81674\n",
      "current counts of ids: 81709\n",
      "current counts of ids: 81744\n",
      "current counts of ids: 81779\n",
      "current counts of ids: 81814\n",
      "current counts of ids: 81849\n",
      "current counts of ids: 81884\n",
      "current counts of ids: 81919\n",
      "current counts of ids: 81954\n",
      "current counts of ids: 81959\n",
      "雷鬼 标签爬取完毕\n",
      "current counts of ids: 81959\n",
      "========================\n",
      "current counts of ids: 81994\n",
      "current counts of ids: 82029\n",
      "current counts of ids: 82064\n",
      "current counts of ids: 82099\n",
      "current counts of ids: 82134\n",
      "current counts of ids: 82169\n",
      "current counts of ids: 82204\n",
      "current counts of ids: 82239\n",
      "current counts of ids: 82274\n",
      "current counts of ids: 82309\n",
      "current counts of ids: 82344\n",
      "current counts of ids: 82379\n",
      "current counts of ids: 82414\n",
      "current counts of ids: 82449\n",
      "current counts of ids: 82484\n",
      "current counts of ids: 82519\n",
      "current counts of ids: 82554\n",
      "current counts of ids: 82589\n",
      "current counts of ids: 82624\n",
      "current counts of ids: 82659\n",
      "current counts of ids: 82694\n",
      "current counts of ids: 82729\n",
      "current counts of ids: 82764\n",
      "current counts of ids: 82799\n",
      "current counts of ids: 82834\n",
      "current counts of ids: 82869\n",
      "current counts of ids: 82904\n",
      "current counts of ids: 82939\n",
      "current counts of ids: 82974\n",
      "current counts of ids: 83009\n",
      "current counts of ids: 83044\n",
      "current counts of ids: 83079\n",
      "current counts of ids: 83114\n",
      "current counts of ids: 83149\n",
      "current counts of ids: 83184\n",
      "current counts of ids: 83219\n",
      "current counts of ids: 83254\n",
      "current counts of ids: 83259\n",
      "世界音乐 标签爬取完毕\n",
      "current counts of ids: 83259\n",
      "========================\n",
      "current counts of ids: 83294\n",
      "current counts of ids: 83329\n",
      "current counts of ids: 83364\n",
      "current counts of ids: 83399\n",
      "current counts of ids: 83434\n",
      "current counts of ids: 83469\n",
      "current counts of ids: 83504\n",
      "current counts of ids: 83539\n",
      "current counts of ids: 83574\n",
      "current counts of ids: 83609\n",
      "current counts of ids: 83644\n",
      "current counts of ids: 83679\n",
      "current counts of ids: 83714\n",
      "current counts of ids: 83749\n",
      "current counts of ids: 83784\n",
      "current counts of ids: 83819\n",
      "current counts of ids: 83854\n",
      "current counts of ids: 83889\n",
      "current counts of ids: 83924\n",
      "current counts of ids: 83959\n",
      "current counts of ids: 83994\n",
      "current counts of ids: 84029\n",
      "current counts of ids: 84064\n",
      "current counts of ids: 84099\n",
      "current counts of ids: 84134\n",
      "current counts of ids: 84169\n",
      "current counts of ids: 84204\n",
      "current counts of ids: 84239\n",
      "current counts of ids: 84274\n",
      "current counts of ids: 84309\n",
      "current counts of ids: 84344\n",
      "current counts of ids: 84379\n",
      "current counts of ids: 84414\n",
      "current counts of ids: 84449\n",
      "current counts of ids: 84484\n",
      "current counts of ids: 84519\n",
      "current counts of ids: 84554\n",
      "current counts of ids: 84559\n",
      "拉丁 标签爬取完毕\n",
      "current counts of ids: 84559\n",
      "========================\n",
      "current counts of ids: 84594\n",
      "current counts of ids: 84629\n",
      "current counts of ids: 84664\n",
      "current counts of ids: 84699\n",
      "current counts of ids: 84734\n",
      "current counts of ids: 84769\n",
      "current counts of ids: 84804\n",
      "current counts of ids: 84839\n",
      "current counts of ids: 84874\n",
      "current counts of ids: 84909\n",
      "current counts of ids: 84944\n",
      "current counts of ids: 84979\n",
      "current counts of ids: 85014\n",
      "current counts of ids: 85049\n",
      "current counts of ids: 85084\n",
      "current counts of ids: 85119\n",
      "current counts of ids: 85154\n",
      "current counts of ids: 85189\n",
      "current counts of ids: 85224\n",
      "current counts of ids: 85259\n",
      "current counts of ids: 85294\n",
      "current counts of ids: 85329\n",
      "current counts of ids: 85364\n",
      "current counts of ids: 85399\n",
      "current counts of ids: 85434\n",
      "current counts of ids: 85469\n",
      "current counts of ids: 85504\n",
      "current counts of ids: 85539\n",
      "current counts of ids: 85574\n",
      "current counts of ids: 85609\n",
      "current counts of ids: 85644\n",
      "current counts of ids: 85679\n",
      "current counts of ids: 85714\n",
      "current counts of ids: 85749\n",
      "current counts of ids: 85784\n",
      "current counts of ids: 85819\n",
      "current counts of ids: 85854\n",
      "current counts of ids: 85859\n",
      "New Age 标签爬取完毕\n",
      "current counts of ids: 85859\n",
      "========================\n",
      "current counts of ids: 85894\n",
      "current counts of ids: 85929\n",
      "current counts of ids: 85964\n",
      "current counts of ids: 85999\n",
      "current counts of ids: 86034\n",
      "current counts of ids: 86069\n",
      "current counts of ids: 86104\n",
      "current counts of ids: 86139\n",
      "current counts of ids: 86174\n",
      "current counts of ids: 86209\n",
      "current counts of ids: 86244\n",
      "current counts of ids: 86279\n",
      "current counts of ids: 86314\n",
      "current counts of ids: 86349\n",
      "current counts of ids: 86384\n",
      "current counts of ids: 86419\n",
      "current counts of ids: 86454\n",
      "current counts of ids: 86489\n",
      "current counts of ids: 86524\n",
      "current counts of ids: 86559\n",
      "current counts of ids: 86594\n",
      "current counts of ids: 86629\n",
      "current counts of ids: 86664\n",
      "current counts of ids: 86699\n",
      "current counts of ids: 86734\n",
      "current counts of ids: 86769\n",
      "current counts of ids: 86804\n",
      "current counts of ids: 86839\n",
      "current counts of ids: 86874\n",
      "current counts of ids: 86909\n",
      "current counts of ids: 86944\n",
      "current counts of ids: 86979\n",
      "current counts of ids: 87014\n",
      "current counts of ids: 87049\n",
      "current counts of ids: 87084\n",
      "current counts of ids: 87119\n",
      "current counts of ids: 87154\n",
      "current counts of ids: 87159\n",
      "古风 标签爬取完毕\n",
      "current counts of ids: 87159\n",
      "========================\n",
      "current counts of ids: 87194\n",
      "current counts of ids: 87229\n",
      "current counts of ids: 87264\n",
      "current counts of ids: 87299\n",
      "current counts of ids: 87334\n",
      "current counts of ids: 87369\n",
      "current counts of ids: 87404\n",
      "current counts of ids: 87439\n",
      "current counts of ids: 87474\n",
      "current counts of ids: 87509\n",
      "current counts of ids: 87544\n",
      "current counts of ids: 87579\n",
      "current counts of ids: 87614\n",
      "current counts of ids: 87649\n",
      "current counts of ids: 87684\n",
      "current counts of ids: 87719\n",
      "current counts of ids: 87754\n",
      "current counts of ids: 87789\n",
      "current counts of ids: 87824\n",
      "current counts of ids: 87859\n",
      "current counts of ids: 87894\n",
      "current counts of ids: 87929\n",
      "current counts of ids: 87964\n",
      "current counts of ids: 87999\n",
      "current counts of ids: 88034\n",
      "current counts of ids: 88069\n",
      "current counts of ids: 88104\n",
      "current counts of ids: 88139\n",
      "current counts of ids: 88174\n",
      "current counts of ids: 88209\n",
      "current counts of ids: 88244\n",
      "current counts of ids: 88279\n",
      "current counts of ids: 88314\n",
      "current counts of ids: 88349\n",
      "current counts of ids: 88384\n",
      "current counts of ids: 88419\n",
      "current counts of ids: 88454\n",
      "current counts of ids: 88460\n",
      "后摇 标签爬取完毕\n",
      "current counts of ids: 88460\n",
      "========================\n",
      "current counts of ids: 88495\n",
      "current counts of ids: 88530\n",
      "current counts of ids: 88565\n",
      "current counts of ids: 88600\n",
      "current counts of ids: 88635\n",
      "current counts of ids: 88670\n",
      "current counts of ids: 88705\n",
      "current counts of ids: 88740\n",
      "current counts of ids: 88775\n",
      "current counts of ids: 88810\n",
      "current counts of ids: 88845\n",
      "current counts of ids: 88880\n",
      "current counts of ids: 88915\n",
      "current counts of ids: 88950\n",
      "current counts of ids: 88985\n",
      "current counts of ids: 89020\n",
      "current counts of ids: 89055\n",
      "current counts of ids: 89090\n",
      "current counts of ids: 89125\n",
      "current counts of ids: 89160\n",
      "current counts of ids: 89195\n",
      "current counts of ids: 89230\n",
      "current counts of ids: 89265\n",
      "current counts of ids: 89300\n",
      "current counts of ids: 89335\n",
      "current counts of ids: 89370\n",
      "current counts of ids: 89405\n",
      "current counts of ids: 89440\n",
      "current counts of ids: 89475\n",
      "current counts of ids: 89510\n",
      "current counts of ids: 89545\n",
      "current counts of ids: 89580\n",
      "current counts of ids: 89615\n",
      "current counts of ids: 89650\n",
      "current counts of ids: 89685\n",
      "current counts of ids: 89720\n",
      "current counts of ids: 89755\n",
      "current counts of ids: 89761\n",
      "Bossa Nova 标签爬取完毕\n",
      "current counts of ids: 89761\n",
      "========================\n"
     ]
    }
   ],
   "source": [
    "# 根据标签爬取所有歌单id\n",
    "for item in all_category:\n",
    "    get_playlist_ids(item)"
   ]
  },
  {
   "cell_type": "code",
   "execution_count": 272,
   "metadata": {},
   "outputs": [
    {
     "data": {
      "text/plain": [
       "89761"
      ]
     },
     "execution_count": 272,
     "metadata": {},
     "output_type": "execute_result"
    }
   ],
   "source": [
    "len(play_list_ids)"
   ]
  },
  {
   "cell_type": "code",
   "execution_count": 271,
   "metadata": {},
   "outputs": [],
   "source": [
    "# 将可用ip写入到json文件\n",
    "filename = 'playlist_ids.json'\n",
    "with open(filename, 'w') as fw:\n",
    "    json.dump(play_list_ids, fw)"
   ]
  },
  {
   "cell_type": "markdown",
   "metadata": {},
   "source": [
    "# 根据歌单id爬取歌单详细数据"
   ]
  },
  {
   "cell_type": "code",
   "execution_count": 38,
   "metadata": {},
   "outputs": [],
   "source": [
    "# 加载所有歌单id\n",
    "filename = 'playlist_ids.json'\n",
    "with open(filename) as f:\n",
    "    all_playlist_ids = json.load(f)"
   ]
  },
  {
   "cell_type": "code",
   "execution_count": 39,
   "metadata": {},
   "outputs": [
    {
     "data": {
      "text/plain": [
       "89761"
      ]
     },
     "execution_count": 39,
     "metadata": {},
     "output_type": "execute_result"
    }
   ],
   "source": [
    "len(all_playlist_ids)"
   ]
  },
  {
   "cell_type": "code",
   "execution_count": 40,
   "metadata": {},
   "outputs": [],
   "source": [
    "class process_info:\n",
    "    # 处理失败的歌单id\n",
    "    failed_parse_ids = []"
   ]
  },
  {
   "cell_type": "code",
   "execution_count": 41,
   "metadata": {},
   "outputs": [],
   "source": [
    "# 请求头\n",
    "headers = {'User-Agent': 'Mozilla/5.0 (X11; Linux x86_64) AppleWebKit/537.36 (KHTML, like Gecko) Chrome/52.0.2743.116 Safari/537.36'}"
   ]
  },
  {
   "cell_type": "code",
   "execution_count": 9,
   "metadata": {},
   "outputs": [],
   "source": [
    "# 数据库连接与选择\n",
    "myclient = pymongo.MongoClient(\"mongodb://192.168.206.100:27017/\")\n",
    "springTest_db = myclient[\"springTest\"]\n",
    "mycol = springTest_db[\"test_play_list\"]"
   ]
  },
  {
   "cell_type": "code",
   "execution_count": 43,
   "metadata": {},
   "outputs": [],
   "source": [
    "# 将数据放入mongodb中\n",
    "def save_to_mongodb(info_dict):\n",
    "    try:\n",
    "        # 判断数据库是否已有该歌单\n",
    "        result_count = mycol.count_documents({'_id':info_dict.get('_id')})\n",
    "        if result_count == 0:\n",
    "            mycol.insert_one(info_dict)\n",
    "    except Exception as e:\n",
    "        print(\"mongdb Error: \" + e)"
   ]
  },
  {
   "cell_type": "code",
   "execution_count": 44,
   "metadata": {},
   "outputs": [],
   "source": [
    "# 处理歌单详细信息的json\n",
    "def parse_info_json(str_json, playlist_id):\n",
    "    # 将json转换为dict\n",
    "    data_dict = json.loads(str_json)\n",
    "    # 获取所有的歌曲id\n",
    "    track_ids = data_dict.get(\"playlist\").get(\"trackIds\")\n",
    "    song_ids = []\n",
    "    for track in track_ids:\n",
    "        song_id = track.get('id')\n",
    "        song_ids.append(song_id)\n",
    "    # 歌单的标签列表\n",
    "    tags_list = data_dict.get(\"playlist\").get(\"tags\")\n",
    "    # 歌单名称\n",
    "    name = data_dict.get(\"playlist\").get(\"name\")\n",
    "    # 歌单订阅数量\n",
    "    subscribedCount = data_dict.get(\"playlist\").get(\"subscribedCount\")\n",
    "    # 歌单播放数量\n",
    "    playCount = data_dict.get(\"playlist\").get(\"playCount\")\n",
    "    # 将数据封装成dict\n",
    "    playlist_info_dict = {\n",
    "        \"_id\": playlist_id,\n",
    "        \"song_ids\":song_ids,\n",
    "        \"tags_list\": tags_list,\n",
    "        \"name\": name,\n",
    "        \"subscribedCount\": subscribedCount,\n",
    "        \"playCount\": playCount,\n",
    "    }\n",
    "    return playlist_info_dict"
   ]
  },
  {
   "cell_type": "code",
   "execution_count": 60,
   "metadata": {},
   "outputs": [],
   "source": [
    "#获取首页该分类下面的歌单id\n",
    "def get_playlist_info(playlist_id):\n",
    "    start_url='https://autumnfish.cn/playlist/detail?id=' + playlist_id\n",
    "    try:        \n",
    "        # 随机抽取ip\n",
    "        ip = random.choice(current_ip_list)\n",
    "        proxies = {}\n",
    "        if ip.split(\":\")[0] == 'http':\n",
    "            proxies = {\n",
    "                'http': ip\n",
    "            }\n",
    "        else:\n",
    "            proxies = {\n",
    "                'https': ip\n",
    "            }\n",
    "        # 请求API获得json格式的字符串\n",
    "        str_json = rq.get(url=start_url, proxies=proxies, headers=headers)\n",
    "        # 解析数据\n",
    "        playlist_info_dict = parse_info_json(str_json.text, playlist_id)\n",
    "        # 将数据放入mongodb中\n",
    "        save_to_mongodb(playlist_info_dict)\n",
    "        # 随机间隔时间\n",
    "#         random_time = random.random()\n",
    "#         time.sleep(random_time * 2)\n",
    "    except Exception as e:\n",
    "        # 将处理失败的id添加入相应列表\n",
    "        process_info.failed_parse_ids.append(playlist_id)\n",
    "        print('Error: ' + str(e))"
   ]
  },
  {
   "cell_type": "code",
   "execution_count": 40,
   "metadata": {
    "collapsed": true,
    "jupyter": {
     "outputs_hidden": true
    }
   },
   "outputs": [
    {
     "ename": "NameError",
     "evalue": "name 'all_playlist_ids' is not defined",
     "output_type": "error",
     "traceback": [
      "\u001b[1;31m---------------------------------------------------------------------------\u001b[0m",
      "\u001b[1;31mNameError\u001b[0m                                 Traceback (most recent call last)",
      "\u001b[1;32m<ipython-input-40-4010605e804f>\u001b[0m in \u001b[0;36m<module>\u001b[1;34m\u001b[0m\n\u001b[1;32m----> 1\u001b[1;33m \u001b[0mlen\u001b[0m\u001b[1;33m(\u001b[0m\u001b[0mall_playlist_ids\u001b[0m\u001b[1;33m)\u001b[0m\u001b[1;33m\u001b[0m\u001b[1;33m\u001b[0m\u001b[0m\n\u001b[0m",
      "\u001b[1;31mNameError\u001b[0m: name 'all_playlist_ids' is not defined"
     ]
    }
   ],
   "source": [
    "len(all_playlist_ids)"
   ]
  },
  {
   "cell_type": "code",
   "execution_count": 65,
   "metadata": {
    "collapsed": true,
    "jupyter": {
     "outputs_hidden": true
    }
   },
   "outputs": [
    {
     "name": "stderr",
     "output_type": "stream",
     "text": [
      "Process 19606:  22%|████████████▏                                           | 19607/89761 [2:35:28<13:00:40,  1.50it/s]"
     ]
    },
    {
     "name": "stdout",
     "output_type": "stream",
     "text": [
      "Error: Expecting value: line 1 column 1 (char 0)\n"
     ]
    },
    {
     "name": "stderr",
     "output_type": "stream",
     "text": [
      "Process 19607:  22%|████████████▏                                           | 19608/89761 [2:35:28<10:12:22,  1.91it/s]"
     ]
    },
    {
     "name": "stdout",
     "output_type": "stream",
     "text": [
      "Error: Expecting value: line 1 column 1 (char 0)\n"
     ]
    },
    {
     "name": "stderr",
     "output_type": "stream",
     "text": [
      "Process 19608:  22%|████████████▍                                            | 19609/89761 [2:35:29<8:13:30,  2.37it/s]"
     ]
    },
    {
     "name": "stdout",
     "output_type": "stream",
     "text": [
      "Error: Expecting value: line 1 column 1 (char 0)\n"
     ]
    },
    {
     "name": "stderr",
     "output_type": "stream",
     "text": [
      "Process 19609:  22%|████████████▍                                            | 19610/89761 [2:35:29<6:48:53,  2.86it/s]"
     ]
    },
    {
     "name": "stdout",
     "output_type": "stream",
     "text": [
      "Error: Expecting value: line 1 column 1 (char 0)\n"
     ]
    },
    {
     "name": "stderr",
     "output_type": "stream",
     "text": [
      "Process 19610:  22%|████████████▍                                            | 19611/89761 [2:35:29<5:49:40,  3.34it/s]"
     ]
    },
    {
     "name": "stdout",
     "output_type": "stream",
     "text": [
      "Error: Expecting value: line 1 column 1 (char 0)\n"
     ]
    },
    {
     "name": "stderr",
     "output_type": "stream",
     "text": [
      "Process 19611:  22%|████████████▍                                            | 19612/89761 [2:35:29<5:09:37,  3.78it/s]"
     ]
    },
    {
     "name": "stdout",
     "output_type": "stream",
     "text": [
      "Error: Expecting value: line 1 column 1 (char 0)\n"
     ]
    },
    {
     "name": "stderr",
     "output_type": "stream",
     "text": [
      "Process 19612:  22%|████████████▍                                            | 19613/89761 [2:35:29<4:39:49,  4.18it/s]"
     ]
    },
    {
     "name": "stdout",
     "output_type": "stream",
     "text": [
      "Error: Expecting value: line 1 column 1 (char 0)\n"
     ]
    },
    {
     "name": "stderr",
     "output_type": "stream",
     "text": [
      "Process 19613:  22%|████████████▍                                            | 19614/89761 [2:35:29<4:23:10,  4.44it/s]"
     ]
    },
    {
     "name": "stdout",
     "output_type": "stream",
     "text": [
      "Error: Expecting value: line 1 column 1 (char 0)\n"
     ]
    },
    {
     "name": "stderr",
     "output_type": "stream",
     "text": [
      "Process 19614:  22%|████████████▍                                            | 19615/89761 [2:35:30<4:09:46,  4.68it/s]"
     ]
    },
    {
     "name": "stdout",
     "output_type": "stream",
     "text": [
      "Error: Expecting value: line 1 column 1 (char 0)\n"
     ]
    },
    {
     "name": "stderr",
     "output_type": "stream",
     "text": [
      "Process 19615:  22%|████████████▍                                            | 19616/89761 [2:35:30<4:00:44,  4.86it/s]"
     ]
    },
    {
     "name": "stdout",
     "output_type": "stream",
     "text": [
      "Error: Expecting value: line 1 column 1 (char 0)\n"
     ]
    },
    {
     "name": "stderr",
     "output_type": "stream",
     "text": [
      "Process 19616:  22%|████████████▍                                            | 19617/89761 [2:35:30<3:54:24,  4.99it/s]"
     ]
    },
    {
     "name": "stdout",
     "output_type": "stream",
     "text": [
      "Error: Expecting value: line 1 column 1 (char 0)\n"
     ]
    },
    {
     "name": "stderr",
     "output_type": "stream",
     "text": [
      "Process 19617:  22%|████████████▍                                            | 19618/89761 [2:35:30<3:47:52,  5.13it/s]"
     ]
    },
    {
     "name": "stdout",
     "output_type": "stream",
     "text": [
      "Error: Expecting value: line 1 column 1 (char 0)\n"
     ]
    },
    {
     "name": "stderr",
     "output_type": "stream",
     "text": [
      "Process 19618:  22%|████████████▍                                            | 19619/89761 [2:35:30<3:42:15,  5.26it/s]"
     ]
    },
    {
     "name": "stdout",
     "output_type": "stream",
     "text": [
      "Error: Expecting value: line 1 column 1 (char 0)\n"
     ]
    },
    {
     "name": "stderr",
     "output_type": "stream",
     "text": [
      "Process 19619:  22%|████████████▍                                            | 19620/89761 [2:35:31<3:39:43,  5.32it/s]"
     ]
    },
    {
     "name": "stdout",
     "output_type": "stream",
     "text": [
      "Error: Expecting value: line 1 column 1 (char 0)\n"
     ]
    },
    {
     "name": "stderr",
     "output_type": "stream",
     "text": [
      "Process 19620:  22%|████████████▍                                            | 19621/89761 [2:35:31<3:37:56,  5.36it/s]"
     ]
    },
    {
     "name": "stdout",
     "output_type": "stream",
     "text": [
      "Error: Expecting value: line 1 column 1 (char 0)\n"
     ]
    },
    {
     "name": "stderr",
     "output_type": "stream",
     "text": [
      "Process 19621:  22%|████████████▍                                            | 19622/89761 [2:35:31<3:36:41,  5.39it/s]"
     ]
    },
    {
     "name": "stdout",
     "output_type": "stream",
     "text": [
      "Error: Expecting value: line 1 column 1 (char 0)\n"
     ]
    },
    {
     "name": "stderr",
     "output_type": "stream",
     "text": [
      "Process 19622:  22%|████████████▍                                            | 19623/89761 [2:35:31<3:36:31,  5.40it/s]"
     ]
    },
    {
     "name": "stdout",
     "output_type": "stream",
     "text": [
      "Error: Expecting value: line 1 column 1 (char 0)\n"
     ]
    },
    {
     "name": "stderr",
     "output_type": "stream",
     "text": [
      "Process 19623:  22%|████████████▍                                            | 19624/89761 [2:35:31<3:37:06,  5.38it/s]"
     ]
    },
    {
     "name": "stdout",
     "output_type": "stream",
     "text": [
      "Error: Expecting value: line 1 column 1 (char 0)\n"
     ]
    },
    {
     "name": "stderr",
     "output_type": "stream",
     "text": [
      "Process 19624:  22%|████████████▍                                            | 19625/89761 [2:35:31<3:35:45,  5.42it/s]"
     ]
    },
    {
     "name": "stdout",
     "output_type": "stream",
     "text": [
      "Error: Expecting value: line 1 column 1 (char 0)\n"
     ]
    },
    {
     "name": "stderr",
     "output_type": "stream",
     "text": [
      "Process 19625:  22%|████████████▍                                            | 19626/89761 [2:35:32<3:34:27,  5.45it/s]"
     ]
    },
    {
     "name": "stdout",
     "output_type": "stream",
     "text": [
      "Error: Expecting value: line 1 column 1 (char 0)\n"
     ]
    },
    {
     "name": "stderr",
     "output_type": "stream",
     "text": [
      "Process 19626:  22%|████████████▍                                            | 19627/89761 [2:35:32<3:35:39,  5.42it/s]"
     ]
    },
    {
     "name": "stdout",
     "output_type": "stream",
     "text": [
      "Error: Expecting value: line 1 column 1 (char 0)\n"
     ]
    },
    {
     "name": "stderr",
     "output_type": "stream",
     "text": [
      "Process 19627:  22%|████████████▍                                            | 19628/89761 [2:35:32<3:37:32,  5.37it/s]"
     ]
    },
    {
     "name": "stdout",
     "output_type": "stream",
     "text": [
      "Error: Expecting value: line 1 column 1 (char 0)\n"
     ]
    },
    {
     "name": "stderr",
     "output_type": "stream",
     "text": [
      "Process 19628:  22%|████████████▍                                            | 19629/89761 [2:35:32<3:34:39,  5.45it/s]"
     ]
    },
    {
     "name": "stdout",
     "output_type": "stream",
     "text": [
      "Error: Expecting value: line 1 column 1 (char 0)\n"
     ]
    },
    {
     "name": "stderr",
     "output_type": "stream",
     "text": [
      "Process 19629:  22%|████████████▍                                            | 19630/89761 [2:35:32<3:35:26,  5.43it/s]"
     ]
    },
    {
     "name": "stdout",
     "output_type": "stream",
     "text": [
      "Error: Expecting value: line 1 column 1 (char 0)\n"
     ]
    },
    {
     "name": "stderr",
     "output_type": "stream",
     "text": [
      "Process 19630:  22%|████████████▍                                            | 19631/89761 [2:35:33<3:37:23,  5.38it/s]"
     ]
    },
    {
     "name": "stdout",
     "output_type": "stream",
     "text": [
      "Error: Expecting value: line 1 column 1 (char 0)\n"
     ]
    },
    {
     "name": "stderr",
     "output_type": "stream",
     "text": [
      "Process 19631:  22%|████████████▍                                            | 19632/89761 [2:35:33<3:36:39,  5.39it/s]"
     ]
    },
    {
     "name": "stdout",
     "output_type": "stream",
     "text": [
      "Error: Expecting value: line 1 column 1 (char 0)\n"
     ]
    },
    {
     "name": "stderr",
     "output_type": "stream",
     "text": [
      "Process 19632:  22%|████████████▍                                            | 19633/89761 [2:35:33<3:35:26,  5.43it/s]"
     ]
    },
    {
     "name": "stdout",
     "output_type": "stream",
     "text": [
      "Error: Expecting value: line 1 column 1 (char 0)\n"
     ]
    },
    {
     "name": "stderr",
     "output_type": "stream",
     "text": [
      "Process 19633:  22%|████████████▍                                            | 19634/89761 [2:35:33<3:35:38,  5.42it/s]"
     ]
    },
    {
     "name": "stdout",
     "output_type": "stream",
     "text": [
      "Error: Expecting value: line 1 column 1 (char 0)\n"
     ]
    },
    {
     "name": "stderr",
     "output_type": "stream",
     "text": [
      "Process 19634:  22%|████████████▍                                            | 19635/89761 [2:35:33<3:34:01,  5.46it/s]"
     ]
    },
    {
     "name": "stdout",
     "output_type": "stream",
     "text": [
      "Error: Expecting value: line 1 column 1 (char 0)\n"
     ]
    },
    {
     "name": "stderr",
     "output_type": "stream",
     "text": [
      "Process 19635:  22%|████████████▍                                            | 19636/89761 [2:35:33<3:31:50,  5.52it/s]"
     ]
    },
    {
     "name": "stdout",
     "output_type": "stream",
     "text": [
      "Error: Expecting value: line 1 column 1 (char 0)\n"
     ]
    },
    {
     "name": "stderr",
     "output_type": "stream",
     "text": [
      "Process 19636:  22%|████████████▍                                            | 19637/89761 [2:35:34<3:30:18,  5.56it/s]"
     ]
    },
    {
     "name": "stdout",
     "output_type": "stream",
     "text": [
      "Error: Expecting value: line 1 column 1 (char 0)\n"
     ]
    },
    {
     "name": "stderr",
     "output_type": "stream",
     "text": [
      "Process 19637:  22%|████████████▍                                            | 19638/89761 [2:35:34<3:30:59,  5.54it/s]"
     ]
    },
    {
     "name": "stdout",
     "output_type": "stream",
     "text": [
      "Error: Expecting value: line 1 column 1 (char 0)\n"
     ]
    },
    {
     "name": "stderr",
     "output_type": "stream",
     "text": [
      "Process 19638:  22%|████████████▍                                            | 19639/89761 [2:35:34<3:31:48,  5.52it/s]"
     ]
    },
    {
     "name": "stdout",
     "output_type": "stream",
     "text": [
      "Error: Expecting value: line 1 column 1 (char 0)\n"
     ]
    },
    {
     "name": "stderr",
     "output_type": "stream",
     "text": [
      "Process 19639:  22%|████████████▍                                            | 19640/89761 [2:35:34<3:33:05,  5.48it/s]"
     ]
    },
    {
     "name": "stdout",
     "output_type": "stream",
     "text": [
      "Error: Expecting value: line 1 column 1 (char 0)\n"
     ]
    },
    {
     "name": "stderr",
     "output_type": "stream",
     "text": [
      "Process 19640:  22%|████████████▍                                            | 19641/89761 [2:35:34<3:32:35,  5.50it/s]"
     ]
    },
    {
     "name": "stdout",
     "output_type": "stream",
     "text": [
      "Error: Expecting value: line 1 column 1 (char 0)\n"
     ]
    },
    {
     "name": "stderr",
     "output_type": "stream",
     "text": [
      "Process 19641:  22%|████████████▍                                            | 19642/89761 [2:35:35<3:34:19,  5.45it/s]"
     ]
    },
    {
     "name": "stdout",
     "output_type": "stream",
     "text": [
      "Error: Expecting value: line 1 column 1 (char 0)\n"
     ]
    },
    {
     "name": "stderr",
     "output_type": "stream",
     "text": [
      "Process 19642:  22%|████████████▍                                            | 19643/89761 [2:35:35<3:33:48,  5.47it/s]"
     ]
    },
    {
     "name": "stdout",
     "output_type": "stream",
     "text": [
      "Error: Expecting value: line 1 column 1 (char 0)\n"
     ]
    },
    {
     "name": "stderr",
     "output_type": "stream",
     "text": [
      "Process 19643:  22%|████████████▍                                            | 19644/89761 [2:35:35<3:33:25,  5.48it/s]"
     ]
    },
    {
     "name": "stdout",
     "output_type": "stream",
     "text": [
      "Error: Expecting value: line 1 column 1 (char 0)\n"
     ]
    },
    {
     "name": "stderr",
     "output_type": "stream",
     "text": [
      "Process 19644:  22%|████████████▍                                            | 19645/89761 [2:35:35<3:31:24,  5.53it/s]"
     ]
    },
    {
     "name": "stdout",
     "output_type": "stream",
     "text": [
      "Error: Expecting value: line 1 column 1 (char 0)\n"
     ]
    },
    {
     "name": "stderr",
     "output_type": "stream",
     "text": [
      "Process 19645:  22%|████████████▍                                            | 19646/89761 [2:35:35<3:31:03,  5.54it/s]"
     ]
    },
    {
     "name": "stdout",
     "output_type": "stream",
     "text": [
      "Error: Expecting value: line 1 column 1 (char 0)\n"
     ]
    },
    {
     "name": "stderr",
     "output_type": "stream",
     "text": [
      "Process 19646:  22%|████████████▍                                            | 19647/89761 [2:35:35<3:31:51,  5.52it/s]"
     ]
    },
    {
     "name": "stdout",
     "output_type": "stream",
     "text": [
      "Error: Expecting value: line 1 column 1 (char 0)\n"
     ]
    },
    {
     "name": "stderr",
     "output_type": "stream",
     "text": [
      "Process 19647:  22%|████████████▍                                            | 19648/89761 [2:35:36<3:33:06,  5.48it/s]"
     ]
    },
    {
     "name": "stdout",
     "output_type": "stream",
     "text": [
      "Error: Expecting value: line 1 column 1 (char 0)\n"
     ]
    },
    {
     "name": "stderr",
     "output_type": "stream",
     "text": [
      "Process 19648:  22%|████████████▍                                            | 19649/89761 [2:35:36<3:31:53,  5.51it/s]"
     ]
    },
    {
     "name": "stdout",
     "output_type": "stream",
     "text": [
      "Error: Expecting value: line 1 column 1 (char 0)\n"
     ]
    },
    {
     "name": "stderr",
     "output_type": "stream",
     "text": [
      "Process 19649:  22%|████████████▍                                            | 19650/89761 [2:35:36<3:34:32,  5.45it/s]"
     ]
    },
    {
     "name": "stdout",
     "output_type": "stream",
     "text": [
      "Error: Expecting value: line 1 column 1 (char 0)\n"
     ]
    },
    {
     "name": "stderr",
     "output_type": "stream",
     "text": [
      "Process 19650:  22%|████████████▍                                            | 19651/89761 [2:35:36<3:32:32,  5.50it/s]"
     ]
    },
    {
     "name": "stdout",
     "output_type": "stream",
     "text": [
      "Error: Expecting value: line 1 column 1 (char 0)\n"
     ]
    },
    {
     "name": "stderr",
     "output_type": "stream",
     "text": [
      "Process 19651:  22%|████████████▍                                            | 19652/89761 [2:35:36<3:33:56,  5.46it/s]"
     ]
    },
    {
     "name": "stdout",
     "output_type": "stream",
     "text": [
      "Error: Expecting value: line 1 column 1 (char 0)\n"
     ]
    },
    {
     "name": "stderr",
     "output_type": "stream",
     "text": [
      "Process 19652:  22%|████████████▍                                            | 19653/89761 [2:35:37<3:34:13,  5.45it/s]"
     ]
    },
    {
     "name": "stdout",
     "output_type": "stream",
     "text": [
      "Error: Expecting value: line 1 column 1 (char 0)\n"
     ]
    },
    {
     "name": "stderr",
     "output_type": "stream",
     "text": [
      "Process 19653:  22%|████████████▍                                            | 19654/89761 [2:35:37<3:35:06,  5.43it/s]"
     ]
    },
    {
     "name": "stdout",
     "output_type": "stream",
     "text": [
      "Error: Expecting value: line 1 column 1 (char 0)\n"
     ]
    },
    {
     "name": "stderr",
     "output_type": "stream",
     "text": [
      "Process 19654:  22%|████████████▍                                            | 19655/89761 [2:35:37<3:38:11,  5.36it/s]"
     ]
    },
    {
     "name": "stdout",
     "output_type": "stream",
     "text": [
      "Error: Expecting value: line 1 column 1 (char 0)\n"
     ]
    },
    {
     "name": "stderr",
     "output_type": "stream",
     "text": [
      "Process 19655:  22%|████████████▍                                            | 19656/89761 [2:35:37<3:36:29,  5.40it/s]"
     ]
    },
    {
     "name": "stdout",
     "output_type": "stream",
     "text": [
      "Error: Expecting value: line 1 column 1 (char 0)\n"
     ]
    },
    {
     "name": "stderr",
     "output_type": "stream",
     "text": [
      "Process 19656:  22%|████████████▍                                            | 19657/89761 [2:35:37<3:34:56,  5.44it/s]"
     ]
    },
    {
     "name": "stdout",
     "output_type": "stream",
     "text": [
      "Error: Expecting value: line 1 column 1 (char 0)\n"
     ]
    },
    {
     "name": "stderr",
     "output_type": "stream",
     "text": [
      "Process 19657:  22%|████████████▍                                            | 19658/89761 [2:35:38<3:35:16,  5.43it/s]"
     ]
    },
    {
     "name": "stdout",
     "output_type": "stream",
     "text": [
      "Error: Expecting value: line 1 column 1 (char 0)\n"
     ]
    },
    {
     "name": "stderr",
     "output_type": "stream",
     "text": [
      "Process 19658:  22%|████████████▍                                            | 19659/89761 [2:35:38<3:36:53,  5.39it/s]"
     ]
    },
    {
     "name": "stdout",
     "output_type": "stream",
     "text": [
      "Error: Expecting value: line 1 column 1 (char 0)\n"
     ]
    },
    {
     "name": "stderr",
     "output_type": "stream",
     "text": [
      "Process 19659:  22%|████████████▍                                            | 19660/89761 [2:35:38<3:35:35,  5.42it/s]"
     ]
    },
    {
     "name": "stdout",
     "output_type": "stream",
     "text": [
      "Error: Expecting value: line 1 column 1 (char 0)\n"
     ]
    },
    {
     "name": "stderr",
     "output_type": "stream",
     "text": [
      "Process 19660:  22%|████████████▍                                            | 19661/89761 [2:35:38<3:33:57,  5.46it/s]"
     ]
    },
    {
     "name": "stdout",
     "output_type": "stream",
     "text": [
      "Error: Expecting value: line 1 column 1 (char 0)\n"
     ]
    },
    {
     "name": "stderr",
     "output_type": "stream",
     "text": [
      "Process 19661:  22%|████████████▍                                            | 19662/89761 [2:35:38<3:40:32,  5.30it/s]"
     ]
    },
    {
     "name": "stdout",
     "output_type": "stream",
     "text": [
      "Error: Expecting value: line 1 column 1 (char 0)\n"
     ]
    },
    {
     "name": "stderr",
     "output_type": "stream",
     "text": [
      "Process 19662:  22%|████████████▍                                            | 19663/89761 [2:35:38<3:38:07,  5.36it/s]"
     ]
    },
    {
     "name": "stdout",
     "output_type": "stream",
     "text": [
      "Error: Expecting value: line 1 column 1 (char 0)\n"
     ]
    },
    {
     "name": "stderr",
     "output_type": "stream",
     "text": [
      "Process 19663:  22%|████████████▍                                            | 19664/89761 [2:35:39<3:35:02,  5.43it/s]"
     ]
    },
    {
     "name": "stdout",
     "output_type": "stream",
     "text": [
      "Error: Expecting value: line 1 column 1 (char 0)\n"
     ]
    },
    {
     "name": "stderr",
     "output_type": "stream",
     "text": [
      "Process 19664:  22%|████████████▍                                            | 19665/89761 [2:35:39<3:33:34,  5.47it/s]"
     ]
    },
    {
     "name": "stdout",
     "output_type": "stream",
     "text": [
      "Error: Expecting value: line 1 column 1 (char 0)\n"
     ]
    },
    {
     "name": "stderr",
     "output_type": "stream",
     "text": [
      "Process 19665:  22%|████████████▍                                            | 19666/89761 [2:35:39<3:41:18,  5.28it/s]"
     ]
    },
    {
     "name": "stdout",
     "output_type": "stream",
     "text": [
      "Error: Expecting value: line 1 column 1 (char 0)\n"
     ]
    },
    {
     "name": "stderr",
     "output_type": "stream",
     "text": [
      "Process 19666:  22%|████████████▍                                            | 19667/89761 [2:35:39<3:37:57,  5.36it/s]"
     ]
    },
    {
     "name": "stdout",
     "output_type": "stream",
     "text": [
      "Error: Expecting value: line 1 column 1 (char 0)\n"
     ]
    },
    {
     "name": "stderr",
     "output_type": "stream",
     "text": [
      "Process 19667:  22%|████████████▍                                            | 19668/89761 [2:35:39<3:34:34,  5.44it/s]"
     ]
    },
    {
     "name": "stdout",
     "output_type": "stream",
     "text": [
      "Error: Expecting value: line 1 column 1 (char 0)\n"
     ]
    },
    {
     "name": "stderr",
     "output_type": "stream",
     "text": [
      "Process 19668:  22%|████████████▍                                            | 19669/89761 [2:35:40<3:33:56,  5.46it/s]"
     ]
    },
    {
     "name": "stdout",
     "output_type": "stream",
     "text": [
      "Error: Expecting value: line 1 column 1 (char 0)\n"
     ]
    },
    {
     "name": "stderr",
     "output_type": "stream",
     "text": [
      "Process 19669:  22%|████████████▍                                            | 19670/89761 [2:35:40<3:36:39,  5.39it/s]"
     ]
    },
    {
     "name": "stdout",
     "output_type": "stream",
     "text": [
      "Error: Expecting value: line 1 column 1 (char 0)\n"
     ]
    },
    {
     "name": "stderr",
     "output_type": "stream",
     "text": [
      "Process 23965:  27%|██████████████▋                                        | 23966/89761 [3:10:53<338:16:16, 18.51s/it]"
     ]
    },
    {
     "name": "stdout",
     "output_type": "stream",
     "text": [
      "Error: Expecting value: line 1 column 1 (char 0)\n"
     ]
    },
    {
     "name": "stderr",
     "output_type": "stream",
     "text": [
      "Process 23966:  27%|██████████████▋                                        | 23967/89761 [3:10:53<237:47:39, 13.01s/it]"
     ]
    },
    {
     "name": "stdout",
     "output_type": "stream",
     "text": [
      "Error: Expecting value: line 1 column 1 (char 0)\n"
     ]
    },
    {
     "name": "stderr",
     "output_type": "stream",
     "text": [
      "Process 23967:  27%|██████████████▋                                        | 23968/89761 [3:10:53<167:27:22,  9.16s/it]"
     ]
    },
    {
     "name": "stdout",
     "output_type": "stream",
     "text": [
      "Error: Expecting value: line 1 column 1 (char 0)\n"
     ]
    },
    {
     "name": "stderr",
     "output_type": "stream",
     "text": [
      "Process 23968:  27%|██████████████▋                                        | 23969/89761 [3:10:53<118:13:13,  6.47s/it]"
     ]
    },
    {
     "name": "stdout",
     "output_type": "stream",
     "text": [
      "Error: Expecting value: line 1 column 1 (char 0)\n"
     ]
    },
    {
     "name": "stderr",
     "output_type": "stream",
     "text": [
      "Process 23969:  27%|██████████████▉                                         | 23970/89761 [3:10:54<83:46:00,  4.58s/it]"
     ]
    },
    {
     "name": "stdout",
     "output_type": "stream",
     "text": [
      "Error: Expecting value: line 1 column 1 (char 0)\n"
     ]
    },
    {
     "name": "stderr",
     "output_type": "stream",
     "text": [
      "Process 23970:  27%|██████████████▉                                         | 23971/89761 [3:10:54<59:36:59,  3.26s/it]"
     ]
    },
    {
     "name": "stdout",
     "output_type": "stream",
     "text": [
      "Error: Expecting value: line 1 column 1 (char 0)\n"
     ]
    },
    {
     "name": "stderr",
     "output_type": "stream",
     "text": [
      "Process 23971:  27%|██████████████▉                                         | 23972/89761 [3:10:54<42:44:01,  2.34s/it]"
     ]
    },
    {
     "name": "stdout",
     "output_type": "stream",
     "text": [
      "Error: Expecting value: line 1 column 1 (char 0)\n"
     ]
    },
    {
     "name": "stderr",
     "output_type": "stream",
     "text": [
      "Process 23972:  27%|██████████████▉                                         | 23973/89761 [3:10:54<30:55:36,  1.69s/it]"
     ]
    },
    {
     "name": "stdout",
     "output_type": "stream",
     "text": [
      "Error: Expecting value: line 1 column 1 (char 0)\n"
     ]
    },
    {
     "name": "stderr",
     "output_type": "stream",
     "text": [
      "Process 23973:  27%|██████████████▉                                         | 23974/89761 [3:10:54<22:40:03,  1.24s/it]"
     ]
    },
    {
     "name": "stdout",
     "output_type": "stream",
     "text": [
      "Error: Expecting value: line 1 column 1 (char 0)\n"
     ]
    },
    {
     "name": "stderr",
     "output_type": "stream",
     "text": [
      "Process 23974:  27%|██████████████▉                                         | 23975/89761 [3:10:55<16:53:49,  1.08it/s]"
     ]
    },
    {
     "name": "stdout",
     "output_type": "stream",
     "text": [
      "Error: Expecting value: line 1 column 1 (char 0)\n"
     ]
    },
    {
     "name": "stderr",
     "output_type": "stream",
     "text": [
      "Process 23975:  27%|██████████████▉                                         | 23976/89761 [3:10:55<12:49:29,  1.42it/s]"
     ]
    },
    {
     "name": "stdout",
     "output_type": "stream",
     "text": [
      "Error: Expecting value: line 1 column 1 (char 0)\n"
     ]
    },
    {
     "name": "stderr",
     "output_type": "stream",
     "text": [
      "Process 23976:  27%|██████████████▉                                         | 23977/89761 [3:10:55<10:00:06,  1.83it/s]"
     ]
    },
    {
     "name": "stdout",
     "output_type": "stream",
     "text": [
      "Error: Expecting value: line 1 column 1 (char 0)\n"
     ]
    },
    {
     "name": "stderr",
     "output_type": "stream",
     "text": [
      "Process 23977:  27%|███████████████▏                                         | 23978/89761 [3:10:55<8:02:51,  2.27it/s]"
     ]
    },
    {
     "name": "stdout",
     "output_type": "stream",
     "text": [
      "Error: Expecting value: line 1 column 1 (char 0)\n"
     ]
    },
    {
     "name": "stderr",
     "output_type": "stream",
     "text": [
      "Process 23978:  27%|███████████████▏                                         | 23979/89761 [3:10:55<6:37:09,  2.76it/s]"
     ]
    },
    {
     "name": "stdout",
     "output_type": "stream",
     "text": [
      "Error: Expecting value: line 1 column 1 (char 0)\n"
     ]
    },
    {
     "name": "stderr",
     "output_type": "stream",
     "text": [
      "Process 23979:  27%|███████████████▏                                         | 23980/89761 [3:10:55<5:36:11,  3.26it/s]"
     ]
    },
    {
     "name": "stdout",
     "output_type": "stream",
     "text": [
      "Error: Expecting value: line 1 column 1 (char 0)\n"
     ]
    },
    {
     "name": "stderr",
     "output_type": "stream",
     "text": [
      "Process 23980:  27%|███████████████▏                                         | 23981/89761 [3:10:56<4:54:49,  3.72it/s]"
     ]
    },
    {
     "name": "stdout",
     "output_type": "stream",
     "text": [
      "Error: Expecting value: line 1 column 1 (char 0)\n"
     ]
    },
    {
     "name": "stderr",
     "output_type": "stream",
     "text": [
      "Process 23981:  27%|███████████████▏                                         | 23982/89761 [3:10:56<4:25:52,  4.12it/s]"
     ]
    },
    {
     "name": "stdout",
     "output_type": "stream",
     "text": [
      "Error: Expecting value: line 1 column 1 (char 0)\n"
     ]
    },
    {
     "name": "stderr",
     "output_type": "stream",
     "text": [
      "Process 23982:  27%|███████████████▏                                         | 23983/89761 [3:10:56<4:05:36,  4.46it/s]"
     ]
    },
    {
     "name": "stdout",
     "output_type": "stream",
     "text": [
      "Error: Expecting value: line 1 column 1 (char 0)\n"
     ]
    },
    {
     "name": "stderr",
     "output_type": "stream",
     "text": [
      "Process 23983:  27%|███████████████▏                                         | 23984/89761 [3:10:56<3:52:04,  4.72it/s]"
     ]
    },
    {
     "name": "stdout",
     "output_type": "stream",
     "text": [
      "Error: Expecting value: line 1 column 1 (char 0)\n"
     ]
    },
    {
     "name": "stderr",
     "output_type": "stream",
     "text": [
      "Process 23984:  27%|███████████████▏                                         | 23985/89761 [3:10:56<3:41:56,  4.94it/s]"
     ]
    },
    {
     "name": "stdout",
     "output_type": "stream",
     "text": [
      "Error: Expecting value: line 1 column 1 (char 0)\n"
     ]
    },
    {
     "name": "stderr",
     "output_type": "stream",
     "text": [
      "Process 23985:  27%|███████████████▏                                         | 23986/89761 [3:10:57<3:35:10,  5.09it/s]"
     ]
    },
    {
     "name": "stdout",
     "output_type": "stream",
     "text": [
      "Error: Expecting value: line 1 column 1 (char 0)\n"
     ]
    },
    {
     "name": "stderr",
     "output_type": "stream",
     "text": [
      "Process 23986:  27%|███████████████▏                                         | 23987/89761 [3:10:57<3:31:25,  5.18it/s]"
     ]
    },
    {
     "name": "stdout",
     "output_type": "stream",
     "text": [
      "Error: Expecting value: line 1 column 1 (char 0)\n"
     ]
    },
    {
     "name": "stderr",
     "output_type": "stream",
     "text": [
      "Process 23987:  27%|███████████████▏                                         | 23988/89761 [3:10:57<3:32:05,  5.17it/s]"
     ]
    },
    {
     "name": "stdout",
     "output_type": "stream",
     "text": [
      "Error: Expecting value: line 1 column 1 (char 0)\n"
     ]
    },
    {
     "name": "stderr",
     "output_type": "stream",
     "text": [
      "Process 23988:  27%|███████████████▏                                         | 23989/89761 [3:10:57<3:27:57,  5.27it/s]"
     ]
    },
    {
     "name": "stdout",
     "output_type": "stream",
     "text": [
      "Error: Expecting value: line 1 column 1 (char 0)\n"
     ]
    },
    {
     "name": "stderr",
     "output_type": "stream",
     "text": [
      "Process 23989:  27%|███████████████▏                                         | 23990/89761 [3:10:57<3:25:03,  5.35it/s]"
     ]
    },
    {
     "name": "stdout",
     "output_type": "stream",
     "text": [
      "Error: Expecting value: line 1 column 1 (char 0)\n"
     ]
    },
    {
     "name": "stderr",
     "output_type": "stream",
     "text": [
      "Process 23990:  27%|███████████████▏                                         | 23991/89761 [3:10:57<3:23:40,  5.38it/s]"
     ]
    },
    {
     "name": "stdout",
     "output_type": "stream",
     "text": [
      "Error: Expecting value: line 1 column 1 (char 0)\n"
     ]
    },
    {
     "name": "stderr",
     "output_type": "stream",
     "text": [
      "Process 23991:  27%|███████████████▏                                         | 23992/89761 [3:10:58<3:21:04,  5.45it/s]"
     ]
    },
    {
     "name": "stdout",
     "output_type": "stream",
     "text": [
      "Error: Expecting value: line 1 column 1 (char 0)\n"
     ]
    },
    {
     "name": "stderr",
     "output_type": "stream",
     "text": [
      "Process 23992:  27%|███████████████▏                                         | 23993/89761 [3:10:58<3:20:53,  5.46it/s]"
     ]
    },
    {
     "name": "stdout",
     "output_type": "stream",
     "text": [
      "Error: Expecting value: line 1 column 1 (char 0)\n"
     ]
    },
    {
     "name": "stderr",
     "output_type": "stream",
     "text": [
      "Process 23993:  27%|███████████████▏                                         | 23994/89761 [3:10:58<3:21:05,  5.45it/s]"
     ]
    },
    {
     "name": "stdout",
     "output_type": "stream",
     "text": [
      "Error: Expecting value: line 1 column 1 (char 0)\n"
     ]
    },
    {
     "name": "stderr",
     "output_type": "stream",
     "text": [
      "Process 23994:  27%|███████████████▏                                         | 23995/89761 [3:10:58<3:21:53,  5.43it/s]"
     ]
    },
    {
     "name": "stdout",
     "output_type": "stream",
     "text": [
      "Error: Expecting value: line 1 column 1 (char 0)\n"
     ]
    },
    {
     "name": "stderr",
     "output_type": "stream",
     "text": [
      "Process 23995:  27%|███████████████▏                                         | 23996/89761 [3:10:58<3:21:47,  5.43it/s]"
     ]
    },
    {
     "name": "stdout",
     "output_type": "stream",
     "text": [
      "Error: Expecting value: line 1 column 1 (char 0)\n"
     ]
    },
    {
     "name": "stderr",
     "output_type": "stream",
     "text": [
      "Process 23996:  27%|███████████████▏                                         | 23997/89761 [3:10:59<3:20:24,  5.47it/s]"
     ]
    },
    {
     "name": "stdout",
     "output_type": "stream",
     "text": [
      "Error: Expecting value: line 1 column 1 (char 0)\n"
     ]
    },
    {
     "name": "stderr",
     "output_type": "stream",
     "text": [
      "Process 23997:  27%|███████████████▏                                         | 23998/89761 [3:10:59<3:19:45,  5.49it/s]"
     ]
    },
    {
     "name": "stdout",
     "output_type": "stream",
     "text": [
      "Error: Expecting value: line 1 column 1 (char 0)\n"
     ]
    },
    {
     "name": "stderr",
     "output_type": "stream",
     "text": [
      "Process 23998:  27%|███████████████▏                                         | 23999/89761 [3:10:59<3:19:58,  5.48it/s]"
     ]
    },
    {
     "name": "stdout",
     "output_type": "stream",
     "text": [
      "Error: Expecting value: line 1 column 1 (char 0)\n"
     ]
    },
    {
     "name": "stderr",
     "output_type": "stream",
     "text": [
      "Process 23999:  27%|███████████████▏                                         | 24000/89761 [3:10:59<3:19:47,  5.49it/s]"
     ]
    },
    {
     "name": "stdout",
     "output_type": "stream",
     "text": [
      "Error: Expecting value: line 1 column 1 (char 0)\n"
     ]
    },
    {
     "name": "stderr",
     "output_type": "stream",
     "text": [
      "Process 24000:  27%|███████████████▏                                         | 24001/89761 [3:10:59<3:20:58,  5.45it/s]"
     ]
    },
    {
     "name": "stdout",
     "output_type": "stream",
     "text": [
      "Error: Expecting value: line 1 column 1 (char 0)\n"
     ]
    },
    {
     "name": "stderr",
     "output_type": "stream",
     "text": [
      "Process 24001:  27%|███████████████▏                                         | 24002/89761 [3:10:59<3:21:47,  5.43it/s]"
     ]
    },
    {
     "name": "stdout",
     "output_type": "stream",
     "text": [
      "Error: Expecting value: line 1 column 1 (char 0)\n"
     ]
    },
    {
     "name": "stderr",
     "output_type": "stream",
     "text": [
      "Process 24002:  27%|███████████████▏                                         | 24003/89761 [3:11:00<3:21:43,  5.43it/s]"
     ]
    },
    {
     "name": "stdout",
     "output_type": "stream",
     "text": [
      "Error: Expecting value: line 1 column 1 (char 0)\n"
     ]
    },
    {
     "name": "stderr",
     "output_type": "stream",
     "text": [
      "Process 24003:  27%|███████████████▏                                         | 24004/89761 [3:11:00<3:22:19,  5.42it/s]"
     ]
    },
    {
     "name": "stdout",
     "output_type": "stream",
     "text": [
      "Error: Expecting value: line 1 column 1 (char 0)\n"
     ]
    },
    {
     "name": "stderr",
     "output_type": "stream",
     "text": [
      "Process 24004:  27%|███████████████▏                                         | 24005/89761 [3:11:00<3:20:26,  5.47it/s]"
     ]
    },
    {
     "name": "stdout",
     "output_type": "stream",
     "text": [
      "Error: Expecting value: line 1 column 1 (char 0)\n"
     ]
    },
    {
     "name": "stderr",
     "output_type": "stream",
     "text": [
      "Process 24005:  27%|███████████████▏                                         | 24006/89761 [3:11:00<3:20:26,  5.47it/s]"
     ]
    },
    {
     "name": "stdout",
     "output_type": "stream",
     "text": [
      "Error: Expecting value: line 1 column 1 (char 0)\n"
     ]
    },
    {
     "name": "stderr",
     "output_type": "stream",
     "text": [
      "Process 24006:  27%|███████████████▏                                         | 24007/89761 [3:11:00<3:19:46,  5.49it/s]"
     ]
    },
    {
     "name": "stdout",
     "output_type": "stream",
     "text": [
      "Error: Expecting value: line 1 column 1 (char 0)\n"
     ]
    },
    {
     "name": "stderr",
     "output_type": "stream",
     "text": [
      "Process 24007:  27%|███████████████▏                                         | 24008/89761 [3:11:01<3:18:59,  5.51it/s]"
     ]
    },
    {
     "name": "stdout",
     "output_type": "stream",
     "text": [
      "Error: Expecting value: line 1 column 1 (char 0)\n"
     ]
    },
    {
     "name": "stderr",
     "output_type": "stream",
     "text": [
      "Process 24008:  27%|███████████████▏                                         | 24009/89761 [3:11:01<3:18:06,  5.53it/s]"
     ]
    },
    {
     "name": "stdout",
     "output_type": "stream",
     "text": [
      "Error: Expecting value: line 1 column 1 (char 0)\n"
     ]
    },
    {
     "name": "stderr",
     "output_type": "stream",
     "text": [
      "Process 24009:  27%|███████████████▏                                         | 24010/89761 [3:11:01<3:18:28,  5.52it/s]"
     ]
    },
    {
     "name": "stdout",
     "output_type": "stream",
     "text": [
      "Error: Expecting value: line 1 column 1 (char 0)\n"
     ]
    },
    {
     "name": "stderr",
     "output_type": "stream",
     "text": [
      "Process 24010:  27%|███████████████▏                                         | 24011/89761 [3:11:01<3:18:43,  5.51it/s]"
     ]
    },
    {
     "name": "stdout",
     "output_type": "stream",
     "text": [
      "Error: Expecting value: line 1 column 1 (char 0)\n"
     ]
    },
    {
     "name": "stderr",
     "output_type": "stream",
     "text": [
      "Process 24011:  27%|███████████████▏                                         | 24012/89761 [3:11:01<3:18:54,  5.51it/s]"
     ]
    },
    {
     "name": "stdout",
     "output_type": "stream",
     "text": [
      "Error: Expecting value: line 1 column 1 (char 0)\n"
     ]
    },
    {
     "name": "stderr",
     "output_type": "stream",
     "text": [
      "Process 24012:  27%|███████████████▏                                         | 24013/89761 [3:11:01<3:19:21,  5.50it/s]"
     ]
    },
    {
     "name": "stdout",
     "output_type": "stream",
     "text": [
      "Error: Expecting value: line 1 column 1 (char 0)\n"
     ]
    },
    {
     "name": "stderr",
     "output_type": "stream",
     "text": [
      "Process 24013:  27%|███████████████▏                                         | 24014/89761 [3:11:02<3:19:00,  5.51it/s]"
     ]
    },
    {
     "name": "stdout",
     "output_type": "stream",
     "text": [
      "Error: Expecting value: line 1 column 1 (char 0)\n"
     ]
    },
    {
     "name": "stderr",
     "output_type": "stream",
     "text": [
      "Process 24014:  27%|███████████████▏                                         | 24015/89761 [3:11:02<3:19:45,  5.49it/s]"
     ]
    },
    {
     "name": "stdout",
     "output_type": "stream",
     "text": [
      "Error: Expecting value: line 1 column 1 (char 0)\n"
     ]
    },
    {
     "name": "stderr",
     "output_type": "stream",
     "text": [
      "Process 24015:  27%|███████████████▎                                         | 24016/89761 [3:11:02<3:19:57,  5.48it/s]"
     ]
    },
    {
     "name": "stdout",
     "output_type": "stream",
     "text": [
      "Error: Expecting value: line 1 column 1 (char 0)\n"
     ]
    },
    {
     "name": "stderr",
     "output_type": "stream",
     "text": [
      "Process 24016:  27%|███████████████▎                                         | 24017/89761 [3:11:02<3:19:25,  5.49it/s]"
     ]
    },
    {
     "name": "stdout",
     "output_type": "stream",
     "text": [
      "Error: Expecting value: line 1 column 1 (char 0)\n"
     ]
    },
    {
     "name": "stderr",
     "output_type": "stream",
     "text": [
      "Process 24017:  27%|███████████████▎                                         | 24018/89761 [3:11:02<3:20:02,  5.48it/s]"
     ]
    },
    {
     "name": "stdout",
     "output_type": "stream",
     "text": [
      "Error: Expecting value: line 1 column 1 (char 0)\n"
     ]
    },
    {
     "name": "stderr",
     "output_type": "stream",
     "text": [
      "Process 24018:  27%|███████████████▎                                         | 24019/89761 [3:11:03<3:22:26,  5.41it/s]"
     ]
    },
    {
     "name": "stdout",
     "output_type": "stream",
     "text": [
      "Error: Expecting value: line 1 column 1 (char 0)\n"
     ]
    },
    {
     "name": "stderr",
     "output_type": "stream",
     "text": [
      "Process 24019:  27%|███████████████▎                                         | 24020/89761 [3:11:03<3:21:49,  5.43it/s]"
     ]
    },
    {
     "name": "stdout",
     "output_type": "stream",
     "text": [
      "Error: Expecting value: line 1 column 1 (char 0)\n"
     ]
    },
    {
     "name": "stderr",
     "output_type": "stream",
     "text": [
      "Process 24020:  27%|███████████████▎                                         | 24021/89761 [3:11:03<3:19:45,  5.49it/s]"
     ]
    },
    {
     "name": "stdout",
     "output_type": "stream",
     "text": [
      "Error: Expecting value: line 1 column 1 (char 0)\n"
     ]
    },
    {
     "name": "stderr",
     "output_type": "stream",
     "text": [
      "Process 24021:  27%|███████████████▎                                         | 24022/89761 [3:11:03<3:18:37,  5.52it/s]"
     ]
    },
    {
     "name": "stdout",
     "output_type": "stream",
     "text": [
      "Error: Expecting value: line 1 column 1 (char 0)\n"
     ]
    },
    {
     "name": "stderr",
     "output_type": "stream",
     "text": [
      "Process 24022:  27%|███████████████▎                                         | 24023/89761 [3:11:03<3:18:29,  5.52it/s]"
     ]
    },
    {
     "name": "stdout",
     "output_type": "stream",
     "text": [
      "Error: Expecting value: line 1 column 1 (char 0)\n"
     ]
    },
    {
     "name": "stderr",
     "output_type": "stream",
     "text": [
      "Process 24023:  27%|███████████████▎                                         | 24024/89761 [3:11:04<3:21:41,  5.43it/s]"
     ]
    },
    {
     "name": "stdout",
     "output_type": "stream",
     "text": [
      "Error: Expecting value: line 1 column 1 (char 0)\n"
     ]
    },
    {
     "name": "stderr",
     "output_type": "stream",
     "text": [
      "Process 24024:  27%|███████████████▎                                         | 24025/89761 [3:11:04<3:20:57,  5.45it/s]"
     ]
    },
    {
     "name": "stdout",
     "output_type": "stream",
     "text": [
      "Error: Expecting value: line 1 column 1 (char 0)\n"
     ]
    },
    {
     "name": "stderr",
     "output_type": "stream",
     "text": [
      "Process 24025:  27%|███████████████▎                                         | 24026/89761 [3:11:04<3:19:28,  5.49it/s]"
     ]
    },
    {
     "name": "stdout",
     "output_type": "stream",
     "text": [
      "Error: Expecting value: line 1 column 1 (char 0)\n"
     ]
    },
    {
     "name": "stderr",
     "output_type": "stream",
     "text": [
      "Process 24026:  27%|███████████████▎                                         | 24027/89761 [3:11:04<3:19:44,  5.48it/s]"
     ]
    },
    {
     "name": "stdout",
     "output_type": "stream",
     "text": [
      "Error: Expecting value: line 1 column 1 (char 0)\n"
     ]
    },
    {
     "name": "stderr",
     "output_type": "stream",
     "text": [
      "Process 24027:  27%|███████████████▎                                         | 24028/89761 [3:11:04<3:19:16,  5.50it/s]"
     ]
    },
    {
     "name": "stdout",
     "output_type": "stream",
     "text": [
      "Error: Expecting value: line 1 column 1 (char 0)\n"
     ]
    },
    {
     "name": "stderr",
     "output_type": "stream",
     "text": [
      "Process 24028:  27%|███████████████▎                                         | 24029/89761 [3:11:04<3:21:34,  5.44it/s]"
     ]
    },
    {
     "name": "stdout",
     "output_type": "stream",
     "text": [
      "Error: Expecting value: line 1 column 1 (char 0)\n"
     ]
    },
    {
     "name": "stderr",
     "output_type": "stream",
     "text": [
      "Process 24029:  27%|███████████████▎                                         | 24030/89761 [3:11:05<3:20:13,  5.47it/s]"
     ]
    },
    {
     "name": "stdout",
     "output_type": "stream",
     "text": [
      "Error: Expecting value: line 1 column 1 (char 0)\n"
     ]
    },
    {
     "name": "stderr",
     "output_type": "stream",
     "text": [
      "Process 24030:  27%|███████████████▎                                         | 24031/89761 [3:11:05<3:20:55,  5.45it/s]"
     ]
    },
    {
     "name": "stdout",
     "output_type": "stream",
     "text": [
      "Error: Expecting value: line 1 column 1 (char 0)\n"
     ]
    },
    {
     "name": "stderr",
     "output_type": "stream",
     "text": [
      "Process 24031:  27%|███████████████▎                                         | 24032/89761 [3:11:05<3:19:26,  5.49it/s]"
     ]
    },
    {
     "name": "stdout",
     "output_type": "stream",
     "text": [
      "Error: Expecting value: line 1 column 1 (char 0)\n"
     ]
    },
    {
     "name": "stderr",
     "output_type": "stream",
     "text": [
      "Process 24032:  27%|███████████████▎                                         | 24033/89761 [3:11:05<3:18:23,  5.52it/s]"
     ]
    },
    {
     "name": "stdout",
     "output_type": "stream",
     "text": [
      "Error: Expecting value: line 1 column 1 (char 0)\n"
     ]
    },
    {
     "name": "stderr",
     "output_type": "stream",
     "text": [
      "Process 24033:  27%|███████████████▎                                         | 24034/89761 [3:11:05<3:18:39,  5.51it/s]"
     ]
    },
    {
     "name": "stdout",
     "output_type": "stream",
     "text": [
      "Error: Expecting value: line 1 column 1 (char 0)\n"
     ]
    },
    {
     "name": "stderr",
     "output_type": "stream",
     "text": [
      "Process 24034:  27%|███████████████▎                                         | 24035/89761 [3:11:06<3:20:08,  5.47it/s]"
     ]
    },
    {
     "name": "stdout",
     "output_type": "stream",
     "text": [
      "Error: Expecting value: line 1 column 1 (char 0)\n"
     ]
    },
    {
     "name": "stderr",
     "output_type": "stream",
     "text": [
      "Process 24035:  27%|███████████████▎                                         | 24036/89761 [3:11:06<3:20:31,  5.46it/s]"
     ]
    },
    {
     "name": "stdout",
     "output_type": "stream",
     "text": [
      "Error: Expecting value: line 1 column 1 (char 0)\n"
     ]
    },
    {
     "name": "stderr",
     "output_type": "stream",
     "text": [
      "Process 24036:  27%|███████████████▎                                         | 24037/89761 [3:11:06<3:21:07,  5.45it/s]"
     ]
    },
    {
     "name": "stdout",
     "output_type": "stream",
     "text": [
      "Error: Expecting value: line 1 column 1 (char 0)\n"
     ]
    },
    {
     "name": "stderr",
     "output_type": "stream",
     "text": [
      "Process 24037:  27%|███████████████▎                                         | 24038/89761 [3:11:06<3:20:33,  5.46it/s]"
     ]
    },
    {
     "name": "stdout",
     "output_type": "stream",
     "text": [
      "Error: Expecting value: line 1 column 1 (char 0)\n"
     ]
    },
    {
     "name": "stderr",
     "output_type": "stream",
     "text": [
      "Process 24038:  27%|███████████████▎                                         | 24039/89761 [3:11:06<3:22:27,  5.41it/s]"
     ]
    },
    {
     "name": "stdout",
     "output_type": "stream",
     "text": [
      "Error: Expecting value: line 1 column 1 (char 0)\n"
     ]
    },
    {
     "name": "stderr",
     "output_type": "stream",
     "text": [
      "Process 24039:  27%|███████████████▎                                         | 24040/89761 [3:11:06<3:21:09,  5.45it/s]"
     ]
    },
    {
     "name": "stdout",
     "output_type": "stream",
     "text": [
      "Error: Expecting value: line 1 column 1 (char 0)\n"
     ]
    },
    {
     "name": "stderr",
     "output_type": "stream",
     "text": [
      "Process 24040:  27%|███████████████▎                                         | 24041/89761 [3:11:07<3:20:15,  5.47it/s]"
     ]
    },
    {
     "name": "stdout",
     "output_type": "stream",
     "text": [
      "Error: Expecting value: line 1 column 1 (char 0)\n"
     ]
    },
    {
     "name": "stderr",
     "output_type": "stream",
     "text": [
      "Process 24041:  27%|███████████████▎                                         | 24042/89761 [3:11:07<3:21:54,  5.42it/s]"
     ]
    },
    {
     "name": "stdout",
     "output_type": "stream",
     "text": [
      "Error: Expecting value: line 1 column 1 (char 0)\n"
     ]
    },
    {
     "name": "stderr",
     "output_type": "stream",
     "text": [
      "Process 24069:  27%|███████████████▎                                         | 24070/89761 [3:11:20<8:54:25,  2.05it/s]"
     ]
    },
    {
     "name": "stdout",
     "output_type": "stream",
     "text": [
      "Error: Expecting value: line 1 column 1 (char 0)\n"
     ]
    },
    {
     "name": "stderr",
     "output_type": "stream",
     "text": [
      "Process 24070:  27%|███████████████▎                                         | 24071/89761 [3:11:21<7:14:49,  2.52it/s]"
     ]
    },
    {
     "name": "stdout",
     "output_type": "stream",
     "text": [
      "Error: Expecting value: line 1 column 1 (char 0)\n"
     ]
    },
    {
     "name": "stderr",
     "output_type": "stream",
     "text": [
      "Process 24071:  27%|███████████████▎                                         | 24072/89761 [3:11:21<6:07:23,  2.98it/s]"
     ]
    },
    {
     "name": "stdout",
     "output_type": "stream",
     "text": [
      "Error: Expecting value: line 1 column 1 (char 0)\n"
     ]
    },
    {
     "name": "stderr",
     "output_type": "stream",
     "text": [
      "Process 24072:  27%|███████████████▎                                         | 24073/89761 [3:11:21<5:16:35,  3.46it/s]"
     ]
    },
    {
     "name": "stdout",
     "output_type": "stream",
     "text": [
      "Error: Expecting value: line 1 column 1 (char 0)\n"
     ]
    },
    {
     "name": "stderr",
     "output_type": "stream",
     "text": [
      "Process 24073:  27%|███████████████▎                                         | 24074/89761 [3:11:21<4:42:00,  3.88it/s]"
     ]
    },
    {
     "name": "stdout",
     "output_type": "stream",
     "text": [
      "Error: Expecting value: line 1 column 1 (char 0)\n"
     ]
    },
    {
     "name": "stderr",
     "output_type": "stream",
     "text": [
      "Process 24074:  27%|███████████████▎                                         | 24075/89761 [3:11:21<4:16:29,  4.27it/s]"
     ]
    },
    {
     "name": "stdout",
     "output_type": "stream",
     "text": [
      "Error: Expecting value: line 1 column 1 (char 0)\n"
     ]
    },
    {
     "name": "stderr",
     "output_type": "stream",
     "text": [
      "Process 24075:  27%|███████████████▎                                         | 24076/89761 [3:11:21<3:59:16,  4.58it/s]"
     ]
    },
    {
     "name": "stdout",
     "output_type": "stream",
     "text": [
      "Error: Expecting value: line 1 column 1 (char 0)\n"
     ]
    },
    {
     "name": "stderr",
     "output_type": "stream",
     "text": [
      "Process 24076:  27%|███████████████▎                                         | 24077/89761 [3:11:22<3:47:13,  4.82it/s]"
     ]
    },
    {
     "name": "stdout",
     "output_type": "stream",
     "text": [
      "Error: Expecting value: line 1 column 1 (char 0)\n"
     ]
    },
    {
     "name": "stderr",
     "output_type": "stream",
     "text": [
      "Process 24077:  27%|███████████████▎                                         | 24078/89761 [3:11:22<3:37:28,  5.03it/s]"
     ]
    },
    {
     "name": "stdout",
     "output_type": "stream",
     "text": [
      "Error: Expecting value: line 1 column 1 (char 0)\n"
     ]
    },
    {
     "name": "stderr",
     "output_type": "stream",
     "text": [
      "Process 24078:  27%|███████████████▎                                         | 24079/89761 [3:11:22<3:31:38,  5.17it/s]"
     ]
    },
    {
     "name": "stdout",
     "output_type": "stream",
     "text": [
      "Error: Expecting value: line 1 column 1 (char 0)\n"
     ]
    },
    {
     "name": "stderr",
     "output_type": "stream",
     "text": [
      "Process 24079:  27%|███████████████▎                                         | 24080/89761 [3:11:22<3:29:31,  5.22it/s]"
     ]
    },
    {
     "name": "stdout",
     "output_type": "stream",
     "text": [
      "Error: Expecting value: line 1 column 1 (char 0)\n"
     ]
    },
    {
     "name": "stderr",
     "output_type": "stream",
     "text": [
      "Process 24080:  27%|███████████████▎                                         | 24081/89761 [3:11:22<3:25:24,  5.33it/s]"
     ]
    },
    {
     "name": "stdout",
     "output_type": "stream",
     "text": [
      "Error: Expecting value: line 1 column 1 (char 0)\n"
     ]
    },
    {
     "name": "stderr",
     "output_type": "stream",
     "text": [
      "Process 24081:  27%|███████████████▎                                         | 24082/89761 [3:11:23<3:24:50,  5.34it/s]"
     ]
    },
    {
     "name": "stdout",
     "output_type": "stream",
     "text": [
      "Error: Expecting value: line 1 column 1 (char 0)\n"
     ]
    },
    {
     "name": "stderr",
     "output_type": "stream",
     "text": [
      "Process 24082:  27%|███████████████▎                                         | 24083/89761 [3:11:23<3:24:06,  5.36it/s]"
     ]
    },
    {
     "name": "stdout",
     "output_type": "stream",
     "text": [
      "Error: Expecting value: line 1 column 1 (char 0)\n"
     ]
    },
    {
     "name": "stderr",
     "output_type": "stream",
     "text": [
      "Process 24083:  27%|███████████████▎                                         | 24084/89761 [3:11:23<3:21:56,  5.42it/s]"
     ]
    },
    {
     "name": "stdout",
     "output_type": "stream",
     "text": [
      "Error: Expecting value: line 1 column 1 (char 0)\n"
     ]
    },
    {
     "name": "stderr",
     "output_type": "stream",
     "text": [
      "Process 24084:  27%|███████████████▎                                         | 24085/89761 [3:11:23<3:22:04,  5.42it/s]"
     ]
    },
    {
     "name": "stdout",
     "output_type": "stream",
     "text": [
      "Error: Expecting value: line 1 column 1 (char 0)\n"
     ]
    },
    {
     "name": "stderr",
     "output_type": "stream",
     "text": [
      "Process 24085:  27%|███████████████▎                                         | 24086/89761 [3:11:23<3:21:30,  5.43it/s]"
     ]
    },
    {
     "name": "stdout",
     "output_type": "stream",
     "text": [
      "Error: Expecting value: line 1 column 1 (char 0)\n"
     ]
    },
    {
     "name": "stderr",
     "output_type": "stream",
     "text": [
      "Process 24086:  27%|███████████████▎                                         | 24087/89761 [3:11:23<3:21:26,  5.43it/s]"
     ]
    },
    {
     "name": "stdout",
     "output_type": "stream",
     "text": [
      "Error: Expecting value: line 1 column 1 (char 0)\n"
     ]
    },
    {
     "name": "stderr",
     "output_type": "stream",
     "text": [
      "Process 24087:  27%|███████████████▎                                         | 24088/89761 [3:11:24<3:19:44,  5.48it/s]"
     ]
    },
    {
     "name": "stdout",
     "output_type": "stream",
     "text": [
      "Error: Expecting value: line 1 column 1 (char 0)\n"
     ]
    },
    {
     "name": "stderr",
     "output_type": "stream",
     "text": [
      "Process 24088:  27%|███████████████▎                                         | 24089/89761 [3:11:24<3:19:13,  5.49it/s]"
     ]
    },
    {
     "name": "stdout",
     "output_type": "stream",
     "text": [
      "Error: Expecting value: line 1 column 1 (char 0)\n"
     ]
    },
    {
     "name": "stderr",
     "output_type": "stream",
     "text": [
      "Process 24089:  27%|███████████████▎                                         | 24090/89761 [3:11:24<3:20:29,  5.46it/s]"
     ]
    },
    {
     "name": "stdout",
     "output_type": "stream",
     "text": [
      "Error: Expecting value: line 1 column 1 (char 0)\n"
     ]
    },
    {
     "name": "stderr",
     "output_type": "stream",
     "text": [
      "Process 24090:  27%|███████████████▎                                         | 24091/89761 [3:11:24<3:20:43,  5.45it/s]"
     ]
    },
    {
     "name": "stdout",
     "output_type": "stream",
     "text": [
      "Error: Expecting value: line 1 column 1 (char 0)\n"
     ]
    },
    {
     "name": "stderr",
     "output_type": "stream",
     "text": [
      "Process 24091:  27%|███████████████▎                                         | 24092/89761 [3:11:24<3:20:53,  5.45it/s]"
     ]
    },
    {
     "name": "stdout",
     "output_type": "stream",
     "text": [
      "Error: Expecting value: line 1 column 1 (char 0)\n"
     ]
    },
    {
     "name": "stderr",
     "output_type": "stream",
     "text": [
      "Process 24092:  27%|███████████████▎                                         | 24093/89761 [3:11:25<3:21:00,  5.45it/s]"
     ]
    },
    {
     "name": "stdout",
     "output_type": "stream",
     "text": [
      "Error: Expecting value: line 1 column 1 (char 0)\n"
     ]
    },
    {
     "name": "stderr",
     "output_type": "stream",
     "text": [
      "Process 24093:  27%|███████████████▎                                         | 24094/89761 [3:11:25<3:21:04,  5.44it/s]"
     ]
    },
    {
     "name": "stdout",
     "output_type": "stream",
     "text": [
      "Error: Expecting value: line 1 column 1 (char 0)\n"
     ]
    },
    {
     "name": "stderr",
     "output_type": "stream",
     "text": [
      "Process 24094:  27%|███████████████▎                                         | 24095/89761 [3:11:25<3:21:27,  5.43it/s]"
     ]
    },
    {
     "name": "stdout",
     "output_type": "stream",
     "text": [
      "Error: Expecting value: line 1 column 1 (char 0)\n"
     ]
    },
    {
     "name": "stderr",
     "output_type": "stream",
     "text": [
      "Process 24095:  27%|███████████████▎                                         | 24096/89761 [3:11:25<3:21:43,  5.43it/s]"
     ]
    },
    {
     "name": "stdout",
     "output_type": "stream",
     "text": [
      "Error: Expecting value: line 1 column 1 (char 0)\n"
     ]
    },
    {
     "name": "stderr",
     "output_type": "stream",
     "text": [
      "Process 24096:  27%|███████████████▎                                         | 24097/89761 [3:11:25<3:20:16,  5.46it/s]"
     ]
    },
    {
     "name": "stdout",
     "output_type": "stream",
     "text": [
      "Error: Expecting value: line 1 column 1 (char 0)\n"
     ]
    },
    {
     "name": "stderr",
     "output_type": "stream",
     "text": [
      "Process 24097:  27%|███████████████▎                                         | 24098/89761 [3:11:25<3:21:13,  5.44it/s]"
     ]
    },
    {
     "name": "stdout",
     "output_type": "stream",
     "text": [
      "Error: Expecting value: line 1 column 1 (char 0)\n"
     ]
    },
    {
     "name": "stderr",
     "output_type": "stream",
     "text": [
      "Process 24098:  27%|███████████████▎                                         | 24099/89761 [3:11:26<3:19:35,  5.48it/s]"
     ]
    },
    {
     "name": "stdout",
     "output_type": "stream",
     "text": [
      "Error: Expecting value: line 1 column 1 (char 0)\n"
     ]
    },
    {
     "name": "stderr",
     "output_type": "stream",
     "text": [
      "Process 24099:  27%|███████████████▎                                         | 24100/89761 [3:11:26<3:19:05,  5.50it/s]"
     ]
    },
    {
     "name": "stdout",
     "output_type": "stream",
     "text": [
      "Error: Expecting value: line 1 column 1 (char 0)\n"
     ]
    },
    {
     "name": "stderr",
     "output_type": "stream",
     "text": [
      "Process 24100:  27%|███████████████▎                                         | 24101/89761 [3:11:26<3:19:44,  5.48it/s]"
     ]
    },
    {
     "name": "stdout",
     "output_type": "stream",
     "text": [
      "Error: Expecting value: line 1 column 1 (char 0)\n"
     ]
    },
    {
     "name": "stderr",
     "output_type": "stream",
     "text": [
      "Process 24101:  27%|███████████████▎                                         | 24102/89761 [3:11:26<3:20:11,  5.47it/s]"
     ]
    },
    {
     "name": "stdout",
     "output_type": "stream",
     "text": [
      "Error: Expecting value: line 1 column 1 (char 0)\n"
     ]
    },
    {
     "name": "stderr",
     "output_type": "stream",
     "text": [
      "Process 24102:  27%|███████████████▎                                         | 24103/89761 [3:11:26<3:19:30,  5.48it/s]"
     ]
    },
    {
     "name": "stdout",
     "output_type": "stream",
     "text": [
      "Error: Expecting value: line 1 column 1 (char 0)\n"
     ]
    },
    {
     "name": "stderr",
     "output_type": "stream",
     "text": [
      "Process 24103:  27%|███████████████▎                                         | 24104/89761 [3:11:27<3:21:59,  5.42it/s]"
     ]
    },
    {
     "name": "stdout",
     "output_type": "stream",
     "text": [
      "Error: Expecting value: line 1 column 1 (char 0)\n"
     ]
    },
    {
     "name": "stderr",
     "output_type": "stream",
     "text": [
      "Process 24104:  27%|███████████████▎                                         | 24105/89761 [3:11:27<3:20:46,  5.45it/s]"
     ]
    },
    {
     "name": "stdout",
     "output_type": "stream",
     "text": [
      "Error: Expecting value: line 1 column 1 (char 0)\n"
     ]
    },
    {
     "name": "stderr",
     "output_type": "stream",
     "text": [
      "Process 32361:  36%|████████████████████▌                                    | 32362/89761 [4:16:35<7:13:26,  2.21it/s]"
     ]
    },
    {
     "name": "stdout",
     "output_type": "stream",
     "text": [
      "Error: 'NoneType' object has no attribute 'get'\n"
     ]
    },
    {
     "name": "stderr",
     "output_type": "stream",
     "text": [
      "Process 34725:  39%|██████████████████████                                   | 34726/89761 [4:35:52<7:40:12,  1.99it/s]"
     ]
    },
    {
     "name": "stdout",
     "output_type": "stream",
     "text": [
      "Error: 'NoneType' object has no attribute 'get'\n"
     ]
    },
    {
     "name": "stderr",
     "output_type": "stream",
     "text": [
      "Process 50291:  56%|███████████████████████████████▉                         | 50292/89761 [6:35:27<4:40:38,  2.34it/s]"
     ]
    },
    {
     "name": "stdout",
     "output_type": "stream",
     "text": [
      "Error: Expecting value: line 1 column 1 (char 0)\n"
     ]
    },
    {
     "name": "stderr",
     "output_type": "stream",
     "text": [
      "Process 50292:  56%|███████████████████████████████▉                         | 50293/89761 [6:35:27<3:52:08,  2.83it/s]"
     ]
    },
    {
     "name": "stdout",
     "output_type": "stream",
     "text": [
      "Error: Expecting value: line 1 column 1 (char 0)\n"
     ]
    },
    {
     "name": "stderr",
     "output_type": "stream",
     "text": [
      "Process 50293:  56%|███████████████████████████████▉                         | 50294/89761 [6:35:27<3:18:23,  3.32it/s]"
     ]
    },
    {
     "name": "stdout",
     "output_type": "stream",
     "text": [
      "Error: Expecting value: line 1 column 1 (char 0)\n"
     ]
    },
    {
     "name": "stderr",
     "output_type": "stream",
     "text": [
      "Process 50294:  56%|███████████████████████████████▉                         | 50295/89761 [6:35:28<2:54:10,  3.78it/s]"
     ]
    },
    {
     "name": "stdout",
     "output_type": "stream",
     "text": [
      "Error: Expecting value: line 1 column 1 (char 0)\n"
     ]
    },
    {
     "name": "stderr",
     "output_type": "stream",
     "text": [
      "Process 50295:  56%|███████████████████████████████▉                         | 50296/89761 [6:35:28<2:37:01,  4.19it/s]"
     ]
    },
    {
     "name": "stdout",
     "output_type": "stream",
     "text": [
      "Error: Expecting value: line 1 column 1 (char 0)\n"
     ]
    },
    {
     "name": "stderr",
     "output_type": "stream",
     "text": [
      "Process 50296:  56%|███████████████████████████████▉                         | 50297/89761 [6:35:28<2:24:25,  4.55it/s]"
     ]
    },
    {
     "name": "stdout",
     "output_type": "stream",
     "text": [
      "Error: Expecting value: line 1 column 1 (char 0)\n"
     ]
    },
    {
     "name": "stderr",
     "output_type": "stream",
     "text": [
      "Process 50297:  56%|███████████████████████████████▉                         | 50298/89761 [6:35:28<2:17:34,  4.78it/s]"
     ]
    },
    {
     "name": "stdout",
     "output_type": "stream",
     "text": [
      "Error: Expecting value: line 1 column 1 (char 0)\n"
     ]
    },
    {
     "name": "stderr",
     "output_type": "stream",
     "text": [
      "Process 50298:  56%|███████████████████████████████▉                         | 50299/89761 [6:35:28<2:11:00,  5.02it/s]"
     ]
    },
    {
     "name": "stdout",
     "output_type": "stream",
     "text": [
      "Error: Expecting value: line 1 column 1 (char 0)\n"
     ]
    },
    {
     "name": "stderr",
     "output_type": "stream",
     "text": [
      "Process 50299:  56%|███████████████████████████████▉                         | 50300/89761 [6:35:28<2:06:36,  5.19it/s]"
     ]
    },
    {
     "name": "stdout",
     "output_type": "stream",
     "text": [
      "Error: Expecting value: line 1 column 1 (char 0)\n"
     ]
    },
    {
     "name": "stderr",
     "output_type": "stream",
     "text": [
      "Process 50300:  56%|███████████████████████████████▉                         | 50301/89761 [6:35:29<2:04:06,  5.30it/s]"
     ]
    },
    {
     "name": "stdout",
     "output_type": "stream",
     "text": [
      "Error: Expecting value: line 1 column 1 (char 0)\n"
     ]
    },
    {
     "name": "stderr",
     "output_type": "stream",
     "text": [
      "Process 50301:  56%|███████████████████████████████▉                         | 50302/89761 [6:35:29<2:01:46,  5.40it/s]"
     ]
    },
    {
     "name": "stdout",
     "output_type": "stream",
     "text": [
      "Error: Expecting value: line 1 column 1 (char 0)\n"
     ]
    },
    {
     "name": "stderr",
     "output_type": "stream",
     "text": [
      "Process 50302:  56%|███████████████████████████████▉                         | 50303/89761 [6:35:29<2:01:19,  5.42it/s]"
     ]
    },
    {
     "name": "stdout",
     "output_type": "stream",
     "text": [
      "Error: Expecting value: line 1 column 1 (char 0)\n"
     ]
    },
    {
     "name": "stderr",
     "output_type": "stream",
     "text": [
      "Process 50303:  56%|███████████████████████████████▉                         | 50304/89761 [6:35:29<1:59:49,  5.49it/s]"
     ]
    },
    {
     "name": "stdout",
     "output_type": "stream",
     "text": [
      "Error: Expecting value: line 1 column 1 (char 0)\n"
     ]
    },
    {
     "name": "stderr",
     "output_type": "stream",
     "text": [
      "Process 50304:  56%|███████████████████████████████▉                         | 50305/89761 [6:35:29<1:59:21,  5.51it/s]"
     ]
    },
    {
     "name": "stdout",
     "output_type": "stream",
     "text": [
      "Error: Expecting value: line 1 column 1 (char 0)\n"
     ]
    },
    {
     "name": "stderr",
     "output_type": "stream",
     "text": [
      "Process 50305:  56%|███████████████████████████████▉                         | 50306/89761 [6:35:30<1:59:49,  5.49it/s]"
     ]
    },
    {
     "name": "stdout",
     "output_type": "stream",
     "text": [
      "Error: Expecting value: line 1 column 1 (char 0)\n"
     ]
    },
    {
     "name": "stderr",
     "output_type": "stream",
     "text": [
      "Process 50306:  56%|███████████████████████████████▉                         | 50307/89761 [6:35:30<1:59:45,  5.49it/s]"
     ]
    },
    {
     "name": "stdout",
     "output_type": "stream",
     "text": [
      "Error: Expecting value: line 1 column 1 (char 0)\n"
     ]
    },
    {
     "name": "stderr",
     "output_type": "stream",
     "text": [
      "Process 50307:  56%|███████████████████████████████▉                         | 50308/89761 [6:35:30<1:59:19,  5.51it/s]"
     ]
    },
    {
     "name": "stdout",
     "output_type": "stream",
     "text": [
      "Error: Expecting value: line 1 column 1 (char 0)\n"
     ]
    },
    {
     "name": "stderr",
     "output_type": "stream",
     "text": [
      "Process 50308:  56%|███████████████████████████████▉                         | 50309/89761 [6:35:30<1:57:49,  5.58it/s]"
     ]
    },
    {
     "name": "stdout",
     "output_type": "stream",
     "text": [
      "Error: Expecting value: line 1 column 1 (char 0)\n"
     ]
    },
    {
     "name": "stderr",
     "output_type": "stream",
     "text": [
      "Process 50309:  56%|███████████████████████████████▉                         | 50310/89761 [6:35:30<1:57:10,  5.61it/s]"
     ]
    },
    {
     "name": "stdout",
     "output_type": "stream",
     "text": [
      "Error: Expecting value: line 1 column 1 (char 0)\n"
     ]
    },
    {
     "name": "stderr",
     "output_type": "stream",
     "text": [
      "Process 50310:  56%|███████████████████████████████▉                         | 50311/89761 [6:35:30<1:56:43,  5.63it/s]"
     ]
    },
    {
     "name": "stdout",
     "output_type": "stream",
     "text": [
      "Error: Expecting value: line 1 column 1 (char 0)\n"
     ]
    },
    {
     "name": "stderr",
     "output_type": "stream",
     "text": [
      "Process 50311:  56%|███████████████████████████████▉                         | 50312/89761 [6:35:31<1:57:34,  5.59it/s]"
     ]
    },
    {
     "name": "stdout",
     "output_type": "stream",
     "text": [
      "Error: Expecting value: line 1 column 1 (char 0)\n"
     ]
    },
    {
     "name": "stderr",
     "output_type": "stream",
     "text": [
      "Process 50312:  56%|███████████████████████████████▉                         | 50313/89761 [6:35:31<1:56:59,  5.62it/s]"
     ]
    },
    {
     "name": "stdout",
     "output_type": "stream",
     "text": [
      "Error: Expecting value: line 1 column 1 (char 0)\n"
     ]
    },
    {
     "name": "stderr",
     "output_type": "stream",
     "text": [
      "Process 50313:  56%|███████████████████████████████▉                         | 50314/89761 [6:35:31<1:56:35,  5.64it/s]"
     ]
    },
    {
     "name": "stdout",
     "output_type": "stream",
     "text": [
      "Error: Expecting value: line 1 column 1 (char 0)\n"
     ]
    },
    {
     "name": "stderr",
     "output_type": "stream",
     "text": [
      "Process 50314:  56%|███████████████████████████████▉                         | 50315/89761 [6:35:31<1:56:30,  5.64it/s]"
     ]
    },
    {
     "name": "stdout",
     "output_type": "stream",
     "text": [
      "Error: Expecting value: line 1 column 1 (char 0)\n"
     ]
    },
    {
     "name": "stderr",
     "output_type": "stream",
     "text": [
      "Process 50315:  56%|███████████████████████████████▉                         | 50316/89761 [6:35:31<1:56:49,  5.63it/s]"
     ]
    },
    {
     "name": "stdout",
     "output_type": "stream",
     "text": [
      "Error: Expecting value: line 1 column 1 (char 0)\n"
     ]
    },
    {
     "name": "stderr",
     "output_type": "stream",
     "text": [
      "Process 50316:  56%|███████████████████████████████▉                         | 50317/89761 [6:35:32<1:57:27,  5.60it/s]"
     ]
    },
    {
     "name": "stdout",
     "output_type": "stream",
     "text": [
      "Error: Expecting value: line 1 column 1 (char 0)\n"
     ]
    },
    {
     "name": "stderr",
     "output_type": "stream",
     "text": [
      "Process 50317:  56%|███████████████████████████████▉                         | 50318/89761 [6:35:32<1:57:06,  5.61it/s]"
     ]
    },
    {
     "name": "stdout",
     "output_type": "stream",
     "text": [
      "Error: Expecting value: line 1 column 1 (char 0)\n"
     ]
    },
    {
     "name": "stderr",
     "output_type": "stream",
     "text": [
      "Process 50318:  56%|███████████████████████████████▉                         | 50319/89761 [6:35:32<1:58:26,  5.55it/s]"
     ]
    },
    {
     "name": "stdout",
     "output_type": "stream",
     "text": [
      "Error: Expecting value: line 1 column 1 (char 0)\n"
     ]
    },
    {
     "name": "stderr",
     "output_type": "stream",
     "text": [
      "Process 50319:  56%|███████████████████████████████▉                         | 50320/89761 [6:35:32<1:58:34,  5.54it/s]"
     ]
    },
    {
     "name": "stdout",
     "output_type": "stream",
     "text": [
      "Error: Expecting value: line 1 column 1 (char 0)\n"
     ]
    },
    {
     "name": "stderr",
     "output_type": "stream",
     "text": [
      "Process 50320:  56%|███████████████████████████████▉                         | 50321/89761 [6:35:32<1:58:04,  5.57it/s]"
     ]
    },
    {
     "name": "stdout",
     "output_type": "stream",
     "text": [
      "Error: Expecting value: line 1 column 1 (char 0)\n"
     ]
    },
    {
     "name": "stderr",
     "output_type": "stream",
     "text": [
      "Process 50321:  56%|███████████████████████████████▉                         | 50322/89761 [6:35:32<1:57:20,  5.60it/s]"
     ]
    },
    {
     "name": "stdout",
     "output_type": "stream",
     "text": [
      "Error: Expecting value: line 1 column 1 (char 0)\n"
     ]
    },
    {
     "name": "stderr",
     "output_type": "stream",
     "text": [
      "Process 50322:  56%|███████████████████████████████▉                         | 50323/89761 [6:35:33<1:57:01,  5.62it/s]"
     ]
    },
    {
     "name": "stdout",
     "output_type": "stream",
     "text": [
      "Error: Expecting value: line 1 column 1 (char 0)\n"
     ]
    },
    {
     "name": "stderr",
     "output_type": "stream",
     "text": [
      "Process 50323:  56%|███████████████████████████████▉                         | 50324/89761 [6:35:33<1:57:46,  5.58it/s]"
     ]
    },
    {
     "name": "stdout",
     "output_type": "stream",
     "text": [
      "Error: Expecting value: line 1 column 1 (char 0)\n"
     ]
    },
    {
     "name": "stderr",
     "output_type": "stream",
     "text": [
      "Process 50324:  56%|███████████████████████████████▉                         | 50325/89761 [6:35:33<1:57:07,  5.61it/s]"
     ]
    },
    {
     "name": "stdout",
     "output_type": "stream",
     "text": [
      "Error: Expecting value: line 1 column 1 (char 0)\n"
     ]
    },
    {
     "name": "stderr",
     "output_type": "stream",
     "text": [
      "Process 50325:  56%|███████████████████████████████▉                         | 50326/89761 [6:35:33<1:57:03,  5.61it/s]"
     ]
    },
    {
     "name": "stdout",
     "output_type": "stream",
     "text": [
      "Error: Expecting value: line 1 column 1 (char 0)\n"
     ]
    },
    {
     "name": "stderr",
     "output_type": "stream",
     "text": [
      "Process 50326:  56%|███████████████████████████████▉                         | 50327/89761 [6:35:33<1:56:37,  5.64it/s]"
     ]
    },
    {
     "name": "stdout",
     "output_type": "stream",
     "text": [
      "Error: Expecting value: line 1 column 1 (char 0)\n"
     ]
    },
    {
     "name": "stderr",
     "output_type": "stream",
     "text": [
      "Process 50327:  56%|███████████████████████████████▉                         | 50328/89761 [6:35:33<1:56:30,  5.64it/s]"
     ]
    },
    {
     "name": "stdout",
     "output_type": "stream",
     "text": [
      "Error: Expecting value: line 1 column 1 (char 0)\n"
     ]
    },
    {
     "name": "stderr",
     "output_type": "stream",
     "text": [
      "Process 50328:  56%|███████████████████████████████▉                         | 50329/89761 [6:35:34<1:56:26,  5.64it/s]"
     ]
    },
    {
     "name": "stdout",
     "output_type": "stream",
     "text": [
      "Error: Expecting value: line 1 column 1 (char 0)\n"
     ]
    },
    {
     "name": "stderr",
     "output_type": "stream",
     "text": [
      "Process 50329:  56%|███████████████████████████████▉                         | 50330/89761 [6:35:34<1:57:21,  5.60it/s]"
     ]
    },
    {
     "name": "stdout",
     "output_type": "stream",
     "text": [
      "Error: Expecting value: line 1 column 1 (char 0)\n"
     ]
    },
    {
     "name": "stderr",
     "output_type": "stream",
     "text": [
      "Process 50330:  56%|███████████████████████████████▉                         | 50331/89761 [6:35:34<1:56:49,  5.62it/s]"
     ]
    },
    {
     "name": "stdout",
     "output_type": "stream",
     "text": [
      "Error: Expecting value: line 1 column 1 (char 0)\n"
     ]
    },
    {
     "name": "stderr",
     "output_type": "stream",
     "text": [
      "Process 50331:  56%|███████████████████████████████▉                         | 50332/89761 [6:35:34<1:57:26,  5.60it/s]"
     ]
    },
    {
     "name": "stdout",
     "output_type": "stream",
     "text": [
      "Error: Expecting value: line 1 column 1 (char 0)\n"
     ]
    },
    {
     "name": "stderr",
     "output_type": "stream",
     "text": [
      "Process 50332:  56%|███████████████████████████████▉                         | 50333/89761 [6:35:34<1:56:29,  5.64it/s]"
     ]
    },
    {
     "name": "stdout",
     "output_type": "stream",
     "text": [
      "Error: Expecting value: line 1 column 1 (char 0)\n"
     ]
    },
    {
     "name": "stderr",
     "output_type": "stream",
     "text": [
      "Process 50333:  56%|███████████████████████████████▉                         | 50334/89761 [6:35:35<1:55:25,  5.69it/s]"
     ]
    },
    {
     "name": "stdout",
     "output_type": "stream",
     "text": [
      "Error: Expecting value: line 1 column 1 (char 0)\n"
     ]
    },
    {
     "name": "stderr",
     "output_type": "stream",
     "text": [
      "Process 50334:  56%|███████████████████████████████▉                         | 50335/89761 [6:35:35<1:55:04,  5.71it/s]"
     ]
    },
    {
     "name": "stdout",
     "output_type": "stream",
     "text": [
      "Error: Expecting value: line 1 column 1 (char 0)\n"
     ]
    },
    {
     "name": "stderr",
     "output_type": "stream",
     "text": [
      "Process 50335:  56%|███████████████████████████████▉                         | 50336/89761 [6:35:35<1:54:50,  5.72it/s]"
     ]
    },
    {
     "name": "stdout",
     "output_type": "stream",
     "text": [
      "Error: Expecting value: line 1 column 1 (char 0)\n"
     ]
    },
    {
     "name": "stderr",
     "output_type": "stream",
     "text": [
      "Process 50336:  56%|███████████████████████████████▉                         | 50337/89761 [6:35:35<1:55:15,  5.70it/s]"
     ]
    },
    {
     "name": "stdout",
     "output_type": "stream",
     "text": [
      "Error: Expecting value: line 1 column 1 (char 0)\n"
     ]
    },
    {
     "name": "stderr",
     "output_type": "stream",
     "text": [
      "Process 50337:  56%|███████████████████████████████▉                         | 50338/89761 [6:35:35<1:55:32,  5.69it/s]"
     ]
    },
    {
     "name": "stdout",
     "output_type": "stream",
     "text": [
      "Error: Expecting value: line 1 column 1 (char 0)\n"
     ]
    },
    {
     "name": "stderr",
     "output_type": "stream",
     "text": [
      "Process 50338:  56%|███████████████████████████████▉                         | 50339/89761 [6:35:35<1:58:06,  5.56it/s]"
     ]
    },
    {
     "name": "stdout",
     "output_type": "stream",
     "text": [
      "Error: Expecting value: line 1 column 1 (char 0)\n"
     ]
    },
    {
     "name": "stderr",
     "output_type": "stream",
     "text": [
      "Process 50339:  56%|███████████████████████████████▉                         | 50340/89761 [6:35:36<1:57:56,  5.57it/s]"
     ]
    },
    {
     "name": "stdout",
     "output_type": "stream",
     "text": [
      "Error: Expecting value: line 1 column 1 (char 0)\n"
     ]
    },
    {
     "name": "stderr",
     "output_type": "stream",
     "text": [
      "Process 50340:  56%|███████████████████████████████▉                         | 50341/89761 [6:35:36<2:00:57,  5.43it/s]"
     ]
    },
    {
     "name": "stdout",
     "output_type": "stream",
     "text": [
      "Error: Expecting value: line 1 column 1 (char 0)\n"
     ]
    },
    {
     "name": "stderr",
     "output_type": "stream",
     "text": [
      "Process 50341:  56%|███████████████████████████████▉                         | 50342/89761 [6:35:36<1:59:56,  5.48it/s]"
     ]
    },
    {
     "name": "stdout",
     "output_type": "stream",
     "text": [
      "Error: Expecting value: line 1 column 1 (char 0)\n"
     ]
    },
    {
     "name": "stderr",
     "output_type": "stream",
     "text": [
      "Process 50342:  56%|███████████████████████████████▉                         | 50343/89761 [6:35:36<2:01:22,  5.41it/s]"
     ]
    },
    {
     "name": "stdout",
     "output_type": "stream",
     "text": [
      "Error: Expecting value: line 1 column 1 (char 0)\n"
     ]
    },
    {
     "name": "stderr",
     "output_type": "stream",
     "text": [
      "Process 50343:  56%|███████████████████████████████▉                         | 50344/89761 [6:35:36<2:00:48,  5.44it/s]"
     ]
    },
    {
     "name": "stdout",
     "output_type": "stream",
     "text": [
      "Error: Expecting value: line 1 column 1 (char 0)\n"
     ]
    },
    {
     "name": "stderr",
     "output_type": "stream",
     "text": [
      "Process 50344:  56%|███████████████████████████████▉                         | 50345/89761 [6:35:37<1:59:25,  5.50it/s]"
     ]
    },
    {
     "name": "stdout",
     "output_type": "stream",
     "text": [
      "Error: Expecting value: line 1 column 1 (char 0)\n"
     ]
    },
    {
     "name": "stderr",
     "output_type": "stream",
     "text": [
      "Process 50345:  56%|███████████████████████████████▉                         | 50346/89761 [6:35:37<2:00:13,  5.46it/s]"
     ]
    },
    {
     "name": "stdout",
     "output_type": "stream",
     "text": [
      "Error: Expecting value: line 1 column 1 (char 0)\n"
     ]
    },
    {
     "name": "stderr",
     "output_type": "stream",
     "text": [
      "Process 50346:  56%|███████████████████████████████▉                         | 50347/89761 [6:35:37<2:01:58,  5.39it/s]"
     ]
    },
    {
     "name": "stdout",
     "output_type": "stream",
     "text": [
      "Error: Expecting value: line 1 column 1 (char 0)\n"
     ]
    },
    {
     "name": "stderr",
     "output_type": "stream",
     "text": [
      "Process 50347:  56%|███████████████████████████████▉                         | 50348/89761 [6:35:37<2:00:26,  5.45it/s]"
     ]
    },
    {
     "name": "stdout",
     "output_type": "stream",
     "text": [
      "Error: Expecting value: line 1 column 1 (char 0)\n"
     ]
    },
    {
     "name": "stderr",
     "output_type": "stream",
     "text": [
      "Process 50348:  56%|███████████████████████████████▉                         | 50349/89761 [6:35:37<2:00:08,  5.47it/s]"
     ]
    },
    {
     "name": "stdout",
     "output_type": "stream",
     "text": [
      "Error: Expecting value: line 1 column 1 (char 0)\n"
     ]
    },
    {
     "name": "stderr",
     "output_type": "stream",
     "text": [
      "Process 50349:  56%|███████████████████████████████▉                         | 50350/89761 [6:35:37<2:00:44,  5.44it/s]"
     ]
    },
    {
     "name": "stdout",
     "output_type": "stream",
     "text": [
      "Error: Expecting value: line 1 column 1 (char 0)\n"
     ]
    },
    {
     "name": "stderr",
     "output_type": "stream",
     "text": [
      "Process 50350:  56%|███████████████████████████████▉                         | 50351/89761 [6:35:38<2:00:09,  5.47it/s]"
     ]
    },
    {
     "name": "stdout",
     "output_type": "stream",
     "text": [
      "Error: Expecting value: line 1 column 1 (char 0)\n"
     ]
    },
    {
     "name": "stderr",
     "output_type": "stream",
     "text": [
      "Process 50351:  56%|███████████████████████████████▉                         | 50352/89761 [6:35:38<1:59:56,  5.48it/s]"
     ]
    },
    {
     "name": "stdout",
     "output_type": "stream",
     "text": [
      "Error: Expecting value: line 1 column 1 (char 0)\n"
     ]
    },
    {
     "name": "stderr",
     "output_type": "stream",
     "text": [
      "Process 77713:  87%|█████████████████████████████████████████████████▎       | 77714/89761 [9:51:49<1:24:02,  2.39it/s]"
     ]
    },
    {
     "name": "stdout",
     "output_type": "stream",
     "text": [
      "Error: 'NoneType' object has no attribute 'get'\n"
     ]
    },
    {
     "name": "stderr",
     "output_type": "stream",
     "text": [
      "Process 83717:  93%|██████████████████████████████████████████████████████    | 83718/89761 [10:34:27<49:52,  2.02it/s]"
     ]
    },
    {
     "name": "stdout",
     "output_type": "stream",
     "text": [
      "Error: Expecting value: line 1 column 1 (char 0)\n"
     ]
    },
    {
     "name": "stderr",
     "output_type": "stream",
     "text": [
      "Process 83718:  93%|███████████████████████████████████████████████████▎   | 83719/89761 [10:35:27<30:54:36, 18.42s/it]"
     ]
    },
    {
     "name": "stdout",
     "output_type": "stream",
     "text": [
      "Error: Expecting value: line 1 column 1 (char 0)\n"
     ]
    },
    {
     "name": "stderr",
     "output_type": "stream",
     "text": [
      "Process 83719:  93%|███████████████████████████████████████████████████▎   | 83720/89761 [10:35:27<21:43:19, 12.94s/it]"
     ]
    },
    {
     "name": "stdout",
     "output_type": "stream",
     "text": [
      "Error: Expecting value: line 1 column 1 (char 0)\n"
     ]
    },
    {
     "name": "stderr",
     "output_type": "stream",
     "text": [
      "Process 83720:  93%|███████████████████████████████████████████████████▎   | 83721/89761 [10:35:27<15:17:33,  9.11s/it]"
     ]
    },
    {
     "name": "stdout",
     "output_type": "stream",
     "text": [
      "Error: Expecting value: line 1 column 1 (char 0)\n"
     ]
    },
    {
     "name": "stderr",
     "output_type": "stream",
     "text": [
      "Process 83721:  93%|███████████████████████████████████████████████████▎   | 83722/89761 [10:35:27<10:47:29,  6.43s/it]"
     ]
    },
    {
     "name": "stdout",
     "output_type": "stream",
     "text": [
      "Error: Expecting value: line 1 column 1 (char 0)\n"
     ]
    },
    {
     "name": "stderr",
     "output_type": "stream",
     "text": [
      "Process 83722:  93%|████████████████████████████████████████████████████▏   | 83723/89761 [10:35:28<7:38:32,  4.56s/it]"
     ]
    },
    {
     "name": "stdout",
     "output_type": "stream",
     "text": [
      "Error: Expecting value: line 1 column 1 (char 0)\n"
     ]
    },
    {
     "name": "stderr",
     "output_type": "stream",
     "text": [
      "Process 83723:  93%|████████████████████████████████████████████████████▏   | 83724/89761 [10:35:28<5:26:19,  3.24s/it]"
     ]
    },
    {
     "name": "stdout",
     "output_type": "stream",
     "text": [
      "Error: Expecting value: line 1 column 1 (char 0)\n"
     ]
    },
    {
     "name": "stderr",
     "output_type": "stream",
     "text": [
      "Process 83724:  93%|████████████████████████████████████████████████████▏   | 83725/89761 [10:35:28<3:53:47,  2.32s/it]"
     ]
    },
    {
     "name": "stdout",
     "output_type": "stream",
     "text": [
      "Error: Expecting value: line 1 column 1 (char 0)\n"
     ]
    },
    {
     "name": "stderr",
     "output_type": "stream",
     "text": [
      "Process 83725:  93%|████████████████████████████████████████████████████▏   | 83726/89761 [10:35:28<2:49:15,  1.68s/it]"
     ]
    },
    {
     "name": "stdout",
     "output_type": "stream",
     "text": [
      "Error: Expecting value: line 1 column 1 (char 0)\n"
     ]
    },
    {
     "name": "stderr",
     "output_type": "stream",
     "text": [
      "Process 83726:  93%|████████████████████████████████████████████████████▏   | 83727/89761 [10:35:28<2:04:11,  1.23s/it]"
     ]
    },
    {
     "name": "stdout",
     "output_type": "stream",
     "text": [
      "Error: Expecting value: line 1 column 1 (char 0)\n"
     ]
    },
    {
     "name": "stderr",
     "output_type": "stream",
     "text": [
      "Process 83727:  93%|████████████████████████████████████████████████████▏   | 83728/89761 [10:35:29<1:32:26,  1.09it/s]"
     ]
    },
    {
     "name": "stdout",
     "output_type": "stream",
     "text": [
      "Error: Expecting value: line 1 column 1 (char 0)\n"
     ]
    },
    {
     "name": "stderr",
     "output_type": "stream",
     "text": [
      "Process 83728:  93%|████████████████████████████████████████████████████▏   | 83729/89761 [10:35:29<1:10:05,  1.43it/s]"
     ]
    },
    {
     "name": "stdout",
     "output_type": "stream",
     "text": [
      "Error: Expecting value: line 1 column 1 (char 0)\n"
     ]
    },
    {
     "name": "stderr",
     "output_type": "stream",
     "text": [
      "Process 83729:  93%|██████████████████████████████████████████████████████    | 83730/89761 [10:35:29<54:28,  1.84it/s]"
     ]
    },
    {
     "name": "stdout",
     "output_type": "stream",
     "text": [
      "Error: Expecting value: line 1 column 1 (char 0)\n"
     ]
    },
    {
     "name": "stderr",
     "output_type": "stream",
     "text": [
      "Process 83730:  93%|██████████████████████████████████████████████████████    | 83731/89761 [10:35:29<43:54,  2.29it/s]"
     ]
    },
    {
     "name": "stdout",
     "output_type": "stream",
     "text": [
      "Error: Expecting value: line 1 column 1 (char 0)\n"
     ]
    },
    {
     "name": "stderr",
     "output_type": "stream",
     "text": [
      "Process 83731:  93%|██████████████████████████████████████████████████████    | 83732/89761 [10:35:29<36:09,  2.78it/s]"
     ]
    },
    {
     "name": "stdout",
     "output_type": "stream",
     "text": [
      "Error: Expecting value: line 1 column 1 (char 0)\n"
     ]
    },
    {
     "name": "stderr",
     "output_type": "stream",
     "text": [
      "Process 83732:  93%|██████████████████████████████████████████████████████    | 83733/89761 [10:35:29<30:40,  3.28it/s]"
     ]
    },
    {
     "name": "stdout",
     "output_type": "stream",
     "text": [
      "Error: Expecting value: line 1 column 1 (char 0)\n"
     ]
    },
    {
     "name": "stderr",
     "output_type": "stream",
     "text": [
      "Process 83733:  93%|██████████████████████████████████████████████████████    | 83734/89761 [10:35:30<26:47,  3.75it/s]"
     ]
    },
    {
     "name": "stdout",
     "output_type": "stream",
     "text": [
      "Error: Expecting value: line 1 column 1 (char 0)\n"
     ]
    },
    {
     "name": "stderr",
     "output_type": "stream",
     "text": [
      "Process 83734:  93%|██████████████████████████████████████████████████████    | 83735/89761 [10:35:30<24:12,  4.15it/s]"
     ]
    },
    {
     "name": "stdout",
     "output_type": "stream",
     "text": [
      "Error: Expecting value: line 1 column 1 (char 0)\n"
     ]
    },
    {
     "name": "stderr",
     "output_type": "stream",
     "text": [
      "Process 83735:  93%|██████████████████████████████████████████████████████    | 83736/89761 [10:35:30<22:23,  4.48it/s]"
     ]
    },
    {
     "name": "stdout",
     "output_type": "stream",
     "text": [
      "Error: Expecting value: line 1 column 1 (char 0)\n"
     ]
    },
    {
     "name": "stderr",
     "output_type": "stream",
     "text": [
      "Process 83736:  93%|██████████████████████████████████████████████████████    | 83737/89761 [10:35:30<21:03,  4.77it/s]"
     ]
    },
    {
     "name": "stdout",
     "output_type": "stream",
     "text": [
      "Error: Expecting value: line 1 column 1 (char 0)\n"
     ]
    },
    {
     "name": "stderr",
     "output_type": "stream",
     "text": [
      "Process 83737:  93%|██████████████████████████████████████████████████████    | 83738/89761 [10:35:30<20:05,  5.00it/s]"
     ]
    },
    {
     "name": "stdout",
     "output_type": "stream",
     "text": [
      "Error: Expecting value: line 1 column 1 (char 0)\n"
     ]
    },
    {
     "name": "stderr",
     "output_type": "stream",
     "text": [
      "Process 83738:  93%|██████████████████████████████████████████████████████    | 83739/89761 [10:35:31<19:23,  5.18it/s]"
     ]
    },
    {
     "name": "stdout",
     "output_type": "stream",
     "text": [
      "Error: Expecting value: line 1 column 1 (char 0)\n"
     ]
    },
    {
     "name": "stderr",
     "output_type": "stream",
     "text": [
      "Process 83739:  93%|██████████████████████████████████████████████████████    | 83740/89761 [10:35:31<18:53,  5.31it/s]"
     ]
    },
    {
     "name": "stdout",
     "output_type": "stream",
     "text": [
      "Error: Expecting value: line 1 column 1 (char 0)\n"
     ]
    },
    {
     "name": "stderr",
     "output_type": "stream",
     "text": [
      "Process 83740:  93%|██████████████████████████████████████████████████████    | 83741/89761 [10:35:31<18:49,  5.33it/s]"
     ]
    },
    {
     "name": "stdout",
     "output_type": "stream",
     "text": [
      "Error: Expecting value: line 1 column 1 (char 0)\n"
     ]
    },
    {
     "name": "stderr",
     "output_type": "stream",
     "text": [
      "Process 83741:  93%|██████████████████████████████████████████████████████    | 83742/89761 [10:35:31<18:29,  5.42it/s]"
     ]
    },
    {
     "name": "stdout",
     "output_type": "stream",
     "text": [
      "Error: Expecting value: line 1 column 1 (char 0)\n"
     ]
    },
    {
     "name": "stderr",
     "output_type": "stream",
     "text": [
      "Process 83742:  93%|██████████████████████████████████████████████████████    | 83743/89761 [10:35:31<18:25,  5.45it/s]"
     ]
    },
    {
     "name": "stdout",
     "output_type": "stream",
     "text": [
      "Error: Expecting value: line 1 column 1 (char 0)\n"
     ]
    },
    {
     "name": "stderr",
     "output_type": "stream",
     "text": [
      "Process 83743:  93%|██████████████████████████████████████████████████████    | 83744/89761 [10:35:31<18:29,  5.43it/s]"
     ]
    },
    {
     "name": "stdout",
     "output_type": "stream",
     "text": [
      "Error: Expecting value: line 1 column 1 (char 0)\n"
     ]
    },
    {
     "name": "stderr",
     "output_type": "stream",
     "text": [
      "Process 83744:  93%|██████████████████████████████████████████████████████    | 83745/89761 [10:35:32<18:26,  5.44it/s]"
     ]
    },
    {
     "name": "stdout",
     "output_type": "stream",
     "text": [
      "Error: Expecting value: line 1 column 1 (char 0)\n"
     ]
    },
    {
     "name": "stderr",
     "output_type": "stream",
     "text": [
      "Process 83745:  93%|██████████████████████████████████████████████████████    | 83746/89761 [10:35:32<18:18,  5.47it/s]"
     ]
    },
    {
     "name": "stdout",
     "output_type": "stream",
     "text": [
      "Error: Expecting value: line 1 column 1 (char 0)\n"
     ]
    },
    {
     "name": "stderr",
     "output_type": "stream",
     "text": [
      "Process 83746:  93%|██████████████████████████████████████████████████████    | 83747/89761 [10:35:32<18:01,  5.56it/s]"
     ]
    },
    {
     "name": "stdout",
     "output_type": "stream",
     "text": [
      "Error: Expecting value: line 1 column 1 (char 0)\n"
     ]
    },
    {
     "name": "stderr",
     "output_type": "stream",
     "text": [
      "Process 83747:  93%|██████████████████████████████████████████████████████    | 83748/89761 [10:35:32<17:55,  5.59it/s]"
     ]
    },
    {
     "name": "stdout",
     "output_type": "stream",
     "text": [
      "Error: Expecting value: line 1 column 1 (char 0)\n"
     ]
    },
    {
     "name": "stderr",
     "output_type": "stream",
     "text": [
      "Process 83748:  93%|██████████████████████████████████████████████████████    | 83749/89761 [10:35:32<17:48,  5.63it/s]"
     ]
    },
    {
     "name": "stdout",
     "output_type": "stream",
     "text": [
      "Error: Expecting value: line 1 column 1 (char 0)\n"
     ]
    },
    {
     "name": "stderr",
     "output_type": "stream",
     "text": [
      "Process 83749:  93%|██████████████████████████████████████████████████████    | 83750/89761 [10:35:33<17:50,  5.62it/s]"
     ]
    },
    {
     "name": "stdout",
     "output_type": "stream",
     "text": [
      "Error: Expecting value: line 1 column 1 (char 0)\n"
     ]
    },
    {
     "name": "stderr",
     "output_type": "stream",
     "text": [
      "Process 83750:  93%|██████████████████████████████████████████████████████    | 83751/89761 [10:35:33<17:49,  5.62it/s]"
     ]
    },
    {
     "name": "stdout",
     "output_type": "stream",
     "text": [
      "Error: Expecting value: line 1 column 1 (char 0)\n"
     ]
    },
    {
     "name": "stderr",
     "output_type": "stream",
     "text": [
      "Process 83751:  93%|██████████████████████████████████████████████████████    | 83752/89761 [10:35:33<17:51,  5.61it/s]"
     ]
    },
    {
     "name": "stdout",
     "output_type": "stream",
     "text": [
      "Error: Expecting value: line 1 column 1 (char 0)\n"
     ]
    },
    {
     "name": "stderr",
     "output_type": "stream",
     "text": [
      "Process 83752:  93%|██████████████████████████████████████████████████████    | 83753/89761 [10:35:33<17:54,  5.59it/s]"
     ]
    },
    {
     "name": "stdout",
     "output_type": "stream",
     "text": [
      "Error: Expecting value: line 1 column 1 (char 0)\n"
     ]
    },
    {
     "name": "stderr",
     "output_type": "stream",
     "text": [
      "Process 83753:  93%|██████████████████████████████████████████████████████    | 83754/89761 [10:35:33<18:17,  5.47it/s]"
     ]
    },
    {
     "name": "stdout",
     "output_type": "stream",
     "text": [
      "Error: Expecting value: line 1 column 1 (char 0)\n"
     ]
    },
    {
     "name": "stderr",
     "output_type": "stream",
     "text": [
      "Process 83754:  93%|██████████████████████████████████████████████████████    | 83755/89761 [10:35:33<18:12,  5.50it/s]"
     ]
    },
    {
     "name": "stdout",
     "output_type": "stream",
     "text": [
      "Error: Expecting value: line 1 column 1 (char 0)\n"
     ]
    },
    {
     "name": "stderr",
     "output_type": "stream",
     "text": [
      "Process 83755:  93%|██████████████████████████████████████████████████████    | 83756/89761 [10:35:34<18:17,  5.47it/s]"
     ]
    },
    {
     "name": "stdout",
     "output_type": "stream",
     "text": [
      "Error: Expecting value: line 1 column 1 (char 0)\n"
     ]
    },
    {
     "name": "stderr",
     "output_type": "stream",
     "text": [
      "Process 83756:  93%|██████████████████████████████████████████████████████    | 83757/89761 [10:35:34<18:03,  5.54it/s]"
     ]
    },
    {
     "name": "stdout",
     "output_type": "stream",
     "text": [
      "Error: Expecting value: line 1 column 1 (char 0)\n"
     ]
    },
    {
     "name": "stderr",
     "output_type": "stream",
     "text": [
      "Process 83757:  93%|██████████████████████████████████████████████████████    | 83758/89761 [10:35:34<17:56,  5.58it/s]"
     ]
    },
    {
     "name": "stdout",
     "output_type": "stream",
     "text": [
      "Error: Expecting value: line 1 column 1 (char 0)\n"
     ]
    },
    {
     "name": "stderr",
     "output_type": "stream",
     "text": [
      "Process 83758:  93%|██████████████████████████████████████████████████████    | 83759/89761 [10:35:34<17:57,  5.57it/s]"
     ]
    },
    {
     "name": "stdout",
     "output_type": "stream",
     "text": [
      "Error: Expecting value: line 1 column 1 (char 0)\n"
     ]
    },
    {
     "name": "stderr",
     "output_type": "stream",
     "text": [
      "Process 83759:  93%|██████████████████████████████████████████████████████    | 83760/89761 [10:35:34<18:05,  5.53it/s]"
     ]
    },
    {
     "name": "stdout",
     "output_type": "stream",
     "text": [
      "Error: Expecting value: line 1 column 1 (char 0)\n"
     ]
    },
    {
     "name": "stderr",
     "output_type": "stream",
     "text": [
      "Process 83760:  93%|██████████████████████████████████████████████████████    | 83761/89761 [10:35:35<18:17,  5.47it/s]"
     ]
    },
    {
     "name": "stdout",
     "output_type": "stream",
     "text": [
      "Error: Expecting value: line 1 column 1 (char 0)\n"
     ]
    },
    {
     "name": "stderr",
     "output_type": "stream",
     "text": [
      "Process 83761:  93%|██████████████████████████████████████████████████████    | 83762/89761 [10:35:35<17:59,  5.56it/s]"
     ]
    },
    {
     "name": "stdout",
     "output_type": "stream",
     "text": [
      "Error: Expecting value: line 1 column 1 (char 0)\n"
     ]
    },
    {
     "name": "stderr",
     "output_type": "stream",
     "text": [
      "Process 83762:  93%|██████████████████████████████████████████████████████    | 83763/89761 [10:35:35<18:02,  5.54it/s]"
     ]
    },
    {
     "name": "stdout",
     "output_type": "stream",
     "text": [
      "Error: Expecting value: line 1 column 1 (char 0)\n"
     ]
    },
    {
     "name": "stderr",
     "output_type": "stream",
     "text": [
      "Process 83763:  93%|██████████████████████████████████████████████████████    | 83764/89761 [10:35:35<18:05,  5.53it/s]"
     ]
    },
    {
     "name": "stdout",
     "output_type": "stream",
     "text": [
      "Error: Expecting value: line 1 column 1 (char 0)\n"
     ]
    },
    {
     "name": "stderr",
     "output_type": "stream",
     "text": [
      "Process 83764:  93%|██████████████████████████████████████████████████████▏   | 83765/89761 [10:35:35<17:57,  5.56it/s]"
     ]
    },
    {
     "name": "stdout",
     "output_type": "stream",
     "text": [
      "Error: Expecting value: line 1 column 1 (char 0)\n"
     ]
    },
    {
     "name": "stderr",
     "output_type": "stream",
     "text": [
      "Process 83765:  93%|██████████████████████████████████████████████████████▏   | 83766/89761 [10:35:35<18:15,  5.47it/s]"
     ]
    },
    {
     "name": "stdout",
     "output_type": "stream",
     "text": [
      "Error: Expecting value: line 1 column 1 (char 0)\n"
     ]
    },
    {
     "name": "stderr",
     "output_type": "stream",
     "text": [
      "Process 83766:  93%|██████████████████████████████████████████████████████▏   | 83767/89761 [10:35:36<18:13,  5.48it/s]"
     ]
    },
    {
     "name": "stdout",
     "output_type": "stream",
     "text": [
      "Error: Expecting value: line 1 column 1 (char 0)\n"
     ]
    },
    {
     "name": "stderr",
     "output_type": "stream",
     "text": [
      "Process 83767:  93%|██████████████████████████████████████████████████████▏   | 83768/89761 [10:35:36<18:09,  5.50it/s]"
     ]
    },
    {
     "name": "stdout",
     "output_type": "stream",
     "text": [
      "Error: Expecting value: line 1 column 1 (char 0)\n"
     ]
    },
    {
     "name": "stderr",
     "output_type": "stream",
     "text": [
      "Process 83768:  93%|██████████████████████████████████████████████████████▏   | 83769/89761 [10:35:36<18:09,  5.50it/s]"
     ]
    },
    {
     "name": "stdout",
     "output_type": "stream",
     "text": [
      "Error: Expecting value: line 1 column 1 (char 0)\n"
     ]
    },
    {
     "name": "stderr",
     "output_type": "stream",
     "text": [
      "Process 83769:  93%|██████████████████████████████████████████████████████▏   | 83770/89761 [10:35:36<18:09,  5.50it/s]"
     ]
    },
    {
     "name": "stdout",
     "output_type": "stream",
     "text": [
      "Error: Expecting value: line 1 column 1 (char 0)\n"
     ]
    },
    {
     "name": "stderr",
     "output_type": "stream",
     "text": [
      "Process 83770:  93%|██████████████████████████████████████████████████████▏   | 83771/89761 [10:35:36<18:05,  5.52it/s]"
     ]
    },
    {
     "name": "stdout",
     "output_type": "stream",
     "text": [
      "Error: Expecting value: line 1 column 1 (char 0)\n"
     ]
    },
    {
     "name": "stderr",
     "output_type": "stream",
     "text": [
      "Process 83771:  93%|██████████████████████████████████████████████████████▏   | 83772/89761 [10:35:37<17:59,  5.55it/s]"
     ]
    },
    {
     "name": "stdout",
     "output_type": "stream",
     "text": [
      "Error: Expecting value: line 1 column 1 (char 0)\n"
     ]
    },
    {
     "name": "stderr",
     "output_type": "stream",
     "text": [
      "Process 83772:  93%|██████████████████████████████████████████████████████▏   | 83773/89761 [10:35:37<18:13,  5.48it/s]"
     ]
    },
    {
     "name": "stdout",
     "output_type": "stream",
     "text": [
      "Error: Expecting value: line 1 column 1 (char 0)\n"
     ]
    },
    {
     "name": "stderr",
     "output_type": "stream",
     "text": [
      "Process 83773:  93%|██████████████████████████████████████████████████████▏   | 83774/89761 [10:35:37<18:04,  5.52it/s]"
     ]
    },
    {
     "name": "stdout",
     "output_type": "stream",
     "text": [
      "Error: Expecting value: line 1 column 1 (char 0)\n"
     ]
    },
    {
     "name": "stderr",
     "output_type": "stream",
     "text": [
      "Process 83774:  93%|██████████████████████████████████████████████████████▏   | 83775/89761 [10:35:37<18:03,  5.52it/s]"
     ]
    },
    {
     "name": "stdout",
     "output_type": "stream",
     "text": [
      "Error: Expecting value: line 1 column 1 (char 0)\n"
     ]
    },
    {
     "name": "stderr",
     "output_type": "stream",
     "text": [
      "Process 83775:  93%|██████████████████████████████████████████████████████▏   | 83776/89761 [10:35:37<18:08,  5.50it/s]"
     ]
    },
    {
     "name": "stdout",
     "output_type": "stream",
     "text": [
      "Error: Expecting value: line 1 column 1 (char 0)\n"
     ]
    },
    {
     "name": "stderr",
     "output_type": "stream",
     "text": [
      "Process 83776:  93%|██████████████████████████████████████████████████████▏   | 83777/89761 [10:35:37<17:57,  5.55it/s]"
     ]
    },
    {
     "name": "stdout",
     "output_type": "stream",
     "text": [
      "Error: Expecting value: line 1 column 1 (char 0)\n"
     ]
    },
    {
     "name": "stderr",
     "output_type": "stream",
     "text": [
      "Process 83777:  93%|██████████████████████████████████████████████████████▏   | 83778/89761 [10:35:38<17:48,  5.60it/s]"
     ]
    },
    {
     "name": "stdout",
     "output_type": "stream",
     "text": [
      "Error: Expecting value: line 1 column 1 (char 0)\n"
     ]
    },
    {
     "name": "stderr",
     "output_type": "stream",
     "text": [
      "Process 83778:  93%|██████████████████████████████████████████████████████▏   | 83779/89761 [10:35:38<17:46,  5.61it/s]"
     ]
    },
    {
     "name": "stdout",
     "output_type": "stream",
     "text": [
      "Error: Expecting value: line 1 column 1 (char 0)\n"
     ]
    },
    {
     "name": "stderr",
     "output_type": "stream",
     "text": [
      "Process 89760: 100%|██████████████████████████████████████████████████████████| 89761/89761 [11:17:29<00:00,  2.21it/s]\n"
     ]
    }
   ],
   "source": [
    "with trange(len(all_playlist_ids)) as t:\n",
    "    for i, item in enumerate(all_playlist_ids):\n",
    "        get_playlist_info(item)\n",
    "        t.set_description('Process %i' % i)  # 描述显示在左边\n",
    "        t.update(1)"
   ]
  },
  {
   "cell_type": "code",
   "execution_count": 62,
   "metadata": {},
   "outputs": [
    {
     "name": "stdout",
     "output_type": "stream",
     "text": [
      "运行时间：0.4669215679168701\n"
     ]
    }
   ],
   "source": [
    "start_time = time.time()\n",
    "get_playlist_info(all_playlist_ids[4])\n",
    "end_time = time.time()\n",
    "print(\"运行时间：\"+str(end_time-start_time))"
   ]
  },
  {
   "cell_type": "code",
   "execution_count": 66,
   "metadata": {},
   "outputs": [
    {
     "data": {
      "text/plain": [
       "306"
      ]
     },
     "execution_count": 66,
     "metadata": {},
     "output_type": "execute_result"
    }
   ],
   "source": [
    "len(process_info.failed_parse_ids)"
   ]
  },
  {
   "cell_type": "markdown",
   "metadata": {},
   "source": [
    "# 歌单数据处理"
   ]
  },
  {
   "cell_type": "code",
   "execution_count": 41,
   "metadata": {},
   "outputs": [],
   "source": [
    "all_data = mycol.find()"
   ]
  },
  {
   "cell_type": "code",
   "execution_count": 43,
   "metadata": {
    "collapsed": true,
    "jupyter": {
     "outputs_hidden": true
    }
   },
   "outputs": [
    {
     "data": {
      "text/plain": [
       "{'_id': '4991155974',\n",
       " 'song_ids': [28427734,\n",
       "  287677,\n",
       "  409941447,\n",
       "  402070840,\n",
       "  409302060,\n",
       "  27867475,\n",
       "  407007445,\n",
       "  233947,\n",
       "  28341143,\n",
       "  402073803,\n",
       "  35847808,\n",
       "  29723029,\n",
       "  27867484,\n",
       "  28406534,\n",
       "  405377708,\n",
       "  400876303,\n",
       "  28427785,\n",
       "  222621,\n",
       "  29723039,\n",
       "  28427777,\n",
       "  26348068,\n",
       "  26390020,\n",
       "  400162549,\n",
       "  31877581,\n",
       "  28427771,\n",
       "  26390019,\n",
       "  26142919,\n",
       "  25702226,\n",
       "  28427763,\n",
       "  403710394],\n",
       " 'tags_list': ['流行', '综艺'],\n",
       " 'name': '[最佳演出现场] 热门华语演出现场 线上听',\n",
       " 'subscribedCount': 30512,\n",
       " 'playCount': 4992275}"
      ]
     },
     "execution_count": 43,
     "metadata": {},
     "output_type": "execute_result"
    }
   ],
   "source": [
    "all_data[0]"
   ]
  },
  {
   "cell_type": "code",
   "execution_count": 42,
   "metadata": {},
   "outputs": [
    {
     "ename": "TypeError",
     "evalue": "object of type 'Cursor' has no len()",
     "output_type": "error",
     "traceback": [
      "\u001b[1;31m---------------------------------------------------------------------------\u001b[0m",
      "\u001b[1;31mTypeError\u001b[0m                                 Traceback (most recent call last)",
      "\u001b[1;32m<ipython-input-42-ce1ff56b22d2>\u001b[0m in \u001b[0;36m<module>\u001b[1;34m\u001b[0m\n\u001b[1;32m----> 1\u001b[1;33m \u001b[0mlen\u001b[0m\u001b[1;33m(\u001b[0m\u001b[0mall_data\u001b[0m\u001b[1;33m)\u001b[0m\u001b[1;33m\u001b[0m\u001b[1;33m\u001b[0m\u001b[0m\n\u001b[0m",
      "\u001b[1;31mTypeError\u001b[0m: object of type 'Cursor' has no len()"
     ]
    }
   ],
   "source": [
    "len(all_data)"
   ]
  },
  {
   "cell_type": "code",
   "execution_count": 32,
   "metadata": {},
   "outputs": [
    {
     "data": {
      "text/plain": [
       "63835"
      ]
     },
     "execution_count": 32,
     "metadata": {},
     "output_type": "execute_result"
    }
   ],
   "source": [
    "mycol.count_documents({})"
   ]
  },
  {
   "cell_type": "code",
   "execution_count": 11,
   "metadata": {},
   "outputs": [
    {
     "name": "stderr",
     "output_type": "stream",
     "text": [
      "E:\\Anaconda3\\lib\\site-packages\\ipykernel_launcher.py:1: DeprecationWarning: count is deprecated. Use estimated_document_count or count_documents instead. Please note that $where must be replaced by $expr, $near must be replaced by $geoWithin with $center, and $nearSphere must be replaced by $geoWithin with $centerSphere\n",
      "  \"\"\"Entry point for launching an IPython kernel.\n"
     ]
    }
   ],
   "source": [
    "all_count = all_data.collection.count()"
   ]
  },
  {
   "cell_type": "code",
   "execution_count": 12,
   "metadata": {},
   "outputs": [
    {
     "data": {
      "text/plain": [
       "63835"
      ]
     },
     "execution_count": 12,
     "metadata": {},
     "output_type": "execute_result"
    }
   ],
   "source": [
    "all_count"
   ]
  },
  {
   "cell_type": "code",
   "execution_count": 13,
   "metadata": {
    "collapsed": true,
    "jupyter": {
     "outputs_hidden": true
    }
   },
   "outputs": [
    {
     "data": {
      "text/plain": [
       "{'_id': '4991155974',\n",
       " 'song_ids': [28427734,\n",
       "  287677,\n",
       "  409941447,\n",
       "  402070840,\n",
       "  409302060,\n",
       "  27867475,\n",
       "  407007445,\n",
       "  233947,\n",
       "  28341143,\n",
       "  402073803,\n",
       "  35847808,\n",
       "  29723029,\n",
       "  27867484,\n",
       "  28406534,\n",
       "  405377708,\n",
       "  400876303,\n",
       "  28427785,\n",
       "  222621,\n",
       "  29723039,\n",
       "  28427777,\n",
       "  26348068,\n",
       "  26390020,\n",
       "  400162549,\n",
       "  31877581,\n",
       "  28427771,\n",
       "  26390019,\n",
       "  26142919,\n",
       "  25702226,\n",
       "  28427763,\n",
       "  403710394],\n",
       " 'tags_list': ['流行', '综艺'],\n",
       " 'name': '[最佳演出现场] 热门华语演出现场 线上听',\n",
       " 'subscribedCount': 30512,\n",
       " 'playCount': 4992275}"
      ]
     },
     "execution_count": 13,
     "metadata": {},
     "output_type": "execute_result"
    }
   ],
   "source": [
    "all_data[0]"
   ]
  },
  {
   "cell_type": "code",
   "execution_count": 355,
   "metadata": {},
   "outputs": [],
   "source": [
    "playlist_ids = []"
   ]
  },
  {
   "cell_type": "code",
   "execution_count": 356,
   "metadata": {},
   "outputs": [],
   "source": [
    "for item in all_data:\n",
    "    playlist_ids.append(item.get('_id'))"
   ]
  },
  {
   "cell_type": "code",
   "execution_count": 357,
   "metadata": {},
   "outputs": [
    {
     "data": {
      "text/plain": [
       "63835"
      ]
     },
     "execution_count": 357,
     "metadata": {},
     "output_type": "execute_result"
    }
   ],
   "source": [
    "len(playlist_ids)"
   ]
  },
  {
   "cell_type": "code",
   "execution_count": 358,
   "metadata": {},
   "outputs": [
    {
     "data": {
      "text/plain": [
       "'4991155974'"
      ]
     },
     "execution_count": 358,
     "metadata": {},
     "output_type": "execute_result"
    }
   ],
   "source": [
    "playlist_ids[0]"
   ]
  },
  {
   "cell_type": "code",
   "execution_count": 359,
   "metadata": {},
   "outputs": [],
   "source": [
    "# 将歌单id写入到json文件\n",
    "filename = './data/playlist_ids.json'\n",
    "with open(filename, 'w', encoding='utf-8') as fw:\n",
    "    json.dump(playlist_ids, fw)"
   ]
  },
  {
   "cell_type": "code",
   "execution_count": 72,
   "metadata": {},
   "outputs": [],
   "source": [
    "all_song_ids = []\n",
    "songs_count = 0"
   ]
  },
  {
   "cell_type": "code",
   "execution_count": 73,
   "metadata": {},
   "outputs": [],
   "source": [
    "for item in all_data:\n",
    "    for song_id in item.get('song_ids'):\n",
    "        all_song_ids.append(song_id)"
   ]
  },
  {
   "cell_type": "code",
   "execution_count": 74,
   "metadata": {},
   "outputs": [
    {
     "data": {
      "text/plain": [
       "10101291"
      ]
     },
     "execution_count": 74,
     "metadata": {},
     "output_type": "execute_result"
    }
   ],
   "source": [
    "len(all_song_ids)"
   ]
  },
  {
   "cell_type": "code",
   "execution_count": 75,
   "metadata": {},
   "outputs": [],
   "source": [
    "distinct_song_ids = set(all_song_ids)"
   ]
  },
  {
   "cell_type": "code",
   "execution_count": 76,
   "metadata": {},
   "outputs": [
    {
     "data": {
      "text/plain": [
       "1973840"
      ]
     },
     "execution_count": 76,
     "metadata": {},
     "output_type": "execute_result"
    }
   ],
   "source": [
    "len(distinct_song_ids)"
   ]
  },
  {
   "cell_type": "code",
   "execution_count": 77,
   "metadata": {},
   "outputs": [],
   "source": [
    "import re"
   ]
  },
  {
   "cell_type": "code",
   "execution_count": 238,
   "metadata": {},
   "outputs": [],
   "source": [
    "all_songs_dict = {}"
   ]
  },
  {
   "cell_type": "code",
   "execution_count": 239,
   "metadata": {},
   "outputs": [
    {
     "name": "stderr",
     "output_type": "stream",
     "text": [
      "100%|█████████████████████████████████████████████████████████████████████████▉| 63834/63835 [00:51<00:00, 1232.45it/s]\n"
     ]
    }
   ],
   "source": [
    "with trange(all_count) as t:\n",
    "    for item in all_data:\n",
    "        song_ids = item.get(\"song_ids\")\n",
    "        tags_list = item.get(\"tags_list\")\n",
    "        name = item.get(\"name\")\n",
    "        for song_id in song_ids:\n",
    "            song_dict = {}\n",
    "            song_dict['song_id'] = song_id\n",
    "            song_dict['tags'] = tags_list\n",
    "            song_dict['play_lists'] = name\n",
    "            # 该bgm的id已经存在\n",
    "            if song_id in all_songs_dict.keys():\n",
    "                # 将新的内容加入原数据中 \n",
    "                orgin_tags = all_songs_dict[song_id].get('tags')\n",
    "                orgin_play_lists = all_songs_dict[song_id].get('play_lists')\n",
    "                # 合并标签列表\n",
    "                new_tags = list(set(orgin_tags + tags_list))\n",
    "                new_play_lists = name + ' ' + orgin_play_lists\n",
    "                # 更新字典数据\n",
    "                all_songs_dict[song_id]['tags'] = orgin_tags\n",
    "                all_songs_dict[song_id]['play_lists'] = new_play_lists\n",
    "            # 加入bgm列表\n",
    "            else:\n",
    "                all_songs_dict[song_id] = song_dict\n",
    "        t.update(1)"
   ]
  },
  {
   "cell_type": "code",
   "execution_count": 360,
   "metadata": {},
   "outputs": [
    {
     "data": {
      "text/plain": [
       "1973839"
      ]
     },
     "execution_count": 360,
     "metadata": {},
     "output_type": "execute_result"
    }
   ],
   "source": [
    "len(all_songs_dict.keys())"
   ]
  },
  {
   "cell_type": "code",
   "execution_count": 241,
   "metadata": {},
   "outputs": [],
   "source": [
    "all_song_data = []"
   ]
  },
  {
   "cell_type": "code",
   "execution_count": 242,
   "metadata": {},
   "outputs": [],
   "source": [
    "for item in all_songs_dict.values():\n",
    "    all_song_data.append(item)"
   ]
  },
  {
   "cell_type": "code",
   "execution_count": 247,
   "metadata": {},
   "outputs": [],
   "source": [
    "# 将可用ip写入到json文件\n",
    "filename = 'all_song_data.json'\n",
    "with open(filename, 'w', encoding='utf-8') as fw:\n",
    "    json.dump(all_song_data, fw)"
   ]
  },
  {
   "cell_type": "code",
   "execution_count": 361,
   "metadata": {
    "collapsed": true,
    "jupyter": {
     "outputs_hidden": true
    }
   },
   "outputs": [
    {
     "data": {
      "text/plain": [
       "{'song_id': 1385408332,\n",
       " 'tags': ['欧美', '流行', '综艺'],\n",
       " 'play_lists': '消逝的神罚Music 积 跬 步 以 至 千 里 WanYYing 我将玫瑰藏于身后 时刻期盼着与你赴约 Kalinka 蹦迪 精神小伙儿精神依旧在 精选BMG/超嗨蹦迪 ♡、line.quan、 - dinosauR. ·! 【Russia Deep House】bass收录. 电音Ai_尔☛【DJ咕咚中文歌曲】非常的奈斯 大赦天下专用音乐 开始于朋友验证 结束于红色感叹号 封面选的好 绅士不会少 土嗨DJ 蹦迪选手已就位. DJ英文 纯音乐 电音车载音乐〖土嗨之王〗 土嗨/硬曲/网络BGM/300首 很潮很土很嗨很低調还盗版 【节奏控】DJ 蹦迪 撩人 入耳 激情 劲爆 重低音效果的DJ多多 Read All About It (Shoby House Rework) 『摇头｜蹦迪｜车载-仙曲』 我走在长街中，听戏子唱京城 你爹的资料好看吗 DJ FAKE 『一❤只蹦圣贤迪♪』 EA7-DJ精选歌单 A8L W12 酒吧摇头电音House - 全网最火的DJ 看见花瓣散漫了江面，你我相看缺不曾生厌 精神小伙，大赦天下 又好听却不知道歌名。 好听且得劲99 ♞[车载超重低音DJ] 一个暖男大叔的听歌列表 Dian Dian Dian yin 精选ξ电音易燃分享【持续更新】 欧美复古朋克节奏控 酷到沒朋友~樂 『硬曲 硬不硬听了再说（蹦迪专用❗）』 你绝对搜不到的土嗨神曲 EA7/康纳麦格雷戈 头一扭 曲一嗨 鬼火当成路虎开 法拉域Bass House匪气 嗨爆星空 dj-toxic顶级夜场嗨曲 热门劲爆DJ歌曲 深夜写作业艾薇巴蒂嗨起来(｢･ω･)｢ 【私藏】熟悉却忘记名字的电音 『精选』和别人炫耀过你...但还是丢了 精选～网红热歌 爸爸棒爸爸呗爸爸very 今夜 857 战术蹦迪 北执·ᴍᴜsɪᴄ ғᴍ ʀᴇᴍɪx -. 超嗨舞曲串烧！（苏卡比列） Dancers. 打游戏必备神曲 一生只蹦圣迪蹦 精神Dj全网最嗨，摇就完事了 精神小妹的社会歌 别把我听土嗨的事告诉别人～ 幹飯人.幹飯魂.乾飯都是人上人 长春奥斯卡DR.OSCAR 今天从《Tonight 》听起|私人雷达 你搜不到的神仙爆嗨歌单！！ 「DJ歌曲」最熟悉咚鼓版dj 尔兰超爱听的音乐 今天从《努力工作吧》听起/潮人必备歌单 你携秋水揽星河 我有多么爱你. 热门BGM . 你还在找的BGM吗? 这才是真正的深夜网易云！ 2020年最火精神小伙dj GC、犄角嘴真甜 咚鼓版中文DJ 所以爱会消失不见的对不对？ 中文版咚鼓版歌曲+电音♡[不定时更]媄玉儿 鼓咚中文DJ版 中国土嗨【一个人的土嗨夜晚】 时代在洗牌而你永不淘汰 土到極致 便是潮 让我们听点土嗨吧！ 百听不腻的（网络流行） 网络热门BGM〖持续更新〗 君上陪玩厅主持控场/蹦迪bgm 王者农药€超燃节奏 非洲小白的土嗨歌单 皮皮虾精选BGM 流行歌曲 电竞 L&Z Music 抑着浓浓的匪气重低音 来一首精神鸦片，精神一下午 皮皮搞笑专属BGM 『车载』EA7/抖腿/炸街/电驾/慎入 离开我你会遇见更好的 『驾车必备』DJ中文歌曲~嗨起来 土嗨神曲\\xa0♪\\xa0车载抖腿~提神醒脑 车载流行歌曲集 车载超重低音 dj舞曲/蹦迪 热搜 『中文·土嗨·精选』！ 我是你永远得不到的爸爸™ 车载咚鼓DJ夜店蹦迪电音慢摇 Εа７ø车载音乐⚡️ 超级好听的DJ（电音） 摇头抖腿曲 车载必备ぃ上头带点土嗨 2020开车必备嗨曲 精选BGM｜蹦迪吗超嗨【有点上头】持更 精选| 超燃BGM！ 精选蹦迪炸街硬核神曲(戴上耳机效果更佳) 一心只蹦圣贤迪™❤️ Rye皮皮搞笑虾-段子出品 听最豪华的歌 开最贵的车 神仙般的欧美风. 歌单名正在上传中…… 喜欢骑摩托在路上的男孩. 【全网精选】车载中文dj土嗨合集 【DJ咕咚中文歌曲】非常的奈斯 全网最火的音乐都在这《纯音乐》 A cup of milk tea, take off happily. Ｍｒ＿LH0312 一天不抖，浑身难受 【精选高配】点进来听听吧 也许你喜欢呢 凤舞九天音乐工厂 超重低音 DJ 开车和健身专用 中文dj土嗨至上No.1摇头甩屁屁 聆听顶级车载电音，感受极致听觉盛宴㈡ 道路千万条，安全第一条 汽车DJ摇滚流行那种很飘的下班旅途中！ 【另类咚鼓】虞姬/七妹/糖糖/承利/兮雅 〖精选歌曲DJ〗｛XAX DJ } 中文DJ·咚鼓版·弹鼓版·烟嗓版（Remix） 来蹦迪不？全是女的！ 渣到深处自然爱 咕咚dj.蹦迪歌曲.非常nice giao酱（莹酱）直播歌单 语音直播/主持/拍卖/带飞/蹦迪/节奏/BGM MVP-娱乐传媒 生僻字（吃鸡版） 跳自闭城的大佬专属BGM DJ dj我想飛 哪吒 苏六 扎哥 张诗尧 混的人 精神小伙/精神小妹令— 排排整起 【伤感｜杂乱】你麻木了吗？ “祝你快乐 不止圣诞这一天.” 【禁】～dj-toxic顶级夜场嗨曲 故事都讲烂了 却还是意难平 跳自闭城的大佬专属BGM 、 者思范专辑Remix丶 影视剪辑BGM 美发沙龙发廊音乐节奏 荣耀 我是你无法跨越的高峰 电耗子专属BGM. DJ纯音乐网络热歌 【车载中文dj】开车必备，激情四射！ 蹦迪 嗨曲 Dj中文合集 炒鸡好听的咕咚版歌曲—————— DJ DJ 我想要 飞 正能量/大赦天下/土嗨/精 神 水 龙 弹 张诗尧 哪吒 混的人苏六 李牌牌 鹤轩 扎哥 那些你搜不到的土嗨神曲【蹦迪专用】 热播电音旋律【精选】持续更新ღ℡ （重机车专用）（车载）骑士日常必备 EA7水龙弹之术 温柔歌单“持续更新” 喜欢抒情？dj？快节奏？古风？这里都有！ 用户480170549的歌单 对抗路必备，你就是第四座塔 『超燃BGM』游戏专用 广交朋友，少碰爱情，多蹦迪 中文DJ/咚鼓版/弹鼓版（Remix） 中文咚鼓弹鼓版背景音乐[ DJ阿鑫]慢更. [中文咚鼓/DJ]嗨起来 男人贵在稳重c 经典慢摇DJ串烧歌曲， 0202文艺复兴时代精神领袖 一个人的DJ（DJ and 咚鼓弹鼓版） 「『潮音』混搭种子选手」 先擦鼻涕后提裤从此走上社会路 『偏愛亦是救赎』 苏6 哪吒 小条 防 扎 尧 英雄会 抖腿． 『偏愛亦是救赎』 【DJ土嗨歌曲】熟悉的小抒情 温柔电音，车载音乐，BGM 『偏愛亦是救赎』 精神小伙专用BGM(甩头） 『BGM』你一定听过的神级的背景音乐 你搜不到的土嗨歌曲 ғᴍ ʀᴇᴍɪx -. 社会人 精神小伙 蹦迪摇头必备。 【旋律控】超带感的英文歌 节奏控=带感=dj土嗨=燃向=踩点 『雾起爱意散』 今日份快乐已送达 劲爆 <DJ中文歌曲> 很火 优质DJ气质摇 渣渣辉☞车载☜老哥带DJ 中心藏之 ，何日忘之！ 「晚 風 吹 起 愛 意」 『硬曲』哈哈哈哈哈哈哈 自律的人有多可怕 最新歌曲Dj 车载音乐 土到极致便是潮·热播/DJ 「中文咚鼓」热播·上头曲 「中文咚鼓」热播·上头弹鼓曲 2020【车载 酒吧 DJ 嗨曲 抖腿】 2020蹦迪系- 『谁不想要一套丝滑小连招呢』 华语；XDD；稳健二字挂心头 ԅ(¯ㅂ¯ԅ) 好听的英文歌曲，送给最美的你！'}"
      ]
     },
     "execution_count": 361,
     "metadata": {},
     "output_type": "execute_result"
    }
   ],
   "source": [
    "all_song_data[9872]"
   ]
  },
  {
   "cell_type": "code",
   "execution_count": 363,
   "metadata": {},
   "outputs": [],
   "source": [
    "# 修改key\n",
    "for item in all_song_data:\n",
    "    item['_id'] = item.pop('song_id')"
   ]
  },
  {
   "cell_type": "code",
   "execution_count": 364,
   "metadata": {
    "collapsed": true,
    "jupyter": {
     "outputs_hidden": true
    }
   },
   "outputs": [
    {
     "data": {
      "text/plain": [
       "{'tags': ['欧美', '流行', '综艺'],\n",
       " 'play_lists': '消逝的神罚Music 积 跬 步 以 至 千 里 WanYYing 我将玫瑰藏于身后 时刻期盼着与你赴约 Kalinka 蹦迪 精神小伙儿精神依旧在 精选BMG/超嗨蹦迪 ♡、line.quan、 - dinosauR. ·! 【Russia Deep House】bass收录. 电音Ai_尔☛【DJ咕咚中文歌曲】非常的奈斯 大赦天下专用音乐 开始于朋友验证 结束于红色感叹号 封面选的好 绅士不会少 土嗨DJ 蹦迪选手已就位. DJ英文 纯音乐 电音车载音乐〖土嗨之王〗 土嗨/硬曲/网络BGM/300首 很潮很土很嗨很低調还盗版 【节奏控】DJ 蹦迪 撩人 入耳 激情 劲爆 重低音效果的DJ多多 Read All About It (Shoby House Rework) 『摇头｜蹦迪｜车载-仙曲』 我走在长街中，听戏子唱京城 你爹的资料好看吗 DJ FAKE 『一❤只蹦圣贤迪♪』 EA7-DJ精选歌单 A8L W12 酒吧摇头电音House - 全网最火的DJ 看见花瓣散漫了江面，你我相看缺不曾生厌 精神小伙，大赦天下 又好听却不知道歌名。 好听且得劲99 ♞[车载超重低音DJ] 一个暖男大叔的听歌列表 Dian Dian Dian yin 精选ξ电音易燃分享【持续更新】 欧美复古朋克节奏控 酷到沒朋友~樂 『硬曲 硬不硬听了再说（蹦迪专用❗）』 你绝对搜不到的土嗨神曲 EA7/康纳麦格雷戈 头一扭 曲一嗨 鬼火当成路虎开 法拉域Bass House匪气 嗨爆星空 dj-toxic顶级夜场嗨曲 热门劲爆DJ歌曲 深夜写作业艾薇巴蒂嗨起来(｢･ω･)｢ 【私藏】熟悉却忘记名字的电音 『精选』和别人炫耀过你...但还是丢了 精选～网红热歌 爸爸棒爸爸呗爸爸very 今夜 857 战术蹦迪 北执·ᴍᴜsɪᴄ ғᴍ ʀᴇᴍɪx -. 超嗨舞曲串烧！（苏卡比列） Dancers. 打游戏必备神曲 一生只蹦圣迪蹦 精神Dj全网最嗨，摇就完事了 精神小妹的社会歌 别把我听土嗨的事告诉别人～ 幹飯人.幹飯魂.乾飯都是人上人 长春奥斯卡DR.OSCAR 今天从《Tonight 》听起|私人雷达 你搜不到的神仙爆嗨歌单！！ 「DJ歌曲」最熟悉咚鼓版dj 尔兰超爱听的音乐 今天从《努力工作吧》听起/潮人必备歌单 你携秋水揽星河 我有多么爱你. 热门BGM . 你还在找的BGM吗? 这才是真正的深夜网易云！ 2020年最火精神小伙dj GC、犄角嘴真甜 咚鼓版中文DJ 所以爱会消失不见的对不对？ 中文版咚鼓版歌曲+电音♡[不定时更]媄玉儿 鼓咚中文DJ版 中国土嗨【一个人的土嗨夜晚】 时代在洗牌而你永不淘汰 土到極致 便是潮 让我们听点土嗨吧！ 百听不腻的（网络流行） 网络热门BGM〖持续更新〗 君上陪玩厅主持控场/蹦迪bgm 王者农药€超燃节奏 非洲小白的土嗨歌单 皮皮虾精选BGM 流行歌曲 电竞 L&Z Music 抑着浓浓的匪气重低音 来一首精神鸦片，精神一下午 皮皮搞笑专属BGM 『车载』EA7/抖腿/炸街/电驾/慎入 离开我你会遇见更好的 『驾车必备』DJ中文歌曲~嗨起来 土嗨神曲\\xa0♪\\xa0车载抖腿~提神醒脑 车载流行歌曲集 车载超重低音 dj舞曲/蹦迪 热搜 『中文·土嗨·精选』！ 我是你永远得不到的爸爸™ 车载咚鼓DJ夜店蹦迪电音慢摇 Εа７ø车载音乐⚡️ 超级好听的DJ（电音） 摇头抖腿曲 车载必备ぃ上头带点土嗨 2020开车必备嗨曲 精选BGM｜蹦迪吗超嗨【有点上头】持更 精选| 超燃BGM！ 精选蹦迪炸街硬核神曲(戴上耳机效果更佳) 一心只蹦圣贤迪™❤️ Rye皮皮搞笑虾-段子出品 听最豪华的歌 开最贵的车 神仙般的欧美风. 歌单名正在上传中…… 喜欢骑摩托在路上的男孩. 【全网精选】车载中文dj土嗨合集 【DJ咕咚中文歌曲】非常的奈斯 全网最火的音乐都在这《纯音乐》 A cup of milk tea, take off happily. Ｍｒ＿LH0312 一天不抖，浑身难受 【精选高配】点进来听听吧 也许你喜欢呢 凤舞九天音乐工厂 超重低音 DJ 开车和健身专用 中文dj土嗨至上No.1摇头甩屁屁 聆听顶级车载电音，感受极致听觉盛宴㈡ 道路千万条，安全第一条 汽车DJ摇滚流行那种很飘的下班旅途中！ 【另类咚鼓】虞姬/七妹/糖糖/承利/兮雅 〖精选歌曲DJ〗｛XAX DJ } 中文DJ·咚鼓版·弹鼓版·烟嗓版（Remix） 来蹦迪不？全是女的！ 渣到深处自然爱 咕咚dj.蹦迪歌曲.非常nice giao酱（莹酱）直播歌单 语音直播/主持/拍卖/带飞/蹦迪/节奏/BGM MVP-娱乐传媒 生僻字（吃鸡版） 跳自闭城的大佬专属BGM DJ dj我想飛 哪吒 苏六 扎哥 张诗尧 混的人 精神小伙/精神小妹令— 排排整起 【伤感｜杂乱】你麻木了吗？ “祝你快乐 不止圣诞这一天.” 【禁】～dj-toxic顶级夜场嗨曲 故事都讲烂了 却还是意难平 跳自闭城的大佬专属BGM 、 者思范专辑Remix丶 影视剪辑BGM 美发沙龙发廊音乐节奏 荣耀 我是你无法跨越的高峰 电耗子专属BGM. DJ纯音乐网络热歌 【车载中文dj】开车必备，激情四射！ 蹦迪 嗨曲 Dj中文合集 炒鸡好听的咕咚版歌曲—————— DJ DJ 我想要 飞 正能量/大赦天下/土嗨/精 神 水 龙 弹 张诗尧 哪吒 混的人苏六 李牌牌 鹤轩 扎哥 那些你搜不到的土嗨神曲【蹦迪专用】 热播电音旋律【精选】持续更新ღ℡ （重机车专用）（车载）骑士日常必备 EA7水龙弹之术 温柔歌单“持续更新” 喜欢抒情？dj？快节奏？古风？这里都有！ 用户480170549的歌单 对抗路必备，你就是第四座塔 『超燃BGM』游戏专用 广交朋友，少碰爱情，多蹦迪 中文DJ/咚鼓版/弹鼓版（Remix） 中文咚鼓弹鼓版背景音乐[ DJ阿鑫]慢更. [中文咚鼓/DJ]嗨起来 男人贵在稳重c 经典慢摇DJ串烧歌曲， 0202文艺复兴时代精神领袖 一个人的DJ（DJ and 咚鼓弹鼓版） 「『潮音』混搭种子选手」 先擦鼻涕后提裤从此走上社会路 『偏愛亦是救赎』 苏6 哪吒 小条 防 扎 尧 英雄会 抖腿． 『偏愛亦是救赎』 【DJ土嗨歌曲】熟悉的小抒情 温柔电音，车载音乐，BGM 『偏愛亦是救赎』 精神小伙专用BGM(甩头） 『BGM』你一定听过的神级的背景音乐 你搜不到的土嗨歌曲 ғᴍ ʀᴇᴍɪx -. 社会人 精神小伙 蹦迪摇头必备。 【旋律控】超带感的英文歌 节奏控=带感=dj土嗨=燃向=踩点 『雾起爱意散』 今日份快乐已送达 劲爆 <DJ中文歌曲> 很火 优质DJ气质摇 渣渣辉☞车载☜老哥带DJ 中心藏之 ，何日忘之！ 「晚 風 吹 起 愛 意」 『硬曲』哈哈哈哈哈哈哈 自律的人有多可怕 最新歌曲Dj 车载音乐 土到极致便是潮·热播/DJ 「中文咚鼓」热播·上头曲 「中文咚鼓」热播·上头弹鼓曲 2020【车载 酒吧 DJ 嗨曲 抖腿】 2020蹦迪系- 『谁不想要一套丝滑小连招呢』 华语；XDD；稳健二字挂心头 ԅ(¯ㅂ¯ԅ) 好听的英文歌曲，送给最美的你！',\n",
       " '_id': 1385408332}"
      ]
     },
     "execution_count": 364,
     "metadata": {},
     "output_type": "execute_result"
    }
   ],
   "source": [
    "all_song_data[9872]"
   ]
  },
  {
   "cell_type": "markdown",
   "metadata": {},
   "source": [
    "## 将歌曲信息写入MongoDB"
   ]
  },
  {
   "cell_type": "code",
   "execution_count": 4,
   "metadata": {},
   "outputs": [
    {
     "ename": "NameError",
     "evalue": "name 'pymongo' is not defined",
     "output_type": "error",
     "traceback": [
      "\u001b[1;31m---------------------------------------------------------------------------\u001b[0m",
      "\u001b[1;31mNameError\u001b[0m                                 Traceback (most recent call last)",
      "\u001b[1;32m<ipython-input-4-5e229b9d95f6>\u001b[0m in \u001b[0;36m<module>\u001b[1;34m\u001b[0m\n\u001b[0;32m      1\u001b[0m \u001b[1;31m# 数据库连接与选择\u001b[0m\u001b[1;33m\u001b[0m\u001b[1;33m\u001b[0m\u001b[1;33m\u001b[0m\u001b[0m\n\u001b[1;32m----> 2\u001b[1;33m \u001b[0mmyclient\u001b[0m \u001b[1;33m=\u001b[0m \u001b[0mpymongo\u001b[0m\u001b[1;33m.\u001b[0m\u001b[0mMongoClient\u001b[0m\u001b[1;33m(\u001b[0m\u001b[1;34m\"mongodb://192.168.206.100:27017/\"\u001b[0m\u001b[1;33m)\u001b[0m\u001b[1;33m\u001b[0m\u001b[1;33m\u001b[0m\u001b[0m\n\u001b[0m\u001b[0;32m      3\u001b[0m \u001b[0mspringTest_db\u001b[0m \u001b[1;33m=\u001b[0m \u001b[0mmyclient\u001b[0m\u001b[1;33m[\u001b[0m\u001b[1;34m\"springTest\"\u001b[0m\u001b[1;33m]\u001b[0m\u001b[1;33m\u001b[0m\u001b[1;33m\u001b[0m\u001b[0m\n\u001b[0;32m      4\u001b[0m \u001b[0msong_data_collection\u001b[0m \u001b[1;33m=\u001b[0m \u001b[0mspringTest_db\u001b[0m\u001b[1;33m[\u001b[0m\u001b[1;34m\"song_data\"\u001b[0m\u001b[1;33m]\u001b[0m\u001b[1;33m\u001b[0m\u001b[1;33m\u001b[0m\u001b[0m\n",
      "\u001b[1;31mNameError\u001b[0m: name 'pymongo' is not defined"
     ]
    }
   ],
   "source": [
    "# 数据库连接与选择\n",
    "myclient = pymongo.MongoClient(\"mongodb://192.168.206.100:27017/\")\n",
    "springTest_db = myclient[\"springTest\"]\n",
    "song_data_collection = springTest_db[\"song_data\"]"
   ]
  },
  {
   "cell_type": "code",
   "execution_count": 366,
   "metadata": {},
   "outputs": [
    {
     "data": {
      "text/plain": [
       "<pymongo.results.InsertOneResult at 0x200219d7c88>"
      ]
     },
     "execution_count": 366,
     "metadata": {},
     "output_type": "execute_result"
    }
   ],
   "source": [
    "song_data_collection.insert_one(all_song_data[9872])"
   ]
  },
  {
   "cell_type": "code",
   "execution_count": 396,
   "metadata": {},
   "outputs": [],
   "source": [
    "result_data = song_data_collection.find({'_id':all_song_data[9872].get('_id')})"
   ]
  },
  {
   "cell_type": "code",
   "execution_count": 397,
   "metadata": {},
   "outputs": [
    {
     "name": "stderr",
     "output_type": "stream",
     "text": [
      "E:\\Anaconda3\\lib\\site-packages\\ipykernel_launcher.py:1: DeprecationWarning: count is deprecated. Use Collection.count_documents instead.\n",
      "  \"\"\"Entry point for launching an IPython kernel.\n"
     ]
    },
    {
     "data": {
      "text/plain": [
       "1"
      ]
     },
     "execution_count": 397,
     "metadata": {},
     "output_type": "execute_result"
    }
   ],
   "source": [
    "result_data.count()"
   ]
  },
  {
   "cell_type": "code",
   "execution_count": 399,
   "metadata": {},
   "outputs": [
    {
     "data": {
      "text/plain": [
       "<pymongo.results.UpdateResult at 0x2001b3becc8>"
      ]
     },
     "execution_count": 399,
     "metadata": {},
     "output_type": "execute_result"
    }
   ],
   "source": [
    "song_data_collection.update_one({'_id':all_song_data[9872].get('_id')}, {'$set': {'tags':['测试','都退']}})"
   ]
  },
  {
   "cell_type": "code",
   "execution_count": 385,
   "metadata": {},
   "outputs": [],
   "source": [
    "# 加载所有歌曲标签\n",
    "filename = './data/tag_words.json'\n",
    "with open(filename, 'r', encoding='utf-8') as f:\n",
    "    tag_words = json.load(f)"
   ]
  },
  {
   "cell_type": "code",
   "execution_count": 395,
   "metadata": {},
   "outputs": [],
   "source": [
    "# 将歌单文本与标签列表进行对照\n",
    "def parse_playlist_to_tags(str_playlists):\n",
    "    tags = []\n",
    "    # 对BGM标签的正则处理，替换\n",
    "    pattern = re.compile(r'bgm|背景音乐', re.I)\n",
    "    result = re.sub(pattern, 'BGM', str_playlists, 0)\n",
    "    \n",
    "    result = clean_zh_text(result)\n",
    "    result = seg_sentence(result)\n",
    "    data_list = list(set(result.split(' ')))\n",
    "    # 返回清洗、分词、去重列表化的数据\n",
    "    return data_list"
   ]
  },
  {
   "cell_type": "code",
   "execution_count": 394,
   "metadata": {},
   "outputs": [
    {
     "name": "stdout",
     "output_type": "stream",
     "text": [
      "['BGM', '搞笑', '经典', 'DJ', '纯音乐', '嗨', '古风', '游戏', '快乐', '蹦迪', '英文', '节奏', '伤感', '温柔', '电音', '踩点', '欧美']\n"
     ]
    }
   ],
   "source": [
    "parse_playlist_to_tags(all_song_data[9872].get('play_lists'))"
   ]
  },
  {
   "cell_type": "code",
   "execution_count": 405,
   "metadata": {},
   "outputs": [],
   "source": [
    "def save_song_data_mongodb(song_data, name_collection, str_key='_id'):\n",
    "    try:\n",
    "        # 根据—_id的查询条件\n",
    "        myquery_id = {'_id':song_data.get(str_key)}\n",
    "        # 处理当前的歌单文本信息\n",
    "        data_list = parse_playlist_to_tags(song_data.get('play_lists'))\n",
    "        # 判断数据库是否已有该歌曲\n",
    "        result_count = song_data_collection.count_documents(myquery_id)\n",
    "        if result_count == 0:\n",
    "            new_song_data = {}\n",
    "            \n",
    "            orgin_tags = song_data.get('tags')\n",
    "            for item in data_list:\n",
    "                if item in tag_words:\n",
    "                    if item not in orgin_tags:\n",
    "                        orgin_tags.append(item)\n",
    "                        \n",
    "            new_song_data['_id'] = song_data.get(str_key)\n",
    "            new_song_data['tags'] = orgin_tags\n",
    "            name_collection.insert_one(new_song_data)\n",
    "        else:\n",
    "            # 对已有的歌曲标签进行更新\n",
    "            result_data = song_data_collection.find(myquery_id)\n",
    "            orgin_data_dict = result_data[0]\n",
    "            orgin_tags = orgin_data_dict.get('tags')\n",
    "            \n",
    "            for item in data_list:\n",
    "                if item in tag_words:\n",
    "                    if item not in orgin_tags:\n",
    "                        orgin_tags.append(item)\n",
    "            # mongodb修对应的改歌曲tags\n",
    "            name_collection.update_one(myquery_id, {'$set': {'tags':orgin_tags}})\n",
    "    except Exception as e:\n",
    "        print('save_song_data_mongodb error:' + str(e))"
   ]
  },
  {
   "cell_type": "code",
   "execution_count": 407,
   "metadata": {},
   "outputs": [
    {
     "name": "stderr",
     "output_type": "stream",
     "text": [
      "100%|█████████████████████████████████████████████████████████████████████| 1973839/1973839 [2:38:20<00:00, 207.77it/s]\n"
     ]
    }
   ],
   "source": [
    "with trange(len(all_song_data)) as t:\n",
    "    for song_data in all_song_data:\n",
    "        save_song_data_mongodb(song_data, song_data_collection)\n",
    "        t.update(1)"
   ]
  },
  {
   "cell_type": "markdown",
   "metadata": {},
   "source": [
    "## BGM类型的歌曲处理"
   ]
  },
  {
   "cell_type": "code",
   "execution_count": 14,
   "metadata": {},
   "outputs": [],
   "source": [
    "pattern = re.compile(r'bgm|背景|纯音乐', re.I)\n",
    "bgm_playlist_list = []"
   ]
  },
  {
   "cell_type": "code",
   "execution_count": 15,
   "metadata": {},
   "outputs": [],
   "source": [
    "for item in all_data:\n",
    "    name = item.get(\"name\")\n",
    "    result = re.search(pattern=pattern, string=name)\n",
    "    if result!=None:\n",
    "        bgm_playlist_list.append(item)"
   ]
  },
  {
   "cell_type": "code",
   "execution_count": 16,
   "metadata": {},
   "outputs": [
    {
     "data": {
      "text/plain": [
       "4472"
      ]
     },
     "execution_count": 16,
     "metadata": {},
     "output_type": "execute_result"
    }
   ],
   "source": [
    "len(bgm_playlist_list)"
   ]
  },
  {
   "cell_type": "code",
   "execution_count": 17,
   "metadata": {
    "collapsed": true,
    "jupyter": {
     "outputs_hidden": true
    }
   },
   "outputs": [
    {
     "data": {
      "text/plain": [
       "{'_id': '5074745281',\n",
       " 'song_ids': [1313107065,\n",
       "  28923579,\n",
       "  29307041,\n",
       "  484058025,\n",
       "  1489146049,\n",
       "  451126971,\n",
       "  561307164,\n",
       "  511412717,\n",
       "  1313035063,\n",
       "  26429479,\n",
       "  1341509284,\n",
       "  1456239624,\n",
       "  1492891086,\n",
       "  1338490248,\n",
       "  21792987,\n",
       "  1446035192,\n",
       "  1355268293,\n",
       "  31010790,\n",
       "  558261233,\n",
       "  1385738126,\n",
       "  1486085481,\n",
       "  509313150,\n",
       "  29207817,\n",
       "  442589034,\n",
       "  506951906,\n",
       "  1303289043,\n",
       "  1460031009,\n",
       "  529391087,\n",
       "  34922517,\n",
       "  531786301,\n",
       "  522041157,\n",
       "  1368324900,\n",
       "  1474342935,\n",
       "  29769258,\n",
       "  26590043,\n",
       "  4023379,\n",
       "  1459793953,\n",
       "  1479319438,\n",
       "  1473560238,\n",
       "  1398909242,\n",
       "  1372082855,\n",
       "  1439459693,\n",
       "  1469868492,\n",
       "  1380724680,\n",
       "  1462368434,\n",
       "  28864241,\n",
       "  1306507078,\n",
       "  1403078334,\n",
       "  1360028990,\n",
       "  1433945885,\n",
       "  1356309192,\n",
       "  1471064193,\n",
       "  34040716,\n",
       "  31719528,\n",
       "  137473,\n",
       "  439121233,\n",
       "  5308028,\n",
       "  310250,\n",
       "  27639209,\n",
       "  548633609,\n",
       "  29737634,\n",
       "  1470115202,\n",
       "  863808572,\n",
       "  32807378,\n",
       "  1391281654,\n",
       "  552145020,\n",
       "  407889615,\n",
       "  29561077,\n",
       "  565833851,\n",
       "  28283137,\n",
       "  5180953,\n",
       "  28785388,\n",
       "  4978801,\n",
       "  462179,\n",
       "  33715904,\n",
       "  29825389,\n",
       "  4973433,\n",
       "  29849548,\n",
       "  26935244,\n",
       "  29414118,\n",
       "  437753234,\n",
       "  29046312,\n",
       "  1374980,\n",
       "  758649,\n",
       "  22784659,\n",
       "  1224671,\n",
       "  466343120,\n",
       "  26319684,\n",
       "  92569,\n",
       "  431096392,\n",
       "  395304,\n",
       "  395434,\n",
       "  1322313,\n",
       "  399410728,\n",
       "  33004351,\n",
       "  5413713,\n",
       "  4964085,\n",
       "  29129030,\n",
       "  4880102,\n",
       "  758330,\n",
       "  223339,\n",
       "  29789260,\n",
       "  28762209,\n",
       "  811820,\n",
       "  2313544,\n",
       "  2529472,\n",
       "  26548584,\n",
       "  5398837,\n",
       "  371362,\n",
       "  1992744,\n",
       "  26667946,\n",
       "  26608473,\n",
       "  3949444,\n",
       "  5057039,\n",
       "  38358820,\n",
       "  4880558,\n",
       "  27901785,\n",
       "  31967229,\n",
       "  17423742,\n",
       "  36095115,\n",
       "  1365071885,\n",
       "  1371159,\n",
       "  30148444,\n",
       "  1378952759,\n",
       "  1062642,\n",
       "  462290,\n",
       "  1489019,\n",
       "  28160324,\n",
       "  28411038,\n",
       "  4960496,\n",
       "  784511,\n",
       "  433103284,\n",
       "  492722,\n",
       "  1437194,\n",
       "  33984238,\n",
       "  1926723,\n",
       "  34468798,\n",
       "  4990628,\n",
       "  462284,\n",
       "  27864120,\n",
       "  27514091,\n",
       "  403711640,\n",
       "  33984241,\n",
       "  418602197,\n",
       "  30260225,\n",
       "  28785339,\n",
       "  28762208,\n",
       "  22761023,\n",
       "  4971469,\n",
       "  26215065,\n",
       "  22706994,\n",
       "  3019676,\n",
       "  503333680,\n",
       "  519250197,\n",
       "  534863046,\n",
       "  1346388694,\n",
       "  831869,\n",
       "  31246600,\n",
       "  535032,\n",
       "  400876507,\n",
       "  461771,\n",
       "  28825102,\n",
       "  412319569,\n",
       "  28258085,\n",
       "  29583256,\n",
       "  39224615,\n",
       "  28946044,\n",
       "  1438244354,\n",
       "  1380738415,\n",
       "  1461158078,\n",
       "  485612576,\n",
       "  521617681,\n",
       "  507585220,\n",
       "  1309896289,\n",
       "  1344644402,\n",
       "  454035505,\n",
       "  3978753,\n",
       "  561493928,\n",
       "  27518583,\n",
       "  29822196,\n",
       "  513704704,\n",
       "  1419407098,\n",
       "  1464133989,\n",
       "  27853227,\n",
       "  1442552477,\n",
       "  28188052,\n",
       "  28188290,\n",
       "  28188295,\n",
       "  489929,\n",
       "  27570832,\n",
       "  28188357,\n",
       "  17867241,\n",
       "  531040135,\n",
       "  1359663981,\n",
       "  33111975,\n",
       "  27403811,\n",
       "  443242,\n",
       "  1416747872,\n",
       "  1446710896,\n",
       "  3932159,\n",
       "  28560087,\n",
       "  1401075669,\n",
       "  31654455,\n",
       "  1373264998,\n",
       "  1433108616,\n",
       "  1425786950,\n",
       "  26664325,\n",
       "  1387417791,\n",
       "  2061452,\n",
       "  28907016,\n",
       "  33522777,\n",
       "  1321575661,\n",
       "  33035611,\n",
       "  474581010,\n",
       "  33211676,\n",
       "  31814005,\n",
       "  20953761,\n",
       "  31010566,\n",
       "  440353010,\n",
       "  505449407,\n",
       "  29717271,\n",
       "  1434181977,\n",
       "  1441233018,\n",
       "  565197965,\n",
       "  1353428173,\n",
       "  21837034,\n",
       "  430114655,\n",
       "  1440592517,\n",
       "  1397021895,\n",
       "  448317040,\n",
       "  1437274426,\n",
       "  26625301,\n",
       "  31654478],\n",
       " 'tags_list': ['流行', '网络歌曲', '综艺'],\n",
       " 'name': '你一定听过但不一定知道歌名的BGM大全',\n",
       " 'subscribedCount': 14377,\n",
       " 'playCount': 1205009}"
      ]
     },
     "execution_count": 17,
     "metadata": {},
     "output_type": "execute_result"
    }
   ],
   "source": [
    "bgm_playlist_list[0]"
   ]
  },
  {
   "cell_type": "code",
   "execution_count": 195,
   "metadata": {},
   "outputs": [],
   "source": [
    "bgm_song_dict = {}"
   ]
  },
  {
   "cell_type": "code",
   "execution_count": 196,
   "metadata": {},
   "outputs": [
    {
     "name": "stderr",
     "output_type": "stream",
     "text": [
      "100%|████████████████████████████████████████████████████████████████████████████| 4472/4472 [00:03<00:00, 1277.39it/s]\n"
     ]
    }
   ],
   "source": [
    "with trange(len(bgm_playlist_list)) as t:\n",
    "    for item in bgm_playlist_list:\n",
    "        song_ids = item.get(\"song_ids\")\n",
    "        tags_list = item.get(\"tags_list\")\n",
    "        name = item.get(\"name\")\n",
    "        for song_id in song_ids:\n",
    "            song_dict = {}\n",
    "            song_dict['song_id'] = song_id\n",
    "            song_dict['tags'] = tags_list\n",
    "            song_dict['play_lists'] = name\n",
    "            # 该bgm的id已经存在\n",
    "            if song_id in bgm_song_dict.keys():\n",
    "                # 将新的内容加入原数据中 \n",
    "                orgin_tags = bgm_song_dict[song_id].get('tags')\n",
    "                orgin_play_lists = bgm_song_dict[song_id].get('play_lists')\n",
    "                # 合并标签列表\n",
    "                new_tags = list(set(orgin_tags + tags_list))\n",
    "                new_play_lists = name + ' ' + orgin_play_lists\n",
    "                # 更新字典数据\n",
    "                bgm_song_dict[song_id]['tags'] = orgin_tags\n",
    "                bgm_song_dict[song_id]['play_lists'] = new_play_lists\n",
    "            # 加入bgm列表\n",
    "            else:\n",
    "                bgm_song_dict[song_id] = song_dict\n",
    "        t.update(1)"
   ]
  },
  {
   "cell_type": "code",
   "execution_count": 197,
   "metadata": {},
   "outputs": [
    {
     "data": {
      "text/plain": [
       "237995"
      ]
     },
     "execution_count": 197,
     "metadata": {},
     "output_type": "execute_result"
    }
   ],
   "source": [
    "len(bgm_song_dict.keys())"
   ]
  },
  {
   "cell_type": "code",
   "execution_count": 201,
   "metadata": {},
   "outputs": [],
   "source": [
    "bgm_songs = []"
   ]
  },
  {
   "cell_type": "code",
   "execution_count": 227,
   "metadata": {
    "collapsed": true,
    "jupyter": {
     "outputs_hidden": true
    }
   },
   "outputs": [
    {
     "ename": "KeyError",
     "evalue": "6",
     "output_type": "error",
     "traceback": [
      "\u001b[1;31m---------------------------------------------------------------------------\u001b[0m",
      "\u001b[1;31mKeyError\u001b[0m                                  Traceback (most recent call last)",
      "\u001b[1;32m<ipython-input-227-bf78146e5cea>\u001b[0m in \u001b[0;36m<module>\u001b[1;34m\u001b[0m\n\u001b[1;32m----> 1\u001b[1;33m \u001b[0mbgm_song_dict\u001b[0m\u001b[1;33m[\u001b[0m\u001b[1;36m6\u001b[0m\u001b[1;33m]\u001b[0m\u001b[1;33m\u001b[0m\u001b[1;33m\u001b[0m\u001b[0m\n\u001b[0m",
      "\u001b[1;31mKeyError\u001b[0m: 6"
     ]
    }
   ],
   "source": [
    "bgm_song_dict[6]"
   ]
  },
  {
   "cell_type": "code",
   "execution_count": 204,
   "metadata": {},
   "outputs": [],
   "source": [
    "for item in bgm_song_dict.values():\n",
    "    bgm_songs.append(item)"
   ]
  },
  {
   "cell_type": "code",
   "execution_count": 257,
   "metadata": {},
   "outputs": [
    {
     "data": {
      "text/plain": [
       "237995"
      ]
     },
     "execution_count": 257,
     "metadata": {},
     "output_type": "execute_result"
    }
   ],
   "source": [
    "len(bgm_songs)"
   ]
  },
  {
   "cell_type": "code",
   "execution_count": 258,
   "metadata": {},
   "outputs": [
    {
     "data": {
      "text/plain": [
       "{'song_id': 32337414,\n",
       " 'tags': ['浪漫', '流行', '综艺'],\n",
       " 'play_lists': '心动的信号第三季BGM 心动的信号第三季BGM【已更新至第九期】 心动的信号第三季BGM'}"
      ]
     },
     "execution_count": 258,
     "metadata": {},
     "output_type": "execute_result"
    }
   ],
   "source": [
    "bgm_songs[990]"
   ]
  },
  {
   "cell_type": "code",
   "execution_count": 259,
   "metadata": {},
   "outputs": [],
   "source": [
    "# 将可用ip写入到json文件\n",
    "filename = 'bgm_data.json'\n",
    "with open(filename, 'w', encoding='utf-8') as fw:\n",
    "    json.dump(bgm_songs, fw)"
   ]
  },
  {
   "cell_type": "code",
   "execution_count": 22,
   "metadata": {},
   "outputs": [],
   "source": [
    "filename = 'bgm_data.json'\n",
    "with open(filename, encoding='utf-8') as f:\n",
    "    bgm_json_data = json.load(f)"
   ]
  },
  {
   "cell_type": "code",
   "execution_count": 23,
   "metadata": {
    "collapsed": true,
    "jupyter": {
     "outputs_hidden": true
    }
   },
   "outputs": [
    {
     "data": {
      "text/plain": [
       "{'song_id': 451126971,\n",
       " 'tags': ['流行', '网络歌曲', '综艺'],\n",
       " 'play_lists': \"走秀专用歌单/时装视频剪辑背景乐 Rus&Me阿联酋 实战BGM 精选EA7 Bass 电音『Future bass』纯音乐 航拍延时摄影背景音乐合集② BGM异域风情 珍惜歌单 iMovie BGM List 丨BGM丨车载嗨曲 视频专用配乐背景音乐（纯音乐）无限更新 纯音乐（播音主持） 古风DJ纯音乐各种混搭 喜欢的可以看看 电耗子BGM（燃） 网易精选热门BGM HEINAN 旅拍油管《BGM》 节奏迷幻女声控BGM背景音乐英文和喜欢的 15S朋友圈短视频BGM 电影解说视频背景音乐精选 战疫纯音BGM 钢琴纯音乐＋其他纯音乐 精选.橙光|丧尸世界末日专属背景(更新10.17 那什么的剪辑BGM 禁忌女孩bgm们 时尚剪辑 | 纯音乐 出大事必备BGM 史诗级 短视频官方发布配音 『BGM』影视解说|VLOG|视频配音 经典背景音乐【精选】 【高级感秀场】T台走秀背景音乐精选 视频剪辑/纯音乐BGM 纯音乐游戏劲曲 王者|打野带节奏必备bgm|高燃（持续更新） 【全类型燃向BGM】GOD's love核爆音乐 动感·时尚·广告·宣传片背景乐高逼格 影视/动漫剪辑都可用的英文BGM 视频后期BGM 猫和老鼠背景音乐（主播专用） 纯音乐Bgm 每首都是精华 你能搜到的全网热歌♢BGM♢DJ♢热门D音 搞事情专用BGM 『BGM』你耳熟却又不知道名字的BGM 精选【bgm】 前后起伏纯音乐（TVC广告专用） 【VLOG踩点】超然视频BGM 『流行音乐BGM』大众喜爱歌单！ 皮皮搞笑很多人想要的BGM 精选| 超燃BGM！ 【黑帮】出场专用BGM 【写数学题专用】名侦探柯南破案BGM 「轻电音&纯音乐」(抖腿福利集) 燃，卡点剪辑BGM(大部分为高潮) Upper(剪辑bgm，开头，高潮) 『呕心沥血，史上最全』万首纯音乐大合集 【深夜读书】背景音乐 纯音乐/总会变好的 篮球男孩们你们的bgm来了记得带耳机(持更) 全网最火的音乐都在这《纯音乐》 向日葵[纯音乐] ✨SloMo宝藏BGM♡[开学少更了] 电音伴奏纯音乐(进来嗨) 悬疑-剧本杀BGM 战双帕弥什（战斗bgm） 百里守约BGM［疯狂失约］(º﹃º\\xa0)阿巴~ 『铠战歌（逆风战歌）超燃节奏BGM』 粤知一二BGM 情感电台·读文BGM·治愈系 【BGM】动感时尚大气纯音乐 【日常实用】Pr视频剪辑适用Bgm pr电影混剪音乐BGM 短视频电影电视剧剪辑bgm 影视剪辑BGM 专注学习｜能集中注意力的宝藏纯音乐 最火纯音乐大全 视频特效BGM . 英文♥日系♥纯音乐 脑洞大开！写文用背景音乐！ KUI｜纯音乐*节奏*时尚 （可欣赏向）网易云评论最多纯音乐TOP榜 「踩点」剪辑必备 前方高能 节奏感炸裂BGM 热血|温暖|燃|影视剪辑bgm，从Dancin开始 全球顶级轻音乐+西餐厅专用背景音乐合集 【摸鱼/踩点卡点】适合用来当手书的BGM♪ 爆点★卡点(纯音乐) PR剪辑师常用背景音乐[收藏] 电光耗子 专属 BGM 《这！就是街舞3》BGM最新9.27更新王一博 写作业必备歌单 纯音乐 纯音乐/背书/做题/复习时用 ♬‖唯美‖～纯音乐♡每时刻陪你(´▽｀)ノ♪ 节奏带感 Vlog 纯音乐 视频首选BGM〖CG混剪〗【戴上耳机】 小视频&电影解说bgm 你一定听过但叫不出名字的bgm 王者BGM(打野节奏必备) 动漫 剪辑 卡点 BGM 做视频常用BGM/梗曲（整理版）800+ steph姐姐的神仙BGM♡ 「节奏控」炒鸡棒的BGM 营销号短视频BGMTOP100 剪辑常用的背景音乐 短视频或综艺常见BGM 短视频电影剪辑常用背景音乐 这就是街舞3 BGM(附有歌单) 10.神级背景经典配乐 狼人沈天使用的BGM 视频里你不知道名字的BGM 你一定听过但不一定知道歌名的BGM大全\"}"
      ]
     },
     "execution_count": 23,
     "metadata": {},
     "output_type": "execute_result"
    }
   ],
   "source": [
    "bgm_json_data[5]"
   ]
  },
  {
   "cell_type": "code",
   "execution_count": 18,
   "metadata": {},
   "outputs": [],
   "source": [
    "import CralwerProject.playlist_parse as playlist_parse"
   ]
  },
  {
   "cell_type": "code",
   "execution_count": 27,
   "metadata": {},
   "outputs": [],
   "source": [
    "test = playlist_parse.parse_playlist_str(bgm_json_data[5].get('play_lists'))"
   ]
  },
  {
   "cell_type": "code",
   "execution_count": 28,
   "metadata": {},
   "outputs": [
    {
     "name": "stdout",
     "output_type": "stream",
     "text": [
      "None\n"
     ]
    }
   ],
   "source": [
    "print(test)"
   ]
  },
  {
   "cell_type": "markdown",
   "metadata": {},
   "source": [
    "# 歌曲所在歌单信息解析"
   ]
  },
  {
   "cell_type": "code",
   "execution_count": 1,
   "metadata": {},
   "outputs": [],
   "source": [
    "\n"
   ]
  },
  {
   "cell_type": "code",
   "execution_count": 381,
   "metadata": {},
   "outputs": [],
   "source": [
    "# 清洗数据，去除特殊字符\n",
    "def clean_zh_text(text):\n",
    "    # keep English, digital and Chinese\n",
    "    comp = re.compile('[^A-Z^a-z^0-9^\\u4e00-\\u9fa5^\\s^,]')\n",
    "    return comp.sub('', text)"
   ]
  },
  {
   "cell_type": "code",
   "execution_count": 382,
   "metadata": {},
   "outputs": [],
   "source": [
    "# 读取停用词表\n",
    "def stopwordslist(filepath):\n",
    "    stopwords=[line.strip() for line in open(filepath,'r',encoding='utf-8').readlines()]\n",
    "    # strip() 方法用于移除字符串头尾指定的字符（默认为空格或换行符）或字符序列。\n",
    "    #readlines()读取所有行并返回列表\n",
    "    return stopwords"
   ]
  },
  {
   "cell_type": "code",
   "execution_count": 411,
   "metadata": {},
   "outputs": [],
   "source": [
    "#对句子进行分词\n",
    "def seg_sentence(sentence):\n",
    "    # 去除特殊字符\n",
    "    clean_zh_text(sentence)\n",
    "    sentence_seged=jieba.cut(sentence.strip())\n",
    "    stopwords=stopwordslist(r\"./data/stopwords_cn.txt\")#这里加载停用词的路径\n",
    "    outstr=\"\"\n",
    "    for word in sentence_seged:\n",
    "        if word not in stopwords:\n",
    "            if word!='\\t':\n",
    "                outstr+=word\n",
    "                outstr+=\" \"\n",
    "    return outstr"
   ]
  },
  {
   "cell_type": "code",
   "execution_count": 262,
   "metadata": {},
   "outputs": [],
   "source": [
    "result = clean_zh_text(bgm_json_data[5].get('play_lists')) "
   ]
  },
  {
   "cell_type": "code",
   "execution_count": 379,
   "metadata": {
    "collapsed": true,
    "jupyter": {
     "outputs_hidden": true
    }
   },
   "outputs": [
    {
     "ename": "AttributeError",
     "evalue": "'list' object has no attribute 'split'",
     "output_type": "error",
     "traceback": [
      "\u001b[1;31m---------------------------------------------------------------------------\u001b[0m",
      "\u001b[1;31mAttributeError\u001b[0m                            Traceback (most recent call last)",
      "\u001b[1;32m<ipython-input-379-6669a513cd52>\u001b[0m in \u001b[0;36m<module>\u001b[1;34m\u001b[0m\n\u001b[1;32m----> 1\u001b[1;33m \u001b[0mresult\u001b[0m \u001b[1;33m=\u001b[0m \u001b[0mresult\u001b[0m\u001b[1;33m.\u001b[0m\u001b[0msplit\u001b[0m\u001b[1;33m(\u001b[0m\u001b[1;34m' '\u001b[0m\u001b[1;33m)\u001b[0m\u001b[1;33m\u001b[0m\u001b[1;33m\u001b[0m\u001b[0m\n\u001b[0m",
      "\u001b[1;31mAttributeError\u001b[0m: 'list' object has no attribute 'split'"
     ]
    }
   ],
   "source": [
    "result = result.split(' ')"
   ]
  },
  {
   "cell_type": "code",
   "execution_count": 412,
   "metadata": {
    "collapsed": true,
    "jupyter": {
     "outputs_hidden": true
    }
   },
   "outputs": [
    {
     "data": {
      "text/plain": [
       "\"走秀专用歌单/时装视频剪辑背景乐 Rus&Me阿联酋 实战BGM 精选EA7 Bass 电音『Future bass』纯音乐 航拍延时摄影背景音乐合集② BGM异域风情 珍惜歌单 iMovie BGM List 丨BGM丨车载嗨曲 视频专用配乐背景音乐（纯音乐）无限更新 纯音乐（播音主持） 古风DJ纯音乐各种混搭 喜欢的可以看看 电耗子BGM（燃） 网易精选热门BGM HEINAN 旅拍油管《BGM》 节奏迷幻女声控BGM背景音乐英文和喜欢的 15S朋友圈短视频BGM 电影解说视频背景音乐精选 战疫纯音BGM 钢琴纯音乐＋其他纯音乐 精选.橙光|丧尸世界末日专属背景(更新10.17 那什么的剪辑BGM 禁忌女孩bgm们 时尚剪辑 | 纯音乐 出大事必备BGM 史诗级 短视频官方发布配音 『BGM』影视解说|VLOG|视频配音 经典背景音乐【精选】 【高级感秀场】T台走秀背景音乐精选 视频剪辑/纯音乐BGM 纯音乐游戏劲曲 王者|打野带节奏必备bgm|高燃（持续更新） 【全类型燃向BGM】GOD's love核爆音乐 动感·时尚·广告·宣传片背景乐高逼格 影视/动漫剪辑都可用的英文BGM 视频后期BGM 猫和老鼠背景音乐（主播专用） 纯音乐Bgm 每首都是精华 你能搜到的全网热歌♢BGM♢DJ♢热门D音 搞事情专用BGM 『BGM』你耳熟却又不知道名字的BGM 精选【bgm】 前后起伏纯音乐（TVC广告专用） 【VLOG踩点】超然视频BGM 『流行音乐BGM』大众喜爱歌单！ 皮皮搞笑很多人想要的BGM 精选| 超燃BGM！ 【黑帮】出场专用BGM 【写数学题专用】名侦探柯南破案BGM 「轻电音&纯音乐」(抖腿福利集) 燃，卡点剪辑BGM(大部分为高潮) Upper(剪辑bgm，开头，高潮) 『呕心沥血，史上最全』万首纯音乐大合集 【深夜读书】背景音乐 纯音乐/总会变好的 篮球男孩们你们的bgm来了记得带耳机(持更) 全网最火的音乐都在这《纯音乐》 向日葵[纯音乐] ✨SloMo宝藏BGM♡[开学少更了] 电音伴奏纯音乐(进来嗨) 悬疑-剧本杀BGM 战双帕弥什（战斗bgm） 百里守约BGM［疯狂失约］(º﹃º\\xa0)阿巴~ 『铠战歌（逆风战歌）超燃节奏BGM』 粤知一二BGM 情感电台·读文BGM·治愈系 【BGM】动感时尚大气纯音乐 【日常实用】Pr视频剪辑适用Bgm pr电影混剪音乐BGM 短视频电影电视剧剪辑bgm 影视剪辑BGM 专注学习｜能集中注意力的宝藏纯音乐 最火纯音乐大全 视频特效BGM . 英文♥日系♥纯音乐 脑洞大开！写文用背景音乐！ KUI｜纯音乐*节奏*时尚 （可欣赏向）网易云评论最多纯音乐TOP榜 「踩点」剪辑必备 前方高能 节奏感炸裂BGM 热血|温暖|燃|影视剪辑bgm，从Dancin开始 全球顶级轻音乐+西餐厅专用背景音乐合集 【摸鱼/踩点卡点】适合用来当手书的BGM♪ 爆点★卡点(纯音乐) PR剪辑师常用背景音乐[收藏] 电光耗子 专属 BGM 《这！就是街舞3》BGM最新9.27更新王一博 写作业必备歌单 纯音乐 纯音乐/背书/做题/复习时用 ♬‖唯美‖～纯音乐♡每时刻陪你(´▽｀)ノ♪ 节奏带感 Vlog 纯音乐 视频首选BGM〖CG混剪〗【戴上耳机】 小视频&电影解说bgm 你一定听过但叫不出名字的bgm 王者BGM(打野节奏必备) 动漫 剪辑 卡点 BGM 做视频常用BGM/梗曲（整理版）800+ steph姐姐的神仙BGM♡ 「节奏控」炒鸡棒的BGM 营销号短视频BGMTOP100 剪辑常用的背景音乐 短视频或综艺常见BGM 短视频电影剪辑常用背景音乐 这就是街舞3 BGM(附有歌单) 10.神级背景经典配乐 狼人沈天使用的BGM 视频里你不知道名字的BGM 你一定听过但不一定知道歌名的BGM大全\""
      ]
     },
     "execution_count": 412,
     "metadata": {},
     "output_type": "execute_result"
    }
   ],
   "source": [
    "bgm_json_data[5].get('play_lists')"
   ]
  },
  {
   "cell_type": "code",
   "execution_count": 291,
   "metadata": {},
   "outputs": [],
   "source": [
    "result = bgm_json_data[5].get('play_lists').split(' ')\n"
   ]
  },
  {
   "cell_type": "code",
   "execution_count": 292,
   "metadata": {
    "collapsed": true,
    "jupyter": {
     "outputs_hidden": true
    }
   },
   "outputs": [
    {
     "data": {
      "text/plain": [
       "'走秀 专用 歌单 时装 视频剪辑 背景 乐 RusMe 阿联酋 实战 BGM 精选 EA7 Bass 电音 Future bass 纯音乐 航拍 延时 摄影 背景音乐 合集 BGM 异域 风情 珍惜 歌单 iMovie BGM List 丨 BGM 丨 车载 嗨 曲 视频 专用 配乐 背景音乐 纯 音乐无限 更新 纯音乐 播音 主持 古风 DJ 纯音乐 各种 混 搭 喜欢 看看 电 耗子 BGM 燃 网易 精选 热门 BGM HEINAN 旅拍 油管 BGM 节奏 迷幻 女 声控 BGM 背景音乐 英文 喜欢 15S 朋友圈 短 视频 BGM 电影 解说 视频 背景音乐 精选 战疫 纯音 BGM 钢琴 纯音乐 纯音乐 精选 橙光 丧尸 世界末日 专属 背景 更新 1017 剪辑 BGM 禁忌 女孩 bgm 时尚 剪辑 纯音乐 出 大事 必备 BGM 史诗 级 短 视频 官方 发布 配音 BGM 影视 解说 VLOG 视频 配音 经典 背景音乐 精选 高级 感秀场 T台 走秀 背景音乐 精选 视频剪辑 纯音乐 BGM 纯音乐 游戏 劲曲 王者 打野 带 节奏 必备 bgm 高燃 持续 更新 全 类型 燃向 BGMGODs love 核爆 音乐 动感 时尚 广告 宣传片 背景 乐高 逼格 影视 动漫 剪辑 都 可用 英文 BGM 视频 后期 BGM 猫和老鼠 背景音乐 主播 专用 纯音乐 Bgm 首都 精华 能 搜到 全网 热歌 BGMDJ 热门 D 音 搞 事情 专用 BGM BGM 耳熟 知道 名字 BGM 精选 bgm 前后 起伏 纯音乐 TVC 广告 专用 VLOG 踩点 超然 视频 BGM 流行音乐 BGM 大众 喜爱 歌单 皮皮 搞笑 很多 想要 BGM 精选 超燃 BGM 黑帮 出场 专用 BGM 写 数学题 专用 名 侦探 柯南 破案 BGM 轻电音 纯音乐 抖 腿 福利 集 燃卡点 剪辑 BGM 大部分 高潮 Upper 剪辑 bgm 开头 高潮 呕心沥血 史上 最全 万首 纯音乐 大 合集 深夜 读书 背景音乐 纯音乐 总会 变好 篮球 男孩 bgm 记得 带 耳机 持 更 全网 最火 音乐 都 纯音乐 向日葵 纯音乐 SloMo 宝藏 BGM 开学 少 更 电音 伴奏 纯音乐 进来 嗨 悬疑剧 本杀 BGM 战双 帕弥什 战斗 bgm 百里 守约 BGM 疯狂 失约 \\xa0 阿巴 铠 战歌 逆风 战歌 超燃 节奏 BGM 粤知 一二 BGM 情感 电台 读文 BGM 治愈 系 BGM 动感 时尚 大气 纯音乐 日常 实用 Pr 视频剪辑 适用 Bgm pr 电影 混剪 音乐 BGM 短 视频 电影 电视剧 剪辑 bgm 影视 剪辑 BGM 专注 学习 能 集中 注意力 宝藏 纯音乐 最火 纯音乐 大全 视频 特效 BGM 英文 日系 纯音乐 脑洞 大开 写 文用 背景音乐 KUI 纯音乐 节奏 时尚 欣赏 网易 云 评论 多 纯音乐 TOP 榜 踩点 剪辑 必备 前方 高能 节奏感 炸裂 BGM 热血 温暖 燃 影视 剪辑 bgm Dancin 开始 全球 顶级 轻音乐 西餐厅 专用 背景音乐 合集 摸鱼 踩点 卡点 适合 手书 BGM 爆 点卡 点 纯音乐 PR 剪辑 师 常用 背景音乐 收藏 电光 耗子 专属 BGM 街舞 3BGM 最新 927 更新 王一博 写 作业 必备 歌单 纯音乐 纯音乐 背书 做 题 复习 时用 唯美 纯音乐 时刻 陪 节奏 带感 Vlog 纯音乐 视频 首选 BGMCG 混剪 戴 耳机 小视频 电影 解说 bgm 一定 听过 叫 不出 名字 bgm 王者 BGM 打野 节奏 必备 动漫 剪辑 卡点 BGM 做 视频 常用 BGM 梗曲 整理 版 800 steph 姐姐 神仙 BGM 节奏 控 炒 鸡 棒 BGM 营销 号 短 视频 BGMTOP100 剪辑 常用 背景音乐 短 视频 综艺 常见 BGM 短 视频 电影 剪辑 常用 背景音乐 街舞 3 BGM 附有 歌单 10 神级 背景 经典 配乐 狼人 沈天 使用 BGM 视频 里 知道 名字 BGM 一定 听过 一定 知道 歌名 BGM 大全 '"
      ]
     },
     "execution_count": 292,
     "metadata": {},
     "output_type": "execute_result"
    }
   ],
   "source": [
    "test"
   ]
  },
  {
   "cell_type": "code",
   "execution_count": 420,
   "metadata": {},
   "outputs": [
    {
     "ename": "AttributeError",
     "evalue": "module 'CralwerProject.playlist_parse' has no attribute 'parse_playlist_str'",
     "output_type": "error",
     "traceback": [
      "\u001b[1;31m---------------------------------------------------------------------------\u001b[0m",
      "\u001b[1;31mAttributeError\u001b[0m                            Traceback (most recent call last)",
      "\u001b[1;32m<ipython-input-420-5600344b91ed>\u001b[0m in \u001b[0;36m<module>\u001b[1;34m\u001b[0m\n\u001b[0;32m      1\u001b[0m \u001b[0mresult\u001b[0m \u001b[1;33m=\u001b[0m \u001b[0mbgm_json_data\u001b[0m\u001b[1;33m[\u001b[0m\u001b[1;36m5\u001b[0m\u001b[1;33m]\u001b[0m\u001b[1;33m.\u001b[0m\u001b[0mget\u001b[0m\u001b[1;33m(\u001b[0m\u001b[1;34m'play_lists'\u001b[0m\u001b[1;33m)\u001b[0m\u001b[1;33m.\u001b[0m\u001b[0msplit\u001b[0m\u001b[1;33m(\u001b[0m\u001b[1;34m' '\u001b[0m\u001b[1;33m)\u001b[0m\u001b[1;33m\u001b[0m\u001b[1;33m\u001b[0m\u001b[0m\n\u001b[1;32m----> 2\u001b[1;33m \u001b[0moutput\u001b[0m \u001b[1;33m=\u001b[0m \u001b[0mplaylist_parse\u001b[0m\u001b[1;33m.\u001b[0m\u001b[0mparse_playlist_str\u001b[0m\u001b[1;33m(\u001b[0m\u001b[0mresult\u001b[0m\u001b[1;33m)\u001b[0m\u001b[1;33m\u001b[0m\u001b[1;33m\u001b[0m\u001b[0m\n\u001b[0m",
      "\u001b[1;31mAttributeError\u001b[0m: module 'CralwerProject.playlist_parse' has no attribute 'parse_playlist_str'"
     ]
    }
   ],
   "source": [
    "result = bgm_json_data[5].get('play_lists').split(' ')\n",
    "output = playlist_parse.parse_playlist_str(result)"
   ]
  },
  {
   "cell_type": "code",
   "execution_count": 286,
   "metadata": {},
   "outputs": [
    {
     "name": "stdout",
     "output_type": "stream",
     "text": [
      "李小福/是/创新/办/主任/也/是/云/计算/方面/的/专家/,/ /我/不是/专家/BOSSas/哈哈\n"
     ]
    }
   ],
   "source": [
    "seg=jieba.cut(\"李小福是创新办主任也是云计算方面的专家, 我不是专家BOSSas哈哈\")#默认精确模式 也可以设置cut_all=False\n",
    "print(\"/\".join(seg))"
   ]
  },
  {
   "cell_type": "code",
   "execution_count": null,
   "metadata": {},
   "outputs": [],
   "source": []
  },
  {
   "cell_type": "code",
   "execution_count": 265,
   "metadata": {},
   "outputs": [],
   "source": [
    "all_playlist_data = ''"
   ]
  },
  {
   "cell_type": "code",
   "execution_count": 274,
   "metadata": {},
   "outputs": [],
   "source": [
    "for item in bgm_json_data:\n",
    "    all_playlist_data += item.get('play_lists')"
   ]
  },
  {
   "cell_type": "code",
   "execution_count": 275,
   "metadata": {},
   "outputs": [],
   "source": [
    "# 去除特殊字符\n",
    "all_playlist_data = clean_zh_text(all_playlist_data)"
   ]
  },
  {
   "cell_type": "code",
   "execution_count": 295,
   "metadata": {},
   "outputs": [],
   "source": [
    "output_data = ''\n",
    "all_playlist_data = all_playlist_data.split(' ')"
   ]
  },
  {
   "cell_type": "code",
   "execution_count": 297,
   "metadata": {},
   "outputs": [
    {
     "name": "stderr",
     "output_type": "stream",
     "text": [
      "100%|████████████████████████████████████████████████████████████████████████| 852185/852185 [09:33<00:00, 1486.82it/s]\n"
     ]
    }
   ],
   "source": [
    "with trange(len(all_playlist_data)) as t:\n",
    "    for sentence in all_playlist_data:\n",
    "        output_data += seg_sentence(sentence)\n",
    "        t.update(1)"
   ]
  },
  {
   "cell_type": "code",
   "execution_count": 298,
   "metadata": {},
   "outputs": [],
   "source": [
    "# 将处理好的歌单文本写入到文件\n",
    "filename = './data/all_playlist_data.txt'\n",
    "with open(filename, 'w', encoding='utf-8') as fw:\n",
    "    json.dump(output_data, fw)"
   ]
  },
  {
   "cell_type": "code",
   "execution_count": 300,
   "metadata": {},
   "outputs": [],
   "source": [
    "from collections import Counter"
   ]
  },
  {
   "cell_type": "code",
   "execution_count": 301,
   "metadata": {},
   "outputs": [],
   "source": [
    "word_freq = dict(Counter(output_data.split(' ')))"
   ]
  },
  {
   "cell_type": "code",
   "execution_count": 306,
   "metadata": {},
   "outputs": [],
   "source": [
    "# 根据value将字典降序排序\n",
    "sorted_word_freq = sorted(word_freq.items(), key=lambda d: d[1], reverse=True)"
   ]
  },
  {
   "cell_type": "code",
   "execution_count": 312,
   "metadata": {},
   "outputs": [
    {
     "data": {
      "text/plain": [
       "tuple"
      ]
     },
     "execution_count": 312,
     "metadata": {},
     "output_type": "execute_result"
    }
   ],
   "source": [
    "type(sorted_word_freq[1])"
   ]
  },
  {
   "cell_type": "code",
   "execution_count": 315,
   "metadata": {},
   "outputs": [],
   "source": [
    "df.to_excel('./data/sorted_word_freq.xlsx', index=False)"
   ]
  },
  {
   "cell_type": "code",
   "execution_count": 316,
   "metadata": {},
   "outputs": [],
   "source": [
    "word_df = pd.read_excel('./data/words_dict.xlsx')"
   ]
  },
  {
   "cell_type": "code",
   "execution_count": 319,
   "metadata": {},
   "outputs": [],
   "source": [
    "tag_words = word_df['word']"
   ]
  },
  {
   "cell_type": "code",
   "execution_count": 326,
   "metadata": {},
   "outputs": [],
   "source": [
    "tag_words = tag_words.values.tolist()"
   ]
  },
  {
   "cell_type": "code",
   "execution_count": 328,
   "metadata": {},
   "outputs": [],
   "source": [
    "tag_words.remove('视频剪辑')"
   ]
  },
  {
   "cell_type": "code",
   "execution_count": 330,
   "metadata": {},
   "outputs": [],
   "source": [
    "tag_words.remove('燃向')"
   ]
  },
  {
   "cell_type": "code",
   "execution_count": 332,
   "metadata": {},
   "outputs": [],
   "source": [
    "filename = './data/tag_words.json'\n",
    "with open(filename, 'w', encoding='utf-8') as fw:\n",
    "    json.dump(tag_words, fw,ensure_ascii=False,indent = 4)"
   ]
  },
  {
   "cell_type": "code",
   "execution_count": null,
   "metadata": {},
   "outputs": [],
   "source": []
  }
 ],
 "metadata": {
  "kernelspec": {
   "display_name": "Python 3",
   "language": "python",
   "name": "python3"
  },
  "language_info": {
   "codemirror_mode": {
    "name": "ipython",
    "version": 3
   },
   "file_extension": ".py",
   "mimetype": "text/x-python",
   "name": "python",
   "nbconvert_exporter": "python",
   "pygments_lexer": "ipython3",
   "version": "3.7.4"
  },
  "widgets": {
   "application/vnd.jupyter.widget-state+json": {
    "state": {},
    "version_major": 2,
    "version_minor": 0
   }
  }
 },
 "nbformat": 4,
 "nbformat_minor": 4
}
