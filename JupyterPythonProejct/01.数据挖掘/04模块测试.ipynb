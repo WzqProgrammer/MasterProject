{
 "cells": [
  {
   "cell_type": "code",
   "execution_count": 1,
   "metadata": {},
   "outputs": [],
   "source": [
    "import requests as rq\n",
    "from bs4 import BeautifulSoup\n",
    "import pandas as pd \n",
    "import numpy as np\n",
    "import time\n",
    "import json\n",
    "import concurrent.futures \n",
    "import re\n",
    "import random\n",
    "from lxml import etree\n",
    "import pymongo\n",
    "from tqdm import tqdm, trange\n",
    "import jieba\n",
    "import importlib\n",
    "import sys\n",
    "sys.path.append(\"CralwerProject\") "
   ]
  },
  {
   "cell_type": "code",
   "execution_count": 2,
   "metadata": {},
   "outputs": [],
   "source": [
    "import CralwerProject\n",
    "import CralwerProject.ip_pool as ip_pool\n",
    "from CralwerProject.parsetools import TextParser, MongoDAO\n",
    "from CralwerProject.playlistcrawler import PlaylistCrawler\n",
    "from CralwerProject.songparser import SongParser"
   ]
  },
  {
   "cell_type": "markdown",
   "metadata": {},
   "source": [
    "## 歌单搜索"
   ]
  },
  {
   "cell_type": "code",
   "execution_count": 4,
   "metadata": {},
   "outputs": [],
   "source": [
    "headers = {'User-Agent': 'Mozilla/5.0 (X11; Linux x86_64) AppleWebKit/537.36 (KHTML, like Gecko) Chrome/52.0.2743.116 Safari/537.36'}"
   ]
  },
  {
   "cell_type": "code",
   "execution_count": 21,
   "metadata": {},
   "outputs": [],
   "source": [
    "valid_ips = ip_pool.get_valid_ips('./data/valid_ips.json')"
   ]
  },
  {
   "cell_type": "code",
   "execution_count": 3,
   "metadata": {},
   "outputs": [],
   "source": [
    "mongo_config_playlist = {\n",
    "    'mongo_url': 'mongodb://192.168.206.100:27017/',\n",
    "    'db_name': 'springTest',\n",
    "    'collection_name': 'test_play_list'\n",
    "}\n",
    "\n",
    "mongo_config_added_playlist = {\n",
    "    'mongo_url': 'mongodb://192.168.206.100:27017/',\n",
    "    'db_name': 'springTest',\n",
    "    'collection_name': 'added_play_list'\n",
    "}\n",
    "\n",
    "mongo_config_songdata = {\n",
    "    'mongo_url': 'mongodb://192.168.206.100:27017/',\n",
    "    'db_name': 'springTest',\n",
    "    'collection_name': 'song_data'\n",
    "}"
   ]
  },
  {
   "cell_type": "code",
   "execution_count": 5,
   "metadata": {},
   "outputs": [],
   "source": [
    "# 歌单总集合\n",
    "mongoDAO_playlist = MongoDAO(mongo_config_playlist)\n",
    "# 新添加的歌单集合\n",
    "mongoDAO_added_playlist = MongoDAO(mongo_config_added_playlist)\n",
    "# 歌曲集合\n",
    "mongoDAO_songdata = MongoDAO(mongo_config_songdata)"
   ]
  },
  {
   "cell_type": "code",
   "execution_count": 75,
   "metadata": {},
   "outputs": [],
   "source": [
    "playlist_crawler = PlaylistCrawler('./data/valid_ips.json', mongoDAO_added_playlist)\n",
    "song_parser = SongParser(mongoDAO_songdata)"
   ]
  },
  {
   "cell_type": "code",
   "execution_count": 29,
   "metadata": {},
   "outputs": [],
   "source": [
    "def get_playlist_from_search(keywords, pages=10):\n",
    "    playlist_ids = []\n",
    "    with trange(page) as t:\n",
    "        for i in range(1, pages+1):\n",
    "            url = 'https://autumnfish.cn/search?keywords=' + keywords +'&limit=30&type=1000&offset=' + str(i * 30)\n",
    "             # 随机抽取ip\n",
    "            ip = random.choice(valid_ips)\n",
    "            proxies = {}\n",
    "            if ip.split(\":\")[0] == 'http':\n",
    "                proxies = {\n",
    "                    'http': ip\n",
    "                }\n",
    "            else:\n",
    "                proxies = {\n",
    "                    'https': ip\n",
    "                }\n",
    "            r = rq.get(url=url, headers=headers, proxies=proxies)\n",
    "            search_dict = json.loads(r.text)\n",
    "            # 从json中获取歌单id\n",
    "            for item in search_dict['result']['playlists']:\n",
    "                playlist_ids.append(item.get('id'))\n",
    "            t.update(1)\n",
    "    return playlist_ids"
   ]
  },
  {
   "cell_type": "code",
   "execution_count": 27,
   "metadata": {},
   "outputs": [],
   "source": [
    "playlist_ids = get_playlist_from_search('恐怖')"
   ]
  },
  {
   "cell_type": "code",
   "execution_count": 28,
   "metadata": {},
   "outputs": [
    {
     "data": {
      "text/plain": [
       "300"
      ]
     },
     "execution_count": 28,
     "metadata": {},
     "output_type": "execute_result"
    }
   ],
   "source": [
    "len(playlist_ids)"
   ]
  },
  {
   "cell_type": "code",
   "execution_count": 36,
   "metadata": {},
   "outputs": [
    {
     "data": {
      "text/plain": [
       "int"
      ]
     },
     "execution_count": 36,
     "metadata": {},
     "output_type": "execute_result"
    }
   ],
   "source": [
    "type(playlist_ids[0])"
   ]
  },
  {
   "cell_type": "code",
   "execution_count": 44,
   "metadata": {},
   "outputs": [],
   "source": [
    "def process_search_playlist_info(playlist_id_list):\n",
    "    with trange(len(playlist_id_list)) as t:\n",
    "        for playlist_id in playlist_id_list:\n",
    "            # 查询是否已存在该歌单\n",
    "            result = mongoDAO_playlist.count_documents({'_id':str(playlist_id)})\n",
    "            if result == 0:\n",
    "                playlist_crawler.process_playlist_info(str(playlist_id))\n",
    "            t.update(1)\n",
    "    # 将新添加的歌单数据同步添加到总集合中 \n",
    "    added_list = mongoDAO_added_playlist.find()\n",
    "    for playlist_dict in added_list:\n",
    "        mongoDAO_playlist.insert_one(playlist_dict)"
   ]
  },
  {
   "cell_type": "code",
   "execution_count": 45,
   "metadata": {},
   "outputs": [
    {
     "name": "stderr",
     "output_type": "stream",
     "text": [
      "100%|████████████████████████████████████████████████████████████████████████████████| 300/300 [02:27<00:00,  2.03it/s]\n"
     ]
    }
   ],
   "source": [
    "process_search_playlist_info(playlist_ids)"
   ]
  },
  {
   "cell_type": "code",
   "execution_count": 51,
   "metadata": {},
   "outputs": [],
   "source": [
    "added_playlist_data = mongoDAO_added_playlist.find()"
   ]
  },
  {
   "cell_type": "code",
   "execution_count": 56,
   "metadata": {},
   "outputs": [
    {
     "name": "stderr",
     "output_type": "stream",
     "text": [
      "  0%|                                                                                          | 0/277 [00:00<?, ?it/s]\n"
     ]
    }
   ],
   "source": [
    "all_data = song_parser.song_data_concat(added_playlist_data)"
   ]
  },
  {
   "cell_type": "code",
   "execution_count": 60,
   "metadata": {},
   "outputs": [
    {
     "data": {
      "text/plain": [
       "{'_id': 591922,\n",
       " 'tags': ['轻音乐', '夜晚'],\n",
       " 'play_lists': '纯音乐-恐怖、诡异、惊悚、压抑 网易云最恐怖的音乐 【日系/恐怖】阴森恐怖却好听的声音 恐怖 恐怖 恐怖惊悚｜孤独的时候听一听 恐怖 恐怖八音盒 蜜汁恐怖音乐 【空灵鬼乐】阴森恐怖 『诡异纯音』恐怖的BGM [阴暗恐怖]鬼畜天线宝宝3同人地图背景音东 恐怖主题音乐 恐怖/悬疑/压抑/紧张（2020.12.9更新） 诡异八音盒，恐怖小说的首选 恐怖故事 心脏病者勿入 恐怖诡异音乐（吓人专用） 恐怖，悬疑，紧张的纯音乐 诡异恐怖音乐 —— 氛围音效 【收集】BGM囤够了我们就做恐怖解谜游戏。 『恐怖纯音乐』『压抑』嘘，你看看你的身后'}"
      ]
     },
     "execution_count": 60,
     "metadata": {},
     "output_type": "execute_result"
    }
   ],
   "source": [
    "all_data[3]"
   ]
  },
  {
   "cell_type": "code",
   "execution_count": 61,
   "metadata": {},
   "outputs": [
    {
     "name": "stderr",
     "output_type": "stream",
     "text": [
      "100%|███████████████████████████████████████████████████████████████████████████| 31720/31720 [01:42<00:00, 308.62it/s]\n"
     ]
    }
   ],
   "source": [
    "song_parser.process_all_song_data(all_data)"
   ]
  },
  {
   "cell_type": "code",
   "execution_count": 76,
   "metadata": {},
   "outputs": [],
   "source": [
    "result = mongoDAO_songdata.find({'_id': 591922})"
   ]
  },
  {
   "cell_type": "code",
   "execution_count": 78,
   "metadata": {},
   "outputs": [
    {
     "data": {
      "text/plain": [
       "48"
      ]
     },
     "execution_count": 78,
     "metadata": {},
     "output_type": "execute_result"
    }
   ],
   "source": [
    "len(result[0]['tags'])"
   ]
  },
  {
   "cell_type": "code",
   "execution_count": 94,
   "metadata": {
    "collapsed": true,
    "jupyter": {
     "outputs_hidden": true
    }
   },
   "outputs": [
    {
     "data": {
      "text/plain": [
       "{'_id': 484058025,\n",
       " 'tags': ['流行',\n",
       "  '网络歌曲',\n",
       "  '综艺',\n",
       "  '气势',\n",
       "  '大气',\n",
       "  '鼓点',\n",
       "  '看书',\n",
       "  '学习',\n",
       "  '游戏',\n",
       "  '蹦迪',\n",
       "  'ACG',\n",
       "  '温柔',\n",
       "  '电音',\n",
       "  '动感',\n",
       "  '经典',\n",
       "  '散步',\n",
       "  'DJ',\n",
       "  '嗨',\n",
       "  '催泪',\n",
       "  '治愈',\n",
       "  '震撼',\n",
       "  '热血',\n",
       "  '浪漫',\n",
       "  '刷题',\n",
       "  '高能',\n",
       "  '纯音乐',\n",
       "  '青春',\n",
       "  '日系',\n",
       "  '放松',\n",
       "  '古风',\n",
       "  '史诗',\n",
       "  '温暖',\n",
       "  '英文',\n",
       "  '励志',\n",
       "  '运动',\n",
       "  '动漫',\n",
       "  '伤感',\n",
       "  '战歌',\n",
       "  '踩点',\n",
       "  '欧美',\n",
       "  'BGM',\n",
       "  '燃',\n",
       "  '电子',\n",
       "  '节奏',\n",
       "  '安静',\n",
       "  '恋爱',\n",
       "  '清晨',\n",
       "  '街舞',\n",
       "  '舒服',\n",
       "  '欢快',\n",
       "  '快乐',\n",
       "  '优雅',\n",
       "  '古典',\n",
       "  '黑暗',\n",
       "  '钢琴',\n",
       "  '愉快',\n",
       "  '伴奏',\n",
       "  '国风',\n",
       "  '感动',\n",
       "  '丧',\n",
       "  '清新',\n",
       "  '日本',\n",
       "  '轻音乐',\n",
       "  '安眠',\n",
       "  '恐怖',\n",
       "  'rap',\n",
       "  '自习',\n",
       "  '诡异']}"
      ]
     },
     "execution_count": 94,
     "metadata": {},
     "output_type": "execute_result"
    }
   ],
   "source": [
    "result[0]"
   ]
  },
  {
   "cell_type": "code",
   "execution_count": 79,
   "metadata": {},
   "outputs": [],
   "source": [
    "result = mongoDAO_songdata.find({'tags':{'$in':['恐怖']}})"
   ]
  },
  {
   "cell_type": "markdown",
   "metadata": {},
   "source": [
    "{ \"_id\" : 591922, \"tags\" : [ \"浪漫\", \"影视原声\", \"ACG\", \"悲伤\", \"温柔\", \"动感\", \"钢琴\", \"静心\", \"节奏\", \"安静\", \"学习\", \"纯音乐\", \"刷题\", \"放松\", \"睡眠\", \"经典\", \"史诗\", \"战歌\", \"动漫\", \"BGM\", \"古典\", \"蹦迪\", \"自习\", \"轻音乐\", \"治愈\", \"看书\", \"伤感\", \"轻柔\", \"空灵\", \"唯美\", \"英文\", \"清新\", \"黑暗\", \"国风\", \"日系\", \"日本\", \"致郁\", \"欢快\", \"安眠\", \"震撼\", \"快乐\", \"感动\", \"恋爱\", \"催泪\", \"吉他\", \"伴奏\", \"恐怖\", \"诡异\" ] }\n"
   ]
  },
  {
   "cell_type": "code",
   "execution_count": 6,
   "metadata": {},
   "outputs": [
    {
     "data": {
      "text/plain": [
       "30198"
      ]
     },
     "execution_count": 6,
     "metadata": {},
     "output_type": "execute_result"
    }
   ],
   "source": [
    "mongoDAO_songdata.count_documents({'tags':{'$all':['恐怖', 'BGM', '惊悚']}})"
   ]
  },
  {
   "cell_type": "code",
   "execution_count": 82,
   "metadata": {},
   "outputs": [
    {
     "data": {
      "text/plain": [
       "197838"
      ]
     },
     "execution_count": 82,
     "metadata": {},
     "output_type": "execute_result"
    }
   ],
   "source": [
    "mongoDAO_songdata.count_documents({'tags':{'$in':['轻松']}})"
   ]
  },
  {
   "cell_type": "code",
   "execution_count": 85,
   "metadata": {},
   "outputs": [],
   "source": [
    "list_data = mongoDAO_playlist.find()"
   ]
  },
  {
   "cell_type": "code",
   "execution_count": 25,
   "metadata": {},
   "outputs": [],
   "source": [
    "all_playlist = mongoDAO_playlist.find()"
   ]
  },
  {
   "cell_type": "code",
   "execution_count": 13,
   "metadata": {},
   "outputs": [
    {
     "data": {
      "text/plain": [
       "dict"
      ]
     },
     "execution_count": 13,
     "metadata": {},
     "output_type": "execute_result"
    }
   ],
   "source": [
    "type(all_playlist[1])"
   ]
  },
  {
   "cell_type": "code",
   "execution_count": 26,
   "metadata": {},
   "outputs": [],
   "source": [
    "filename = 'all_playlist.json'\n",
    "all_playlist_list = []"
   ]
  },
  {
   "cell_type": "code",
   "execution_count": 27,
   "metadata": {},
   "outputs": [],
   "source": [
    "for playlist in all_playlist:\n",
    "    all_playlist_list.append(playlist)"
   ]
  },
  {
   "cell_type": "code",
   "execution_count": 31,
   "metadata": {},
   "outputs": [],
   "source": [
    "with open(filename, 'w', encoding='utf-8') as fw:       \n",
    "    json.dump(all_playlist_list,fp=fw, ensure_ascii=False)"
   ]
  },
  {
   "cell_type": "code",
   "execution_count": 32,
   "metadata": {},
   "outputs": [],
   "source": [
    "with open(filename, 'r', encoding='utf-8') as fr:\n",
    "    my_playlist = json.load(fr)"
   ]
  },
  {
   "cell_type": "code",
   "execution_count": 37,
   "metadata": {
    "collapsed": true,
    "jupyter": {
     "outputs_hidden": true
    }
   },
   "outputs": [
    {
     "data": {
      "text/plain": [
       "{'_id': '5180018018',\n",
       " 'song_ids': [1491231632,\n",
       "  1491237295,\n",
       "  1491231647,\n",
       "  1491231648,\n",
       "  1491231659,\n",
       "  1491231670,\n",
       "  1491237338,\n",
       "  1491237340,\n",
       "  1491231684,\n",
       "  1491237360,\n",
       "  1491231712,\n",
       "  1491237384,\n",
       "  1491237390,\n",
       "  1491231764,\n",
       "  1489266004,\n",
       "  1489267058,\n",
       "  1489269048,\n",
       "  1489269055,\n",
       "  1489269059,\n",
       "  1489269061,\n",
       "  1489267095,\n",
       "  1489267097,\n",
       "  1489269066,\n",
       "  1487528112,\n",
       "  1487528118,\n",
       "  1487528121,\n",
       "  1487528129,\n",
       "  1487527157,\n",
       "  1487528134,\n",
       "  1487528136,\n",
       "  1487527161,\n",
       "  1487527164,\n",
       "  1487528141,\n",
       "  1485814455,\n",
       "  1485814456,\n",
       "  1485815319,\n",
       "  1485815320,\n",
       "  1485815324,\n",
       "  1485815327,\n",
       "  1485814463,\n",
       "  1485815332,\n",
       "  1485814465,\n",
       "  1485814466,\n",
       "  1485815349,\n",
       "  1485815352,\n",
       "  1485815353,\n",
       "  1484055473,\n",
       "  1484054622,\n",
       "  1484055543,\n",
       "  1484054677,\n",
       "  1482148824,\n",
       "  1482146933,\n",
       "  1482146943,\n",
       "  1482148851,\n",
       "  1481100312,\n",
       "  1481101180,\n",
       "  1481100310,\n",
       "  1481100309,\n",
       "  1481101179,\n",
       "  1481100307,\n",
       "  1481101177,\n",
       "  1481101175,\n",
       "  1480361519,\n",
       "  1480361521,\n",
       "  1480361525,\n",
       "  1480360925,\n",
       "  1480361528,\n",
       "  1480360927,\n",
       "  1480361529,\n",
       "  1480360930,\n",
       "  1480361534,\n",
       "  1480361535,\n",
       "  1480360949,\n",
       "  1480361544,\n",
       "  1478380984,\n",
       "  1478380998,\n",
       "  1478381001,\n",
       "  1478381013,\n",
       "  1478384735,\n",
       "  1478381019,\n",
       "  1478384761,\n",
       "  1478384762,\n",
       "  1478388035,\n",
       "  1478384763,\n",
       "  1476455405,\n",
       "  1476455409,\n",
       "  1476455411,\n",
       "  1476455418,\n",
       "  1476449942,\n",
       "  1476449967,\n",
       "  1476449973,\n",
       "  1476449976,\n",
       "  1476449979,\n",
       "  1476449983,\n",
       "  1476449987,\n",
       "  1476449991,\n",
       "  1474621494,\n",
       "  1474621496,\n",
       "  1474621502,\n",
       "  1474624160,\n",
       "  1474624161,\n",
       "  1474624165,\n",
       "  1474621515,\n",
       "  1474621522,\n",
       "  1474624173,\n",
       "  1474621530,\n",
       "  1474624177,\n",
       "  1474621536,\n",
       "  1474621539,\n",
       "  1474624187,\n",
       "  1474621546,\n",
       "  1474624193,\n",
       "  1474624200,\n",
       "  1474624202,\n",
       "  1472874409,\n",
       "  1472874412,\n",
       "  1472877241,\n",
       "  1472874415,\n",
       "  1472877246,\n",
       "  1472874420,\n",
       "  1472874450,\n",
       "  1472877308,\n",
       "  1472877320,\n",
       "  1473125173,\n",
       "  1472874340,\n",
       "  1472877160,\n",
       "  1472877168,\n",
       "  1472874356,\n",
       "  1472877171,\n",
       "  1472874360,\n",
       "  1472877181,\n",
       "  1472877186,\n",
       "  1472877193,\n",
       "  1472877195,\n",
       "  1472877197,\n",
       "  1472874379,\n",
       "  1472877204,\n",
       "  1472877206,\n",
       "  1472877209,\n",
       "  1472874386,\n",
       "  1472874388,\n",
       "  1472877213,\n",
       "  1470941477,\n",
       "  1470941505,\n",
       "  1470943092,\n",
       "  1470943096,\n",
       "  1470941511,\n",
       "  1470943164,\n",
       "  1470943140,\n",
       "  1470941513,\n",
       "  1470941514,\n",
       "  1470943173,\n",
       "  1470943159,\n",
       "  1470943094,\n",
       "  1470943097,\n",
       "  1470941465,\n",
       "  1469628663],\n",
       " 'tags_list': ['说唱', '综艺'],\n",
       " 'name': '中国新说唱2020现场音频全收录',\n",
       " 'subscribedCount': 76158,\n",
       " 'playCount': 7746343}"
      ]
     },
     "execution_count": 37,
     "metadata": {},
     "output_type": "execute_result"
    }
   ],
   "source": [
    "my_playlist[6]"
   ]
  },
  {
   "cell_type": "markdown",
   "metadata": {},
   "source": [
    "# 歌单用户与歌曲的对应"
   ]
  },
  {
   "cell_type": "code",
   "execution_count": 41,
   "metadata": {
    "collapsed": true,
    "jupyter": {
     "outputs_hidden": true
    }
   },
   "outputs": [
    {
     "name": "stdout",
     "output_type": "stream",
     "text": [
      "E11000 duplicate key error collection: springTest.test_play_list index: _id_ dup key: { : \"2317794065\" }, full error: {'index': 0, 'code': 11000, 'errmsg': 'E11000 duplicate key error collection: springTest.test_play_list index: _id_ dup key: { : \"2317794065\" }'}\n",
      "E11000 duplicate key error collection: springTest.test_play_list index: _id_ dup key: { : \"818067578\" }, full error: {'index': 0, 'code': 11000, 'errmsg': 'E11000 duplicate key error collection: springTest.test_play_list index: _id_ dup key: { : \"818067578\" }'}\n",
      "E11000 duplicate key error collection: springTest.test_play_list index: _id_ dup key: { : \"3211003706\" }, full error: {'index': 0, 'code': 11000, 'errmsg': 'E11000 duplicate key error collection: springTest.test_play_list index: _id_ dup key: { : \"3211003706\" }'}\n",
      "E11000 duplicate key error collection: springTest.test_play_list index: _id_ dup key: { : \"2112176183\" }, full error: {'index': 0, 'code': 11000, 'errmsg': 'E11000 duplicate key error collection: springTest.test_play_list index: _id_ dup key: { : \"2112176183\" }'}\n",
      "E11000 duplicate key error collection: springTest.test_play_list index: _id_ dup key: { : \"503104559\" }, full error: {'index': 0, 'code': 11000, 'errmsg': 'E11000 duplicate key error collection: springTest.test_play_list index: _id_ dup key: { : \"503104559\" }'}\n",
      "E11000 duplicate key error collection: springTest.test_play_list index: _id_ dup key: { : \"123108564\" }, full error: {'index': 0, 'code': 11000, 'errmsg': 'E11000 duplicate key error collection: springTest.test_play_list index: _id_ dup key: { : \"123108564\" }'}\n",
      "E11000 duplicate key error collection: springTest.test_play_list index: _id_ dup key: { : \"2415251988\" }, full error: {'index': 0, 'code': 11000, 'errmsg': 'E11000 duplicate key error collection: springTest.test_play_list index: _id_ dup key: { : \"2415251988\" }'}\n",
      "E11000 duplicate key error collection: springTest.test_play_list index: _id_ dup key: { : \"408703414\" }, full error: {'index': 0, 'code': 11000, 'errmsg': 'E11000 duplicate key error collection: springTest.test_play_list index: _id_ dup key: { : \"408703414\" }'}\n",
      "E11000 duplicate key error collection: springTest.test_play_list index: _id_ dup key: { : \"3212630871\" }, full error: {'index': 0, 'code': 11000, 'errmsg': 'E11000 duplicate key error collection: springTest.test_play_list index: _id_ dup key: { : \"3212630871\" }'}\n",
      "E11000 duplicate key error collection: springTest.test_play_list index: _id_ dup key: { : \"3022366020\" }, full error: {'index': 0, 'code': 11000, 'errmsg': 'E11000 duplicate key error collection: springTest.test_play_list index: _id_ dup key: { : \"3022366020\" }'}\n",
      "E11000 duplicate key error collection: springTest.test_play_list index: _id_ dup key: { : \"994930296\" }, full error: {'index': 0, 'code': 11000, 'errmsg': 'E11000 duplicate key error collection: springTest.test_play_list index: _id_ dup key: { : \"994930296\" }'}\n",
      "E11000 duplicate key error collection: springTest.test_play_list index: _id_ dup key: { : \"5126438035\" }, full error: {'index': 0, 'code': 11000, 'errmsg': 'E11000 duplicate key error collection: springTest.test_play_list index: _id_ dup key: { : \"5126438035\" }'}\n",
      "E11000 duplicate key error collection: springTest.test_play_list index: _id_ dup key: { : \"802907137\" }, full error: {'index': 0, 'code': 11000, 'errmsg': 'E11000 duplicate key error collection: springTest.test_play_list index: _id_ dup key: { : \"802907137\" }'}\n",
      "E11000 duplicate key error collection: springTest.test_play_list index: _id_ dup key: { : \"976507146\" }, full error: {'index': 0, 'code': 11000, 'errmsg': 'E11000 duplicate key error collection: springTest.test_play_list index: _id_ dup key: { : \"976507146\" }'}\n",
      "E11000 duplicate key error collection: springTest.test_play_list index: _id_ dup key: { : \"2066337990\" }, full error: {'index': 0, 'code': 11000, 'errmsg': 'E11000 duplicate key error collection: springTest.test_play_list index: _id_ dup key: { : \"2066337990\" }'}\n",
      "E11000 duplicate key error collection: springTest.test_play_list index: _id_ dup key: { : \"2167666690\" }, full error: {'index': 0, 'code': 11000, 'errmsg': 'E11000 duplicate key error collection: springTest.test_play_list index: _id_ dup key: { : \"2167666690\" }'}\n",
      "E11000 duplicate key error collection: springTest.test_play_list index: _id_ dup key: { : \"2107045235\" }, full error: {'index': 0, 'code': 11000, 'errmsg': 'E11000 duplicate key error collection: springTest.test_play_list index: _id_ dup key: { : \"2107045235\" }'}\n",
      "E11000 duplicate key error collection: springTest.test_play_list index: _id_ dup key: { : \"45372584\" }, full error: {'index': 0, 'code': 11000, 'errmsg': 'E11000 duplicate key error collection: springTest.test_play_list index: _id_ dup key: { : \"45372584\" }'}\n",
      "E11000 duplicate key error collection: springTest.test_play_list index: _id_ dup key: { : \"2703122470\" }, full error: {'index': 0, 'code': 11000, 'errmsg': 'E11000 duplicate key error collection: springTest.test_play_list index: _id_ dup key: { : \"2703122470\" }'}\n",
      "E11000 duplicate key error collection: springTest.test_play_list index: _id_ dup key: { : \"307157818\" }, full error: {'index': 0, 'code': 11000, 'errmsg': 'E11000 duplicate key error collection: springTest.test_play_list index: _id_ dup key: { : \"307157818\" }'}\n",
      "E11000 duplicate key error collection: springTest.test_play_list index: _id_ dup key: { : \"97381473\" }, full error: {'index': 0, 'code': 11000, 'errmsg': 'E11000 duplicate key error collection: springTest.test_play_list index: _id_ dup key: { : \"97381473\" }'}\n",
      "E11000 duplicate key error collection: springTest.test_play_list index: _id_ dup key: { : \"2687421263\" }, full error: {'index': 0, 'code': 11000, 'errmsg': 'E11000 duplicate key error collection: springTest.test_play_list index: _id_ dup key: { : \"2687421263\" }'}\n",
      "E11000 duplicate key error collection: springTest.test_play_list index: _id_ dup key: { : \"2211987651\" }, full error: {'index': 0, 'code': 11000, 'errmsg': 'E11000 duplicate key error collection: springTest.test_play_list index: _id_ dup key: { : \"2211987651\" }'}\n",
      "E11000 duplicate key error collection: springTest.test_play_list index: _id_ dup key: { : \"2380003739\" }, full error: {'index': 0, 'code': 11000, 'errmsg': 'E11000 duplicate key error collection: springTest.test_play_list index: _id_ dup key: { : \"2380003739\" }'}\n",
      "E11000 duplicate key error collection: springTest.test_play_list index: _id_ dup key: { : \"542862461\" }, full error: {'index': 0, 'code': 11000, 'errmsg': 'E11000 duplicate key error collection: springTest.test_play_list index: _id_ dup key: { : \"542862461\" }'}\n",
      "E11000 duplicate key error collection: springTest.test_play_list index: _id_ dup key: { : \"4963104372\" }, full error: {'index': 0, 'code': 11000, 'errmsg': 'E11000 duplicate key error collection: springTest.test_play_list index: _id_ dup key: { : \"4963104372\" }'}\n",
      "E11000 duplicate key error collection: springTest.test_play_list index: _id_ dup key: { : \"3116121488\" }, full error: {'index': 0, 'code': 11000, 'errmsg': 'E11000 duplicate key error collection: springTest.test_play_list index: _id_ dup key: { : \"3116121488\" }'}\n",
      "E11000 duplicate key error collection: springTest.test_play_list index: _id_ dup key: { : \"134312912\" }, full error: {'index': 0, 'code': 11000, 'errmsg': 'E11000 duplicate key error collection: springTest.test_play_list index: _id_ dup key: { : \"134312912\" }'}\n",
      "E11000 duplicate key error collection: springTest.test_play_list index: _id_ dup key: { : \"2367560156\" }, full error: {'index': 0, 'code': 11000, 'errmsg': 'E11000 duplicate key error collection: springTest.test_play_list index: _id_ dup key: { : \"2367560156\" }'}\n",
      "E11000 duplicate key error collection: springTest.test_play_list index: _id_ dup key: { : \"164710016\" }, full error: {'index': 0, 'code': 11000, 'errmsg': 'E11000 duplicate key error collection: springTest.test_play_list index: _id_ dup key: { : \"164710016\" }'}\n",
      "E11000 duplicate key error collection: springTest.test_play_list index: _id_ dup key: { : \"2791267273\" }, full error: {'index': 0, 'code': 11000, 'errmsg': 'E11000 duplicate key error collection: springTest.test_play_list index: _id_ dup key: { : \"2791267273\" }'}\n",
      "E11000 duplicate key error collection: springTest.test_play_list index: _id_ dup key: { : \"2897190072\" }, full error: {'index': 0, 'code': 11000, 'errmsg': 'E11000 duplicate key error collection: springTest.test_play_list index: _id_ dup key: { : \"2897190072\" }'}\n",
      "E11000 duplicate key error collection: springTest.test_play_list index: _id_ dup key: { : \"7900537\" }, full error: {'index': 0, 'code': 11000, 'errmsg': 'E11000 duplicate key error collection: springTest.test_play_list index: _id_ dup key: { : \"7900537\" }'}\n",
      "E11000 duplicate key error collection: springTest.test_play_list index: _id_ dup key: { : \"2559844133\" }, full error: {'index': 0, 'code': 11000, 'errmsg': 'E11000 duplicate key error collection: springTest.test_play_list index: _id_ dup key: { : \"2559844133\" }'}\n",
      "E11000 duplicate key error collection: springTest.test_play_list index: _id_ dup key: { : \"646346326\" }, full error: {'index': 0, 'code': 11000, 'errmsg': 'E11000 duplicate key error collection: springTest.test_play_list index: _id_ dup key: { : \"646346326\" }'}\n",
      "E11000 duplicate key error collection: springTest.test_play_list index: _id_ dup key: { : \"2915987887\" }, full error: {'index': 0, 'code': 11000, 'errmsg': 'E11000 duplicate key error collection: springTest.test_play_list index: _id_ dup key: { : \"2915987887\" }'}\n",
      "E11000 duplicate key error collection: springTest.test_play_list index: _id_ dup key: { : \"2785831747\" }, full error: {'index': 0, 'code': 11000, 'errmsg': 'E11000 duplicate key error collection: springTest.test_play_list index: _id_ dup key: { : \"2785831747\" }'}\n",
      "E11000 duplicate key error collection: springTest.test_play_list index: _id_ dup key: { : \"2526978345\" }, full error: {'index': 0, 'code': 11000, 'errmsg': 'E11000 duplicate key error collection: springTest.test_play_list index: _id_ dup key: { : \"2526978345\" }'}\n",
      "E11000 duplicate key error collection: springTest.test_play_list index: _id_ dup key: { : \"2771654713\" }, full error: {'index': 0, 'code': 11000, 'errmsg': 'E11000 duplicate key error collection: springTest.test_play_list index: _id_ dup key: { : \"2771654713\" }'}\n",
      "E11000 duplicate key error collection: springTest.test_play_list index: _id_ dup key: { : \"3084814650\" }, full error: {'index': 0, 'code': 11000, 'errmsg': 'E11000 duplicate key error collection: springTest.test_play_list index: _id_ dup key: { : \"3084814650\" }'}\n",
      "E11000 duplicate key error collection: springTest.test_play_list index: _id_ dup key: { : \"374304659\" }, full error: {'index': 0, 'code': 11000, 'errmsg': 'E11000 duplicate key error collection: springTest.test_play_list index: _id_ dup key: { : \"374304659\" }'}\n",
      "E11000 duplicate key error collection: springTest.test_play_list index: _id_ dup key: { : \"70510382\" }, full error: {'index': 0, 'code': 11000, 'errmsg': 'E11000 duplicate key error collection: springTest.test_play_list index: _id_ dup key: { : \"70510382\" }'}\n",
      "E11000 duplicate key error collection: springTest.test_play_list index: _id_ dup key: { : \"174144921\" }, full error: {'index': 0, 'code': 11000, 'errmsg': 'E11000 duplicate key error collection: springTest.test_play_list index: _id_ dup key: { : \"174144921\" }'}\n",
      "E11000 duplicate key error collection: springTest.test_play_list index: _id_ dup key: { : \"487026820\" }, full error: {'index': 0, 'code': 11000, 'errmsg': 'E11000 duplicate key error collection: springTest.test_play_list index: _id_ dup key: { : \"487026820\" }'}\n",
      "E11000 duplicate key error collection: springTest.test_play_list index: _id_ dup key: { : \"2254832316\" }, full error: {'index': 0, 'code': 11000, 'errmsg': 'E11000 duplicate key error collection: springTest.test_play_list index: _id_ dup key: { : \"2254832316\" }'}\n",
      "E11000 duplicate key error collection: springTest.test_play_list index: _id_ dup key: { : \"2487562980\" }, full error: {'index': 0, 'code': 11000, 'errmsg': 'E11000 duplicate key error collection: springTest.test_play_list index: _id_ dup key: { : \"2487562980\" }'}\n",
      "E11000 duplicate key error collection: springTest.test_play_list index: _id_ dup key: { : \"4629815\" }, full error: {'index': 0, 'code': 11000, 'errmsg': 'E11000 duplicate key error collection: springTest.test_play_list index: _id_ dup key: { : \"4629815\" }'}\n",
      "E11000 duplicate key error collection: springTest.test_play_list index: _id_ dup key: { : \"2413824909\" }, full error: {'index': 0, 'code': 11000, 'errmsg': 'E11000 duplicate key error collection: springTest.test_play_list index: _id_ dup key: { : \"2413824909\" }'}\n",
      "E11000 duplicate key error collection: springTest.test_play_list index: _id_ dup key: { : \"758899202\" }, full error: {'index': 0, 'code': 11000, 'errmsg': 'E11000 duplicate key error collection: springTest.test_play_list index: _id_ dup key: { : \"758899202\" }'}\n",
      "E11000 duplicate key error collection: springTest.test_play_list index: _id_ dup key: { : \"939546400\" }, full error: {'index': 0, 'code': 11000, 'errmsg': 'E11000 duplicate key error collection: springTest.test_play_list index: _id_ dup key: { : \"939546400\" }'}\n",
      "E11000 duplicate key error collection: springTest.test_play_list index: _id_ dup key: { : \"2824646941\" }, full error: {'index': 0, 'code': 11000, 'errmsg': 'E11000 duplicate key error collection: springTest.test_play_list index: _id_ dup key: { : \"2824646941\" }'}\n",
      "E11000 duplicate key error collection: springTest.test_play_list index: _id_ dup key: { : \"558044\" }, full error: {'index': 0, 'code': 11000, 'errmsg': 'E11000 duplicate key error collection: springTest.test_play_list index: _id_ dup key: { : \"558044\" }'}\n",
      "E11000 duplicate key error collection: springTest.test_play_list index: _id_ dup key: { : \"66137854\" }, full error: {'index': 0, 'code': 11000, 'errmsg': 'E11000 duplicate key error collection: springTest.test_play_list index: _id_ dup key: { : \"66137854\" }'}\n",
      "E11000 duplicate key error collection: springTest.test_play_list index: _id_ dup key: { : \"912386000\" }, full error: {'index': 0, 'code': 11000, 'errmsg': 'E11000 duplicate key error collection: springTest.test_play_list index: _id_ dup key: { : \"912386000\" }'}\n",
      "E11000 duplicate key error collection: springTest.test_play_list index: _id_ dup key: { : \"2015818088\" }, full error: {'index': 0, 'code': 11000, 'errmsg': 'E11000 duplicate key error collection: springTest.test_play_list index: _id_ dup key: { : \"2015818088\" }'}\n",
      "E11000 duplicate key error collection: springTest.test_play_list index: _id_ dup key: { : \"4890138267\" }, full error: {'index': 0, 'code': 11000, 'errmsg': 'E11000 duplicate key error collection: springTest.test_play_list index: _id_ dup key: { : \"4890138267\" }'}\n",
      "E11000 duplicate key error collection: springTest.test_play_list index: _id_ dup key: { : \"4971827823\" }, full error: {'index': 0, 'code': 11000, 'errmsg': 'E11000 duplicate key error collection: springTest.test_play_list index: _id_ dup key: { : \"4971827823\" }'}\n",
      "E11000 duplicate key error collection: springTest.test_play_list index: _id_ dup key: { : \"585862724\" }, full error: {'index': 0, 'code': 11000, 'errmsg': 'E11000 duplicate key error collection: springTest.test_play_list index: _id_ dup key: { : \"585862724\" }'}\n",
      "E11000 duplicate key error collection: springTest.test_play_list index: _id_ dup key: { : \"365351332\" }, full error: {'index': 0, 'code': 11000, 'errmsg': 'E11000 duplicate key error collection: springTest.test_play_list index: _id_ dup key: { : \"365351332\" }'}\n",
      "E11000 duplicate key error collection: springTest.test_play_list index: _id_ dup key: { : \"5017878000\" }, full error: {'index': 0, 'code': 11000, 'errmsg': 'E11000 duplicate key error collection: springTest.test_play_list index: _id_ dup key: { : \"5017878000\" }'}\n",
      "E11000 duplicate key error collection: springTest.test_play_list index: _id_ dup key: { : \"2214649795\" }, full error: {'index': 0, 'code': 11000, 'errmsg': 'E11000 duplicate key error collection: springTest.test_play_list index: _id_ dup key: { : \"2214649795\" }'}\n",
      "E11000 duplicate key error collection: springTest.test_play_list index: _id_ dup key: { : \"2893554033\" }, full error: {'index': 0, 'code': 11000, 'errmsg': 'E11000 duplicate key error collection: springTest.test_play_list index: _id_ dup key: { : \"2893554033\" }'}\n",
      "E11000 duplicate key error collection: springTest.test_play_list index: _id_ dup key: { : \"629489827\" }, full error: {'index': 0, 'code': 11000, 'errmsg': 'E11000 duplicate key error collection: springTest.test_play_list index: _id_ dup key: { : \"629489827\" }'}\n",
      "E11000 duplicate key error collection: springTest.test_play_list index: _id_ dup key: { : \"3058491417\" }, full error: {'index': 0, 'code': 11000, 'errmsg': 'E11000 duplicate key error collection: springTest.test_play_list index: _id_ dup key: { : \"3058491417\" }'}\n",
      "E11000 duplicate key error collection: springTest.test_play_list index: _id_ dup key: { : \"5081171464\" }, full error: {'index': 0, 'code': 11000, 'errmsg': 'E11000 duplicate key error collection: springTest.test_play_list index: _id_ dup key: { : \"5081171464\" }'}\n",
      "E11000 duplicate key error collection: springTest.test_play_list index: _id_ dup key: { : \"2976004914\" }, full error: {'index': 0, 'code': 11000, 'errmsg': 'E11000 duplicate key error collection: springTest.test_play_list index: _id_ dup key: { : \"2976004914\" }'}\n",
      "E11000 duplicate key error collection: springTest.test_play_list index: _id_ dup key: { : \"2865474825\" }, full error: {'index': 0, 'code': 11000, 'errmsg': 'E11000 duplicate key error collection: springTest.test_play_list index: _id_ dup key: { : \"2865474825\" }'}\n",
      "E11000 duplicate key error collection: springTest.test_play_list index: _id_ dup key: { : \"2793739323\" }, full error: {'index': 0, 'code': 11000, 'errmsg': 'E11000 duplicate key error collection: springTest.test_play_list index: _id_ dup key: { : \"2793739323\" }'}\n",
      "E11000 duplicate key error collection: springTest.test_play_list index: _id_ dup key: { : \"1982691309\" }, full error: {'index': 0, 'code': 11000, 'errmsg': 'E11000 duplicate key error collection: springTest.test_play_list index: _id_ dup key: { : \"1982691309\" }'}\n",
      "E11000 duplicate key error collection: springTest.test_play_list index: _id_ dup key: { : \"5040067501\" }, full error: {'index': 0, 'code': 11000, 'errmsg': 'E11000 duplicate key error collection: springTest.test_play_list index: _id_ dup key: { : \"5040067501\" }'}\n",
      "E11000 duplicate key error collection: springTest.test_play_list index: _id_ dup key: { : \"2922802633\" }, full error: {'index': 0, 'code': 11000, 'errmsg': 'E11000 duplicate key error collection: springTest.test_play_list index: _id_ dup key: { : \"2922802633\" }'}\n",
      "E11000 duplicate key error collection: springTest.test_play_list index: _id_ dup key: { : \"114199686\" }, full error: {'index': 0, 'code': 11000, 'errmsg': 'E11000 duplicate key error collection: springTest.test_play_list index: _id_ dup key: { : \"114199686\" }'}\n",
      "E11000 duplicate key error collection: springTest.test_play_list index: _id_ dup key: { : \"3237906175\" }, full error: {'index': 0, 'code': 11000, 'errmsg': 'E11000 duplicate key error collection: springTest.test_play_list index: _id_ dup key: { : \"3237906175\" }'}\n",
      "E11000 duplicate key error collection: springTest.test_play_list index: _id_ dup key: { : \"58663786\" }, full error: {'index': 0, 'code': 11000, 'errmsg': 'E11000 duplicate key error collection: springTest.test_play_list index: _id_ dup key: { : \"58663786\" }'}\n",
      "E11000 duplicate key error collection: springTest.test_play_list index: _id_ dup key: { : \"2304956604\" }, full error: {'index': 0, 'code': 11000, 'errmsg': 'E11000 duplicate key error collection: springTest.test_play_list index: _id_ dup key: { : \"2304956604\" }'}\n",
      "E11000 duplicate key error collection: springTest.test_play_list index: _id_ dup key: { : \"696441650\" }, full error: {'index': 0, 'code': 11000, 'errmsg': 'E11000 duplicate key error collection: springTest.test_play_list index: _id_ dup key: { : \"696441650\" }'}\n",
      "E11000 duplicate key error collection: springTest.test_play_list index: _id_ dup key: { : \"3086519431\" }, full error: {'index': 0, 'code': 11000, 'errmsg': 'E11000 duplicate key error collection: springTest.test_play_list index: _id_ dup key: { : \"3086519431\" }'}\n",
      "E11000 duplicate key error collection: springTest.test_play_list index: _id_ dup key: { : \"369103020\" }, full error: {'index': 0, 'code': 11000, 'errmsg': 'E11000 duplicate key error collection: springTest.test_play_list index: _id_ dup key: { : \"369103020\" }'}\n",
      "E11000 duplicate key error collection: springTest.test_play_list index: _id_ dup key: { : \"4923897195\" }, full error: {'index': 0, 'code': 11000, 'errmsg': 'E11000 duplicate key error collection: springTest.test_play_list index: _id_ dup key: { : \"4923897195\" }'}\n",
      "E11000 duplicate key error collection: springTest.test_play_list index: _id_ dup key: { : \"2879477534\" }, full error: {'index': 0, 'code': 11000, 'errmsg': 'E11000 duplicate key error collection: springTest.test_play_list index: _id_ dup key: { : \"2879477534\" }'}\n",
      "E11000 duplicate key error collection: springTest.test_play_list index: _id_ dup key: { : \"2306592391\" }, full error: {'index': 0, 'code': 11000, 'errmsg': 'E11000 duplicate key error collection: springTest.test_play_list index: _id_ dup key: { : \"2306592391\" }'}\n",
      "E11000 duplicate key error collection: springTest.test_play_list index: _id_ dup key: { : \"2858697675\" }, full error: {'index': 0, 'code': 11000, 'errmsg': 'E11000 duplicate key error collection: springTest.test_play_list index: _id_ dup key: { : \"2858697675\" }'}\n",
      "E11000 duplicate key error collection: springTest.test_play_list index: _id_ dup key: { : \"2276656984\" }, full error: {'index': 0, 'code': 11000, 'errmsg': 'E11000 duplicate key error collection: springTest.test_play_list index: _id_ dup key: { : \"2276656984\" }'}\n",
      "E11000 duplicate key error collection: springTest.test_play_list index: _id_ dup key: { : \"170686540\" }, full error: {'index': 0, 'code': 11000, 'errmsg': 'E11000 duplicate key error collection: springTest.test_play_list index: _id_ dup key: { : \"170686540\" }'}\n",
      "E11000 duplicate key error collection: springTest.test_play_list index: _id_ dup key: { : \"584000823\" }, full error: {'index': 0, 'code': 11000, 'errmsg': 'E11000 duplicate key error collection: springTest.test_play_list index: _id_ dup key: { : \"584000823\" }'}\n",
      "E11000 duplicate key error collection: springTest.test_play_list index: _id_ dup key: { : \"6099075\" }, full error: {'index': 0, 'code': 11000, 'errmsg': 'E11000 duplicate key error collection: springTest.test_play_list index: _id_ dup key: { : \"6099075\" }'}\n",
      "E11000 duplicate key error collection: springTest.test_play_list index: _id_ dup key: { : \"3065076286\" }, full error: {'index': 0, 'code': 11000, 'errmsg': 'E11000 duplicate key error collection: springTest.test_play_list index: _id_ dup key: { : \"3065076286\" }'}\n",
      "E11000 duplicate key error collection: springTest.test_play_list index: _id_ dup key: { : \"2086040744\" }, full error: {'index': 0, 'code': 11000, 'errmsg': 'E11000 duplicate key error collection: springTest.test_play_list index: _id_ dup key: { : \"2086040744\" }'}\n",
      "E11000 duplicate key error collection: springTest.test_play_list index: _id_ dup key: { : \"4960573853\" }, full error: {'index': 0, 'code': 11000, 'errmsg': 'E11000 duplicate key error collection: springTest.test_play_list index: _id_ dup key: { : \"4960573853\" }'}\n",
      "E11000 duplicate key error collection: springTest.test_play_list index: _id_ dup key: { : \"738891032\" }, full error: {'index': 0, 'code': 11000, 'errmsg': 'E11000 duplicate key error collection: springTest.test_play_list index: _id_ dup key: { : \"738891032\" }'}\n",
      "E11000 duplicate key error collection: springTest.test_play_list index: _id_ dup key: { : \"329495761\" }, full error: {'index': 0, 'code': 11000, 'errmsg': 'E11000 duplicate key error collection: springTest.test_play_list index: _id_ dup key: { : \"329495761\" }'}\n",
      "E11000 duplicate key error collection: springTest.test_play_list index: _id_ dup key: { : \"2919225140\" }, full error: {'index': 0, 'code': 11000, 'errmsg': 'E11000 duplicate key error collection: springTest.test_play_list index: _id_ dup key: { : \"2919225140\" }'}\n",
      "E11000 duplicate key error collection: springTest.test_play_list index: _id_ dup key: { : \"2064101625\" }, full error: {'index': 0, 'code': 11000, 'errmsg': 'E11000 duplicate key error collection: springTest.test_play_list index: _id_ dup key: { : \"2064101625\" }'}\n",
      "E11000 duplicate key error collection: springTest.test_play_list index: _id_ dup key: { : \"2986801749\" }, full error: {'index': 0, 'code': 11000, 'errmsg': 'E11000 duplicate key error collection: springTest.test_play_list index: _id_ dup key: { : \"2986801749\" }'}\n",
      "E11000 duplicate key error collection: springTest.test_play_list index: _id_ dup key: { : \"3108544921\" }, full error: {'index': 0, 'code': 11000, 'errmsg': 'E11000 duplicate key error collection: springTest.test_play_list index: _id_ dup key: { : \"3108544921\" }'}\n",
      "E11000 duplicate key error collection: springTest.test_play_list index: _id_ dup key: { : \"432466802\" }, full error: {'index': 0, 'code': 11000, 'errmsg': 'E11000 duplicate key error collection: springTest.test_play_list index: _id_ dup key: { : \"432466802\" }'}\n",
      "E11000 duplicate key error collection: springTest.test_play_list index: _id_ dup key: { : \"2235731898\" }, full error: {'index': 0, 'code': 11000, 'errmsg': 'E11000 duplicate key error collection: springTest.test_play_list index: _id_ dup key: { : \"2235731898\" }'}\n",
      "E11000 duplicate key error collection: springTest.test_play_list index: _id_ dup key: { : \"3064131364\" }, full error: {'index': 0, 'code': 11000, 'errmsg': 'E11000 duplicate key error collection: springTest.test_play_list index: _id_ dup key: { : \"3064131364\" }'}\n",
      "E11000 duplicate key error collection: springTest.test_play_list index: _id_ dup key: { : \"331198615\" }, full error: {'index': 0, 'code': 11000, 'errmsg': 'E11000 duplicate key error collection: springTest.test_play_list index: _id_ dup key: { : \"331198615\" }'}\n",
      "E11000 duplicate key error collection: springTest.test_play_list index: _id_ dup key: { : \"2241647543\" }, full error: {'index': 0, 'code': 11000, 'errmsg': 'E11000 duplicate key error collection: springTest.test_play_list index: _id_ dup key: { : \"2241647543\" }'}\n",
      "E11000 duplicate key error collection: springTest.test_play_list index: _id_ dup key: { : \"74032348\" }, full error: {'index': 0, 'code': 11000, 'errmsg': 'E11000 duplicate key error collection: springTest.test_play_list index: _id_ dup key: { : \"74032348\" }'}\n",
      "E11000 duplicate key error collection: springTest.test_play_list index: _id_ dup key: { : \"3032213301\" }, full error: {'index': 0, 'code': 11000, 'errmsg': 'E11000 duplicate key error collection: springTest.test_play_list index: _id_ dup key: { : \"3032213301\" }'}\n",
      "E11000 duplicate key error collection: springTest.test_play_list index: _id_ dup key: { : \"2204727667\" }, full error: {'index': 0, 'code': 11000, 'errmsg': 'E11000 duplicate key error collection: springTest.test_play_list index: _id_ dup key: { : \"2204727667\" }'}\n",
      "E11000 duplicate key error collection: springTest.test_play_list index: _id_ dup key: { : \"379564066\" }, full error: {'index': 0, 'code': 11000, 'errmsg': 'E11000 duplicate key error collection: springTest.test_play_list index: _id_ dup key: { : \"379564066\" }'}\n",
      "E11000 duplicate key error collection: springTest.test_play_list index: _id_ dup key: { : \"2947817756\" }, full error: {'index': 0, 'code': 11000, 'errmsg': 'E11000 duplicate key error collection: springTest.test_play_list index: _id_ dup key: { : \"2947817756\" }'}\n",
      "E11000 duplicate key error collection: springTest.test_play_list index: _id_ dup key: { : \"1993312534\" }, full error: {'index': 0, 'code': 11000, 'errmsg': 'E11000 duplicate key error collection: springTest.test_play_list index: _id_ dup key: { : \"1993312534\" }'}\n",
      "E11000 duplicate key error collection: springTest.test_play_list index: _id_ dup key: { : \"2297837156\" }, full error: {'index': 0, 'code': 11000, 'errmsg': 'E11000 duplicate key error collection: springTest.test_play_list index: _id_ dup key: { : \"2297837156\" }'}\n",
      "E11000 duplicate key error collection: springTest.test_play_list index: _id_ dup key: { : \"3123237991\" }, full error: {'index': 0, 'code': 11000, 'errmsg': 'E11000 duplicate key error collection: springTest.test_play_list index: _id_ dup key: { : \"3123237991\" }'}\n",
      "E11000 duplicate key error collection: springTest.test_play_list index: _id_ dup key: { : \"958119981\" }, full error: {'index': 0, 'code': 11000, 'errmsg': 'E11000 duplicate key error collection: springTest.test_play_list index: _id_ dup key: { : \"958119981\" }'}\n",
      "E11000 duplicate key error collection: springTest.test_play_list index: _id_ dup key: { : \"3045984783\" }, full error: {'index': 0, 'code': 11000, 'errmsg': 'E11000 duplicate key error collection: springTest.test_play_list index: _id_ dup key: { : \"3045984783\" }'}\n",
      "E11000 duplicate key error collection: springTest.test_play_list index: _id_ dup key: { : \"985214628\" }, full error: {'index': 0, 'code': 11000, 'errmsg': 'E11000 duplicate key error collection: springTest.test_play_list index: _id_ dup key: { : \"985214628\" }'}\n",
      "E11000 duplicate key error collection: springTest.test_play_list index: _id_ dup key: { : \"20870713\" }, full error: {'index': 0, 'code': 11000, 'errmsg': 'E11000 duplicate key error collection: springTest.test_play_list index: _id_ dup key: { : \"20870713\" }'}\n",
      "E11000 duplicate key error collection: springTest.test_play_list index: _id_ dup key: { : \"530742055\" }, full error: {'index': 0, 'code': 11000, 'errmsg': 'E11000 duplicate key error collection: springTest.test_play_list index: _id_ dup key: { : \"530742055\" }'}\n",
      "E11000 duplicate key error collection: springTest.test_play_list index: _id_ dup key: { : \"805855994\" }, full error: {'index': 0, 'code': 11000, 'errmsg': 'E11000 duplicate key error collection: springTest.test_play_list index: _id_ dup key: { : \"805855994\" }'}\n",
      "E11000 duplicate key error collection: springTest.test_play_list index: _id_ dup key: { : \"2043058688\" }, full error: {'index': 0, 'code': 11000, 'errmsg': 'E11000 duplicate key error collection: springTest.test_play_list index: _id_ dup key: { : \"2043058688\" }'}\n",
      "E11000 duplicate key error collection: springTest.test_play_list index: _id_ dup key: { : \"3019629095\" }, full error: {'index': 0, 'code': 11000, 'errmsg': 'E11000 duplicate key error collection: springTest.test_play_list index: _id_ dup key: { : \"3019629095\" }'}\n",
      "E11000 duplicate key error collection: springTest.test_play_list index: _id_ dup key: { : \"5019247844\" }, full error: {'index': 0, 'code': 11000, 'errmsg': 'E11000 duplicate key error collection: springTest.test_play_list index: _id_ dup key: { : \"5019247844\" }'}\n",
      "E11000 duplicate key error collection: springTest.test_play_list index: _id_ dup key: { : \"2190994972\" }, full error: {'index': 0, 'code': 11000, 'errmsg': 'E11000 duplicate key error collection: springTest.test_play_list index: _id_ dup key: { : \"2190994972\" }'}\n",
      "E11000 duplicate key error collection: springTest.test_play_list index: _id_ dup key: { : \"2058790036\" }, full error: {'index': 0, 'code': 11000, 'errmsg': 'E11000 duplicate key error collection: springTest.test_play_list index: _id_ dup key: { : \"2058790036\" }'}\n",
      "E11000 duplicate key error collection: springTest.test_play_list index: _id_ dup key: { : \"5056462654\" }, full error: {'index': 0, 'code': 11000, 'errmsg': 'E11000 duplicate key error collection: springTest.test_play_list index: _id_ dup key: { : \"5056462654\" }'}\n",
      "E11000 duplicate key error collection: springTest.test_play_list index: _id_ dup key: { : \"2646706390\" }, full error: {'index': 0, 'code': 11000, 'errmsg': 'E11000 duplicate key error collection: springTest.test_play_list index: _id_ dup key: { : \"2646706390\" }'}\n",
      "E11000 duplicate key error collection: springTest.test_play_list index: _id_ dup key: { : \"25315723\" }, full error: {'index': 0, 'code': 11000, 'errmsg': 'E11000 duplicate key error collection: springTest.test_play_list index: _id_ dup key: { : \"25315723\" }'}\n",
      "E11000 duplicate key error collection: springTest.test_play_list index: _id_ dup key: { : \"319484320\" }, full error: {'index': 0, 'code': 11000, 'errmsg': 'E11000 duplicate key error collection: springTest.test_play_list index: _id_ dup key: { : \"319484320\" }'}\n",
      "E11000 duplicate key error collection: springTest.test_play_list index: _id_ dup key: { : \"416194140\" }, full error: {'index': 0, 'code': 11000, 'errmsg': 'E11000 duplicate key error collection: springTest.test_play_list index: _id_ dup key: { : \"416194140\" }'}\n",
      "E11000 duplicate key error collection: springTest.test_play_list index: _id_ dup key: { : \"873632489\" }, full error: {'index': 0, 'code': 11000, 'errmsg': 'E11000 duplicate key error collection: springTest.test_play_list index: _id_ dup key: { : \"873632489\" }'}\n",
      "E11000 duplicate key error collection: springTest.test_play_list index: _id_ dup key: { : \"2901991262\" }, full error: {'index': 0, 'code': 11000, 'errmsg': 'E11000 duplicate key error collection: springTest.test_play_list index: _id_ dup key: { : \"2901991262\" }'}\n",
      "E11000 duplicate key error collection: springTest.test_play_list index: _id_ dup key: { : \"2182724141\" }, full error: {'index': 0, 'code': 11000, 'errmsg': 'E11000 duplicate key error collection: springTest.test_play_list index: _id_ dup key: { : \"2182724141\" }'}\n",
      "E11000 duplicate key error collection: springTest.test_play_list index: _id_ dup key: { : \"2791872607\" }, full error: {'index': 0, 'code': 11000, 'errmsg': 'E11000 duplicate key error collection: springTest.test_play_list index: _id_ dup key: { : \"2791872607\" }'}\n",
      "E11000 duplicate key error collection: springTest.test_play_list index: _id_ dup key: { : \"2860088173\" }, full error: {'index': 0, 'code': 11000, 'errmsg': 'E11000 duplicate key error collection: springTest.test_play_list index: _id_ dup key: { : \"2860088173\" }'}\n",
      "E11000 duplicate key error collection: springTest.test_play_list index: _id_ dup key: { : \"2883584486\" }, full error: {'index': 0, 'code': 11000, 'errmsg': 'E11000 duplicate key error collection: springTest.test_play_list index: _id_ dup key: { : \"2883584486\" }'}\n",
      "E11000 duplicate key error collection: springTest.test_play_list index: _id_ dup key: { : \"2807442087\" }, full error: {'index': 0, 'code': 11000, 'errmsg': 'E11000 duplicate key error collection: springTest.test_play_list index: _id_ dup key: { : \"2807442087\" }'}\n",
      "E11000 duplicate key error collection: springTest.test_play_list index: _id_ dup key: { : \"4959338263\" }, full error: {'index': 0, 'code': 11000, 'errmsg': 'E11000 duplicate key error collection: springTest.test_play_list index: _id_ dup key: { : \"4959338263\" }'}\n",
      "E11000 duplicate key error collection: springTest.test_play_list index: _id_ dup key: { : \"2516266266\" }, full error: {'index': 0, 'code': 11000, 'errmsg': 'E11000 duplicate key error collection: springTest.test_play_list index: _id_ dup key: { : \"2516266266\" }'}\n",
      "E11000 duplicate key error collection: springTest.test_play_list index: _id_ dup key: { : \"3140299367\" }, full error: {'index': 0, 'code': 11000, 'errmsg': 'E11000 duplicate key error collection: springTest.test_play_list index: _id_ dup key: { : \"3140299367\" }'}\n",
      "E11000 duplicate key error collection: springTest.test_play_list index: _id_ dup key: { : \"581597539\" }, full error: {'index': 0, 'code': 11000, 'errmsg': 'E11000 duplicate key error collection: springTest.test_play_list index: _id_ dup key: { : \"581597539\" }'}\n",
      "E11000 duplicate key error collection: springTest.test_play_list index: _id_ dup key: { : \"468285589\" }, full error: {'index': 0, 'code': 11000, 'errmsg': 'E11000 duplicate key error collection: springTest.test_play_list index: _id_ dup key: { : \"468285589\" }'}\n",
      "E11000 duplicate key error collection: springTest.test_play_list index: _id_ dup key: { : \"67271577\" }, full error: {'index': 0, 'code': 11000, 'errmsg': 'E11000 duplicate key error collection: springTest.test_play_list index: _id_ dup key: { : \"67271577\" }'}\n",
      "E11000 duplicate key error collection: springTest.test_play_list index: _id_ dup key: { : \"31854006\" }, full error: {'index': 0, 'code': 11000, 'errmsg': 'E11000 duplicate key error collection: springTest.test_play_list index: _id_ dup key: { : \"31854006\" }'}\n",
      "E11000 duplicate key error collection: springTest.test_play_list index: _id_ dup key: { : \"2208111393\" }, full error: {'index': 0, 'code': 11000, 'errmsg': 'E11000 duplicate key error collection: springTest.test_play_list index: _id_ dup key: { : \"2208111393\" }'}\n",
      "E11000 duplicate key error collection: springTest.test_play_list index: _id_ dup key: { : \"3022825836\" }, full error: {'index': 0, 'code': 11000, 'errmsg': 'E11000 duplicate key error collection: springTest.test_play_list index: _id_ dup key: { : \"3022825836\" }'}\n",
      "E11000 duplicate key error collection: springTest.test_play_list index: _id_ dup key: { : \"2127940906\" }, full error: {'index': 0, 'code': 11000, 'errmsg': 'E11000 duplicate key error collection: springTest.test_play_list index: _id_ dup key: { : \"2127940906\" }'}\n",
      "E11000 duplicate key error collection: springTest.test_play_list index: _id_ dup key: { : \"2476869114\" }, full error: {'index': 0, 'code': 11000, 'errmsg': 'E11000 duplicate key error collection: springTest.test_play_list index: _id_ dup key: { : \"2476869114\" }'}\n",
      "E11000 duplicate key error collection: springTest.test_play_list index: _id_ dup key: { : \"731259207\" }, full error: {'index': 0, 'code': 11000, 'errmsg': 'E11000 duplicate key error collection: springTest.test_play_list index: _id_ dup key: { : \"731259207\" }'}\n",
      "E11000 duplicate key error collection: springTest.test_play_list index: _id_ dup key: { : \"359820350\" }, full error: {'index': 0, 'code': 11000, 'errmsg': 'E11000 duplicate key error collection: springTest.test_play_list index: _id_ dup key: { : \"359820350\" }'}\n",
      "E11000 duplicate key error collection: springTest.test_play_list index: _id_ dup key: { : \"138041166\" }, full error: {'index': 0, 'code': 11000, 'errmsg': 'E11000 duplicate key error collection: springTest.test_play_list index: _id_ dup key: { : \"138041166\" }'}\n",
      "E11000 duplicate key error collection: springTest.test_play_list index: _id_ dup key: { : \"21337800\" }, full error: {'index': 0, 'code': 11000, 'errmsg': 'E11000 duplicate key error collection: springTest.test_play_list index: _id_ dup key: { : \"21337800\" }'}\n",
      "E11000 duplicate key error collection: springTest.test_play_list index: _id_ dup key: { : \"874468515\" }, full error: {'index': 0, 'code': 11000, 'errmsg': 'E11000 duplicate key error collection: springTest.test_play_list index: _id_ dup key: { : \"874468515\" }'}\n",
      "E11000 duplicate key error collection: springTest.test_play_list index: _id_ dup key: { : \"689116311\" }, full error: {'index': 0, 'code': 11000, 'errmsg': 'E11000 duplicate key error collection: springTest.test_play_list index: _id_ dup key: { : \"689116311\" }'}\n",
      "E11000 duplicate key error collection: springTest.test_play_list index: _id_ dup key: { : \"11848577\" }, full error: {'index': 0, 'code': 11000, 'errmsg': 'E11000 duplicate key error collection: springTest.test_play_list index: _id_ dup key: { : \"11848577\" }'}\n",
      "E11000 duplicate key error collection: springTest.test_play_list index: _id_ dup key: { : \"54535865\" }, full error: {'index': 0, 'code': 11000, 'errmsg': 'E11000 duplicate key error collection: springTest.test_play_list index: _id_ dup key: { : \"54535865\" }'}\n",
      "E11000 duplicate key error collection: springTest.test_play_list index: _id_ dup key: { : \"44959614\" }, full error: {'index': 0, 'code': 11000, 'errmsg': 'E11000 duplicate key error collection: springTest.test_play_list index: _id_ dup key: { : \"44959614\" }'}\n",
      "E11000 duplicate key error collection: springTest.test_play_list index: _id_ dup key: { : \"2528491261\" }, full error: {'index': 0, 'code': 11000, 'errmsg': 'E11000 duplicate key error collection: springTest.test_play_list index: _id_ dup key: { : \"2528491261\" }'}\n",
      "E11000 duplicate key error collection: springTest.test_play_list index: _id_ dup key: { : \"2771372395\" }, full error: {'index': 0, 'code': 11000, 'errmsg': 'E11000 duplicate key error collection: springTest.test_play_list index: _id_ dup key: { : \"2771372395\" }'}\n",
      "E11000 duplicate key error collection: springTest.test_play_list index: _id_ dup key: { : \"864871456\" }, full error: {'index': 0, 'code': 11000, 'errmsg': 'E11000 duplicate key error collection: springTest.test_play_list index: _id_ dup key: { : \"864871456\" }'}\n",
      "E11000 duplicate key error collection: springTest.test_play_list index: _id_ dup key: { : \"764057659\" }, full error: {'index': 0, 'code': 11000, 'errmsg': 'E11000 duplicate key error collection: springTest.test_play_list index: _id_ dup key: { : \"764057659\" }'}\n",
      "E11000 duplicate key error collection: springTest.test_play_list index: _id_ dup key: { : \"549519542\" }, full error: {'index': 0, 'code': 11000, 'errmsg': 'E11000 duplicate key error collection: springTest.test_play_list index: _id_ dup key: { : \"549519542\" }'}\n",
      "E11000 duplicate key error collection: springTest.test_play_list index: _id_ dup key: { : \"911337247\" }, full error: {'index': 0, 'code': 11000, 'errmsg': 'E11000 duplicate key error collection: springTest.test_play_list index: _id_ dup key: { : \"911337247\" }'}\n",
      "E11000 duplicate key error collection: springTest.test_play_list index: _id_ dup key: { : \"418488593\" }, full error: {'index': 0, 'code': 11000, 'errmsg': 'E11000 duplicate key error collection: springTest.test_play_list index: _id_ dup key: { : \"418488593\" }'}\n",
      "E11000 duplicate key error collection: springTest.test_play_list index: _id_ dup key: { : \"86786830\" }, full error: {'index': 0, 'code': 11000, 'errmsg': 'E11000 duplicate key error collection: springTest.test_play_list index: _id_ dup key: { : \"86786830\" }'}\n",
      "E11000 duplicate key error collection: springTest.test_play_list index: _id_ dup key: { : \"830349546\" }, full error: {'index': 0, 'code': 11000, 'errmsg': 'E11000 duplicate key error collection: springTest.test_play_list index: _id_ dup key: { : \"830349546\" }'}\n",
      "E11000 duplicate key error collection: springTest.test_play_list index: _id_ dup key: { : \"3073782333\" }, full error: {'index': 0, 'code': 11000, 'errmsg': 'E11000 duplicate key error collection: springTest.test_play_list index: _id_ dup key: { : \"3073782333\" }'}\n",
      "E11000 duplicate key error collection: springTest.test_play_list index: _id_ dup key: { : \"2502671831\" }, full error: {'index': 0, 'code': 11000, 'errmsg': 'E11000 duplicate key error collection: springTest.test_play_list index: _id_ dup key: { : \"2502671831\" }'}\n",
      "E11000 duplicate key error collection: springTest.test_play_list index: _id_ dup key: { : \"2059512924\" }, full error: {'index': 0, 'code': 11000, 'errmsg': 'E11000 duplicate key error collection: springTest.test_play_list index: _id_ dup key: { : \"2059512924\" }'}\n",
      "E11000 duplicate key error collection: springTest.test_play_list index: _id_ dup key: { : \"2534632425\" }, full error: {'index': 0, 'code': 11000, 'errmsg': 'E11000 duplicate key error collection: springTest.test_play_list index: _id_ dup key: { : \"2534632425\" }'}\n",
      "E11000 duplicate key error collection: springTest.test_play_list index: _id_ dup key: { : \"3001400610\" }, full error: {'index': 0, 'code': 11000, 'errmsg': 'E11000 duplicate key error collection: springTest.test_play_list index: _id_ dup key: { : \"3001400610\" }'}\n",
      "E11000 duplicate key error collection: springTest.test_play_list index: _id_ dup key: { : \"830238542\" }, full error: {'index': 0, 'code': 11000, 'errmsg': 'E11000 duplicate key error collection: springTest.test_play_list index: _id_ dup key: { : \"830238542\" }'}\n",
      "E11000 duplicate key error collection: springTest.test_play_list index: _id_ dup key: { : \"465859983\" }, full error: {'index': 0, 'code': 11000, 'errmsg': 'E11000 duplicate key error collection: springTest.test_play_list index: _id_ dup key: { : \"465859983\" }'}\n",
      "E11000 duplicate key error collection: springTest.test_play_list index: _id_ dup key: { : \"969125005\" }, full error: {'index': 0, 'code': 11000, 'errmsg': 'E11000 duplicate key error collection: springTest.test_play_list index: _id_ dup key: { : \"969125005\" }'}\n",
      "E11000 duplicate key error collection: springTest.test_play_list index: _id_ dup key: { : \"3030326967\" }, full error: {'index': 0, 'code': 11000, 'errmsg': 'E11000 duplicate key error collection: springTest.test_play_list index: _id_ dup key: { : \"3030326967\" }'}\n",
      "E11000 duplicate key error collection: springTest.test_play_list index: _id_ dup key: { : \"2756174598\" }, full error: {'index': 0, 'code': 11000, 'errmsg': 'E11000 duplicate key error collection: springTest.test_play_list index: _id_ dup key: { : \"2756174598\" }'}\n",
      "E11000 duplicate key error collection: springTest.test_play_list index: _id_ dup key: { : \"898663097\" }, full error: {'index': 0, 'code': 11000, 'errmsg': 'E11000 duplicate key error collection: springTest.test_play_list index: _id_ dup key: { : \"898663097\" }'}\n",
      "E11000 duplicate key error collection: springTest.test_play_list index: _id_ dup key: { : \"454704843\" }, full error: {'index': 0, 'code': 11000, 'errmsg': 'E11000 duplicate key error collection: springTest.test_play_list index: _id_ dup key: { : \"454704843\" }'}\n",
      "E11000 duplicate key error collection: springTest.test_play_list index: _id_ dup key: { : \"2110453936\" }, full error: {'index': 0, 'code': 11000, 'errmsg': 'E11000 duplicate key error collection: springTest.test_play_list index: _id_ dup key: { : \"2110453936\" }'}\n",
      "E11000 duplicate key error collection: springTest.test_play_list index: _id_ dup key: { : \"169015868\" }, full error: {'index': 0, 'code': 11000, 'errmsg': 'E11000 duplicate key error collection: springTest.test_play_list index: _id_ dup key: { : \"169015868\" }'}\n",
      "E11000 duplicate key error collection: springTest.test_play_list index: _id_ dup key: { : \"649809193\" }, full error: {'index': 0, 'code': 11000, 'errmsg': 'E11000 duplicate key error collection: springTest.test_play_list index: _id_ dup key: { : \"649809193\" }'}\n",
      "E11000 duplicate key error collection: springTest.test_play_list index: _id_ dup key: { : \"3185075858\" }, full error: {'index': 0, 'code': 11000, 'errmsg': 'E11000 duplicate key error collection: springTest.test_play_list index: _id_ dup key: { : \"3185075858\" }'}\n",
      "E11000 duplicate key error collection: springTest.test_play_list index: _id_ dup key: { : \"2046751388\" }, full error: {'index': 0, 'code': 11000, 'errmsg': 'E11000 duplicate key error collection: springTest.test_play_list index: _id_ dup key: { : \"2046751388\" }'}\n",
      "E11000 duplicate key error collection: springTest.test_play_list index: _id_ dup key: { : \"5105238717\" }, full error: {'index': 0, 'code': 11000, 'errmsg': 'E11000 duplicate key error collection: springTest.test_play_list index: _id_ dup key: { : \"5105238717\" }'}\n",
      "E11000 duplicate key error collection: springTest.test_play_list index: _id_ dup key: { : \"2518199681\" }, full error: {'index': 0, 'code': 11000, 'errmsg': 'E11000 duplicate key error collection: springTest.test_play_list index: _id_ dup key: { : \"2518199681\" }'}\n",
      "E11000 duplicate key error collection: springTest.test_play_list index: _id_ dup key: { : \"466736205\" }, full error: {'index': 0, 'code': 11000, 'errmsg': 'E11000 duplicate key error collection: springTest.test_play_list index: _id_ dup key: { : \"466736205\" }'}\n",
      "E11000 duplicate key error collection: springTest.test_play_list index: _id_ dup key: { : \"2305970744\" }, full error: {'index': 0, 'code': 11000, 'errmsg': 'E11000 duplicate key error collection: springTest.test_play_list index: _id_ dup key: { : \"2305970744\" }'}\n",
      "E11000 duplicate key error collection: springTest.test_play_list index: _id_ dup key: { : \"2969314718\" }, full error: {'index': 0, 'code': 11000, 'errmsg': 'E11000 duplicate key error collection: springTest.test_play_list index: _id_ dup key: { : \"2969314718\" }'}\n",
      "E11000 duplicate key error collection: springTest.test_play_list index: _id_ dup key: { : \"1981335498\" }, full error: {'index': 0, 'code': 11000, 'errmsg': 'E11000 duplicate key error collection: springTest.test_play_list index: _id_ dup key: { : \"1981335498\" }'}\n",
      "E11000 duplicate key error collection: springTest.test_play_list index: _id_ dup key: { : \"572728562\" }, full error: {'index': 0, 'code': 11000, 'errmsg': 'E11000 duplicate key error collection: springTest.test_play_list index: _id_ dup key: { : \"572728562\" }'}\n",
      "E11000 duplicate key error collection: springTest.test_play_list index: _id_ dup key: { : \"536008947\" }, full error: {'index': 0, 'code': 11000, 'errmsg': 'E11000 duplicate key error collection: springTest.test_play_list index: _id_ dup key: { : \"536008947\" }'}\n",
      "E11000 duplicate key error collection: springTest.test_play_list index: _id_ dup key: { : \"973467988\" }, full error: {'index': 0, 'code': 11000, 'errmsg': 'E11000 duplicate key error collection: springTest.test_play_list index: _id_ dup key: { : \"973467988\" }'}\n",
      "E11000 duplicate key error collection: springTest.test_play_list index: _id_ dup key: { : \"2680516436\" }, full error: {'index': 0, 'code': 11000, 'errmsg': 'E11000 duplicate key error collection: springTest.test_play_list index: _id_ dup key: { : \"2680516436\" }'}\n",
      "E11000 duplicate key error collection: springTest.test_play_list index: _id_ dup key: { : \"2568358769\" }, full error: {'index': 0, 'code': 11000, 'errmsg': 'E11000 duplicate key error collection: springTest.test_play_list index: _id_ dup key: { : \"2568358769\" }'}\n",
      "E11000 duplicate key error collection: springTest.test_play_list index: _id_ dup key: { : \"865110773\" }, full error: {'index': 0, 'code': 11000, 'errmsg': 'E11000 duplicate key error collection: springTest.test_play_list index: _id_ dup key: { : \"865110773\" }'}\n",
      "E11000 duplicate key error collection: springTest.test_play_list index: _id_ dup key: { : \"987305367\" }, full error: {'index': 0, 'code': 11000, 'errmsg': 'E11000 duplicate key error collection: springTest.test_play_list index: _id_ dup key: { : \"987305367\" }'}\n",
      "E11000 duplicate key error collection: springTest.test_play_list index: _id_ dup key: { : \"376303607\" }, full error: {'index': 0, 'code': 11000, 'errmsg': 'E11000 duplicate key error collection: springTest.test_play_list index: _id_ dup key: { : \"376303607\" }'}\n",
      "E11000 duplicate key error collection: springTest.test_play_list index: _id_ dup key: { : \"2879691092\" }, full error: {'index': 0, 'code': 11000, 'errmsg': 'E11000 duplicate key error collection: springTest.test_play_list index: _id_ dup key: { : \"2879691092\" }'}\n",
      "E11000 duplicate key error collection: springTest.test_play_list index: _id_ dup key: { : \"2642797813\" }, full error: {'index': 0, 'code': 11000, 'errmsg': 'E11000 duplicate key error collection: springTest.test_play_list index: _id_ dup key: { : \"2642797813\" }'}\n",
      "E11000 duplicate key error collection: springTest.test_play_list index: _id_ dup key: { : \"2061556500\" }, full error: {'index': 0, 'code': 11000, 'errmsg': 'E11000 duplicate key error collection: springTest.test_play_list index: _id_ dup key: { : \"2061556500\" }'}\n",
      "E11000 duplicate key error collection: springTest.test_play_list index: _id_ dup key: { : \"596605546\" }, full error: {'index': 0, 'code': 11000, 'errmsg': 'E11000 duplicate key error collection: springTest.test_play_list index: _id_ dup key: { : \"596605546\" }'}\n",
      "E11000 duplicate key error collection: springTest.test_play_list index: _id_ dup key: { : \"421417810\" }, full error: {'index': 0, 'code': 11000, 'errmsg': 'E11000 duplicate key error collection: springTest.test_play_list index: _id_ dup key: { : \"421417810\" }'}\n",
      "E11000 duplicate key error collection: springTest.test_play_list index: _id_ dup key: { : \"916734787\" }, full error: {'index': 0, 'code': 11000, 'errmsg': 'E11000 duplicate key error collection: springTest.test_play_list index: _id_ dup key: { : \"916734787\" }'}\n",
      "E11000 duplicate key error collection: springTest.test_play_list index: _id_ dup key: { : \"2580450608\" }, full error: {'index': 0, 'code': 11000, 'errmsg': 'E11000 duplicate key error collection: springTest.test_play_list index: _id_ dup key: { : \"2580450608\" }'}\n",
      "E11000 duplicate key error collection: springTest.test_play_list index: _id_ dup key: { : \"61048951\" }, full error: {'index': 0, 'code': 11000, 'errmsg': 'E11000 duplicate key error collection: springTest.test_play_list index: _id_ dup key: { : \"61048951\" }'}\n",
      "E11000 duplicate key error collection: springTest.test_play_list index: _id_ dup key: { : \"2418313960\" }, full error: {'index': 0, 'code': 11000, 'errmsg': 'E11000 duplicate key error collection: springTest.test_play_list index: _id_ dup key: { : \"2418313960\" }'}\n",
      "E11000 duplicate key error collection: springTest.test_play_list index: _id_ dup key: { : \"2818990203\" }, full error: {'index': 0, 'code': 11000, 'errmsg': 'E11000 duplicate key error collection: springTest.test_play_list index: _id_ dup key: { : \"2818990203\" }'}\n",
      "E11000 duplicate key error collection: springTest.test_play_list index: _id_ dup key: { : \"586149791\" }, full error: {'index': 0, 'code': 11000, 'errmsg': 'E11000 duplicate key error collection: springTest.test_play_list index: _id_ dup key: { : \"586149791\" }'}\n",
      "E11000 duplicate key error collection: springTest.test_play_list index: _id_ dup key: { : \"147059938\" }, full error: {'index': 0, 'code': 11000, 'errmsg': 'E11000 duplicate key error collection: springTest.test_play_list index: _id_ dup key: { : \"147059938\" }'}\n",
      "E11000 duplicate key error collection: springTest.test_play_list index: _id_ dup key: { : \"552433590\" }, full error: {'index': 0, 'code': 11000, 'errmsg': 'E11000 duplicate key error collection: springTest.test_play_list index: _id_ dup key: { : \"552433590\" }'}\n",
      "E11000 duplicate key error collection: springTest.test_play_list index: _id_ dup key: { : \"2713610863\" }, full error: {'index': 0, 'code': 11000, 'errmsg': 'E11000 duplicate key error collection: springTest.test_play_list index: _id_ dup key: { : \"2713610863\" }'}\n",
      "E11000 duplicate key error collection: springTest.test_play_list index: _id_ dup key: { : \"643074188\" }, full error: {'index': 0, 'code': 11000, 'errmsg': 'E11000 duplicate key error collection: springTest.test_play_list index: _id_ dup key: { : \"643074188\" }'}\n",
      "E11000 duplicate key error collection: springTest.test_play_list index: _id_ dup key: { : \"330895862\" }, full error: {'index': 0, 'code': 11000, 'errmsg': 'E11000 duplicate key error collection: springTest.test_play_list index: _id_ dup key: { : \"330895862\" }'}\n",
      "E11000 duplicate key error collection: springTest.test_play_list index: _id_ dup key: { : \"35424871\" }, full error: {'index': 0, 'code': 11000, 'errmsg': 'E11000 duplicate key error collection: springTest.test_play_list index: _id_ dup key: { : \"35424871\" }'}\n",
      "E11000 duplicate key error collection: springTest.test_play_list index: _id_ dup key: { : \"85723910\" }, full error: {'index': 0, 'code': 11000, 'errmsg': 'E11000 duplicate key error collection: springTest.test_play_list index: _id_ dup key: { : \"85723910\" }'}\n",
      "E11000 duplicate key error collection: springTest.test_play_list index: _id_ dup key: { : \"2756533794\" }, full error: {'index': 0, 'code': 11000, 'errmsg': 'E11000 duplicate key error collection: springTest.test_play_list index: _id_ dup key: { : \"2756533794\" }'}\n",
      "E11000 duplicate key error collection: springTest.test_play_list index: _id_ dup key: { : \"2802056087\" }, full error: {'index': 0, 'code': 11000, 'errmsg': 'E11000 duplicate key error collection: springTest.test_play_list index: _id_ dup key: { : \"2802056087\" }'}\n",
      "E11000 duplicate key error collection: springTest.test_play_list index: _id_ dup key: { : \"570070085\" }, full error: {'index': 0, 'code': 11000, 'errmsg': 'E11000 duplicate key error collection: springTest.test_play_list index: _id_ dup key: { : \"570070085\" }'}\n",
      "E11000 duplicate key error collection: springTest.test_play_list index: _id_ dup key: { : \"2583172007\" }, full error: {'index': 0, 'code': 11000, 'errmsg': 'E11000 duplicate key error collection: springTest.test_play_list index: _id_ dup key: { : \"2583172007\" }'}\n",
      "E11000 duplicate key error collection: springTest.test_play_list index: _id_ dup key: { : \"566715151\" }, full error: {'index': 0, 'code': 11000, 'errmsg': 'E11000 duplicate key error collection: springTest.test_play_list index: _id_ dup key: { : \"566715151\" }'}\n",
      "E11000 duplicate key error collection: springTest.test_play_list index: _id_ dup key: { : \"2233025166\" }, full error: {'index': 0, 'code': 11000, 'errmsg': 'E11000 duplicate key error collection: springTest.test_play_list index: _id_ dup key: { : \"2233025166\" }'}\n",
      "E11000 duplicate key error collection: springTest.test_play_list index: _id_ dup key: { : \"596949445\" }, full error: {'index': 0, 'code': 11000, 'errmsg': 'E11000 duplicate key error collection: springTest.test_play_list index: _id_ dup key: { : \"596949445\" }'}\n",
      "E11000 duplicate key error collection: springTest.test_play_list index: _id_ dup key: { : \"401925152\" }, full error: {'index': 0, 'code': 11000, 'errmsg': 'E11000 duplicate key error collection: springTest.test_play_list index: _id_ dup key: { : \"401925152\" }'}\n",
      "E11000 duplicate key error collection: springTest.test_play_list index: _id_ dup key: { : \"2008772621\" }, full error: {'index': 0, 'code': 11000, 'errmsg': 'E11000 duplicate key error collection: springTest.test_play_list index: _id_ dup key: { : \"2008772621\" }'}\n",
      "E11000 duplicate key error collection: springTest.test_play_list index: _id_ dup key: { : \"379522979\" }, full error: {'index': 0, 'code': 11000, 'errmsg': 'E11000 duplicate key error collection: springTest.test_play_list index: _id_ dup key: { : \"379522979\" }'}\n",
      "E11000 duplicate key error collection: springTest.test_play_list index: _id_ dup key: { : \"516340936\" }, full error: {'index': 0, 'code': 11000, 'errmsg': 'E11000 duplicate key error collection: springTest.test_play_list index: _id_ dup key: { : \"516340936\" }'}\n",
      "E11000 duplicate key error collection: springTest.test_play_list index: _id_ dup key: { : \"699988228\" }, full error: {'index': 0, 'code': 11000, 'errmsg': 'E11000 duplicate key error collection: springTest.test_play_list index: _id_ dup key: { : \"699988228\" }'}\n",
      "E11000 duplicate key error collection: springTest.test_play_list index: _id_ dup key: { : \"7176003\" }, full error: {'index': 0, 'code': 11000, 'errmsg': 'E11000 duplicate key error collection: springTest.test_play_list index: _id_ dup key: { : \"7176003\" }'}\n",
      "E11000 duplicate key error collection: springTest.test_play_list index: _id_ dup key: { : \"893173119\" }, full error: {'index': 0, 'code': 11000, 'errmsg': 'E11000 duplicate key error collection: springTest.test_play_list index: _id_ dup key: { : \"893173119\" }'}\n",
      "E11000 duplicate key error collection: springTest.test_play_list index: _id_ dup key: { : \"2328503455\" }, full error: {'index': 0, 'code': 11000, 'errmsg': 'E11000 duplicate key error collection: springTest.test_play_list index: _id_ dup key: { : \"2328503455\" }'}\n",
      "E11000 duplicate key error collection: springTest.test_play_list index: _id_ dup key: { : \"3015378787\" }, full error: {'index': 0, 'code': 11000, 'errmsg': 'E11000 duplicate key error collection: springTest.test_play_list index: _id_ dup key: { : \"3015378787\" }'}\n",
      "E11000 duplicate key error collection: springTest.test_play_list index: _id_ dup key: { : \"2639126800\" }, full error: {'index': 0, 'code': 11000, 'errmsg': 'E11000 duplicate key error collection: springTest.test_play_list index: _id_ dup key: { : \"2639126800\" }'}\n",
      "E11000 duplicate key error collection: springTest.test_play_list index: _id_ dup key: { : \"58726530\" }, full error: {'index': 0, 'code': 11000, 'errmsg': 'E11000 duplicate key error collection: springTest.test_play_list index: _id_ dup key: { : \"58726530\" }'}\n",
      "E11000 duplicate key error collection: springTest.test_play_list index: _id_ dup key: { : \"450649887\" }, full error: {'index': 0, 'code': 11000, 'errmsg': 'E11000 duplicate key error collection: springTest.test_play_list index: _id_ dup key: { : \"450649887\" }'}\n",
      "E11000 duplicate key error collection: springTest.test_play_list index: _id_ dup key: { : \"2850346129\" }, full error: {'index': 0, 'code': 11000, 'errmsg': 'E11000 duplicate key error collection: springTest.test_play_list index: _id_ dup key: { : \"2850346129\" }'}\n",
      "E11000 duplicate key error collection: springTest.test_play_list index: _id_ dup key: { : \"2887866269\" }, full error: {'index': 0, 'code': 11000, 'errmsg': 'E11000 duplicate key error collection: springTest.test_play_list index: _id_ dup key: { : \"2887866269\" }'}\n",
      "E11000 duplicate key error collection: springTest.test_play_list index: _id_ dup key: { : \"2141829090\" }, full error: {'index': 0, 'code': 11000, 'errmsg': 'E11000 duplicate key error collection: springTest.test_play_list index: _id_ dup key: { : \"2141829090\" }'}\n",
      "E11000 duplicate key error collection: springTest.test_play_list index: _id_ dup key: { : \"144278585\" }, full error: {'index': 0, 'code': 11000, 'errmsg': 'E11000 duplicate key error collection: springTest.test_play_list index: _id_ dup key: { : \"144278585\" }'}\n",
      "E11000 duplicate key error collection: springTest.test_play_list index: _id_ dup key: { : \"2224118603\" }, full error: {'index': 0, 'code': 11000, 'errmsg': 'E11000 duplicate key error collection: springTest.test_play_list index: _id_ dup key: { : \"2224118603\" }'}\n",
      "E11000 duplicate key error collection: springTest.test_play_list index: _id_ dup key: { : \"503816390\" }, full error: {'index': 0, 'code': 11000, 'errmsg': 'E11000 duplicate key error collection: springTest.test_play_list index: _id_ dup key: { : \"503816390\" }'}\n",
      "E11000 duplicate key error collection: springTest.test_play_list index: _id_ dup key: { : \"823093874\" }, full error: {'index': 0, 'code': 11000, 'errmsg': 'E11000 duplicate key error collection: springTest.test_play_list index: _id_ dup key: { : \"823093874\" }'}\n",
      "E11000 duplicate key error collection: springTest.test_play_list index: _id_ dup key: { : \"2094941229\" }, full error: {'index': 0, 'code': 11000, 'errmsg': 'E11000 duplicate key error collection: springTest.test_play_list index: _id_ dup key: { : \"2094941229\" }'}\n",
      "E11000 duplicate key error collection: springTest.test_play_list index: _id_ dup key: { : \"154092077\" }, full error: {'index': 0, 'code': 11000, 'errmsg': 'E11000 duplicate key error collection: springTest.test_play_list index: _id_ dup key: { : \"154092077\" }'}\n",
      "E11000 duplicate key error collection: springTest.test_play_list index: _id_ dup key: { : \"884969367\" }, full error: {'index': 0, 'code': 11000, 'errmsg': 'E11000 duplicate key error collection: springTest.test_play_list index: _id_ dup key: { : \"884969367\" }'}\n",
      "E11000 duplicate key error collection: springTest.test_play_list index: _id_ dup key: { : \"2898824085\" }, full error: {'index': 0, 'code': 11000, 'errmsg': 'E11000 duplicate key error collection: springTest.test_play_list index: _id_ dup key: { : \"2898824085\" }'}\n",
      "E11000 duplicate key error collection: springTest.test_play_list index: _id_ dup key: { : \"110635330\" }, full error: {'index': 0, 'code': 11000, 'errmsg': 'E11000 duplicate key error collection: springTest.test_play_list index: _id_ dup key: { : \"110635330\" }'}\n",
      "E11000 duplicate key error collection: springTest.test_play_list index: _id_ dup key: { : \"2007168693\" }, full error: {'index': 0, 'code': 11000, 'errmsg': 'E11000 duplicate key error collection: springTest.test_play_list index: _id_ dup key: { : \"2007168693\" }'}\n",
      "E11000 duplicate key error collection: springTest.test_play_list index: _id_ dup key: { : \"415505086\" }, full error: {'index': 0, 'code': 11000, 'errmsg': 'E11000 duplicate key error collection: springTest.test_play_list index: _id_ dup key: { : \"415505086\" }'}\n",
      "E11000 duplicate key error collection: springTest.test_play_list index: _id_ dup key: { : \"85465779\" }, full error: {'index': 0, 'code': 11000, 'errmsg': 'E11000 duplicate key error collection: springTest.test_play_list index: _id_ dup key: { : \"85465779\" }'}\n",
      "E11000 duplicate key error collection: springTest.test_play_list index: _id_ dup key: { : \"53953661\" }, full error: {'index': 0, 'code': 11000, 'errmsg': 'E11000 duplicate key error collection: springTest.test_play_list index: _id_ dup key: { : \"53953661\" }'}\n",
      "E11000 duplicate key error collection: springTest.test_play_list index: _id_ dup key: { : \"937499109\" }, full error: {'index': 0, 'code': 11000, 'errmsg': 'E11000 duplicate key error collection: springTest.test_play_list index: _id_ dup key: { : \"937499109\" }'}\n",
      "E11000 duplicate key error collection: springTest.test_play_list index: _id_ dup key: { : \"2344142797\" }, full error: {'index': 0, 'code': 11000, 'errmsg': 'E11000 duplicate key error collection: springTest.test_play_list index: _id_ dup key: { : \"2344142797\" }'}\n",
      "E11000 duplicate key error collection: springTest.test_play_list index: _id_ dup key: { : \"85009119\" }, full error: {'index': 0, 'code': 11000, 'errmsg': 'E11000 duplicate key error collection: springTest.test_play_list index: _id_ dup key: { : \"85009119\" }'}\n",
      "E11000 duplicate key error collection: springTest.test_play_list index: _id_ dup key: { : \"2281417142\" }, full error: {'index': 0, 'code': 11000, 'errmsg': 'E11000 duplicate key error collection: springTest.test_play_list index: _id_ dup key: { : \"2281417142\" }'}\n",
      "E11000 duplicate key error collection: springTest.test_play_list index: _id_ dup key: { : \"1980002862\" }, full error: {'index': 0, 'code': 11000, 'errmsg': 'E11000 duplicate key error collection: springTest.test_play_list index: _id_ dup key: { : \"1980002862\" }'}\n",
      "E11000 duplicate key error collection: springTest.test_play_list index: _id_ dup key: { : \"958308279\" }, full error: {'index': 0, 'code': 11000, 'errmsg': 'E11000 duplicate key error collection: springTest.test_play_list index: _id_ dup key: { : \"958308279\" }'}\n",
      "E11000 duplicate key error collection: springTest.test_play_list index: _id_ dup key: { : \"523343596\" }, full error: {'index': 0, 'code': 11000, 'errmsg': 'E11000 duplicate key error collection: springTest.test_play_list index: _id_ dup key: { : \"523343596\" }'}\n",
      "E11000 duplicate key error collection: springTest.test_play_list index: _id_ dup key: { : \"894732534\" }, full error: {'index': 0, 'code': 11000, 'errmsg': 'E11000 duplicate key error collection: springTest.test_play_list index: _id_ dup key: { : \"894732534\" }'}\n",
      "E11000 duplicate key error collection: springTest.test_play_list index: _id_ dup key: { : \"3024990784\" }, full error: {'index': 0, 'code': 11000, 'errmsg': 'E11000 duplicate key error collection: springTest.test_play_list index: _id_ dup key: { : \"3024990784\" }'}\n",
      "E11000 duplicate key error collection: springTest.test_play_list index: _id_ dup key: { : \"804398604\" }, full error: {'index': 0, 'code': 11000, 'errmsg': 'E11000 duplicate key error collection: springTest.test_play_list index: _id_ dup key: { : \"804398604\" }'}\n",
      "E11000 duplicate key error collection: springTest.test_play_list index: _id_ dup key: { : \"3052837806\" }, full error: {'index': 0, 'code': 11000, 'errmsg': 'E11000 duplicate key error collection: springTest.test_play_list index: _id_ dup key: { : \"3052837806\" }'}\n",
      "E11000 duplicate key error collection: springTest.test_play_list index: _id_ dup key: { : \"2773061916\" }, full error: {'index': 0, 'code': 11000, 'errmsg': 'E11000 duplicate key error collection: springTest.test_play_list index: _id_ dup key: { : \"2773061916\" }'}\n",
      "E11000 duplicate key error collection: springTest.test_play_list index: _id_ dup key: { : \"2384160921\" }, full error: {'index': 0, 'code': 11000, 'errmsg': 'E11000 duplicate key error collection: springTest.test_play_list index: _id_ dup key: { : \"2384160921\" }'}\n",
      "E11000 duplicate key error collection: springTest.test_play_list index: _id_ dup key: { : \"727511454\" }, full error: {'index': 0, 'code': 11000, 'errmsg': 'E11000 duplicate key error collection: springTest.test_play_list index: _id_ dup key: { : \"727511454\" }'}\n",
      "E11000 duplicate key error collection: springTest.test_play_list index: _id_ dup key: { : \"2942100597\" }, full error: {'index': 0, 'code': 11000, 'errmsg': 'E11000 duplicate key error collection: springTest.test_play_list index: _id_ dup key: { : \"2942100597\" }'}\n",
      "E11000 duplicate key error collection: springTest.test_play_list index: _id_ dup key: { : \"2875427367\" }, full error: {'index': 0, 'code': 11000, 'errmsg': 'E11000 duplicate key error collection: springTest.test_play_list index: _id_ dup key: { : \"2875427367\" }'}\n",
      "E11000 duplicate key error collection: springTest.test_play_list index: _id_ dup key: { : \"751574722\" }, full error: {'index': 0, 'code': 11000, 'errmsg': 'E11000 duplicate key error collection: springTest.test_play_list index: _id_ dup key: { : \"751574722\" }'}\n",
      "E11000 duplicate key error collection: springTest.test_play_list index: _id_ dup key: { : \"755820262\" }, full error: {'index': 0, 'code': 11000, 'errmsg': 'E11000 duplicate key error collection: springTest.test_play_list index: _id_ dup key: { : \"755820262\" }'}\n",
      "E11000 duplicate key error collection: springTest.test_play_list index: _id_ dup key: { : \"24760255\" }, full error: {'index': 0, 'code': 11000, 'errmsg': 'E11000 duplicate key error collection: springTest.test_play_list index: _id_ dup key: { : \"24760255\" }'}\n",
      "E11000 duplicate key error collection: springTest.test_play_list index: _id_ dup key: { : \"2670081195\" }, full error: {'index': 0, 'code': 11000, 'errmsg': 'E11000 duplicate key error collection: springTest.test_play_list index: _id_ dup key: { : \"2670081195\" }'}\n",
      "E11000 duplicate key error collection: springTest.test_play_list index: _id_ dup key: { : \"319165975\" }, full error: {'index': 0, 'code': 11000, 'errmsg': 'E11000 duplicate key error collection: springTest.test_play_list index: _id_ dup key: { : \"319165975\" }'}\n",
      "E11000 duplicate key error collection: springTest.test_play_list index: _id_ dup key: { : \"2185568153\" }, full error: {'index': 0, 'code': 11000, 'errmsg': 'E11000 duplicate key error collection: springTest.test_play_list index: _id_ dup key: { : \"2185568153\" }'}\n",
      "E11000 duplicate key error collection: springTest.test_play_list index: _id_ dup key: { : \"133195420\" }, full error: {'index': 0, 'code': 11000, 'errmsg': 'E11000 duplicate key error collection: springTest.test_play_list index: _id_ dup key: { : \"133195420\" }'}\n",
      "E11000 duplicate key error collection: springTest.test_play_list index: _id_ dup key: { : \"2912419607\" }, full error: {'index': 0, 'code': 11000, 'errmsg': 'E11000 duplicate key error collection: springTest.test_play_list index: _id_ dup key: { : \"2912419607\" }'}\n",
      "E11000 duplicate key error collection: springTest.test_play_list index: _id_ dup key: { : \"2629548393\" }, full error: {'index': 0, 'code': 11000, 'errmsg': 'E11000 duplicate key error collection: springTest.test_play_list index: _id_ dup key: { : \"2629548393\" }'}\n",
      "E11000 duplicate key error collection: springTest.test_play_list index: _id_ dup key: { : \"2700200016\" }, full error: {'index': 0, 'code': 11000, 'errmsg': 'E11000 duplicate key error collection: springTest.test_play_list index: _id_ dup key: { : \"2700200016\" }'}\n",
      "E11000 duplicate key error collection: springTest.test_play_list index: _id_ dup key: { : \"616058242\" }, full error: {'index': 0, 'code': 11000, 'errmsg': 'E11000 duplicate key error collection: springTest.test_play_list index: _id_ dup key: { : \"616058242\" }'}\n",
      "E11000 duplicate key error collection: springTest.test_play_list index: _id_ dup key: { : \"3008828257\" }, full error: {'index': 0, 'code': 11000, 'errmsg': 'E11000 duplicate key error collection: springTest.test_play_list index: _id_ dup key: { : \"3008828257\" }'}\n",
      "E11000 duplicate key error collection: springTest.test_play_list index: _id_ dup key: { : \"566944868\" }, full error: {'index': 0, 'code': 11000, 'errmsg': 'E11000 duplicate key error collection: springTest.test_play_list index: _id_ dup key: { : \"566944868\" }'}\n",
      "E11000 duplicate key error collection: springTest.test_play_list index: _id_ dup key: { : \"3208436266\" }, full error: {'index': 0, 'code': 11000, 'errmsg': 'E11000 duplicate key error collection: springTest.test_play_list index: _id_ dup key: { : \"3208436266\" }'}\n",
      "E11000 duplicate key error collection: springTest.test_play_list index: _id_ dup key: { : \"694464994\" }, full error: {'index': 0, 'code': 11000, 'errmsg': 'E11000 duplicate key error collection: springTest.test_play_list index: _id_ dup key: { : \"694464994\" }'}\n",
      "E11000 duplicate key error collection: springTest.test_play_list index: _id_ dup key: { : \"2186214689\" }, full error: {'index': 0, 'code': 11000, 'errmsg': 'E11000 duplicate key error collection: springTest.test_play_list index: _id_ dup key: { : \"2186214689\" }'}\n",
      "E11000 duplicate key error collection: springTest.test_play_list index: _id_ dup key: { : \"2765624092\" }, full error: {'index': 0, 'code': 11000, 'errmsg': 'E11000 duplicate key error collection: springTest.test_play_list index: _id_ dup key: { : \"2765624092\" }'}\n"
     ]
    }
   ],
   "source": [
    "# 将新添加的歌单数据同步添加到总集合中 \n",
    "added_list = mongoDAO_added_playlist.find()\n",
    "for playlist_dict in added_list:\n",
    "    mongoDAO_playlist.insert_one(playlist_dict)"
   ]
  },
  {
   "cell_type": "code",
   "execution_count": 43,
   "metadata": {},
   "outputs": [],
   "source": [
    "result = mongoDAO_playlist.find({'_id':'2317794065'})"
   ]
  },
  {
   "cell_type": "markdown",
   "metadata": {},
   "source": [
    "将歌单作为用户，其订阅数和播放数作为评分  \n",
    "[歌单id, 歌曲id, 订阅数, 播放数]"
   ]
  },
  {
   "cell_type": "code",
   "execution_count": 38,
   "metadata": {},
   "outputs": [],
   "source": [
    "# 模拟用户的评分\n",
    "all_rattings = []"
   ]
  },
  {
   "cell_type": "code",
   "execution_count": 39,
   "metadata": {},
   "outputs": [
    {
     "name": "stderr",
     "output_type": "stream",
     "text": [
      "100%|██████████████████████████████████████████████████████████████████████████| 64112/64112 [00:13<00:00, 4588.57it/s]\n"
     ]
    }
   ],
   "source": [
    "with trange(len(my_playlist)) as t:\n",
    "    for playlist in my_playlist:\n",
    "        for song_id in playlist.get('song_ids'):\n",
    "            playlist_id = playlist.get('_id')\n",
    "            subscribed_count = playlist.get('subscribedCount')\n",
    "            play_count = playlist.get('playCount')\n",
    "            all_rattings.append([playlist_id, song_id, subscribed_count, play_count])\n",
    "        t.update(1)"
   ]
  },
  {
   "cell_type": "code",
   "execution_count": 40,
   "metadata": {},
   "outputs": [
    {
     "data": {
      "text/plain": [
       "10129381"
      ]
     },
     "execution_count": 40,
     "metadata": {},
     "output_type": "execute_result"
    }
   ],
   "source": [
    "len(all_rattings)"
   ]
  },
  {
   "cell_type": "code",
   "execution_count": 46,
   "metadata": {},
   "outputs": [
    {
     "data": {
      "text/plain": [
       "['4991155974', 28427734, 30512, 4992275]"
      ]
     },
     "execution_count": 46,
     "metadata": {},
     "output_type": "execute_result"
    }
   ],
   "source": [
    "all_rattings[0]"
   ]
  },
  {
   "cell_type": "code",
   "execution_count": 47,
   "metadata": {},
   "outputs": [
    {
     "data": {
      "text/plain": [
       "['4991155974', 28341143, 30512, 4992275]"
      ]
     },
     "execution_count": 47,
     "metadata": {},
     "output_type": "execute_result"
    }
   ],
   "source": [
    "all_rattings[8]"
   ]
  },
  {
   "cell_type": "code",
   "execution_count": 48,
   "metadata": {},
   "outputs": [],
   "source": [
    "with open('all_ratting.json', 'w', encoding='utf-8') as fw:       \n",
    "    json.dump(all_rattings,fp=fw, ensure_ascii=False)"
   ]
  },
  {
   "cell_type": "markdown",
   "metadata": {},
   "source": [
    "查询具有情感标签的歌曲，该查询的结果集合作为主数据"
   ]
  },
  {
   "cell_type": "code",
   "execution_count": 49,
   "metadata": {},
   "outputs": [],
   "source": [
    "emotion_tags = [\"治愈\",\"安静\",\"放松\",\"震撼\",\"欢快\",\"清新\",\"轻松\",\"浪漫\",\"伤感\",\n",
    "                \"温柔\",\"静心\",\"快乐\",\"舒心\",\"悲伤\",\"唯美\",\"感动\",\"催泪\",\"宁静\",\n",
    "                \"温暖\",\"丧\",\"欢乐\",\"惊悚\",\"致郁\",\"愉快\",\"诡异\",\"恐怖\",\"黑暗\"]"
   ]
  },
  {
   "cell_type": "code",
   "execution_count": 53,
   "metadata": {},
   "outputs": [],
   "source": [
    "result = mongoDAO_songdata.find({'tags':{'$in':emotion_tags}})"
   ]
  },
  {
   "cell_type": "code",
   "execution_count": 55,
   "metadata": {},
   "outputs": [
    {
     "name": "stderr",
     "output_type": "stream",
     "text": [
      "E:\\Anaconda3\\lib\\site-packages\\ipykernel_launcher.py:1: DeprecationWarning: count is deprecated. Use Collection.count_documents instead.\n",
      "  \"\"\"Entry point for launching an IPython kernel.\n"
     ]
    },
    {
     "data": {
      "text/plain": [
       "1158210"
      ]
     },
     "execution_count": 55,
     "metadata": {},
     "output_type": "execute_result"
    }
   ],
   "source": [
    "result.collection.find()"
   ]
  },
  {
   "cell_type": "code",
   "execution_count": 59,
   "metadata": {},
   "outputs": [
    {
     "data": {
      "text/plain": [
       "{'_id': 1416840107,\n",
       " 'tags': ['综艺',\n",
       "  '摇滚',\n",
       "  '华语',\n",
       "  '快乐',\n",
       "  '恋爱',\n",
       "  '青春',\n",
       "  '浪漫',\n",
       "  '放松',\n",
       "  '嗨',\n",
       "  '节奏',\n",
       "  '清新',\n",
       "  '温柔',\n",
       "  '轻快',\n",
       "  '漫步',\n",
       "  'BGM',\n",
       "  '惬意',\n",
       "  '运动',\n",
       "  '经典',\n",
       "  '温暖',\n",
       "  '治愈',\n",
       "  '学习',\n",
       "  '吉他',\n",
       "  '爵士',\n",
       "  '热血',\n",
       "  '街舞',\n",
       "  '励志',\n",
       "  '丧',\n",
       "  '优雅',\n",
       "  '伤感',\n",
       "  '欧美',\n",
       "  '舒服',\n",
       "  '轻柔',\n",
       "  '欢乐',\n",
       "  '看书',\n",
       "  '鼓点',\n",
       "  '古风',\n",
       "  '游戏',\n",
       "  '愉快']}"
      ]
     },
     "execution_count": 59,
     "metadata": {},
     "output_type": "execute_result"
    }
   ],
   "source": [
    "result[49]"
   ]
  },
  {
   "cell_type": "markdown",
   "metadata": {},
   "source": [
    "将获取的具有情感标签的歌曲导出成json"
   ]
  },
  {
   "cell_type": "code",
   "execution_count": 65,
   "metadata": {},
   "outputs": [],
   "source": [
    "filename = 'big_data/all_emotion_songs.json'\n",
    "all_emotion_songs = []"
   ]
  },
  {
   "cell_type": "code",
   "execution_count": 61,
   "metadata": {},
   "outputs": [],
   "source": [
    "for song in result:\n",
    "    all_emotion_songs.append(song)"
   ]
  },
  {
   "cell_type": "code",
   "execution_count": 62,
   "metadata": {},
   "outputs": [
    {
     "data": {
      "text/plain": [
       "1158210"
      ]
     },
     "execution_count": 62,
     "metadata": {},
     "output_type": "execute_result"
    }
   ],
   "source": [
    "len(all_emotion_songs)"
   ]
  },
  {
   "cell_type": "code",
   "execution_count": 64,
   "metadata": {},
   "outputs": [],
   "source": [
    "with open(filename, 'w', encoding='utf-8') as fw:       \n",
    "    json.dump(all_emotion_songs,fp=fw, ensure_ascii=False)"
   ]
  },
  {
   "cell_type": "code",
   "execution_count": null,
   "metadata": {},
   "outputs": [],
   "source": []
  }
 ],
 "metadata": {
  "kernelspec": {
   "display_name": "Python 3",
   "language": "python",
   "name": "python3"
  },
  "language_info": {
   "codemirror_mode": {
    "name": "ipython",
    "version": 3
   },
   "file_extension": ".py",
   "mimetype": "text/x-python",
   "name": "python",
   "nbconvert_exporter": "python",
   "pygments_lexer": "ipython3",
   "version": "3.7.4"
  }
 },
 "nbformat": 4,
 "nbformat_minor": 4
}
