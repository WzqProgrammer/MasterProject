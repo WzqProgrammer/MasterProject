{
 "cells": [
  {
   "cell_type": "code",
   "execution_count": 1,
   "metadata": {},
   "outputs": [],
   "source": [
    "import requests as rq\n",
    "from bs4 import BeautifulSoup\n",
    "import pandas as pd \n",
    "import numpy as np\n",
    "import time\n",
    "import json\n",
    "import concurrent.futures \n",
    "import re\n",
    "import random\n",
    "from lxml import etree\n",
    "import pymongo\n",
    "from tqdm import tqdm, trange\n",
    "import jieba\n",
    "import importlib\n",
    "import sys\n",
    "sys.path.append(\"CralwerProject\") "
   ]
  },
  {
   "cell_type": "code",
   "execution_count": 2,
   "metadata": {},
   "outputs": [],
   "source": [
    "import CralwerProject\n",
    "import CralwerProject.ip_pool as ip_pool\n",
    "from CralwerProject.parsetools import TextParser, MongoDAO\n",
    "from CralwerProject.playlistcrawler import PlaylistCrawler\n",
    "from CralwerProject.songparser import SongParser"
   ]
  },
  {
   "cell_type": "markdown",
   "metadata": {},
   "source": [
    "## 歌单搜索"
   ]
  },
  {
   "cell_type": "code",
   "execution_count": 16,
   "metadata": {},
   "outputs": [],
   "source": [
    "headers = {'User-Agent': 'Mozilla/5.0 (X11; Linux x86_64) AppleWebKit/537.36 (KHTML, like Gecko) Chrome/52.0.2743.116 Safari/537.36'}"
   ]
  },
  {
   "cell_type": "code",
   "execution_count": 21,
   "metadata": {},
   "outputs": [],
   "source": [
    "valid_ips = ip_pool.get_valid_ips('./data/valid_ips.json')"
   ]
  },
  {
   "cell_type": "code",
   "execution_count": 73,
   "metadata": {},
   "outputs": [],
   "source": [
    "mongo_config_playlist = {\n",
    "    'mongo_url': 'mongodb://192.168.206.100:27017/',\n",
    "    'db_name': 'springTest',\n",
    "    'collection_name': 'test_play_list'\n",
    "}\n",
    "\n",
    "mongo_config_added_playlist = {\n",
    "    'mongo_url': 'mongodb://192.168.206.100:27017/',\n",
    "    'db_name': 'springTest',\n",
    "    'collection_name': 'added_play_list'\n",
    "}\n",
    "\n",
    "mongo_config_songdata = {\n",
    "    'mongo_url': 'mongodb://192.168.206.100:27017/',\n",
    "    'db_name': 'springTest',\n",
    "    'collection_name': 'song_data'\n",
    "}"
   ]
  },
  {
   "cell_type": "code",
   "execution_count": 74,
   "metadata": {},
   "outputs": [],
   "source": [
    "# 歌单总集合\n",
    "mongoDAO_playlist = MongoDAO(mongo_config_playlist)\n",
    "# 新添加的歌单集合\n",
    "mongoDAO_added_playlist = MongoDAO(mongo_config_added_playlist)\n",
    "# 歌曲集合\n",
    "mongoDAO_songdata = MongoDAO(mongo_config_songdata)"
   ]
  },
  {
   "cell_type": "code",
   "execution_count": 75,
   "metadata": {},
   "outputs": [],
   "source": [
    "playlist_crawler = PlaylistCrawler('./data/valid_ips.json', mongoDAO_added_playlist)\n",
    "song_parser = SongParser(mongoDAO_songdata)"
   ]
  },
  {
   "cell_type": "code",
   "execution_count": 29,
   "metadata": {},
   "outputs": [],
   "source": [
    "def get_playlist_from_search(keywords, pages=10):\n",
    "    playlist_ids = []\n",
    "    with trange(page) as t:\n",
    "        for i in range(1, pages+1):\n",
    "            url = 'https://autumnfish.cn/search?keywords=' + keywords +'&limit=30&type=1000&offset=' + str(i * 30)\n",
    "             # 随机抽取ip\n",
    "            ip = random.choice(valid_ips)\n",
    "            proxies = {}\n",
    "            if ip.split(\":\")[0] == 'http':\n",
    "                proxies = {\n",
    "                    'http': ip\n",
    "                }\n",
    "            else:\n",
    "                proxies = {\n",
    "                    'https': ip\n",
    "                }\n",
    "            r = rq.get(url=url, headers=headers, proxies=proxies)\n",
    "            search_dict = json.loads(r.text)\n",
    "            # 从json中获取歌单id\n",
    "            for item in search_dict['result']['playlists']:\n",
    "                playlist_ids.append(item.get('id'))\n",
    "            t.update(1)\n",
    "    return playlist_ids"
   ]
  },
  {
   "cell_type": "code",
   "execution_count": 27,
   "metadata": {},
   "outputs": [],
   "source": [
    "playlist_ids = get_playlist_from_search('恐怖')"
   ]
  },
  {
   "cell_type": "code",
   "execution_count": 28,
   "metadata": {},
   "outputs": [
    {
     "data": {
      "text/plain": [
       "300"
      ]
     },
     "execution_count": 28,
     "metadata": {},
     "output_type": "execute_result"
    }
   ],
   "source": [
    "len(playlist_ids)"
   ]
  },
  {
   "cell_type": "code",
   "execution_count": 36,
   "metadata": {},
   "outputs": [
    {
     "data": {
      "text/plain": [
       "int"
      ]
     },
     "execution_count": 36,
     "metadata": {},
     "output_type": "execute_result"
    }
   ],
   "source": [
    "type(playlist_ids[0])"
   ]
  },
  {
   "cell_type": "code",
   "execution_count": 44,
   "metadata": {},
   "outputs": [],
   "source": [
    "def process_search_playlist_info(playlist_id_list):\n",
    "    with trange(len(playlist_id_list)) as t:\n",
    "        for playlist_id in playlist_id_list:\n",
    "            # 查询是否已存在该歌单\n",
    "            result = mongoDAO_playlist.count_documents({'_id':str(playlist_id)})\n",
    "            if result == 0:\n",
    "                playlist_crawler.process_playlist_info(str(playlist_id))\n",
    "            t.update(1)\n",
    "    # 将新添加的歌单数据同步添加到总集合中 \n",
    "    added_list = mongoDAO_added_playlist.find()\n",
    "        for playlist_dict in added_list:\n",
    "            mongoDAO_playlist.insert_one(playlist_dict)"
   ]
  },
  {
   "cell_type": "code",
   "execution_count": 45,
   "metadata": {},
   "outputs": [
    {
     "name": "stderr",
     "output_type": "stream",
     "text": [
      "100%|████████████████████████████████████████████████████████████████████████████████| 300/300 [02:27<00:00,  2.03it/s]\n"
     ]
    }
   ],
   "source": [
    "process_search_playlist_info(playlist_ids)"
   ]
  },
  {
   "cell_type": "code",
   "execution_count": 51,
   "metadata": {},
   "outputs": [],
   "source": [
    "added_playlist_data = mongoDAO_added_playlist.find()"
   ]
  },
  {
   "cell_type": "code",
   "execution_count": 56,
   "metadata": {},
   "outputs": [
    {
     "name": "stderr",
     "output_type": "stream",
     "text": [
      "  0%|                                                                                          | 0/277 [00:00<?, ?it/s]\n"
     ]
    }
   ],
   "source": [
    "all_data = song_parser.song_data_concat(added_playlist_data)"
   ]
  },
  {
   "cell_type": "code",
   "execution_count": 60,
   "metadata": {},
   "outputs": [
    {
     "data": {
      "text/plain": [
       "{'_id': 591922,\n",
       " 'tags': ['轻音乐', '夜晚'],\n",
       " 'play_lists': '纯音乐-恐怖、诡异、惊悚、压抑 网易云最恐怖的音乐 【日系/恐怖】阴森恐怖却好听的声音 恐怖 恐怖 恐怖惊悚｜孤独的时候听一听 恐怖 恐怖八音盒 蜜汁恐怖音乐 【空灵鬼乐】阴森恐怖 『诡异纯音』恐怖的BGM [阴暗恐怖]鬼畜天线宝宝3同人地图背景音东 恐怖主题音乐 恐怖/悬疑/压抑/紧张（2020.12.9更新） 诡异八音盒，恐怖小说的首选 恐怖故事 心脏病者勿入 恐怖诡异音乐（吓人专用） 恐怖，悬疑，紧张的纯音乐 诡异恐怖音乐 —— 氛围音效 【收集】BGM囤够了我们就做恐怖解谜游戏。 『恐怖纯音乐』『压抑』嘘，你看看你的身后'}"
      ]
     },
     "execution_count": 60,
     "metadata": {},
     "output_type": "execute_result"
    }
   ],
   "source": [
    "all_data[3]"
   ]
  },
  {
   "cell_type": "code",
   "execution_count": 61,
   "metadata": {},
   "outputs": [
    {
     "name": "stderr",
     "output_type": "stream",
     "text": [
      "100%|███████████████████████████████████████████████████████████████████████████| 31720/31720 [01:42<00:00, 308.62it/s]\n"
     ]
    }
   ],
   "source": [
    "song_parser.process_all_song_data(all_data)"
   ]
  },
  {
   "cell_type": "code",
   "execution_count": 76,
   "metadata": {},
   "outputs": [],
   "source": [
    "result = mongoDAO_songdata.find({'_id': 591922})"
   ]
  },
  {
   "cell_type": "code",
   "execution_count": 78,
   "metadata": {},
   "outputs": [
    {
     "data": {
      "text/plain": [
       "48"
      ]
     },
     "execution_count": 78,
     "metadata": {},
     "output_type": "execute_result"
    }
   ],
   "source": [
    "len(result[0]['tags'])"
   ]
  },
  {
   "cell_type": "code",
   "execution_count": 94,
   "metadata": {
    "collapsed": true,
    "jupyter": {
     "outputs_hidden": true
    }
   },
   "outputs": [
    {
     "data": {
      "text/plain": [
       "{'_id': 484058025,\n",
       " 'tags': ['流行',\n",
       "  '网络歌曲',\n",
       "  '综艺',\n",
       "  '气势',\n",
       "  '大气',\n",
       "  '鼓点',\n",
       "  '看书',\n",
       "  '学习',\n",
       "  '游戏',\n",
       "  '蹦迪',\n",
       "  'ACG',\n",
       "  '温柔',\n",
       "  '电音',\n",
       "  '动感',\n",
       "  '经典',\n",
       "  '散步',\n",
       "  'DJ',\n",
       "  '嗨',\n",
       "  '催泪',\n",
       "  '治愈',\n",
       "  '震撼',\n",
       "  '热血',\n",
       "  '浪漫',\n",
       "  '刷题',\n",
       "  '高能',\n",
       "  '纯音乐',\n",
       "  '青春',\n",
       "  '日系',\n",
       "  '放松',\n",
       "  '古风',\n",
       "  '史诗',\n",
       "  '温暖',\n",
       "  '英文',\n",
       "  '励志',\n",
       "  '运动',\n",
       "  '动漫',\n",
       "  '伤感',\n",
       "  '战歌',\n",
       "  '踩点',\n",
       "  '欧美',\n",
       "  'BGM',\n",
       "  '燃',\n",
       "  '电子',\n",
       "  '节奏',\n",
       "  '安静',\n",
       "  '恋爱',\n",
       "  '清晨',\n",
       "  '街舞',\n",
       "  '舒服',\n",
       "  '欢快',\n",
       "  '快乐',\n",
       "  '优雅',\n",
       "  '古典',\n",
       "  '黑暗',\n",
       "  '钢琴',\n",
       "  '愉快',\n",
       "  '伴奏',\n",
       "  '国风',\n",
       "  '感动',\n",
       "  '丧',\n",
       "  '清新',\n",
       "  '日本',\n",
       "  '轻音乐',\n",
       "  '安眠',\n",
       "  '恐怖',\n",
       "  'rap',\n",
       "  '自习',\n",
       "  '诡异']}"
      ]
     },
     "execution_count": 94,
     "metadata": {},
     "output_type": "execute_result"
    }
   ],
   "source": [
    "result[0]"
   ]
  },
  {
   "cell_type": "code",
   "execution_count": 79,
   "metadata": {},
   "outputs": [],
   "source": [
    "result = mongoDAO_songdata.find({'tags':{'$in':['恐怖']}})"
   ]
  },
  {
   "cell_type": "markdown",
   "metadata": {},
   "source": [
    "{ \"_id\" : 591922, \"tags\" : [ \"浪漫\", \"影视原声\", \"ACG\", \"悲伤\", \"温柔\", \"动感\", \"钢琴\", \"静心\", \"节奏\", \"安静\", \"学习\", \"纯音乐\", \"刷题\", \"放松\", \"睡眠\", \"经典\", \"史诗\", \"战歌\", \"动漫\", \"BGM\", \"古典\", \"蹦迪\", \"自习\", \"轻音乐\", \"治愈\", \"看书\", \"伤感\", \"轻柔\", \"空灵\", \"唯美\", \"英文\", \"清新\", \"黑暗\", \"国风\", \"日系\", \"日本\", \"致郁\", \"欢快\", \"安眠\", \"震撼\", \"快乐\", \"感动\", \"恋爱\", \"催泪\", \"吉他\", \"伴奏\", \"恐怖\", \"诡异\" ] }\n"
   ]
  },
  {
   "cell_type": "code",
   "execution_count": 84,
   "metadata": {},
   "outputs": [
    {
     "data": {
      "text/plain": [
       "30198"
      ]
     },
     "execution_count": 84,
     "metadata": {},
     "output_type": "execute_result"
    }
   ],
   "source": [
    "mongoDAO_songdata.count_documents({'tags':{'$all':['恐怖', 'BGM', '惊悚']}})"
   ]
  },
  {
   "cell_type": "code",
   "execution_count": 82,
   "metadata": {},
   "outputs": [
    {
     "data": {
      "text/plain": [
       "197838"
      ]
     },
     "execution_count": 82,
     "metadata": {},
     "output_type": "execute_result"
    }
   ],
   "source": [
    "mongoDAO_songdata.count_documents({'tags':{'$in':['轻松']}})"
   ]
  },
  {
   "cell_type": "code",
   "execution_count": 85,
   "metadata": {},
   "outputs": [],
   "source": [
    "list_data = mongoDAO_playlist.find()"
   ]
  },
  {
   "cell_type": "code",
   "execution_count": 93,
   "metadata": {},
   "outputs": [
    {
     "data": {
      "text/plain": [
       "{'_id': '5229686734',\n",
       " 'song_ids': [571553710,\n",
       "  34152616,\n",
       "  1355153108,\n",
       "  537131316,\n",
       "  439037325,\n",
       "  17214000,\n",
       "  1456599759,\n",
       "  520274011,\n",
       "  1346228937,\n",
       "  435417785,\n",
       "  440317257,\n",
       "  1424774709,\n",
       "  451520761,\n",
       "  429261578,\n",
       "  29544259],\n",
       " 'tags_list': ['综艺'],\n",
       " 'name': '心动的信号3 个人向bgm合辑',\n",
       " 'subscribedCount': 4,\n",
       " 'playCount': 141}"
      ]
     },
     "execution_count": 93,
     "metadata": {},
     "output_type": "execute_result"
    }
   ],
   "source": [
    "list_data[98]"
   ]
  },
  {
   "cell_type": "code",
   "execution_count": null,
   "metadata": {},
   "outputs": [],
   "source": []
  }
 ],
 "metadata": {
  "kernelspec": {
   "display_name": "Python 3",
   "language": "python",
   "name": "python3"
  },
  "language_info": {
   "codemirror_mode": {
    "name": "ipython",
    "version": 3
   },
   "file_extension": ".py",
   "mimetype": "text/x-python",
   "name": "python",
   "nbconvert_exporter": "python",
   "pygments_lexer": "ipython3",
   "version": "3.7.4"
  }
 },
 "nbformat": 4,
 "nbformat_minor": 4
}
